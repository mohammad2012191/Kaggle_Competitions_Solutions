{
 "cells": [
  {
   "cell_type": "code",
   "execution_count": 1,
   "id": "f516e510",
   "metadata": {
    "execution": {
     "iopub.execute_input": "2024-08-05T13:41:33.122063Z",
     "iopub.status.busy": "2024-08-05T13:41:33.121368Z",
     "iopub.status.idle": "2024-08-05T13:41:33.131179Z",
     "shell.execute_reply": "2024-08-05T13:41:33.130478Z"
    },
    "papermill": {
     "duration": 0.023566,
     "end_time": "2024-08-05T13:41:33.133037",
     "exception": false,
     "start_time": "2024-08-05T13:41:33.109471",
     "status": "completed"
    },
    "tags": []
   },
   "outputs": [],
   "source": [
    "import time\n",
    "started_time = time.time()"
   ]
  },
  {
   "cell_type": "code",
   "execution_count": 2,
   "id": "b612f3b0",
   "metadata": {
    "_kg_hide-input": false,
    "_kg_hide-output": true,
    "execution": {
     "iopub.execute_input": "2024-08-05T13:41:33.155172Z",
     "iopub.status.busy": "2024-08-05T13:41:33.154937Z",
     "iopub.status.idle": "2024-08-05T13:42:02.212213Z",
     "shell.execute_reply": "2024-08-05T13:42:02.211331Z"
    },
    "papermill": {
     "duration": 29.070828,
     "end_time": "2024-08-05T13:42:02.214554",
     "exception": false,
     "start_time": "2024-08-05T13:41:33.143726",
     "status": "completed"
    },
    "scrolled": true,
    "tags": []
   },
   "outputs": [
    {
     "name": "stdout",
     "output_type": "stream",
     "text": [
      "Looking in links: /kaggle/input/lmsys-wheel-files\r\n",
      "Requirement already satisfied: transformers in /opt/conda/lib/python3.10/site-packages (4.41.2)\r\n",
      "Processing /kaggle/input/lmsys-wheel-files/transformers-4.42.3-py3-none-any.whl\r\n",
      "Processing /kaggle/input/lmsys-wheel-files/peft-0.11.1-py3-none-any.whl\r\n",
      "Requirement already satisfied: accelerate in /opt/conda/lib/python3.10/site-packages (0.30.1)\r\n",
      "Processing /kaggle/input/lmsys-wheel-files/accelerate-0.32.1-py3-none-any.whl\r\n",
      "Processing /kaggle/input/lmsys-wheel-files/bitsandbytes-0.43.1-py3-none-manylinux_2_24_x86_64.whl\r\n",
      "Requirement already satisfied: filelock in /opt/conda/lib/python3.10/site-packages (from transformers) (3.13.1)\r\n",
      "Requirement already satisfied: huggingface-hub<1.0,>=0.23.2 in /opt/conda/lib/python3.10/site-packages (from transformers) (0.23.2)\r\n",
      "Requirement already satisfied: numpy<2.0,>=1.17 in /opt/conda/lib/python3.10/site-packages (from transformers) (1.26.4)\r\n",
      "Requirement already satisfied: packaging>=20.0 in /opt/conda/lib/python3.10/site-packages (from transformers) (21.3)\r\n",
      "Requirement already satisfied: pyyaml>=5.1 in /opt/conda/lib/python3.10/site-packages (from transformers) (6.0.1)\r\n",
      "Requirement already satisfied: regex!=2019.12.17 in /opt/conda/lib/python3.10/site-packages (from transformers) (2023.12.25)\r\n",
      "Requirement already satisfied: requests in /opt/conda/lib/python3.10/site-packages (from transformers) (2.32.3)\r\n",
      "Requirement already satisfied: safetensors>=0.4.1 in /opt/conda/lib/python3.10/site-packages (from transformers) (0.4.3)\r\n",
      "Requirement already satisfied: tokenizers<0.20,>=0.19 in /opt/conda/lib/python3.10/site-packages (from transformers) (0.19.1)\r\n",
      "Requirement already satisfied: tqdm>=4.27 in /opt/conda/lib/python3.10/site-packages (from transformers) (4.66.4)\r\n",
      "Requirement already satisfied: psutil in /opt/conda/lib/python3.10/site-packages (from peft) (5.9.3)\r\n",
      "Requirement already satisfied: torch>=1.13.0 in /opt/conda/lib/python3.10/site-packages (from peft) (2.1.2)\r\n",
      "Requirement already satisfied: fsspec>=2023.5.0 in /opt/conda/lib/python3.10/site-packages (from huggingface-hub<1.0,>=0.23.2->transformers) (2024.3.1)\r\n",
      "Requirement already satisfied: typing-extensions>=3.7.4.3 in /opt/conda/lib/python3.10/site-packages (from huggingface-hub<1.0,>=0.23.2->transformers) (4.9.0)\r\n",
      "Requirement already satisfied: pyparsing!=3.0.5,>=2.0.2 in /opt/conda/lib/python3.10/site-packages (from packaging>=20.0->transformers) (3.1.1)\r\n",
      "Requirement already satisfied: sympy in /opt/conda/lib/python3.10/site-packages (from torch>=1.13.0->peft) (1.12.1)\r\n",
      "Requirement already satisfied: networkx in /opt/conda/lib/python3.10/site-packages (from torch>=1.13.0->peft) (3.2.1)\r\n",
      "Requirement already satisfied: jinja2 in /opt/conda/lib/python3.10/site-packages (from torch>=1.13.0->peft) (3.1.2)\r\n",
      "Requirement already satisfied: charset-normalizer<4,>=2 in /opt/conda/lib/python3.10/site-packages (from requests->transformers) (3.3.2)\r\n",
      "Requirement already satisfied: idna<4,>=2.5 in /opt/conda/lib/python3.10/site-packages (from requests->transformers) (3.6)\r\n",
      "Requirement already satisfied: urllib3<3,>=1.21.1 in /opt/conda/lib/python3.10/site-packages (from requests->transformers) (1.26.18)\r\n",
      "Requirement already satisfied: certifi>=2017.4.17 in /opt/conda/lib/python3.10/site-packages (from requests->transformers) (2024.2.2)\r\n",
      "Requirement already satisfied: MarkupSafe>=2.0 in /opt/conda/lib/python3.10/site-packages (from jinja2->torch>=1.13.0->peft) (2.1.3)\r\n",
      "Requirement already satisfied: mpmath<1.4.0,>=1.1.0 in /opt/conda/lib/python3.10/site-packages (from sympy->torch>=1.13.0->peft) (1.3.0)\r\n",
      "Installing collected packages: bitsandbytes, accelerate, transformers, peft\r\n",
      "  Attempting uninstall: accelerate\r\n",
      "    Found existing installation: accelerate 0.30.1\r\n",
      "    Uninstalling accelerate-0.30.1:\r\n",
      "      Successfully uninstalled accelerate-0.30.1\r\n",
      "  Attempting uninstall: transformers\r\n",
      "    Found existing installation: transformers 4.41.2\r\n",
      "    Uninstalling transformers-4.41.2:\r\n",
      "      Successfully uninstalled transformers-4.41.2\r\n",
      "Successfully installed accelerate-0.32.1 bitsandbytes-0.43.1 peft-0.11.1 transformers-4.42.3\r\n"
     ]
    }
   ],
   "source": [
    "!pip install transformers peft accelerate bitsandbytes \\\n",
    "    -U --no-index --find-links /kaggle/input/lmsys-wheel-files"
   ]
  },
  {
   "cell_type": "code",
   "execution_count": 3,
   "id": "e87b152e",
   "metadata": {
    "execution": {
     "iopub.execute_input": "2024-08-05T13:42:02.240455Z",
     "iopub.status.busy": "2024-08-05T13:42:02.240152Z",
     "iopub.status.idle": "2024-08-05T13:42:02.244479Z",
     "shell.execute_reply": "2024-08-05T13:42:02.243613Z"
    },
    "papermill": {
     "duration": 0.019457,
     "end_time": "2024-08-05T13:42:02.246426",
     "exception": false,
     "start_time": "2024-08-05T13:42:02.226969",
     "status": "completed"
    },
    "tags": []
   },
   "outputs": [],
   "source": [
    "LORA_DIR = \"/kaggle/input/peft-weights-lmsys/checkpoint-2440\""
   ]
  },
  {
   "cell_type": "code",
   "execution_count": 4,
   "id": "c2b97034",
   "metadata": {
    "execution": {
     "iopub.execute_input": "2024-08-05T13:42:02.271959Z",
     "iopub.status.busy": "2024-08-05T13:42:02.271297Z",
     "iopub.status.idle": "2024-08-05T13:42:19.662073Z",
     "shell.execute_reply": "2024-08-05T13:42:19.661253Z"
    },
    "papermill": {
     "duration": 17.405904,
     "end_time": "2024-08-05T13:42:19.664379",
     "exception": false,
     "start_time": "2024-08-05T13:42:02.258475",
     "status": "completed"
    },
    "tags": []
   },
   "outputs": [
    {
     "name": "stderr",
     "output_type": "stream",
     "text": [
      "2024-08-05 13:42:09.820224: E external/local_xla/xla/stream_executor/cuda/cuda_dnn.cc:9261] Unable to register cuDNN factory: Attempting to register factory for plugin cuDNN when one has already been registered\n",
      "2024-08-05 13:42:09.820323: E external/local_xla/xla/stream_executor/cuda/cuda_fft.cc:607] Unable to register cuFFT factory: Attempting to register factory for plugin cuFFT when one has already been registered\n",
      "2024-08-05 13:42:09.924344: E external/local_xla/xla/stream_executor/cuda/cuda_blas.cc:1515] Unable to register cuBLAS factory: Attempting to register factory for plugin cuBLAS when one has already been registered\n"
     ]
    }
   ],
   "source": [
    "import time\n",
    "from dataclasses import dataclass\n",
    "from concurrent.futures import ThreadPoolExecutor\n",
    "\n",
    "import torch\n",
    "import sklearn\n",
    "import numpy as np\n",
    "import pandas as pd\n",
    "from transformers import Gemma2ForSequenceClassification, GemmaTokenizerFast, BitsAndBytesConfig\n",
    "from transformers.data.data_collator import pad_without_fast_tokenizer_warning\n",
    "from peft import PeftModel\n",
    "# from tqdm import tqdm\n",
    "\n",
    "assert torch.cuda.device_count() == 2\n",
    "\n",
    "TIME_LIMIT = 9 * 3600  # 8.5 hours in seconds\n",
    "\n",
    "@dataclass\n",
    "class Config:\n",
    "    gemma_dir = '/kaggle/input/gemma-2/transformers/gemma-2-9b-it-4bit/1/gemma-2-9b-it-4bit'\n",
    "    lora_dir = LORA_DIR\n",
    "    max_length = 1856\n",
    "    batch_size = 4\n",
    "    device = torch.device(\"cuda\")    \n",
    "    tta = True  # test time augmentation. <prompt>-<model-b's response>-<model-a's response>\n",
    "    spread_max_length = False  # whether to apply max_length//3 on each input or max_length on the concatenated input\n",
    "\n",
    "cfg = Config()"
   ]
  },
  {
   "cell_type": "markdown",
   "id": "f16306fd",
   "metadata": {
    "papermill": {
     "duration": 0.011764,
     "end_time": "2024-08-05T13:42:19.688660",
     "exception": false,
     "start_time": "2024-08-05T13:42:19.676896",
     "status": "completed"
    },
    "tags": []
   },
   "source": [
    "# Load & pre-process Data "
   ]
  },
  {
   "cell_type": "code",
   "execution_count": 5,
   "id": "a6fecf66",
   "metadata": {
    "execution": {
     "iopub.execute_input": "2024-08-05T13:42:19.714592Z",
     "iopub.status.busy": "2024-08-05T13:42:19.714047Z",
     "iopub.status.idle": "2024-08-05T13:42:19.735803Z",
     "shell.execute_reply": "2024-08-05T13:42:19.734960Z"
    },
    "papermill": {
     "duration": 0.036617,
     "end_time": "2024-08-05T13:42:19.737851",
     "exception": false,
     "start_time": "2024-08-05T13:42:19.701234",
     "status": "completed"
    },
    "tags": []
   },
   "outputs": [],
   "source": [
    "test = pd.read_csv('/kaggle/input/lmsys-chatbot-arena/test.csv')\n",
    "\n",
    "def process_text(text: str) -> str:\n",
    "    return \" \".join(eval(text, {\"null\": \"\"}))\n",
    "\n",
    "test.loc[:, 'prompt'] = test['prompt'].apply(process_text)\n",
    "test.loc[:, 'response_a'] = test['response_a'].apply(process_text)\n",
    "test.loc[:, 'response_b'] = test['response_b'].apply(process_text)\n",
    "\n",
    "# display(test.head(5))"
   ]
  },
  {
   "cell_type": "markdown",
   "id": "0f808a9f",
   "metadata": {
    "papermill": {
     "duration": 0.011933,
     "end_time": "2024-08-05T13:42:19.762941",
     "exception": false,
     "start_time": "2024-08-05T13:42:19.751008",
     "status": "completed"
    },
    "tags": []
   },
   "source": [
    "# Tokenize"
   ]
  },
  {
   "cell_type": "code",
   "execution_count": 6,
   "id": "4b6c8007",
   "metadata": {
    "execution": {
     "iopub.execute_input": "2024-08-05T13:42:19.787845Z",
     "iopub.status.busy": "2024-08-05T13:42:19.787548Z",
     "iopub.status.idle": "2024-08-05T13:42:19.795891Z",
     "shell.execute_reply": "2024-08-05T13:42:19.795144Z"
    },
    "papermill": {
     "duration": 0.022902,
     "end_time": "2024-08-05T13:42:19.797760",
     "exception": false,
     "start_time": "2024-08-05T13:42:19.774858",
     "status": "completed"
    },
    "tags": []
   },
   "outputs": [],
   "source": [
    "def tokenize(\n",
    "    tokenizer, prompt, response_a, response_b, max_length=cfg.max_length, spread_max_length=cfg.spread_max_length\n",
    "):\n",
    "    prompt = [\"<prompt>: \" + p for p in prompt]\n",
    "    response_a = [\"\\n\\n<response_a>: \" + r_a for r_a in response_a]\n",
    "    response_b = [\"\\n\\n<response_b>: \" + r_b for r_b in response_b]\n",
    "    if spread_max_length:\n",
    "        prompt = tokenizer(prompt, max_length=max_length//3, truncation=True, padding=False).input_ids\n",
    "        response_a = tokenizer(response_a, max_length=max_length//3, truncation=True, padding=False).input_ids\n",
    "        response_b = tokenizer(response_b, max_length=max_length//3, truncation=True, padding=False).input_ids\n",
    "        input_ids = [p + r_a + r_b for p, r_a, r_b in zip(prompt, response_a, response_b)]\n",
    "        attention_mask = [[1]* len(i) for i in input_ids]\n",
    "    else:\n",
    "        text = [p + r_a + r_b for p, r_a, r_b in zip(prompt, response_a, response_b)]\n",
    "        tokenized = tokenizer(text, max_length=max_length, truncation=True, padding=False)\n",
    "        input_ids = tokenized.input_ids\n",
    "        attention_mask = tokenized.attention_mask\n",
    "    return input_ids, attention_mask"
   ]
  },
  {
   "cell_type": "code",
   "execution_count": 7,
   "id": "9960028e",
   "metadata": {
    "execution": {
     "iopub.execute_input": "2024-08-05T13:42:19.822967Z",
     "iopub.status.busy": "2024-08-05T13:42:19.822674Z",
     "iopub.status.idle": "2024-08-05T13:42:20.821083Z",
     "shell.execute_reply": "2024-08-05T13:42:20.820045Z"
    },
    "papermill": {
     "duration": 1.013677,
     "end_time": "2024-08-05T13:42:20.823371",
     "exception": false,
     "start_time": "2024-08-05T13:42:19.809694",
     "status": "completed"
    },
    "tags": []
   },
   "outputs": [
    {
     "name": "stdout",
     "output_type": "stream",
     "text": [
      "CPU times: user 675 ms, sys: 125 ms, total: 800 ms\n",
      "Wall time: 992 ms\n"
     ]
    }
   ],
   "source": [
    "%%time\n",
    "\n",
    "tokenizer = GemmaTokenizerFast.from_pretrained(LORA_DIR)\n",
    "# tokenizer.add_eos_token = True\n",
    "# tokenizer.padding_side = \"right\"\n",
    "\n",
    "data = pd.DataFrame()\n",
    "data[\"id\"] = test[\"id\"]\n",
    "data[\"input_ids\"], data[\"attention_mask\"] = tokenize(tokenizer, test[\"prompt\"], test[\"response_a\"], test[\"response_b\"])\n",
    "data[\"length\"] = data[\"input_ids\"].apply(len)\n",
    "\n",
    "aug_data = pd.DataFrame()\n",
    "aug_data[\"id\"] = test[\"id\"]\n",
    "# swap response_a & response_b\n",
    "aug_data['input_ids'], aug_data['attention_mask'] = tokenize(tokenizer, test[\"prompt\"], test[\"response_b\"], test[\"response_a\"])\n",
    "aug_data[\"length\"] = aug_data[\"input_ids\"].apply(len)"
   ]
  },
  {
   "cell_type": "markdown",
   "id": "b4346184",
   "metadata": {
    "papermill": {
     "duration": 0.011939,
     "end_time": "2024-08-05T13:42:20.847600",
     "exception": false,
     "start_time": "2024-08-05T13:42:20.835661",
     "status": "completed"
    },
    "tags": []
   },
   "source": [
    "# Load model"
   ]
  },
  {
   "cell_type": "code",
   "execution_count": 8,
   "id": "b5c34d04",
   "metadata": {
    "execution": {
     "iopub.execute_input": "2024-08-05T13:42:20.874202Z",
     "iopub.status.busy": "2024-08-05T13:42:20.873549Z",
     "iopub.status.idle": "2024-08-05T13:42:20.880196Z",
     "shell.execute_reply": "2024-08-05T13:42:20.879381Z"
    },
    "papermill": {
     "duration": 0.022485,
     "end_time": "2024-08-05T13:42:20.882102",
     "exception": false,
     "start_time": "2024-08-05T13:42:20.859617",
     "status": "completed"
    },
    "tags": []
   },
   "outputs": [],
   "source": [
    "import torch.nn as nn\n",
    "class CustomClassificationHead(nn.Module):\n",
    "    def __init__(self, config):\n",
    "        super().__init__()\n",
    "        self.fc1 = nn.Linear(config.hidden_size, config.hidden_size*2, bias=False)\n",
    "        self.fc2 = nn.Linear(config.hidden_size*2, config.hidden_size // 2, bias=False)\n",
    "        self.fc3 = nn.Linear(config.hidden_size // 2, config.num_labels, bias=False)\n",
    "    \n",
    "    def forward(self, features):\n",
    "        x= self.fc1(features)\n",
    "        x= self.fc2(x)\n",
    "        x= self.fc3(x)\n",
    "        return x"
   ]
  },
  {
   "cell_type": "code",
   "execution_count": 9,
   "id": "76c69e8f",
   "metadata": {
    "execution": {
     "iopub.execute_input": "2024-08-05T13:42:20.908015Z",
     "iopub.status.busy": "2024-08-05T13:42:20.907477Z",
     "iopub.status.idle": "2024-08-05T13:43:42.994130Z",
     "shell.execute_reply": "2024-08-05T13:43:42.993184Z"
    },
    "papermill": {
     "duration": 82.101826,
     "end_time": "2024-08-05T13:43:42.996157",
     "exception": false,
     "start_time": "2024-08-05T13:42:20.894331",
     "status": "completed"
    },
    "tags": []
   },
   "outputs": [
    {
     "name": "stderr",
     "output_type": "stream",
     "text": [
      "Unused kwargs: ['_load_in_4bit', '_load_in_8bit', 'quant_method']. These kwargs are not used in <class 'transformers.utils.quantization_config.BitsAndBytesConfig'>.\n"
     ]
    },
    {
     "data": {
      "application/vnd.jupyter.widget-view+json": {
       "model_id": "8c939a0462c846ad8686c0d7fe47e63f",
       "version_major": 2,
       "version_minor": 0
      },
      "text/plain": [
       "Loading checkpoint shards:   0%|          | 0/2 [00:00<?, ?it/s]"
      ]
     },
     "metadata": {},
     "output_type": "display_data"
    },
    {
     "name": "stderr",
     "output_type": "stream",
     "text": [
      "Unused kwargs: ['_load_in_4bit', '_load_in_8bit', 'quant_method']. These kwargs are not used in <class 'transformers.utils.quantization_config.BitsAndBytesConfig'>.\n"
     ]
    },
    {
     "data": {
      "application/vnd.jupyter.widget-view+json": {
       "model_id": "9b65ffe6569c4a39b22795e54d1979d0",
       "version_major": 2,
       "version_minor": 0
      },
      "text/plain": [
       "Loading checkpoint shards:   0%|          | 0/2 [00:00<?, ?it/s]"
      ]
     },
     "metadata": {},
     "output_type": "display_data"
    },
    {
     "data": {
      "text/plain": [
       "Embedding(256000, 3584, padding_idx=0)"
      ]
     },
     "execution_count": 9,
     "metadata": {},
     "output_type": "execute_result"
    }
   ],
   "source": [
    "# Load base model on GPU 0\n",
    "device_0 = torch.device('cuda:0')\n",
    "model_0 = Gemma2ForSequenceClassification.from_pretrained(\n",
    "    cfg.gemma_dir,\n",
    "    device_map=device_0,\n",
    "    use_cache=False,\n",
    ")\n",
    "model_0.resize_token_embeddings(len(tokenizer))\n",
    "\n",
    "# Load base model on GPU 1\n",
    "device_1 = torch.device('cuda:1')\n",
    "model_1 = Gemma2ForSequenceClassification.from_pretrained(\n",
    "    cfg.gemma_dir,\n",
    "    device_map=device_1,\n",
    "    use_cache=False,\n",
    ")\n",
    "model_1.resize_token_embeddings(len(tokenizer))"
   ]
  },
  {
   "cell_type": "code",
   "execution_count": 10,
   "id": "d275465a",
   "metadata": {
    "execution": {
     "iopub.execute_input": "2024-08-05T13:43:43.023153Z",
     "iopub.status.busy": "2024-08-05T13:43:43.022863Z",
     "iopub.status.idle": "2024-08-05T13:43:43.749246Z",
     "shell.execute_reply": "2024-08-05T13:43:43.748475Z"
    },
    "papermill": {
     "duration": 0.742219,
     "end_time": "2024-08-05T13:43:43.751354",
     "exception": false,
     "start_time": "2024-08-05T13:43:43.009135",
     "status": "completed"
    },
    "tags": []
   },
   "outputs": [],
   "source": [
    "model_0.score = CustomClassificationHead(model_0.config)\n",
    "model_0.score = model_0.score.to('cuda:0')\n",
    "\n",
    "model_1.score = CustomClassificationHead(model_1.config)\n",
    "model_1.score = model_1.score.to('cuda:1')"
   ]
  },
  {
   "cell_type": "markdown",
   "id": "dfb49b5d",
   "metadata": {
    "papermill": {
     "duration": 0.012558,
     "end_time": "2024-08-05T13:43:43.776876",
     "exception": false,
     "start_time": "2024-08-05T13:43:43.764318",
     "status": "completed"
    },
    "tags": []
   },
   "source": [
    "#### Load LoRA adapter"
   ]
  },
  {
   "cell_type": "code",
   "execution_count": 11,
   "id": "4ea9d97f",
   "metadata": {
    "execution": {
     "iopub.execute_input": "2024-08-05T13:43:43.804299Z",
     "iopub.status.busy": "2024-08-05T13:43:43.804017Z",
     "iopub.status.idle": "2024-08-05T13:43:55.695665Z",
     "shell.execute_reply": "2024-08-05T13:43:55.694719Z"
    },
    "papermill": {
     "duration": 11.908144,
     "end_time": "2024-08-05T13:43:55.697913",
     "exception": false,
     "start_time": "2024-08-05T13:43:43.789769",
     "status": "completed"
    },
    "tags": []
   },
   "outputs": [],
   "source": [
    "model_0 = PeftModel.from_pretrained(model_0, cfg.lora_dir)\n",
    "model_1 = PeftModel.from_pretrained(model_1, cfg.lora_dir)"
   ]
  },
  {
   "cell_type": "markdown",
   "id": "d1d92509",
   "metadata": {
    "papermill": {
     "duration": 0.012521,
     "end_time": "2024-08-05T13:43:55.723861",
     "exception": false,
     "start_time": "2024-08-05T13:43:55.711340",
     "status": "completed"
    },
    "tags": []
   },
   "source": [
    "# Inference\n"
   ]
  },
  {
   "cell_type": "code",
   "execution_count": 12,
   "id": "43d30f34",
   "metadata": {
    "execution": {
     "iopub.execute_input": "2024-08-05T13:43:55.750754Z",
     "iopub.status.busy": "2024-08-05T13:43:55.750019Z",
     "iopub.status.idle": "2024-08-05T13:43:55.755377Z",
     "shell.execute_reply": "2024-08-05T13:43:55.754533Z"
    },
    "jupyter": {
     "source_hidden": true
    },
    "papermill": {
     "duration": 0.020957,
     "end_time": "2024-08-05T13:43:55.757333",
     "exception": false,
     "start_time": "2024-08-05T13:43:55.736376",
     "status": "completed"
    },
    "tags": []
   },
   "outputs": [],
   "source": [
    "# # Cache for LoRA_A x LoRA_B results\n",
    "# lora_cache = {}\n",
    "# @torch.no_grad()\n",
    "# @torch.cuda.amp.autocast()\n",
    "# def inference(df, model, device, batch_size=cfg.batch_size, max_length=cfg.max_length):\n",
    "#     a_win, b_win, tie = [], [], []\n",
    "    \n",
    "#     for start_idx in range(0, len(df), batch_size):\n",
    "#         end_idx = min(start_idx + batch_size, len(df))\n",
    "#         tmp = df.iloc[start_idx:end_idx]\n",
    "#         input_ids = tmp[\"input_ids\"].to_list()\n",
    "#         attention_mask = tmp[\"attention_mask\"].to_list()\n",
    "        \n",
    "#         inputs = pad_without_fast_tokenizer_warning(\n",
    "#             tokenizer,\n",
    "#             {\"input_ids\": input_ids, \"attention_mask\": attention_mask},\n",
    "#             padding=\"longest\",\n",
    "#             pad_to_multiple_of=None,\n",
    "#             return_tensors=\"pt\",\n",
    "#         )\n",
    "        \n",
    "#         # Create a cache key based on inputs\n",
    "#         cache_key = tuple(inputs['input_ids'].cpu().numpy().flatten())\n",
    "        \n",
    "#         if cache_key in lora_cache:\n",
    "#             proba = lora_cache[cache_key]\n",
    "#         else:\n",
    "#             outputs = model(**inputs.to(device))\n",
    "#             proba = outputs.logits.softmax(-1).cpu()\n",
    "#             lora_cache[cache_key] = proba\n",
    "        \n",
    "#         a_win.extend(proba[:, 0].tolist())\n",
    "#         b_win.extend(proba[:, 1].tolist())\n",
    "#         tie.extend(proba[:, 2].tolist())\n",
    "    \n",
    "#     df[\"winner_model_a\"] = a_win\n",
    "#     df[\"winner_model_b\"] = b_win\n",
    "#     df[\"winner_tie\"] = tie\n",
    "    \n",
    "#     return df"
   ]
  },
  {
   "cell_type": "code",
   "execution_count": 13,
   "id": "c724980d",
   "metadata": {
    "execution": {
     "iopub.execute_input": "2024-08-05T13:43:55.783781Z",
     "iopub.status.busy": "2024-08-05T13:43:55.783285Z",
     "iopub.status.idle": "2024-08-05T13:43:55.794170Z",
     "shell.execute_reply": "2024-08-05T13:43:55.793343Z"
    },
    "papermill": {
     "duration": 0.026011,
     "end_time": "2024-08-05T13:43:55.795955",
     "exception": false,
     "start_time": "2024-08-05T13:43:55.769944",
     "status": "completed"
    },
    "tags": []
   },
   "outputs": [],
   "source": [
    "@torch.no_grad()\n",
    "@torch.cuda.amp.autocast()\n",
    "def inference(df, model, device, batch_size=cfg.batch_size, max_length=cfg.max_length):\n",
    "    a_win, b_win, tie = [], [], []\n",
    "    \n",
    "#     progress_bar = tqdm(total=len(df), desc=f\"Inference on {device}\", unit=\"sample\")\n",
    "    \n",
    "    for start_idx in range(0, len(df), batch_size):\n",
    "        if time.time() - started_time > TIME_LIMIT:\n",
    "            print(\"Time limit reached, stopping inference.\")\n",
    "            break\n",
    "            \n",
    "        end_idx = min(start_idx + batch_size, len(df))\n",
    "        tmp = df.iloc[start_idx:end_idx]\n",
    "        input_ids = tmp[\"input_ids\"].to_list()\n",
    "        attention_mask = tmp[\"attention_mask\"].to_list()\n",
    "        inputs = pad_without_fast_tokenizer_warning(\n",
    "            tokenizer,\n",
    "            {\"input_ids\": input_ids, \"attention_mask\": attention_mask},\n",
    "            padding=\"longest\",\n",
    "            pad_to_multiple_of=None,\n",
    "            return_tensors=\"pt\",\n",
    "        )\n",
    "        outputs = model(**inputs.to(device))\n",
    "        proba = outputs.logits.softmax(-1).cpu()\n",
    "        \n",
    "        a_win.extend(proba[:, 0].tolist())\n",
    "        b_win.extend(proba[:, 1].tolist())\n",
    "        tie.extend(proba[:, 2].tolist())\n",
    "        \n",
    "#         progress_bar.update(len(tmp))\n",
    "        \n",
    "#     progress_bar.close()\n",
    "\n",
    "    df[\"winner_model_a\"] = [-1.0] * len(df)\n",
    "    df[\"winner_model_b\"] = [-1.0] * len(df)\n",
    "    df[\"winner_tie\"] = [-1.0] * len(df)\n",
    "    \n",
    "    #print(len(a_win))\n",
    "    #print(len(df['winner_model_a']))\n",
    "    \n",
    "    df.loc[df.index[: len(a_win)], \"winner_model_a\"] = a_win\n",
    "    df.loc[df.index[: len(b_win)], \"winner_model_b\"] = b_win\n",
    "    df.loc[df.index[: len(tie)], \"winner_tie\"] = tie\n",
    "    return df"
   ]
  },
  {
   "cell_type": "code",
   "execution_count": 14,
   "id": "f4fdbf72",
   "metadata": {
    "execution": {
     "iopub.execute_input": "2024-08-05T13:43:55.822725Z",
     "iopub.status.busy": "2024-08-05T13:43:55.822449Z",
     "iopub.status.idle": "2024-08-05T13:44:00.614738Z",
     "shell.execute_reply": "2024-08-05T13:44:00.613777Z"
    },
    "papermill": {
     "duration": 4.807663,
     "end_time": "2024-08-05T13:44:00.616723",
     "exception": false,
     "start_time": "2024-08-05T13:43:55.809060",
     "status": "completed"
    },
    "tags": []
   },
   "outputs": [
    {
     "name": "stdout",
     "output_type": "stream",
     "text": [
      "elapsed time: 4.785816669464111\n"
     ]
    }
   ],
   "source": [
    "st = time.time()\n",
    "\n",
    "# sort by input length to fully leverage dynaminc padding\n",
    "data = data.sort_values(\"length\", ascending=False)\n",
    "# the total #tokens in sub_1 and sub_2 should be more or less the same\n",
    "sub_1 = data.iloc[0::2].copy()\n",
    "sub_2 = data.iloc[1::2].copy()\n",
    "# sub_1 = data.iloc[:len(data)//2:].copy()\n",
    "# sub_2 = data.iloc[len(data)//2::].copy()\n",
    "\n",
    "with ThreadPoolExecutor(max_workers=2) as executor:\n",
    "    results = executor.map(inference, (sub_1, sub_2), (model_0, model_1), (device_0, device_1))\n",
    "\n",
    "result_df = pd.concat(list(results), axis=0)\n",
    "proba = result_df[[\"winner_model_a\", \"winner_model_b\", \"winner_tie\"]].values\n",
    "\n",
    "print(f\"elapsed time: {time.time() - st}\")"
   ]
  },
  {
   "cell_type": "code",
   "execution_count": 15,
   "id": "d06d74ab",
   "metadata": {
    "execution": {
     "iopub.execute_input": "2024-08-05T13:44:00.644346Z",
     "iopub.status.busy": "2024-08-05T13:44:00.644035Z",
     "iopub.status.idle": "2024-08-05T13:44:04.869618Z",
     "shell.execute_reply": "2024-08-05T13:44:04.868590Z"
    },
    "papermill": {
     "duration": 4.24175,
     "end_time": "2024-08-05T13:44:04.871893",
     "exception": false,
     "start_time": "2024-08-05T13:44:00.630143",
     "status": "completed"
    },
    "tags": []
   },
   "outputs": [
    {
     "name": "stdout",
     "output_type": "stream",
     "text": [
      "elapsed time: 4.2168309688568115\n"
     ]
    }
   ],
   "source": [
    "st = time.time()\n",
    "\n",
    "if cfg.tta:\n",
    "    data = aug_data.sort_values(\"length\", ascending=False)  # sort by input length to boost speed\n",
    "    sub_1 = data.iloc[0::2].copy()\n",
    "    sub_2 = data.iloc[1::2].copy()\n",
    "#     sub_1 = data.iloc[:len(data)//2:].copy()\n",
    "#     sub_2 = data.iloc[len(data)//2::].copy()\n",
    "\n",
    "    with ThreadPoolExecutor(max_workers=2) as executor:\n",
    "        results = executor.map(inference, (sub_1, sub_2), (model_0, model_1), (device_0, device_1))\n",
    "\n",
    "    tta_result_df = pd.concat(list(results), axis=0)\n",
    "    # recall TTA's order is flipped\n",
    "    tta_proba = tta_result_df[[\"winner_model_b\", \"winner_model_a\", \"winner_tie\"]].values \n",
    "    \n",
    "    proba_length = proba.shape[0]\n",
    "    #tta_proba_length = tta_proba.shape[0]\n",
    "    #completed_flags = [True] * tta_proba_length + [False] * (proba_length - tta_proba_length)\n",
    "    #tta_proba[:, [0, 1]] = tta_proba[:, [1, 0]]\n",
    "    result_array = proba.copy()\n",
    "    for i in range(proba.shape[0]):\n",
    "        if tta_proba[i][0] !=-1.0: #completed_flags[i]:\n",
    "            result_array[i] = (proba[i] + tta_proba[i]) / 2\n",
    "        else:\n",
    "            result_array[i] = proba[i]\n",
    "            \n",
    "    # average original result and TTA result.\n",
    "    #proba = (proba + tta_proba) / 2\n",
    "\n",
    "print(f\"elapsed time: {time.time() - st}\")"
   ]
  },
  {
   "cell_type": "code",
   "execution_count": 16,
   "id": "8380f6ce",
   "metadata": {
    "execution": {
     "iopub.execute_input": "2024-08-05T13:44:04.901893Z",
     "iopub.status.busy": "2024-08-05T13:44:04.901348Z",
     "iopub.status.idle": "2024-08-05T13:44:04.920391Z",
     "shell.execute_reply": "2024-08-05T13:44:04.919486Z"
    },
    "papermill": {
     "duration": 0.036265,
     "end_time": "2024-08-05T13:44:04.922392",
     "exception": false,
     "start_time": "2024-08-05T13:44:04.886127",
     "status": "completed"
    },
    "tags": []
   },
   "outputs": [
    {
     "data": {
      "text/html": [
       "<div>\n",
       "<style scoped>\n",
       "    .dataframe tbody tr th:only-of-type {\n",
       "        vertical-align: middle;\n",
       "    }\n",
       "\n",
       "    .dataframe tbody tr th {\n",
       "        vertical-align: top;\n",
       "    }\n",
       "\n",
       "    .dataframe thead th {\n",
       "        text-align: right;\n",
       "    }\n",
       "</style>\n",
       "<table border=\"1\" class=\"dataframe\">\n",
       "  <thead>\n",
       "    <tr style=\"text-align: right;\">\n",
       "      <th></th>\n",
       "      <th>id</th>\n",
       "      <th>winner_model_a</th>\n",
       "      <th>winner_model_b</th>\n",
       "      <th>winner_tie</th>\n",
       "    </tr>\n",
       "  </thead>\n",
       "  <tbody>\n",
       "    <tr>\n",
       "      <th>2</th>\n",
       "      <td>1233961</td>\n",
       "      <td>0.117177</td>\n",
       "      <td>0.687620</td>\n",
       "      <td>0.195203</td>\n",
       "    </tr>\n",
       "    <tr>\n",
       "      <th>0</th>\n",
       "      <td>136060</td>\n",
       "      <td>0.002575</td>\n",
       "      <td>0.976472</td>\n",
       "      <td>0.020953</td>\n",
       "    </tr>\n",
       "    <tr>\n",
       "      <th>1</th>\n",
       "      <td>211333</td>\n",
       "      <td>0.346457</td>\n",
       "      <td>0.316414</td>\n",
       "      <td>0.337130</td>\n",
       "    </tr>\n",
       "  </tbody>\n",
       "</table>\n",
       "</div>"
      ],
      "text/plain": [
       "        id  winner_model_a  winner_model_b  winner_tie\n",
       "2  1233961        0.117177        0.687620    0.195203\n",
       "0   136060        0.002575        0.976472    0.020953\n",
       "1   211333        0.346457        0.316414    0.337130"
      ]
     },
     "metadata": {},
     "output_type": "display_data"
    }
   ],
   "source": [
    "result_df.loc[:, \"winner_model_a\"] = result_array[:, 0]\n",
    "result_df.loc[:, \"winner_model_b\"] = result_array[:, 1]\n",
    "result_df.loc[:, \"winner_tie\"] = result_array[:, 2]\n",
    "submission_df = result_df[[\"id\", 'winner_model_a', 'winner_model_b', 'winner_tie']]\n",
    "submission_df.to_csv('submission.csv', index=False)\n",
    "display(submission_df)"
   ]
  }
 ],
 "metadata": {
  "kaggle": {
   "accelerator": "nvidiaTeslaT4",
   "dataSources": [
    {
     "databundleVersionId": 8346466,
     "sourceId": 66631,
     "sourceType": "competition"
    },
    {
     "datasetId": 5297895,
     "sourceId": 8897601,
     "sourceType": "datasetVersion"
    },
    {
     "datasetId": 5381021,
     "isSourceIdPinned": true,
     "sourceId": 9098616,
     "sourceType": "datasetVersion"
    },
    {
     "modelId": 86587,
     "modelInstanceId": 63082,
     "sourceId": 75103,
     "sourceType": "modelInstanceVersion"
    }
   ],
   "dockerImageVersionId": 30733,
   "isGpuEnabled": true,
   "isInternetEnabled": false,
   "language": "python",
   "sourceType": "notebook"
  },
  "kernelspec": {
   "display_name": "Python 3 (ipykernel)",
   "language": "python",
   "name": "python3"
  },
  "language_info": {
   "codemirror_mode": {
    "name": "ipython",
    "version": 3
   },
   "file_extension": ".py",
   "mimetype": "text/x-python",
   "name": "python",
   "nbconvert_exporter": "python",
   "pygments_lexer": "ipython3",
   "version": "3.9.18"
  },
  "papermill": {
   "default_parameters": {},
   "duration": 157.118543,
   "end_time": "2024-08-05T13:44:07.653223",
   "environment_variables": {},
   "exception": null,
   "input_path": "__notebook__.ipynb",
   "output_path": "__notebook__.ipynb",
   "parameters": {},
   "start_time": "2024-08-05T13:41:30.534680",
   "version": "2.5.0"
  },
  "widgets": {
   "application/vnd.jupyter.widget-state+json": {
    "state": {
     "0b7dbbdcb292434b9b9f03d8b8befca7": {
      "model_module": "@jupyter-widgets/controls",
      "model_module_version": "1.5.0",
      "model_name": "HTMLModel",
      "state": {
       "_dom_classes": [],
       "_model_module": "@jupyter-widgets/controls",
       "_model_module_version": "1.5.0",
       "_model_name": "HTMLModel",
       "_view_count": null,
       "_view_module": "@jupyter-widgets/controls",
       "_view_module_version": "1.5.0",
       "_view_name": "HTMLView",
       "description": "",
       "description_tooltip": null,
       "layout": "IPY_MODEL_1fd6be3d1a0a43ea962b10d0f998d58b",
       "placeholder": "​",
       "style": "IPY_MODEL_7f2d4187996c46e29604a21944998acb",
       "value": "Loading checkpoint shards: 100%"
      }
     },
     "0ec934ce801341438bbc32f0d970d367": {
      "model_module": "@jupyter-widgets/base",
      "model_module_version": "1.2.0",
      "model_name": "LayoutModel",
      "state": {
       "_model_module": "@jupyter-widgets/base",
       "_model_module_version": "1.2.0",
       "_model_name": "LayoutModel",
       "_view_count": null,
       "_view_module": "@jupyter-widgets/base",
       "_view_module_version": "1.2.0",
       "_view_name": "LayoutView",
       "align_content": null,
       "align_items": null,
       "align_self": null,
       "border": null,
       "bottom": null,
       "display": null,
       "flex": null,
       "flex_flow": null,
       "grid_area": null,
       "grid_auto_columns": null,
       "grid_auto_flow": null,
       "grid_auto_rows": null,
       "grid_column": null,
       "grid_gap": null,
       "grid_row": null,
       "grid_template_areas": null,
       "grid_template_columns": null,
       "grid_template_rows": null,
       "height": null,
       "justify_content": null,
       "justify_items": null,
       "left": null,
       "margin": null,
       "max_height": null,
       "max_width": null,
       "min_height": null,
       "min_width": null,
       "object_fit": null,
       "object_position": null,
       "order": null,
       "overflow": null,
       "overflow_x": null,
       "overflow_y": null,
       "padding": null,
       "right": null,
       "top": null,
       "visibility": null,
       "width": null
      }
     },
     "1d6cb3d632b5413896340298e986b7bc": {
      "model_module": "@jupyter-widgets/controls",
      "model_module_version": "1.5.0",
      "model_name": "ProgressStyleModel",
      "state": {
       "_model_module": "@jupyter-widgets/controls",
       "_model_module_version": "1.5.0",
       "_model_name": "ProgressStyleModel",
       "_view_count": null,
       "_view_module": "@jupyter-widgets/base",
       "_view_module_version": "1.2.0",
       "_view_name": "StyleView",
       "bar_color": null,
       "description_width": ""
      }
     },
     "1ef37642e97443f4b87fd59612a89795": {
      "model_module": "@jupyter-widgets/base",
      "model_module_version": "1.2.0",
      "model_name": "LayoutModel",
      "state": {
       "_model_module": "@jupyter-widgets/base",
       "_model_module_version": "1.2.0",
       "_model_name": "LayoutModel",
       "_view_count": null,
       "_view_module": "@jupyter-widgets/base",
       "_view_module_version": "1.2.0",
       "_view_name": "LayoutView",
       "align_content": null,
       "align_items": null,
       "align_self": null,
       "border": null,
       "bottom": null,
       "display": null,
       "flex": null,
       "flex_flow": null,
       "grid_area": null,
       "grid_auto_columns": null,
       "grid_auto_flow": null,
       "grid_auto_rows": null,
       "grid_column": null,
       "grid_gap": null,
       "grid_row": null,
       "grid_template_areas": null,
       "grid_template_columns": null,
       "grid_template_rows": null,
       "height": null,
       "justify_content": null,
       "justify_items": null,
       "left": null,
       "margin": null,
       "max_height": null,
       "max_width": null,
       "min_height": null,
       "min_width": null,
       "object_fit": null,
       "object_position": null,
       "order": null,
       "overflow": null,
       "overflow_x": null,
       "overflow_y": null,
       "padding": null,
       "right": null,
       "top": null,
       "visibility": null,
       "width": null
      }
     },
     "1fd6be3d1a0a43ea962b10d0f998d58b": {
      "model_module": "@jupyter-widgets/base",
      "model_module_version": "1.2.0",
      "model_name": "LayoutModel",
      "state": {
       "_model_module": "@jupyter-widgets/base",
       "_model_module_version": "1.2.0",
       "_model_name": "LayoutModel",
       "_view_count": null,
       "_view_module": "@jupyter-widgets/base",
       "_view_module_version": "1.2.0",
       "_view_name": "LayoutView",
       "align_content": null,
       "align_items": null,
       "align_self": null,
       "border": null,
       "bottom": null,
       "display": null,
       "flex": null,
       "flex_flow": null,
       "grid_area": null,
       "grid_auto_columns": null,
       "grid_auto_flow": null,
       "grid_auto_rows": null,
       "grid_column": null,
       "grid_gap": null,
       "grid_row": null,
       "grid_template_areas": null,
       "grid_template_columns": null,
       "grid_template_rows": null,
       "height": null,
       "justify_content": null,
       "justify_items": null,
       "left": null,
       "margin": null,
       "max_height": null,
       "max_width": null,
       "min_height": null,
       "min_width": null,
       "object_fit": null,
       "object_position": null,
       "order": null,
       "overflow": null,
       "overflow_x": null,
       "overflow_y": null,
       "padding": null,
       "right": null,
       "top": null,
       "visibility": null,
       "width": null
      }
     },
     "3d5258310341452d9319814b5454fa7b": {
      "model_module": "@jupyter-widgets/base",
      "model_module_version": "1.2.0",
      "model_name": "LayoutModel",
      "state": {
       "_model_module": "@jupyter-widgets/base",
       "_model_module_version": "1.2.0",
       "_model_name": "LayoutModel",
       "_view_count": null,
       "_view_module": "@jupyter-widgets/base",
       "_view_module_version": "1.2.0",
       "_view_name": "LayoutView",
       "align_content": null,
       "align_items": null,
       "align_self": null,
       "border": null,
       "bottom": null,
       "display": null,
       "flex": null,
       "flex_flow": null,
       "grid_area": null,
       "grid_auto_columns": null,
       "grid_auto_flow": null,
       "grid_auto_rows": null,
       "grid_column": null,
       "grid_gap": null,
       "grid_row": null,
       "grid_template_areas": null,
       "grid_template_columns": null,
       "grid_template_rows": null,
       "height": null,
       "justify_content": null,
       "justify_items": null,
       "left": null,
       "margin": null,
       "max_height": null,
       "max_width": null,
       "min_height": null,
       "min_width": null,
       "object_fit": null,
       "object_position": null,
       "order": null,
       "overflow": null,
       "overflow_x": null,
       "overflow_y": null,
       "padding": null,
       "right": null,
       "top": null,
       "visibility": null,
       "width": null
      }
     },
     "51b7d6ef0bc943e5ad5d0a3197475b26": {
      "model_module": "@jupyter-widgets/controls",
      "model_module_version": "1.5.0",
      "model_name": "FloatProgressModel",
      "state": {
       "_dom_classes": [],
       "_model_module": "@jupyter-widgets/controls",
       "_model_module_version": "1.5.0",
       "_model_name": "FloatProgressModel",
       "_view_count": null,
       "_view_module": "@jupyter-widgets/controls",
       "_view_module_version": "1.5.0",
       "_view_name": "ProgressView",
       "bar_style": "success",
       "description": "",
       "description_tooltip": null,
       "layout": "IPY_MODEL_0ec934ce801341438bbc32f0d970d367",
       "max": 2,
       "min": 0,
       "orientation": "horizontal",
       "style": "IPY_MODEL_b8f93c513a904377b474c82f492486ab",
       "value": 2
      }
     },
     "62387b3faaec4e16b856642307d9b89d": {
      "model_module": "@jupyter-widgets/controls",
      "model_module_version": "1.5.0",
      "model_name": "HTMLModel",
      "state": {
       "_dom_classes": [],
       "_model_module": "@jupyter-widgets/controls",
       "_model_module_version": "1.5.0",
       "_model_name": "HTMLModel",
       "_view_count": null,
       "_view_module": "@jupyter-widgets/controls",
       "_view_module_version": "1.5.0",
       "_view_name": "HTMLView",
       "description": "",
       "description_tooltip": null,
       "layout": "IPY_MODEL_f84a141fb71e4c8f8ec4311e4d0384bf",
       "placeholder": "​",
       "style": "IPY_MODEL_68a9bf9fc5744075a38f5fb7bfe702d2",
       "value": " 2/2 [00:03&lt;00:00,  1.43s/it]"
      }
     },
     "68a9bf9fc5744075a38f5fb7bfe702d2": {
      "model_module": "@jupyter-widgets/controls",
      "model_module_version": "1.5.0",
      "model_name": "DescriptionStyleModel",
      "state": {
       "_model_module": "@jupyter-widgets/controls",
       "_model_module_version": "1.5.0",
       "_model_name": "DescriptionStyleModel",
       "_view_count": null,
       "_view_module": "@jupyter-widgets/base",
       "_view_module_version": "1.2.0",
       "_view_name": "StyleView",
       "description_width": ""
      }
     },
     "78b55308888e410186a43a19e475ddbb": {
      "model_module": "@jupyter-widgets/controls",
      "model_module_version": "1.5.0",
      "model_name": "HTMLModel",
      "state": {
       "_dom_classes": [],
       "_model_module": "@jupyter-widgets/controls",
       "_model_module_version": "1.5.0",
       "_model_name": "HTMLModel",
       "_view_count": null,
       "_view_module": "@jupyter-widgets/controls",
       "_view_module_version": "1.5.0",
       "_view_name": "HTMLView",
       "description": "",
       "description_tooltip": null,
       "layout": "IPY_MODEL_f11e90f1229546f2bd52a8c567e38fe3",
       "placeholder": "​",
       "style": "IPY_MODEL_96020c56351146dea8e2b450115f428a",
       "value": "Loading checkpoint shards: 100%"
      }
     },
     "7f2d4187996c46e29604a21944998acb": {
      "model_module": "@jupyter-widgets/controls",
      "model_module_version": "1.5.0",
      "model_name": "DescriptionStyleModel",
      "state": {
       "_model_module": "@jupyter-widgets/controls",
       "_model_module_version": "1.5.0",
       "_model_name": "DescriptionStyleModel",
       "_view_count": null,
       "_view_module": "@jupyter-widgets/base",
       "_view_module_version": "1.2.0",
       "_view_name": "StyleView",
       "description_width": ""
      }
     },
     "7fa9fafb58604dc594b5dbbfcf3fbc30": {
      "model_module": "@jupyter-widgets/base",
      "model_module_version": "1.2.0",
      "model_name": "LayoutModel",
      "state": {
       "_model_module": "@jupyter-widgets/base",
       "_model_module_version": "1.2.0",
       "_model_name": "LayoutModel",
       "_view_count": null,
       "_view_module": "@jupyter-widgets/base",
       "_view_module_version": "1.2.0",
       "_view_name": "LayoutView",
       "align_content": null,
       "align_items": null,
       "align_self": null,
       "border": null,
       "bottom": null,
       "display": null,
       "flex": null,
       "flex_flow": null,
       "grid_area": null,
       "grid_auto_columns": null,
       "grid_auto_flow": null,
       "grid_auto_rows": null,
       "grid_column": null,
       "grid_gap": null,
       "grid_row": null,
       "grid_template_areas": null,
       "grid_template_columns": null,
       "grid_template_rows": null,
       "height": null,
       "justify_content": null,
       "justify_items": null,
       "left": null,
       "margin": null,
       "max_height": null,
       "max_width": null,
       "min_height": null,
       "min_width": null,
       "object_fit": null,
       "object_position": null,
       "order": null,
       "overflow": null,
       "overflow_x": null,
       "overflow_y": null,
       "padding": null,
       "right": null,
       "top": null,
       "visibility": null,
       "width": null
      }
     },
     "847ce9c4cfcd403c8ffcb83b767e9f55": {
      "model_module": "@jupyter-widgets/base",
      "model_module_version": "1.2.0",
      "model_name": "LayoutModel",
      "state": {
       "_model_module": "@jupyter-widgets/base",
       "_model_module_version": "1.2.0",
       "_model_name": "LayoutModel",
       "_view_count": null,
       "_view_module": "@jupyter-widgets/base",
       "_view_module_version": "1.2.0",
       "_view_name": "LayoutView",
       "align_content": null,
       "align_items": null,
       "align_self": null,
       "border": null,
       "bottom": null,
       "display": null,
       "flex": null,
       "flex_flow": null,
       "grid_area": null,
       "grid_auto_columns": null,
       "grid_auto_flow": null,
       "grid_auto_rows": null,
       "grid_column": null,
       "grid_gap": null,
       "grid_row": null,
       "grid_template_areas": null,
       "grid_template_columns": null,
       "grid_template_rows": null,
       "height": null,
       "justify_content": null,
       "justify_items": null,
       "left": null,
       "margin": null,
       "max_height": null,
       "max_width": null,
       "min_height": null,
       "min_width": null,
       "object_fit": null,
       "object_position": null,
       "order": null,
       "overflow": null,
       "overflow_x": null,
       "overflow_y": null,
       "padding": null,
       "right": null,
       "top": null,
       "visibility": null,
       "width": null
      }
     },
     "8bebb3518ab94a529ad85d4bb103f023": {
      "model_module": "@jupyter-widgets/controls",
      "model_module_version": "1.5.0",
      "model_name": "DescriptionStyleModel",
      "state": {
       "_model_module": "@jupyter-widgets/controls",
       "_model_module_version": "1.5.0",
       "_model_name": "DescriptionStyleModel",
       "_view_count": null,
       "_view_module": "@jupyter-widgets/base",
       "_view_module_version": "1.2.0",
       "_view_name": "StyleView",
       "description_width": ""
      }
     },
     "8c939a0462c846ad8686c0d7fe47e63f": {
      "model_module": "@jupyter-widgets/controls",
      "model_module_version": "1.5.0",
      "model_name": "HBoxModel",
      "state": {
       "_dom_classes": [],
       "_model_module": "@jupyter-widgets/controls",
       "_model_module_version": "1.5.0",
       "_model_name": "HBoxModel",
       "_view_count": null,
       "_view_module": "@jupyter-widgets/controls",
       "_view_module_version": "1.5.0",
       "_view_name": "HBoxView",
       "box_style": "",
       "children": [
        "IPY_MODEL_0b7dbbdcb292434b9b9f03d8b8befca7",
        "IPY_MODEL_af7a5bf8ca94466da26025c0557b24dc",
        "IPY_MODEL_db06c789153347e7a5a0fe2cb6643d7c"
       ],
       "layout": "IPY_MODEL_1ef37642e97443f4b87fd59612a89795"
      }
     },
     "96020c56351146dea8e2b450115f428a": {
      "model_module": "@jupyter-widgets/controls",
      "model_module_version": "1.5.0",
      "model_name": "DescriptionStyleModel",
      "state": {
       "_model_module": "@jupyter-widgets/controls",
       "_model_module_version": "1.5.0",
       "_model_name": "DescriptionStyleModel",
       "_view_count": null,
       "_view_module": "@jupyter-widgets/base",
       "_view_module_version": "1.2.0",
       "_view_name": "StyleView",
       "description_width": ""
      }
     },
     "9b65ffe6569c4a39b22795e54d1979d0": {
      "model_module": "@jupyter-widgets/controls",
      "model_module_version": "1.5.0",
      "model_name": "HBoxModel",
      "state": {
       "_dom_classes": [],
       "_model_module": "@jupyter-widgets/controls",
       "_model_module_version": "1.5.0",
       "_model_name": "HBoxModel",
       "_view_count": null,
       "_view_module": "@jupyter-widgets/controls",
       "_view_module_version": "1.5.0",
       "_view_name": "HBoxView",
       "box_style": "",
       "children": [
        "IPY_MODEL_78b55308888e410186a43a19e475ddbb",
        "IPY_MODEL_51b7d6ef0bc943e5ad5d0a3197475b26",
        "IPY_MODEL_62387b3faaec4e16b856642307d9b89d"
       ],
       "layout": "IPY_MODEL_3d5258310341452d9319814b5454fa7b"
      }
     },
     "af7a5bf8ca94466da26025c0557b24dc": {
      "model_module": "@jupyter-widgets/controls",
      "model_module_version": "1.5.0",
      "model_name": "FloatProgressModel",
      "state": {
       "_dom_classes": [],
       "_model_module": "@jupyter-widgets/controls",
       "_model_module_version": "1.5.0",
       "_model_name": "FloatProgressModel",
       "_view_count": null,
       "_view_module": "@jupyter-widgets/controls",
       "_view_module_version": "1.5.0",
       "_view_name": "ProgressView",
       "bar_style": "success",
       "description": "",
       "description_tooltip": null,
       "layout": "IPY_MODEL_7fa9fafb58604dc594b5dbbfcf3fbc30",
       "max": 2,
       "min": 0,
       "orientation": "horizontal",
       "style": "IPY_MODEL_1d6cb3d632b5413896340298e986b7bc",
       "value": 2
      }
     },
     "b8f93c513a904377b474c82f492486ab": {
      "model_module": "@jupyter-widgets/controls",
      "model_module_version": "1.5.0",
      "model_name": "ProgressStyleModel",
      "state": {
       "_model_module": "@jupyter-widgets/controls",
       "_model_module_version": "1.5.0",
       "_model_name": "ProgressStyleModel",
       "_view_count": null,
       "_view_module": "@jupyter-widgets/base",
       "_view_module_version": "1.2.0",
       "_view_name": "StyleView",
       "bar_color": null,
       "description_width": ""
      }
     },
     "db06c789153347e7a5a0fe2cb6643d7c": {
      "model_module": "@jupyter-widgets/controls",
      "model_module_version": "1.5.0",
      "model_name": "HTMLModel",
      "state": {
       "_dom_classes": [],
       "_model_module": "@jupyter-widgets/controls",
       "_model_module_version": "1.5.0",
       "_model_name": "HTMLModel",
       "_view_count": null,
       "_view_module": "@jupyter-widgets/controls",
       "_view_module_version": "1.5.0",
       "_view_name": "HTMLView",
       "description": "",
       "description_tooltip": null,
       "layout": "IPY_MODEL_847ce9c4cfcd403c8ffcb83b767e9f55",
       "placeholder": "​",
       "style": "IPY_MODEL_8bebb3518ab94a529ad85d4bb103f023",
       "value": " 2/2 [01:16&lt;00:00, 34.15s/it]"
      }
     },
     "f11e90f1229546f2bd52a8c567e38fe3": {
      "model_module": "@jupyter-widgets/base",
      "model_module_version": "1.2.0",
      "model_name": "LayoutModel",
      "state": {
       "_model_module": "@jupyter-widgets/base",
       "_model_module_version": "1.2.0",
       "_model_name": "LayoutModel",
       "_view_count": null,
       "_view_module": "@jupyter-widgets/base",
       "_view_module_version": "1.2.0",
       "_view_name": "LayoutView",
       "align_content": null,
       "align_items": null,
       "align_self": null,
       "border": null,
       "bottom": null,
       "display": null,
       "flex": null,
       "flex_flow": null,
       "grid_area": null,
       "grid_auto_columns": null,
       "grid_auto_flow": null,
       "grid_auto_rows": null,
       "grid_column": null,
       "grid_gap": null,
       "grid_row": null,
       "grid_template_areas": null,
       "grid_template_columns": null,
       "grid_template_rows": null,
       "height": null,
       "justify_content": null,
       "justify_items": null,
       "left": null,
       "margin": null,
       "max_height": null,
       "max_width": null,
       "min_height": null,
       "min_width": null,
       "object_fit": null,
       "object_position": null,
       "order": null,
       "overflow": null,
       "overflow_x": null,
       "overflow_y": null,
       "padding": null,
       "right": null,
       "top": null,
       "visibility": null,
       "width": null
      }
     },
     "f84a141fb71e4c8f8ec4311e4d0384bf": {
      "model_module": "@jupyter-widgets/base",
      "model_module_version": "1.2.0",
      "model_name": "LayoutModel",
      "state": {
       "_model_module": "@jupyter-widgets/base",
       "_model_module_version": "1.2.0",
       "_model_name": "LayoutModel",
       "_view_count": null,
       "_view_module": "@jupyter-widgets/base",
       "_view_module_version": "1.2.0",
       "_view_name": "LayoutView",
       "align_content": null,
       "align_items": null,
       "align_self": null,
       "border": null,
       "bottom": null,
       "display": null,
       "flex": null,
       "flex_flow": null,
       "grid_area": null,
       "grid_auto_columns": null,
       "grid_auto_flow": null,
       "grid_auto_rows": null,
       "grid_column": null,
       "grid_gap": null,
       "grid_row": null,
       "grid_template_areas": null,
       "grid_template_columns": null,
       "grid_template_rows": null,
       "height": null,
       "justify_content": null,
       "justify_items": null,
       "left": null,
       "margin": null,
       "max_height": null,
       "max_width": null,
       "min_height": null,
       "min_width": null,
       "object_fit": null,
       "object_position": null,
       "order": null,
       "overflow": null,
       "overflow_x": null,
       "overflow_y": null,
       "padding": null,
       "right": null,
       "top": null,
       "visibility": null,
       "width": null
      }
     }
    },
    "version_major": 2,
    "version_minor": 0
   }
  }
 },
 "nbformat": 4,
 "nbformat_minor": 5
}
