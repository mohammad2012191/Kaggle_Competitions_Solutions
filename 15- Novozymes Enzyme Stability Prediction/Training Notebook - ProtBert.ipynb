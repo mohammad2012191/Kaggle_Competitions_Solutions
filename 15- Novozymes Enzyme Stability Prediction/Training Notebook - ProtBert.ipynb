{
 "cells": [
  {
   "cell_type": "markdown",
   "id": "e2e9f9db",
   "metadata": {
    "papermill": {
     "duration": 0.011432,
     "end_time": "2023-01-02T20:14:26.938969",
     "exception": false,
     "start_time": "2023-01-02T20:14:26.927537",
     "status": "completed"
    },
    "tags": []
   },
   "source": [
    "# Protein BERT \n"
   ]
  },
  {
   "cell_type": "code",
   "execution_count": 1,
   "id": "5cdd27fc",
   "metadata": {
    "execution": {
     "iopub.execute_input": "2023-01-02T20:14:26.982051Z",
     "iopub.status.busy": "2023-01-02T20:14:26.981498Z",
     "iopub.status.idle": "2023-01-02T20:14:46.940695Z",
     "shell.execute_reply": "2023-01-02T20:14:46.939469Z"
    },
    "papermill": {
     "duration": 19.973548,
     "end_time": "2023-01-02T20:14:46.943712",
     "exception": false,
     "start_time": "2023-01-02T20:14:26.970164",
     "status": "completed"
    },
    "tags": []
   },
   "outputs": [
    {
     "name": "stdout",
     "output_type": "stream",
     "text": [
      "Requirement already satisfied: transformers in /opt/conda/lib/python3.7/site-packages (4.20.1)\r\n",
      "Collecting transformers\r\n",
      "  Downloading transformers-4.25.1-py3-none-any.whl (5.8 MB)\r\n",
      "\u001b[2K     \u001b[90m━━━━━━━━━━━━━━━━━━━━━━━━━━━━━━━━━━━━━━━━\u001b[0m \u001b[32m5.8/5.8 MB\u001b[0m \u001b[31m13.3 MB/s\u001b[0m eta \u001b[36m0:00:00\u001b[0m\r\n",
      "\u001b[?25hRequirement already satisfied: tqdm>=4.27 in /opt/conda/lib/python3.7/site-packages (from transformers) (4.64.0)\r\n",
      "Requirement already satisfied: numpy>=1.17 in /opt/conda/lib/python3.7/site-packages (from transformers) (1.21.6)\r\n",
      "Requirement already satisfied: requests in /opt/conda/lib/python3.7/site-packages (from transformers) (2.28.1)\r\n",
      "Requirement already satisfied: importlib-metadata in /opt/conda/lib/python3.7/site-packages (from transformers) (4.13.0)\r\n",
      "Requirement already satisfied: huggingface-hub<1.0,>=0.10.0 in /opt/conda/lib/python3.7/site-packages (from transformers) (0.10.1)\r\n",
      "Requirement already satisfied: filelock in /opt/conda/lib/python3.7/site-packages (from transformers) (3.7.1)\r\n",
      "Requirement already satisfied: regex!=2019.12.17 in /opt/conda/lib/python3.7/site-packages (from transformers) (2021.11.10)\r\n",
      "Requirement already satisfied: packaging>=20.0 in /opt/conda/lib/python3.7/site-packages (from transformers) (21.3)\r\n",
      "Requirement already satisfied: tokenizers!=0.11.3,<0.14,>=0.11.1 in /opt/conda/lib/python3.7/site-packages (from transformers) (0.12.1)\r\n",
      "Requirement already satisfied: pyyaml>=5.1 in /opt/conda/lib/python3.7/site-packages (from transformers) (6.0)\r\n",
      "Requirement already satisfied: typing-extensions>=3.7.4.3 in /opt/conda/lib/python3.7/site-packages (from huggingface-hub<1.0,>=0.10.0->transformers) (4.1.1)\r\n",
      "Requirement already satisfied: pyparsing!=3.0.5,>=2.0.2 in /opt/conda/lib/python3.7/site-packages (from packaging>=20.0->transformers) (3.0.9)\r\n",
      "Requirement already satisfied: zipp>=0.5 in /opt/conda/lib/python3.7/site-packages (from importlib-metadata->transformers) (3.8.0)\r\n",
      "Requirement already satisfied: urllib3<1.27,>=1.21.1 in /opt/conda/lib/python3.7/site-packages (from requests->transformers) (1.26.12)\r\n",
      "Requirement already satisfied: charset-normalizer<3,>=2 in /opt/conda/lib/python3.7/site-packages (from requests->transformers) (2.1.0)\r\n",
      "Requirement already satisfied: idna<4,>=2.5 in /opt/conda/lib/python3.7/site-packages (from requests->transformers) (3.3)\r\n",
      "Requirement already satisfied: certifi>=2017.4.17 in /opt/conda/lib/python3.7/site-packages (from requests->transformers) (2022.9.24)\r\n",
      "Installing collected packages: transformers\r\n",
      "  Attempting uninstall: transformers\r\n",
      "    Found existing installation: transformers 4.20.1\r\n",
      "    Uninstalling transformers-4.20.1:\r\n",
      "      Successfully uninstalled transformers-4.20.1\r\n",
      "\u001b[31mERROR: pip's dependency resolver does not currently take into account all the packages that are installed. This behaviour is the source of the following dependency conflicts.\r\n",
      "allennlp 2.10.1 requires transformers<4.21,>=4.1, but you have transformers 4.25.1 which is incompatible.\u001b[0m\u001b[31m\r\n",
      "\u001b[0mSuccessfully installed transformers-4.25.1\r\n",
      "\u001b[33mWARNING: Running pip as the 'root' user can result in broken permissions and conflicting behaviour with the system package manager. It is recommended to use a virtual environment instead: https://pip.pypa.io/warnings/venv\u001b[0m\u001b[33m\r\n",
      "\u001b[0m"
     ]
    }
   ],
   "source": [
    "!pip install transformers --upgrade"
   ]
  },
  {
   "cell_type": "code",
   "execution_count": 2,
   "id": "0e9a2108",
   "metadata": {
    "execution": {
     "iopub.execute_input": "2023-01-02T20:14:46.969012Z",
     "iopub.status.busy": "2023-01-02T20:14:46.968625Z",
     "iopub.status.idle": "2023-01-02T20:14:48.032141Z",
     "shell.execute_reply": "2023-01-02T20:14:48.030923Z"
    },
    "papermill": {
     "duration": 1.079006,
     "end_time": "2023-01-02T20:14:48.034687",
     "exception": false,
     "start_time": "2023-01-02T20:14:46.955681",
     "status": "completed"
    },
    "tags": []
   },
   "outputs": [
    {
     "name": "stdout",
     "output_type": "stream",
     "text": [
      "Mon Jan  2 20:14:47 2023       \r\n",
      "+-----------------------------------------------------------------------------+\r\n",
      "| NVIDIA-SMI 470.82.01    Driver Version: 470.82.01    CUDA Version: 11.4     |\r\n",
      "|-------------------------------+----------------------+----------------------+\r\n",
      "| GPU  Name        Persistence-M| Bus-Id        Disp.A | Volatile Uncorr. ECC |\r\n",
      "| Fan  Temp  Perf  Pwr:Usage/Cap|         Memory-Usage | GPU-Util  Compute M. |\r\n",
      "|                               |                      |               MIG M. |\r\n",
      "|===============================+======================+======================|\r\n",
      "|   0  Tesla P100-PCIE...  Off  | 00000000:00:04.0 Off |                    0 |\r\n",
      "| N/A   39C    P0    28W / 250W |      0MiB / 16280MiB |      0%      Default |\r\n",
      "|                               |                      |                  N/A |\r\n",
      "+-------------------------------+----------------------+----------------------+\r\n",
      "                                                                               \r\n",
      "+-----------------------------------------------------------------------------+\r\n",
      "| Processes:                                                                  |\r\n",
      "|  GPU   GI   CI        PID   Type   Process name                  GPU Memory |\r\n",
      "|        ID   ID                                                   Usage      |\r\n",
      "|=============================================================================|\r\n",
      "|  No running processes found                                                 |\r\n",
      "+-----------------------------------------------------------------------------+\r\n"
     ]
    }
   ],
   "source": [
    "!nvidia-smi"
   ]
  },
  {
   "cell_type": "code",
   "execution_count": 3,
   "id": "6f2b8db6",
   "metadata": {
    "execution": {
     "iopub.execute_input": "2023-01-02T20:14:48.059054Z",
     "iopub.status.busy": "2023-01-02T20:14:48.058658Z",
     "iopub.status.idle": "2023-01-02T20:14:48.063659Z",
     "shell.execute_reply": "2023-01-02T20:14:48.062505Z"
    },
    "papermill": {
     "duration": 0.019658,
     "end_time": "2023-01-02T20:14:48.065795",
     "exception": false,
     "start_time": "2023-01-02T20:14:48.046137",
     "status": "completed"
    },
    "tags": []
   },
   "outputs": [],
   "source": [
    "VER = 0"
   ]
  },
  {
   "cell_type": "code",
   "execution_count": 4,
   "id": "856ae9bd",
   "metadata": {
    "execution": {
     "iopub.execute_input": "2023-01-02T20:14:48.090331Z",
     "iopub.status.busy": "2023-01-02T20:14:48.089401Z",
     "iopub.status.idle": "2023-01-02T20:14:48.095159Z",
     "shell.execute_reply": "2023-01-02T20:14:48.094290Z"
    },
    "papermill": {
     "duration": 0.020227,
     "end_time": "2023-01-02T20:14:48.097304",
     "exception": false,
     "start_time": "2023-01-02T20:14:48.077077",
     "status": "completed"
    },
    "tags": []
   },
   "outputs": [],
   "source": [
    "# ====================================================\n",
    "# Directory settings\n",
    "# ====================================================\n",
    "import os\n",
    "\n",
    "OUTPUT_DIR = f'Debug_{VER}/'\n",
    "if not os.path.exists(OUTPUT_DIR):\n",
    "    os.makedirs(OUTPUT_DIR)"
   ]
  },
  {
   "cell_type": "code",
   "execution_count": 5,
   "id": "68f2ee12",
   "metadata": {
    "execution": {
     "iopub.execute_input": "2023-01-02T20:14:48.121616Z",
     "iopub.status.busy": "2023-01-02T20:14:48.120957Z",
     "iopub.status.idle": "2023-01-02T20:14:48.130131Z",
     "shell.execute_reply": "2023-01-02T20:14:48.129211Z"
    },
    "papermill": {
     "duration": 0.023395,
     "end_time": "2023-01-02T20:14:48.132126",
     "exception": false,
     "start_time": "2023-01-02T20:14:48.108731",
     "status": "completed"
    },
    "tags": []
   },
   "outputs": [
    {
     "data": {
      "text/plain": [
       "2"
      ]
     },
     "execution_count": 5,
     "metadata": {},
     "output_type": "execute_result"
    }
   ],
   "source": [
    "import multiprocessing\n",
    "\n",
    "multiprocessing.cpu_count()"
   ]
  },
  {
   "cell_type": "markdown",
   "id": "305e713a",
   "metadata": {
    "papermill": {
     "duration": 0.010997,
     "end_time": "2023-01-02T20:14:48.154388",
     "exception": false,
     "start_time": "2023-01-02T20:14:48.143391",
     "status": "completed"
    },
    "tags": []
   },
   "source": [
    "# CFG"
   ]
  },
  {
   "cell_type": "code",
   "execution_count": 6,
   "id": "a560c05b",
   "metadata": {
    "execution": {
     "iopub.execute_input": "2023-01-02T20:14:48.179207Z",
     "iopub.status.busy": "2023-01-02T20:14:48.178175Z",
     "iopub.status.idle": "2023-01-02T20:14:48.187393Z",
     "shell.execute_reply": "2023-01-02T20:14:48.186506Z"
    },
    "papermill": {
     "duration": 0.023739,
     "end_time": "2023-01-02T20:14:48.189630",
     "exception": false,
     "start_time": "2023-01-02T20:14:48.165891",
     "status": "completed"
    },
    "tags": []
   },
   "outputs": [],
   "source": [
    "#### ====================================================\n",
    "# CFG\n",
    "# ====================================================\n",
    "class CFG:\n",
    "    debug=False\n",
    "    apex=True\n",
    "    print_freq=100\n",
    "    num_workers=2\n",
    "    \n",
    "    #model=\"Rostlab/prot_bert\"\n",
    "    model=\"facebook/esm2_t33_650M_UR50D\" \n",
    "    gradient_checkpointing=False\n",
    "    scheduler='constant' # ['linear', 'cosine', 'constant']\n",
    "    batch_scheduler=True\n",
    "    num_warmup_steps=0\n",
    "    \n",
    "    # LEARNING RATE. \n",
    "    # Suggested: Prot_bert = 5e-6, ESM2 = 5e-5\n",
    "    epochs=1\n",
    "    num_cycles=1.0\n",
    "    encoder_lr=5e-5\n",
    "    decoder_lr=5e-5\n",
    "    batch_size=4\n",
    "    \n",
    "    # MODEL INFO - PROT_BERT\n",
    "    total_layers = 30 \n",
    "    initial_layers = 5 \n",
    "    layers_per_block = 16 \n",
    "    # MODEL INFO - FACEBOOK ESM2\n",
    "    if 'esm2' in model:\n",
    "        total_layers = int(model.split('_')[1][1:])\n",
    "        initial_layers = 2 \n",
    "        layers_per_block = 15 \n",
    "        \n",
    "    # FREEZE\n",
    "    # Suggested: Prot_bert -8, ESM2 -1\n",
    "    num_freeze_layers = total_layers - 1\n",
    "    # NO FREEZE\n",
    "    #num_freeze_layers = 0\n",
    "    \n",
    "    min_lr=1e-6\n",
    "    eps=1e-6\n",
    "    betas=(0.9, 0.999)\n",
    "    max_len=512\n",
    "    weight_decay=0.01\n",
    "    gradient_accumulation_steps=1\n",
    "    max_grad_norm=1000\n",
    "    target_cols=['target']\n",
    "    seed=42\n",
    "    n_fold=5\n",
    "    trn_fold=[0,1,2,3,4]\n",
    "    train=True\n",
    "    pca_dim = 128\n",
    "    \n",
    "if CFG.debug:\n",
    "    CFG.epochs = 1\n",
    "    CFG.trn_fold = [0]"
   ]
  },
  {
   "cell_type": "markdown",
   "id": "f518f9f8",
   "metadata": {
    "papermill": {
     "duration": 0.01105,
     "end_time": "2023-01-02T20:14:48.211994",
     "exception": false,
     "start_time": "2023-01-02T20:14:48.200944",
     "status": "completed"
    },
    "tags": []
   },
   "source": [
    "# Library"
   ]
  },
  {
   "cell_type": "code",
   "execution_count": 7,
   "id": "1fca7d50",
   "metadata": {
    "_kg_hide-output": true,
    "execution": {
     "iopub.execute_input": "2023-01-02T20:14:48.236619Z",
     "iopub.status.busy": "2023-01-02T20:14:48.235724Z",
     "iopub.status.idle": "2023-01-02T20:14:57.314511Z",
     "shell.execute_reply": "2023-01-02T20:14:57.313042Z"
    },
    "papermill": {
     "duration": 9.093768,
     "end_time": "2023-01-02T20:14:57.317023",
     "exception": false,
     "start_time": "2023-01-02T20:14:48.223255",
     "status": "completed"
    },
    "tags": []
   },
   "outputs": [
    {
     "name": "stdout",
     "output_type": "stream",
     "text": [
      "tokenizers.__version__: 0.12.1\n",
      "transformers.__version__: 4.25.1\n",
      "env: TOKENIZERS_PARALLELISM=true\n"
     ]
    }
   ],
   "source": [
    "\n",
    "# ====================================================\n",
    "# Library\n",
    "# ====================================================\n",
    "import os\n",
    "import gc\n",
    "import re\n",
    "import ast\n",
    "import sys\n",
    "import copy\n",
    "import json\n",
    "import time\n",
    "import math\n",
    "import string\n",
    "import pickle\n",
    "import random\n",
    "import joblib\n",
    "import itertools\n",
    "import warnings\n",
    "warnings.filterwarnings(\"ignore\")\n",
    "\n",
    "import scipy as sp\n",
    "import numpy as np\n",
    "import pandas as pd\n",
    "pd.set_option('display.max_rows', 500)\n",
    "pd.set_option('display.max_columns', 500)\n",
    "pd.set_option('display.width', 1000)\n",
    "from tqdm.auto import tqdm\n",
    "from sklearn.metrics import mean_squared_error\n",
    "from sklearn.model_selection import StratifiedKFold, GroupKFold, KFold\n",
    "\n",
    "import torch\n",
    "import torch.nn as nn\n",
    "from torch.nn import Parameter\n",
    "import torch.nn.functional as F\n",
    "from torch.optim import Adam, SGD, AdamW\n",
    "from torch.utils.data import DataLoader, Dataset\n",
    "\n",
    "import tokenizers\n",
    "import transformers\n",
    "print(f\"tokenizers.__version__: {tokenizers.__version__}\")\n",
    "print(f\"transformers.__version__: {transformers.__version__}\")\n",
    "from transformers import AutoTokenizer, AutoModel, AutoConfig\n",
    "from transformers import get_linear_schedule_with_warmup, get_cosine_schedule_with_warmup\n",
    "from transformers import get_constant_schedule_with_warmup\n",
    "%env TOKENIZERS_PARALLELISM=true\n",
    "\n",
    "device = torch.device('cuda' if torch.cuda.is_available() else 'cpu')"
   ]
  },
  {
   "cell_type": "markdown",
   "id": "a94dda74",
   "metadata": {
    "papermill": {
     "duration": 0.011329,
     "end_time": "2023-01-02T20:14:57.340039",
     "exception": false,
     "start_time": "2023-01-02T20:14:57.328710",
     "status": "completed"
    },
    "tags": []
   },
   "source": [
    "# Utils"
   ]
  },
  {
   "cell_type": "code",
   "execution_count": 8,
   "id": "7d2fd195",
   "metadata": {
    "execution": {
     "iopub.execute_input": "2023-01-02T20:14:57.364986Z",
     "iopub.status.busy": "2023-01-02T20:14:57.364362Z",
     "iopub.status.idle": "2023-01-02T20:14:57.377597Z",
     "shell.execute_reply": "2023-01-02T20:14:57.376659Z"
    },
    "papermill": {
     "duration": 0.028315,
     "end_time": "2023-01-02T20:14:57.379811",
     "exception": false,
     "start_time": "2023-01-02T20:14:57.351496",
     "status": "completed"
    },
    "tags": []
   },
   "outputs": [],
   "source": [
    "# ====================================================\n",
    "# Utils\n",
    "# ====================================================\n",
    "def get_logger(filename=OUTPUT_DIR+'train'):\n",
    "    from logging import getLogger, INFO, StreamHandler, FileHandler, Formatter\n",
    "    logger = getLogger(__name__)\n",
    "    logger.setLevel(INFO)\n",
    "    handler1 = StreamHandler()\n",
    "    handler1.setFormatter(Formatter(\"%(message)s\"))\n",
    "    handler2 = FileHandler(filename=f\"{filename}.log\")\n",
    "    handler2.setFormatter(Formatter(\"%(message)s\"))\n",
    "    logger.addHandler(handler1)\n",
    "    logger.addHandler(handler2)\n",
    "    return logger\n",
    "\n",
    "LOGGER = get_logger()\n",
    "\n",
    "\n",
    "def seed_everything(seed=42):\n",
    "    random.seed(seed)\n",
    "    os.environ['PYTHONHASHSEED'] = str(seed)\n",
    "    np.random.seed(seed)\n",
    "    torch.manual_seed(seed)\n",
    "    torch.cuda.manual_seed(seed)\n",
    "    torch.backends.cudnn.deterministic = True\n",
    "    \n",
    "seed_everything(seed=42)"
   ]
  },
  {
   "cell_type": "markdown",
   "id": "906f59f3",
   "metadata": {
    "papermill": {
     "duration": 0.011437,
     "end_time": "2023-01-02T20:14:57.403195",
     "exception": false,
     "start_time": "2023-01-02T20:14:57.391758",
     "status": "completed"
    },
    "tags": []
   },
   "source": [
    "# Data Loading"
   ]
  },
  {
   "cell_type": "code",
   "execution_count": 9,
   "id": "24f92a98",
   "metadata": {
    "execution": {
     "iopub.execute_input": "2023-01-02T20:14:57.428665Z",
     "iopub.status.busy": "2023-01-02T20:14:57.427734Z",
     "iopub.status.idle": "2023-01-02T20:14:57.433645Z",
     "shell.execute_reply": "2023-01-02T20:14:57.432728Z"
    },
    "papermill": {
     "duration": 0.02097,
     "end_time": "2023-01-02T20:14:57.435823",
     "exception": false,
     "start_time": "2023-01-02T20:14:57.414853",
     "status": "completed"
    },
    "tags": []
   },
   "outputs": [],
   "source": [
    "def create_mutant(row) : \n",
    "    string = row.sequence\n",
    "    position = row.seq_position\n",
    "    new_character = str(row.mutant)\n",
    "    temp = list(string)\n",
    "    temp[position] = new_character\n",
    "    string = \"\".join(temp)\n",
    "    \n",
    "    return string"
   ]
  },
  {
   "cell_type": "code",
   "execution_count": 10,
   "id": "16bcb358",
   "metadata": {
    "execution": {
     "iopub.execute_input": "2023-01-02T20:14:57.460828Z",
     "iopub.status.busy": "2023-01-02T20:14:57.460006Z",
     "iopub.status.idle": "2023-01-02T20:14:57.791447Z",
     "shell.execute_reply": "2023-01-02T20:14:57.790428Z"
    },
    "papermill": {
     "duration": 0.346639,
     "end_time": "2023-01-02T20:14:57.794046",
     "exception": false,
     "start_time": "2023-01-02T20:14:57.447407",
     "status": "completed"
    },
    "tags": []
   },
   "outputs": [],
   "source": [
    "thermo_data = pd.read_csv('/kaggle/input/thermotrain/thermo_train-2.csv')\n",
    "thermo_data['mutant_seq'] = thermo_data.apply(lambda row : create_mutant(row),axis=1)\n",
    "thermo_data = thermo_data.rename(columns={\"seq_position\":\"position\",\"PDB_chain\":\"PDB\",'mutant':'mutation','dT':'dTm'})\n",
    "thermo_data['CIF'] = np.nan"
   ]
  },
  {
   "cell_type": "code",
   "execution_count": 11,
   "id": "a29977b3",
   "metadata": {
    "execution": {
     "iopub.execute_input": "2023-01-02T20:14:57.820996Z",
     "iopub.status.busy": "2023-01-02T20:14:57.820073Z",
     "iopub.status.idle": "2023-01-02T20:14:57.914541Z",
     "shell.execute_reply": "2023-01-02T20:14:57.913296Z"
    },
    "papermill": {
     "duration": 0.110957,
     "end_time": "2023-01-02T20:14:57.917020",
     "exception": false,
     "start_time": "2023-01-02T20:14:57.806063",
     "status": "completed"
    },
    "tags": []
   },
   "outputs": [
    {
     "name": "stdout",
     "output_type": "stream",
     "text": [
      "Train has shape: (5072, 10)\n"
     ]
    },
    {
     "data": {
      "text/html": [
       "<div>\n",
       "<style scoped>\n",
       "    .dataframe tbody tr th:only-of-type {\n",
       "        vertical-align: middle;\n",
       "    }\n",
       "\n",
       "    .dataframe tbody tr th {\n",
       "        vertical-align: top;\n",
       "    }\n",
       "\n",
       "    .dataframe thead th {\n",
       "        text-align: right;\n",
       "    }\n",
       "</style>\n",
       "<table border=\"1\" class=\"dataframe\">\n",
       "  <thead>\n",
       "    <tr style=\"text-align: right;\">\n",
       "      <th></th>\n",
       "      <th>PDB</th>\n",
       "      <th>wildtype</th>\n",
       "      <th>position</th>\n",
       "      <th>mutation</th>\n",
       "      <th>ddG</th>\n",
       "      <th>sequence</th>\n",
       "      <th>mutant_seq</th>\n",
       "      <th>source</th>\n",
       "      <th>dTm</th>\n",
       "      <th>CIF</th>\n",
       "    </tr>\n",
       "  </thead>\n",
       "  <tbody>\n",
       "    <tr>\n",
       "      <th>0</th>\n",
       "      <td>1A5E</td>\n",
       "      <td>L</td>\n",
       "      <td>121</td>\n",
       "      <td>R</td>\n",
       "      <td>0.66</td>\n",
       "      <td>MEPAAGSSMEPSADWLATAAARGRVEEVRALLEAGALPNAPNSYGR...</td>\n",
       "      <td>MEPAAGSSMEPSADWLATAAARGRVEEVRALLEAGALPNAPNSYGR...</td>\n",
       "      <td>jin_train.csv</td>\n",
       "      <td>NaN</td>\n",
       "      <td>NaN</td>\n",
       "    </tr>\n",
       "    <tr>\n",
       "      <th>1</th>\n",
       "      <td>1A5E</td>\n",
       "      <td>L</td>\n",
       "      <td>37</td>\n",
       "      <td>S</td>\n",
       "      <td>0.71</td>\n",
       "      <td>MEPAAGSSMEPSADWLATAAARGRVEEVRALLEAGALPNAPNSYGR...</td>\n",
       "      <td>MEPAAGSSMEPSADWLATAAARGRVEEVRALLEAGASPNAPNSYGR...</td>\n",
       "      <td>jin_train.csv</td>\n",
       "      <td>NaN</td>\n",
       "      <td>NaN</td>\n",
       "    </tr>\n",
       "    <tr>\n",
       "      <th>2</th>\n",
       "      <td>1A5E</td>\n",
       "      <td>W</td>\n",
       "      <td>15</td>\n",
       "      <td>D</td>\n",
       "      <td>0.17</td>\n",
       "      <td>MEPAAGSSMEPSADWLATAAARGRVEEVRALLEAGALPNAPNSYGR...</td>\n",
       "      <td>MEPAAGSSMEPSADDLATAAARGRVEEVRALLEAGALPNAPNSYGR...</td>\n",
       "      <td>jin_train.csv</td>\n",
       "      <td>NaN</td>\n",
       "      <td>NaN</td>\n",
       "    </tr>\n",
       "    <tr>\n",
       "      <th>3</th>\n",
       "      <td>1A5E</td>\n",
       "      <td>D</td>\n",
       "      <td>74</td>\n",
       "      <td>N</td>\n",
       "      <td>-2.00</td>\n",
       "      <td>MEPAAGSSMEPSADWLATAAARGRVEEVRALLEAGALPNAPNSYGR...</td>\n",
       "      <td>MEPAAGSSMEPSADWLATAAARGRVEEVRALLEAGALPNAPNSYGR...</td>\n",
       "      <td>jin_train.csv</td>\n",
       "      <td>NaN</td>\n",
       "      <td>NaN</td>\n",
       "    </tr>\n",
       "    <tr>\n",
       "      <th>4</th>\n",
       "      <td>1A5E</td>\n",
       "      <td>P</td>\n",
       "      <td>81</td>\n",
       "      <td>L</td>\n",
       "      <td>0.00</td>\n",
       "      <td>MEPAAGSSMEPSADWLATAAARGRVEEVRALLEAGALPNAPNSYGR...</td>\n",
       "      <td>MEPAAGSSMEPSADWLATAAARGRVEEVRALLEAGALPNAPNSYGR...</td>\n",
       "      <td>jin_train.csv</td>\n",
       "      <td>NaN</td>\n",
       "      <td>NaN</td>\n",
       "    </tr>\n",
       "  </tbody>\n",
       "</table>\n",
       "</div>"
      ],
      "text/plain": [
       "    PDB wildtype  position mutation   ddG                                           sequence                                         mutant_seq         source  dTm  CIF\n",
       "0  1A5E        L       121        R  0.66  MEPAAGSSMEPSADWLATAAARGRVEEVRALLEAGALPNAPNSYGR...  MEPAAGSSMEPSADWLATAAARGRVEEVRALLEAGALPNAPNSYGR...  jin_train.csv  NaN  NaN\n",
       "1  1A5E        L        37        S  0.71  MEPAAGSSMEPSADWLATAAARGRVEEVRALLEAGALPNAPNSYGR...  MEPAAGSSMEPSADWLATAAARGRVEEVRALLEAGASPNAPNSYGR...  jin_train.csv  NaN  NaN\n",
       "2  1A5E        W        15        D  0.17  MEPAAGSSMEPSADWLATAAARGRVEEVRALLEAGALPNAPNSYGR...  MEPAAGSSMEPSADDLATAAARGRVEEVRALLEAGALPNAPNSYGR...  jin_train.csv  NaN  NaN\n",
       "3  1A5E        D        74        N -2.00  MEPAAGSSMEPSADWLATAAARGRVEEVRALLEAGALPNAPNSYGR...  MEPAAGSSMEPSADWLATAAARGRVEEVRALLEAGALPNAPNSYGR...  jin_train.csv  NaN  NaN\n",
       "4  1A5E        P        81        L  0.00  MEPAAGSSMEPSADWLATAAARGRVEEVRALLEAGALPNAPNSYGR...  MEPAAGSSMEPSADWLATAAARGRVEEVRALLEAGALPNAPNSYGR...  jin_train.csv  NaN  NaN"
      ]
     },
     "execution_count": 11,
     "metadata": {},
     "output_type": "execute_result"
    }
   ],
   "source": [
    "train = pd.read_csv('/kaggle/input/thermotrain/all_train_data_v17.csv')\n",
    "train = train.loc[train.source.str.contains('jin')]\n",
    "print('Train has shape:', train.shape )\n",
    "train.head()"
   ]
  },
  {
   "cell_type": "code",
   "execution_count": 12,
   "id": "75240126",
   "metadata": {
    "execution": {
     "iopub.execute_input": "2023-01-02T20:14:57.943458Z",
     "iopub.status.busy": "2023-01-02T20:14:57.942589Z",
     "iopub.status.idle": "2023-01-02T20:14:57.956519Z",
     "shell.execute_reply": "2023-01-02T20:14:57.955524Z"
    },
    "papermill": {
     "duration": 0.02924,
     "end_time": "2023-01-02T20:14:57.959059",
     "exception": false,
     "start_time": "2023-01-02T20:14:57.929819",
     "status": "completed"
    },
    "tags": []
   },
   "outputs": [],
   "source": [
    "train = pd.concat([train, thermo_data[train.columns]]).reset_index(drop=True)"
   ]
  },
  {
   "cell_type": "code",
   "execution_count": 13,
   "id": "0a1bcbca",
   "metadata": {
    "execution": {
     "iopub.execute_input": "2023-01-02T20:14:57.987013Z",
     "iopub.status.busy": "2023-01-02T20:14:57.986696Z",
     "iopub.status.idle": "2023-01-02T20:14:57.992912Z",
     "shell.execute_reply": "2023-01-02T20:14:57.991926Z"
    },
    "papermill": {
     "duration": 0.022753,
     "end_time": "2023-01-02T20:14:57.995123",
     "exception": false,
     "start_time": "2023-01-02T20:14:57.972370",
     "status": "completed"
    },
    "tags": []
   },
   "outputs": [
    {
     "data": {
      "text/plain": [
       "(12705, 10)"
      ]
     },
     "execution_count": 13,
     "metadata": {},
     "output_type": "execute_result"
    }
   ],
   "source": [
    "train.shape"
   ]
  },
  {
   "cell_type": "code",
   "execution_count": 14,
   "id": "55bcca0f",
   "metadata": {
    "execution": {
     "iopub.execute_input": "2023-01-02T20:14:58.021300Z",
     "iopub.status.busy": "2023-01-02T20:14:58.020442Z",
     "iopub.status.idle": "2023-01-02T20:14:58.174462Z",
     "shell.execute_reply": "2023-01-02T20:14:58.173189Z"
    },
    "papermill": {
     "duration": 0.169808,
     "end_time": "2023-01-02T20:14:58.177019",
     "exception": false,
     "start_time": "2023-01-02T20:14:58.007211",
     "status": "completed"
    },
    "tags": []
   },
   "outputs": [
    {
     "name": "stdout",
     "output_type": "stream",
     "text": [
      "Train has shape (12705, 10)\n"
     ]
    },
    {
     "data": {
      "text/html": [
       "<div>\n",
       "<style scoped>\n",
       "    .dataframe tbody tr th:only-of-type {\n",
       "        vertical-align: middle;\n",
       "    }\n",
       "\n",
       "    .dataframe tbody tr th {\n",
       "        vertical-align: top;\n",
       "    }\n",
       "\n",
       "    .dataframe thead th {\n",
       "        text-align: right;\n",
       "    }\n",
       "</style>\n",
       "<table border=\"1\" class=\"dataframe\">\n",
       "  <thead>\n",
       "    <tr style=\"text-align: right;\">\n",
       "      <th></th>\n",
       "      <th>PDB</th>\n",
       "      <th>wildtype</th>\n",
       "      <th>position</th>\n",
       "      <th>mutation</th>\n",
       "      <th>ddG</th>\n",
       "      <th>sequence</th>\n",
       "      <th>mutant_seq</th>\n",
       "      <th>source</th>\n",
       "      <th>dTm</th>\n",
       "      <th>CIF</th>\n",
       "    </tr>\n",
       "  </thead>\n",
       "  <tbody>\n",
       "    <tr>\n",
       "      <th>0</th>\n",
       "      <td>1A5E</td>\n",
       "      <td>L</td>\n",
       "      <td>121</td>\n",
       "      <td>R</td>\n",
       "      <td>0.66</td>\n",
       "      <td>M E P A A G S S M E P S A D W L A T A A A R G ...</td>\n",
       "      <td>M E P A A G S S M E P S A D W L A T A A A R G ...</td>\n",
       "      <td>jin_train.csv</td>\n",
       "      <td>NaN</td>\n",
       "      <td>NaN</td>\n",
       "    </tr>\n",
       "    <tr>\n",
       "      <th>1</th>\n",
       "      <td>1A5E</td>\n",
       "      <td>L</td>\n",
       "      <td>37</td>\n",
       "      <td>S</td>\n",
       "      <td>0.71</td>\n",
       "      <td>M E P A A G S S M E P S A D W L A T A A A R G ...</td>\n",
       "      <td>M E P A A G S S M E P S A D W L A T A A A R G ...</td>\n",
       "      <td>jin_train.csv</td>\n",
       "      <td>NaN</td>\n",
       "      <td>NaN</td>\n",
       "    </tr>\n",
       "    <tr>\n",
       "      <th>2</th>\n",
       "      <td>1A5E</td>\n",
       "      <td>W</td>\n",
       "      <td>15</td>\n",
       "      <td>D</td>\n",
       "      <td>0.17</td>\n",
       "      <td>M E P A A G S S M E P S A D W L A T A A A R G ...</td>\n",
       "      <td>M E P A A G S S M E P S A D D L A T A A A R G ...</td>\n",
       "      <td>jin_train.csv</td>\n",
       "      <td>NaN</td>\n",
       "      <td>NaN</td>\n",
       "    </tr>\n",
       "    <tr>\n",
       "      <th>3</th>\n",
       "      <td>1A5E</td>\n",
       "      <td>D</td>\n",
       "      <td>74</td>\n",
       "      <td>N</td>\n",
       "      <td>-2.00</td>\n",
       "      <td>M E P A A G S S M E P S A D W L A T A A A R G ...</td>\n",
       "      <td>M E P A A G S S M E P S A D W L A T A A A R G ...</td>\n",
       "      <td>jin_train.csv</td>\n",
       "      <td>NaN</td>\n",
       "      <td>NaN</td>\n",
       "    </tr>\n",
       "    <tr>\n",
       "      <th>4</th>\n",
       "      <td>1A5E</td>\n",
       "      <td>P</td>\n",
       "      <td>81</td>\n",
       "      <td>L</td>\n",
       "      <td>0.00</td>\n",
       "      <td>M E P A A G S S M E P S A D W L A T A A A R G ...</td>\n",
       "      <td>M E P A A G S S M E P S A D W L A T A A A R G ...</td>\n",
       "      <td>jin_train.csv</td>\n",
       "      <td>NaN</td>\n",
       "      <td>NaN</td>\n",
       "    </tr>\n",
       "  </tbody>\n",
       "</table>\n",
       "</div>"
      ],
      "text/plain": [
       "    PDB wildtype  position mutation   ddG                                           sequence                                         mutant_seq         source  dTm  CIF\n",
       "0  1A5E        L       121        R  0.66  M E P A A G S S M E P S A D W L A T A A A R G ...  M E P A A G S S M E P S A D W L A T A A A R G ...  jin_train.csv  NaN  NaN\n",
       "1  1A5E        L        37        S  0.71  M E P A A G S S M E P S A D W L A T A A A R G ...  M E P A A G S S M E P S A D W L A T A A A R G ...  jin_train.csv  NaN  NaN\n",
       "2  1A5E        W        15        D  0.17  M E P A A G S S M E P S A D W L A T A A A R G ...  M E P A A G S S M E P S A D D L A T A A A R G ...  jin_train.csv  NaN  NaN\n",
       "3  1A5E        D        74        N -2.00  M E P A A G S S M E P S A D W L A T A A A R G ...  M E P A A G S S M E P S A D W L A T A A A R G ...  jin_train.csv  NaN  NaN\n",
       "4  1A5E        P        81        L  0.00  M E P A A G S S M E P S A D W L A T A A A R G ...  M E P A A G S S M E P S A D W L A T A A A R G ...  jin_train.csv  NaN  NaN"
      ]
     },
     "execution_count": 14,
     "metadata": {},
     "output_type": "execute_result"
    }
   ],
   "source": [
    "def add_spaces(x):\n",
    "    return \" \".join(list(x))\n",
    "train.sequence = train.sequence.map(add_spaces)\n",
    "train.mutant_seq = train.mutant_seq.map(add_spaces)\n",
    "print('Train has shape',train.shape)\n",
    "train.head()"
   ]
  },
  {
   "cell_type": "code",
   "execution_count": 15,
   "id": "3078ffc7",
   "metadata": {
    "execution": {
     "iopub.execute_input": "2023-01-02T20:14:58.204669Z",
     "iopub.status.busy": "2023-01-02T20:14:58.203619Z",
     "iopub.status.idle": "2023-01-02T20:14:58.217412Z",
     "shell.execute_reply": "2023-01-02T20:14:58.216410Z"
    },
    "papermill": {
     "duration": 0.030203,
     "end_time": "2023-01-02T20:14:58.220654",
     "exception": false,
     "start_time": "2023-01-02T20:14:58.190451",
     "status": "completed"
    },
    "tags": []
   },
   "outputs": [
    {
     "name": "stdout",
     "output_type": "stream",
     "text": [
      "After removing mutation groups with less than 20 mutations, our data has shape:\n",
      "(10116, 11)\n"
     ]
    }
   ],
   "source": [
    "REMOVE_CT = 20\n",
    "train['n'] = train.groupby('PDB').PDB.transform('count')\n",
    "train = train.loc[train.n>REMOVE_CT]\n",
    "print(f'After removing mutation groups with less than {REMOVE_CT} mutations, our data has shape:')\n",
    "print( train.shape )"
   ]
  },
  {
   "cell_type": "code",
   "execution_count": 16,
   "id": "ffe7a791",
   "metadata": {
    "execution": {
     "iopub.execute_input": "2023-01-02T20:14:58.247144Z",
     "iopub.status.busy": "2023-01-02T20:14:58.246338Z",
     "iopub.status.idle": "2023-01-02T20:14:58.947827Z",
     "shell.execute_reply": "2023-01-02T20:14:58.946768Z"
    },
    "papermill": {
     "duration": 0.717329,
     "end_time": "2023-01-02T20:14:58.950666",
     "exception": false,
     "start_time": "2023-01-02T20:14:58.233337",
     "status": "completed"
    },
    "scrolled": true,
    "tags": []
   },
   "outputs": [],
   "source": [
    "# RANK NORMALIZE EACH GROUP OF MUTATION PROTEINS\n",
    "from scipy.stats import rankdata\n",
    "train['target'] = 0.5\n",
    "for p in train.PDB.unique():\n",
    "    target = 'dTm'\n",
    "    tmp = train.loc[train.PDB==p,'dTm']\n",
    "    if tmp.isna().sum()>len(tmp)/2: target = 'ddG'\n",
    "    train.loc[train.PDB==p,'target'] =\\\n",
    "        rankdata( train.loc[train.PDB==p,target] )/len( train.loc[train.PDB==p,target] )\n",
    "train = train.reset_index(drop=True)"
   ]
  },
  {
   "cell_type": "code",
   "execution_count": 17,
   "id": "2c6510e7",
   "metadata": {
    "execution": {
     "iopub.execute_input": "2023-01-02T20:14:58.977887Z",
     "iopub.status.busy": "2023-01-02T20:14:58.977525Z",
     "iopub.status.idle": "2023-01-02T20:14:58.984695Z",
     "shell.execute_reply": "2023-01-02T20:14:58.983420Z"
    },
    "papermill": {
     "duration": 0.023958,
     "end_time": "2023-01-02T20:14:58.987520",
     "exception": false,
     "start_time": "2023-01-02T20:14:58.963562",
     "status": "completed"
    },
    "tags": []
   },
   "outputs": [
    {
     "name": "stdout",
     "output_type": "stream",
     "text": [
      "Our train data has 144 unique mutation groups\n"
     ]
    }
   ],
   "source": [
    "print('Our train data has',train.PDB.nunique(),'unique mutation groups')"
   ]
  },
  {
   "cell_type": "code",
   "execution_count": 18,
   "id": "97cd8dfb",
   "metadata": {
    "execution": {
     "iopub.execute_input": "2023-01-02T20:14:59.014515Z",
     "iopub.status.busy": "2023-01-02T20:14:59.012801Z",
     "iopub.status.idle": "2023-01-02T20:14:59.026431Z",
     "shell.execute_reply": "2023-01-02T20:14:59.025273Z"
    },
    "papermill": {
     "duration": 0.029208,
     "end_time": "2023-01-02T20:14:59.028763",
     "exception": false,
     "start_time": "2023-01-02T20:14:58.999555",
     "status": "completed"
    },
    "tags": []
   },
   "outputs": [
    {
     "data": {
      "text/plain": [
       "count    10116.000000\n",
       "mean         0.507117\n",
       "std          0.288414\n",
       "min          0.002070\n",
       "25%          0.257732\n",
       "50%          0.509579\n",
       "75%          0.758621\n",
       "max          1.000000\n",
       "Name: target, dtype: float64"
      ]
     },
     "execution_count": 18,
     "metadata": {},
     "output_type": "execute_result"
    }
   ],
   "source": [
    "train.target.describe()"
   ]
  },
  {
   "cell_type": "markdown",
   "id": "3fdfaac2",
   "metadata": {
    "papermill": {
     "duration": 0.012202,
     "end_time": "2023-01-02T20:14:59.054099",
     "exception": false,
     "start_time": "2023-01-02T20:14:59.041897",
     "status": "completed"
    },
    "tags": []
   },
   "source": [
    "# CV split"
   ]
  },
  {
   "cell_type": "code",
   "execution_count": 19,
   "id": "3449a8b4",
   "metadata": {
    "execution": {
     "iopub.execute_input": "2023-01-02T20:14:59.080306Z",
     "iopub.status.busy": "2023-01-02T20:14:59.079263Z",
     "iopub.status.idle": "2023-01-02T20:14:59.084394Z",
     "shell.execute_reply": "2023-01-02T20:14:59.083422Z"
    },
    "papermill": {
     "duration": 0.020271,
     "end_time": "2023-01-02T20:14:59.086511",
     "exception": false,
     "start_time": "2023-01-02T20:14:59.066240",
     "status": "completed"
    },
    "tags": []
   },
   "outputs": [],
   "source": [
    "from sklearn.model_selection import GroupKFold"
   ]
  },
  {
   "cell_type": "code",
   "execution_count": 20,
   "id": "96957d5e",
   "metadata": {
    "execution": {
     "iopub.execute_input": "2023-01-02T20:14:59.112480Z",
     "iopub.status.busy": "2023-01-02T20:14:59.111637Z",
     "iopub.status.idle": "2023-01-02T20:14:59.132209Z",
     "shell.execute_reply": "2023-01-02T20:14:59.131012Z"
    },
    "papermill": {
     "duration": 0.036022,
     "end_time": "2023-01-02T20:14:59.134566",
     "exception": false,
     "start_time": "2023-01-02T20:14:59.098544",
     "status": "completed"
    },
    "tags": []
   },
   "outputs": [
    {
     "data": {
      "text/plain": [
       "fold\n",
       "0    2024\n",
       "1    2023\n",
       "2    2023\n",
       "3    2023\n",
       "4    2023\n",
       "dtype: int64"
      ]
     },
     "metadata": {},
     "output_type": "display_data"
    }
   ],
   "source": [
    "# ====================================================\n",
    "# CV split\n",
    "# ====================================================\n",
    "Fold = GroupKFold(n_splits=CFG.n_fold) \n",
    "for n, (train_index, val_index) in enumerate(Fold.split(train, train[CFG.target_cols], train.PDB)):\n",
    "    train.loc[val_index, 'fold'] = int(n)\n",
    "train['fold'] = train['fold'].astype(int)\n",
    "display(train.groupby('fold').size())"
   ]
  },
  {
   "cell_type": "markdown",
   "id": "894e1046",
   "metadata": {
    "papermill": {
     "duration": 0.01233,
     "end_time": "2023-01-02T20:14:59.159833",
     "exception": false,
     "start_time": "2023-01-02T20:14:59.147503",
     "status": "completed"
    },
    "tags": []
   },
   "source": [
    "# Tokenizer"
   ]
  },
  {
   "cell_type": "code",
   "execution_count": 21,
   "id": "68d0dcab",
   "metadata": {
    "execution": {
     "iopub.execute_input": "2023-01-02T20:14:59.187086Z",
     "iopub.status.busy": "2023-01-02T20:14:59.186085Z",
     "iopub.status.idle": "2023-01-02T20:15:01.636138Z",
     "shell.execute_reply": "2023-01-02T20:15:01.635090Z"
    },
    "papermill": {
     "duration": 2.468237,
     "end_time": "2023-01-02T20:15:01.640588",
     "exception": false,
     "start_time": "2023-01-02T20:14:59.172351",
     "status": "completed"
    },
    "tags": []
   },
   "outputs": [
    {
     "data": {
      "application/vnd.jupyter.widget-view+json": {
       "model_id": "8f89559d0d414e9299fd3ea4263b5c2c",
       "version_major": 2,
       "version_minor": 0
      },
      "text/plain": [
       "Downloading:   0%|          | 0.00/95.0 [00:00<?, ?B/s]"
      ]
     },
     "metadata": {},
     "output_type": "display_data"
    },
    {
     "data": {
      "application/vnd.jupyter.widget-view+json": {
       "model_id": "3dc77ecdcc844c548066907c61f17e8a",
       "version_major": 2,
       "version_minor": 0
      },
      "text/plain": [
       "Downloading:   0%|          | 0.00/93.0 [00:00<?, ?B/s]"
      ]
     },
     "metadata": {},
     "output_type": "display_data"
    },
    {
     "data": {
      "application/vnd.jupyter.widget-view+json": {
       "model_id": "07c0b398ced44354ac64f856b00e129c",
       "version_major": 2,
       "version_minor": 0
      },
      "text/plain": [
       "Downloading:   0%|          | 0.00/125 [00:00<?, ?B/s]"
      ]
     },
     "metadata": {},
     "output_type": "display_data"
    }
   ],
   "source": [
    "# ====================================================\n",
    "# tokenizer\n",
    "# ====================================================\n",
    "tokenizer = AutoTokenizer.from_pretrained(CFG.model)\n",
    "tokenizer.save_pretrained(OUTPUT_DIR+'tokenizer/')\n",
    "CFG.tokenizer = tokenizer"
   ]
  },
  {
   "cell_type": "markdown",
   "id": "300d517a",
   "metadata": {
    "papermill": {
     "duration": 0.012828,
     "end_time": "2023-01-02T20:15:01.666624",
     "exception": false,
     "start_time": "2023-01-02T20:15:01.653796",
     "status": "completed"
    },
    "tags": []
   },
   "source": [
    "# Dataset"
   ]
  },
  {
   "cell_type": "code",
   "execution_count": 22,
   "id": "42b89bf6",
   "metadata": {
    "execution": {
     "iopub.execute_input": "2023-01-02T20:15:01.693785Z",
     "iopub.status.busy": "2023-01-02T20:15:01.693263Z",
     "iopub.status.idle": "2023-01-02T20:15:01.704989Z",
     "shell.execute_reply": "2023-01-02T20:15:01.703925Z"
    },
    "papermill": {
     "duration": 0.027812,
     "end_time": "2023-01-02T20:15:01.707218",
     "exception": false,
     "start_time": "2023-01-02T20:15:01.679406",
     "status": "completed"
    },
    "tags": []
   },
   "outputs": [],
   "source": [
    "# ====================================================\n",
    "# Dataset\n",
    "# ====================================================\n",
    "def prepare_input(cfg, text):\n",
    "    inputs = cfg.tokenizer.encode_plus(\n",
    "        text, \n",
    "        return_tensors=None, \n",
    "        add_special_tokens=True, \n",
    "        max_length=cfg.max_len,\n",
    "        pad_to_max_length=True,\n",
    "        truncation=True\n",
    "    )\n",
    "    for k, v in inputs.items():\n",
    "        inputs[k] = torch.tensor(v, dtype=torch.long)\n",
    "    return inputs\n",
    "\n",
    "\n",
    "class TrainDataset(Dataset):\n",
    "    def __init__(self, cfg, df):\n",
    "        self.cfg = cfg\n",
    "        self.texts1 = df['sequence'].values\n",
    "        self.texts2 = df['mutant_seq'].values\n",
    "        self.labels = df[cfg.target_cols].values\n",
    "        self.position = df['position'].values\n",
    "\n",
    "    def __len__(self):\n",
    "        return len(self.texts1)\n",
    "\n",
    "    def __getitem__(self, item):\n",
    "        inputs1 = prepare_input(self.cfg, self.texts1[item])\n",
    "        inputs2 = prepare_input(self.cfg, self.texts2[item])\n",
    "        position = np.zeros(self.cfg.max_len)\n",
    "        position[self.position[item]] = 1\n",
    "        position = torch.tensor(position, dtype=torch.int)\n",
    "        label = torch.tensor(self.labels[item], dtype=torch.float)\n",
    "        return inputs1, inputs2, position, label\n",
    "    \n",
    "\n",
    "def collate(inputs):\n",
    "    mask_len = int(inputs[\"attention_mask\"].sum(axis=1).max())\n",
    "    for k, v in inputs.items():\n",
    "        inputs[k] = inputs[k][:,:mask_len]\n",
    "    return inputs"
   ]
  },
  {
   "cell_type": "markdown",
   "id": "0e1a0a33",
   "metadata": {
    "papermill": {
     "duration": 0.013075,
     "end_time": "2023-01-02T20:15:01.733219",
     "exception": false,
     "start_time": "2023-01-02T20:15:01.720144",
     "status": "completed"
    },
    "tags": []
   },
   "source": [
    "# Model\n",
    "The model architecture takes both wild type sequence and mutation sequence and location of mutation as input. Then it subtracts their embeddings and concatenates that with their individual embeddings. It does this with both single mutation token position and mean pooling of entire sequence. Finally a dense layer makes the regression prediction. See the model architecture below."
   ]
  },
  {
   "cell_type": "code",
   "execution_count": 23,
   "id": "12299c2b",
   "metadata": {
    "execution": {
     "iopub.execute_input": "2023-01-02T20:15:01.761654Z",
     "iopub.status.busy": "2023-01-02T20:15:01.761343Z",
     "iopub.status.idle": "2023-01-02T20:15:01.784170Z",
     "shell.execute_reply": "2023-01-02T20:15:01.783140Z"
    },
    "papermill": {
     "duration": 0.03998,
     "end_time": "2023-01-02T20:15:01.786475",
     "exception": false,
     "start_time": "2023-01-02T20:15:01.746495",
     "status": "completed"
    },
    "tags": []
   },
   "outputs": [],
   "source": [
    "CFG.dropout_rate=0.06297340526648805\n",
    "CFG.dense_layer_size=74\n",
    "# ====================================================\n",
    "# Model\n",
    "# ====================================================\n",
    "class MeanPooling(nn.Module):\n",
    "    def __init__(self):\n",
    "        super(MeanPooling, self).__init__()\n",
    "        \n",
    "    def forward(self, last_hidden_state, attention_mask):\n",
    "        input_mask_expanded = attention_mask.unsqueeze(-1).expand(last_hidden_state.size()).float()\n",
    "        sum_embeddings = torch.sum(last_hidden_state * input_mask_expanded, 1)\n",
    "        sum_mask = input_mask_expanded.sum(1)\n",
    "        sum_mask = torch.clamp(sum_mask, min=1e-9)\n",
    "        mean_embeddings = sum_embeddings / sum_mask\n",
    "        return mean_embeddings\n",
    "\n",
    "    \n",
    "class AttentionPooling(nn.Module):\n",
    "    def __init__(self, in_dim=1280):\n",
    "        super().__init__()\n",
    "        self.attention = nn.Sequential(\n",
    "        nn.Linear(in_dim, in_dim),\n",
    "        nn.LayerNorm(in_dim),\n",
    "        nn.GELU(),\n",
    "        nn.Linear(in_dim, 1),\n",
    "        )\n",
    "\n",
    "    def forward(self, last_hidden_state, attention_mask):\n",
    "        w = self.attention(last_hidden_state).float()\n",
    "        w[attention_mask==0]=float('-inf')\n",
    "        w = torch.softmax(w,1)\n",
    "        attention_embeddings = torch.sum(w * last_hidden_state, dim=1)\n",
    "        return attention_embeddings\n",
    "    \n",
    "\n",
    "class CustomModel(nn.Module):\n",
    "    def __init__(self, cfg, config_path=None, pretrained=False):\n",
    "        super().__init__()\n",
    "        self.cfg = cfg\n",
    "        if config_path is None:\n",
    "            self.config = AutoConfig.from_pretrained(cfg.model, output_hidden_states=True)\n",
    "            self.config.hidden_dropout = 0.\n",
    "            self.config.hidden_dropout_prob = 0.\n",
    "            self.config.attention_dropout = 0.\n",
    "            self.config.attention_probs_dropout_prob = 0.\n",
    "        else:\n",
    "            self.config = torch.load(config_path)\n",
    "            #self.config = AutoConfig.from_pretrained(config_path)\n",
    "        if pretrained:\n",
    "            self.model = AutoModel.from_pretrained(cfg.model, config=self.config)\n",
    "        else:\n",
    "            self.model = AutoModel.from_config(self.config)\n",
    "            \n",
    "        if self.cfg.gradient_checkpointing:\n",
    "            self.model.gradient_checkpointing_enable()\n",
    "        self.pool = AttentionPooling()#MeanPooling()\n",
    "        self.fc1 = nn.Linear(self.config.hidden_size, self.cfg.pca_dim)\n",
    "        #self.fc2 = nn.Linear(self.cfg.pca_dim*6, 1)\n",
    "        self._init_weights(self.fc1)\n",
    "        #self._init_weights(self.fc2)\n",
    "        self.activation = nn.ReLU()\n",
    "        self.dropout1=nn.Dropout(p=CFG.dropout_rate)\n",
    "        self.fc2=nn.Linear(in_features=self.cfg.pca_dim*6, out_features=CFG.dense_layer_size)\n",
    "        self.fc3=nn.Linear(in_features=CFG.dense_layer_size, out_features=1)\n",
    "        self._init_weights(self.fc2)\n",
    "        self._init_weights(self.fc3)\n",
    "        \n",
    "      \n",
    "        \n",
    "    def _init_weights(self, module):\n",
    "        if isinstance(module, nn.Linear):\n",
    "            module.weight.data.normal_(mean=0.0, std=self.config.initializer_range)\n",
    "            if module.bias is not None:\n",
    "                module.bias.data.zero_()\n",
    "        elif isinstance(module, nn.Embedding):\n",
    "            module.weight.data.normal_(mean=0.0, std=self.config.initializer_range)\n",
    "            if module.padding_idx is not None:\n",
    "                module.weight.data[module.padding_idx].zero_()\n",
    "        elif isinstance(module, nn.LayerNorm):\n",
    "            module.bias.data.zero_()\n",
    "            module.weight.data.fill_(1.0)\n",
    "        \n",
    "    def feature(self, inputs, position):\n",
    "        outputs = self.model(**inputs)\n",
    "        last_hidden_states = outputs[0]\n",
    "        feature = self.pool(last_hidden_states, position)\n",
    "        return feature\n",
    "\n",
    "    def forward(self, inputs1, inputs2, position):\n",
    "        feature1 = self.feature(inputs1, position)\n",
    "        feature2 = self.feature(inputs2, position)\n",
    "        \n",
    "        feature1_2=self.fc1(feature2 - feature1)\n",
    "        \n",
    "        feature1=self.fc1(feature1)\n",
    "        feature2=self.fc1(feature2)\n",
    "        \n",
    "        feature3 = self.feature(inputs1, inputs1['attention_mask'])\n",
    "        feature4 = self.feature(inputs2, inputs2['attention_mask'])\n",
    "        \n",
    "        feature3_4=self.fc1(feature4 - feature3)\n",
    "        \n",
    "        feature3=self.fc1(feature3)\n",
    "        feature4=self.fc1(feature4)\n",
    "        \n",
    "        feature = torch.cat((feature1, feature2, feature1_2,\n",
    "                             feature3, feature4, feature3_4),axis=-1)\n",
    "\n",
    "        output = self.dropout1(feature)\n",
    "        output=self.fc2(output)\n",
    "        output=self.activation(output)\n",
    "        output=self.dropout1(output)\n",
    "        output=self.fc3(output)\n",
    "        return output"
   ]
  },
  {
   "cell_type": "markdown",
   "id": "bdb44cd0",
   "metadata": {
    "papermill": {
     "duration": 0.012973,
     "end_time": "2023-01-02T20:15:01.813114",
     "exception": false,
     "start_time": "2023-01-02T20:15:01.800141",
     "status": "completed"
    },
    "tags": []
   },
   "source": [
    "# Loss"
   ]
  },
  {
   "cell_type": "code",
   "execution_count": 24,
   "id": "0a69d040",
   "metadata": {
    "execution": {
     "iopub.execute_input": "2023-01-02T20:15:01.840691Z",
     "iopub.status.busy": "2023-01-02T20:15:01.839664Z",
     "iopub.status.idle": "2023-01-02T20:15:01.850040Z",
     "shell.execute_reply": "2023-01-02T20:15:01.849016Z"
    },
    "papermill": {
     "duration": 0.026309,
     "end_time": "2023-01-02T20:15:01.852240",
     "exception": false,
     "start_time": "2023-01-02T20:15:01.825931",
     "status": "completed"
    },
    "tags": []
   },
   "outputs": [],
   "source": [
    "# ====================================================\n",
    "# Loss\n",
    "# ====================================================\n",
    "class RMSELoss(nn.Module):\n",
    "    def __init__(self, reduction='mean', eps=1e-9):\n",
    "        super().__init__()\n",
    "        self.mse = nn.MSELoss(reduction='none')\n",
    "        self.reduction = reduction\n",
    "        self.eps = eps\n",
    "\n",
    "    def forward(self, y_pred, y_true):\n",
    "        loss = torch.sqrt(self.mse(y_pred, y_true) + self.eps)\n",
    "        if self.reduction == 'none':\n",
    "            loss = loss\n",
    "        elif self.reduction == 'sum':\n",
    "            loss = loss.sum()\n",
    "        elif self.reduction == 'mean':\n",
    "            loss = loss.mean()\n",
    "        return loss\n",
    "\n",
    "def MCRMSE(y_trues, y_preds):\n",
    "    scores = []\n",
    "    idxes = y_trues.shape[1]\n",
    "    for i in range(idxes):\n",
    "        y_true = y_trues[:,i]\n",
    "        y_pred = y_preds[:,i]\n",
    "        score = mean_squared_error(y_true, y_pred, squared=False) # RMSE\n",
    "        scores.append(score)\n",
    "    mcrmse_score = np.mean(scores)\n",
    "    return mcrmse_score, scores\n",
    "\n",
    "\n",
    "def get_score(y_trues, y_preds):\n",
    "    mcrmse_score, _ = MCRMSE(y_trues, y_preds)\n",
    "    return mcrmse_score\n",
    "\n",
    "from scipy.stats import spearmanr\n",
    "    \n",
    "    \n",
    "# def get_score(y_trues, y_preds):\n",
    "#     score = np.abs( spearmanr( y_trues, y_preds ).correlation )\n",
    "#     return score"
   ]
  },
  {
   "cell_type": "markdown",
   "id": "beab18bb",
   "metadata": {
    "papermill": {
     "duration": 0.012599,
     "end_time": "2023-01-02T20:15:01.877717",
     "exception": false,
     "start_time": "2023-01-02T20:15:01.865118",
     "status": "completed"
    },
    "tags": []
   },
   "source": [
    "# Helpler functions"
   ]
  },
  {
   "cell_type": "code",
   "execution_count": 25,
   "id": "7e5ffb01",
   "metadata": {
    "execution": {
     "iopub.execute_input": "2023-01-02T20:15:01.905324Z",
     "iopub.status.busy": "2023-01-02T20:15:01.904987Z",
     "iopub.status.idle": "2023-01-02T20:15:01.927542Z",
     "shell.execute_reply": "2023-01-02T20:15:01.926670Z"
    },
    "papermill": {
     "duration": 0.03891,
     "end_time": "2023-01-02T20:15:01.929739",
     "exception": false,
     "start_time": "2023-01-02T20:15:01.890829",
     "status": "completed"
    },
    "tags": []
   },
   "outputs": [],
   "source": [
    "# ====================================================\n",
    "# Helper functions\n",
    "# ====================================================\n",
    "class AverageMeter(object):\n",
    "    \"\"\"Computes and stores the average and current value\"\"\"\n",
    "    def __init__(self):\n",
    "        self.reset()\n",
    "\n",
    "    def reset(self):\n",
    "        self.val = 0\n",
    "        self.avg = 0\n",
    "        self.sum = 0\n",
    "        self.count = 0\n",
    "\n",
    "    def update(self, val, n=1):\n",
    "        self.val = val\n",
    "        self.sum += val * n\n",
    "        self.count += n\n",
    "        self.avg = self.sum / self.count\n",
    "\n",
    "\n",
    "def asMinutes(s):\n",
    "    m = math.floor(s / 60)\n",
    "    s -= m * 60\n",
    "    return '%dm %ds' % (m, s)\n",
    "\n",
    "\n",
    "def timeSince(since, percent):\n",
    "    now = time.time()\n",
    "    s = now - since\n",
    "    es = s / (percent)\n",
    "    rs = es - s\n",
    "    return '%s (remain %s)' % (asMinutes(s), asMinutes(rs))\n",
    "\n",
    "\n",
    "def train_fn(fold, train_loader, model, criterion, optimizer, epoch, scheduler, device):\n",
    "    model.train()\n",
    "    scaler = torch.cuda.amp.GradScaler(enabled=CFG.apex)\n",
    "    losses = AverageMeter()\n",
    "    start = end = time.time()\n",
    "    global_step = 0\n",
    "    for step, (inputs1, inputs2, position, labels) in enumerate(train_loader):\n",
    "        #inputs1 = collate(inputs1)\n",
    "        for k, v in inputs1.items():\n",
    "            inputs1[k] = v.to(device)\n",
    "        #inputs2 = collate(inputs2)\n",
    "        for k, v in inputs2.items():\n",
    "            inputs2[k] = v.to(device)\n",
    "        position = position.to(device)\n",
    "        labels = labels.to(device)\n",
    "        batch_size = labels.size(0)\n",
    "        with torch.cuda.amp.autocast(enabled=CFG.apex):\n",
    "            y_preds = model(inputs1,inputs2,position)\n",
    "            loss = criterion(y_preds, labels)\n",
    "        if CFG.gradient_accumulation_steps > 1:\n",
    "            loss = loss / CFG.gradient_accumulation_steps\n",
    "        losses.update(loss.item(), batch_size)\n",
    "        scaler.scale(loss).backward()\n",
    "        grad_norm = torch.nn.utils.clip_grad_norm_(model.parameters(), CFG.max_grad_norm)\n",
    "        if (step + 1) % CFG.gradient_accumulation_steps == 0:\n",
    "            scaler.step(optimizer)\n",
    "            scaler.update()\n",
    "            optimizer.zero_grad()\n",
    "            global_step += 1\n",
    "            if CFG.batch_scheduler:\n",
    "                scheduler.step()\n",
    "        end = time.time()\n",
    "        if step % CFG.print_freq == 0 or step == (len(train_loader)-1):\n",
    "            print('Epoch: [{0}][{1}/{2}] '\n",
    "                  'Elapsed {remain:s} '\n",
    "                  'Loss: {loss.val:.4f}({loss.avg:.4f}) '\n",
    "                  'Grad: {grad_norm:.4f}  '\n",
    "                  'LR: {lr:.8f}  '\n",
    "                  .format(epoch+1, step, len(train_loader), \n",
    "                          remain=timeSince(start, float(step+1)/len(train_loader)),\n",
    "                          loss=losses,\n",
    "                          grad_norm=grad_norm,\n",
    "                          lr=scheduler.get_lr()[0]))\n",
    "    return losses.avg\n",
    "\n",
    "\n",
    "def valid_fn(valid_loader, model, criterion, device):\n",
    "    losses = AverageMeter()\n",
    "    model.eval()\n",
    "    preds = []\n",
    "    start = end = time.time()\n",
    "    for step, (inputs1, inputs2, position, labels) in enumerate(valid_loader):\n",
    "        #inputs = collate(inputs)\n",
    "        for k, v in inputs1.items():\n",
    "            inputs1[k] = v.to(device)\n",
    "        for k, v in inputs2.items():\n",
    "            inputs2[k] = v.to(device)\n",
    "        position = position.to(device)\n",
    "        labels = labels.to(device)\n",
    "        batch_size = labels.size(0)\n",
    "        with torch.no_grad():\n",
    "            y_preds = model(inputs1,inputs2,position)\n",
    "            loss = criterion(y_preds, labels)\n",
    "        if CFG.gradient_accumulation_steps > 1:\n",
    "            loss = loss / CFG.gradient_accumulation_steps\n",
    "        losses.update(loss.item(), batch_size)\n",
    "        preds.append(y_preds.to('cpu').numpy())\n",
    "        end = time.time()\n",
    "        if step % CFG.print_freq == 0 or step == (len(valid_loader)-1):\n",
    "            print('EVAL: [{0}/{1}] '\n",
    "                  'Elapsed {remain:s} '\n",
    "                  'Loss: {loss.val:.4f}({loss.avg:.4f}) '\n",
    "                  .format(step, len(valid_loader),\n",
    "                          loss=losses,\n",
    "                          remain=timeSince(start, float(step+1)/len(valid_loader))))\n",
    "    predictions = np.concatenate(preds)\n",
    "    return losses.avg, predictions"
   ]
  },
  {
   "cell_type": "markdown",
   "id": "6fd863d7",
   "metadata": {
    "papermill": {
     "duration": 0.013058,
     "end_time": "2023-01-02T20:15:01.955908",
     "exception": false,
     "start_time": "2023-01-02T20:15:01.942850",
     "status": "completed"
    },
    "tags": []
   },
   "source": [
    "# Train loop"
   ]
  },
  {
   "cell_type": "code",
   "execution_count": 26,
   "id": "76b5403a",
   "metadata": {
    "execution": {
     "iopub.execute_input": "2023-01-02T20:15:01.985144Z",
     "iopub.status.busy": "2023-01-02T20:15:01.984369Z",
     "iopub.status.idle": "2023-01-02T20:15:02.009020Z",
     "shell.execute_reply": "2023-01-02T20:15:02.008041Z"
    },
    "papermill": {
     "duration": 0.042017,
     "end_time": "2023-01-02T20:15:02.011491",
     "exception": false,
     "start_time": "2023-01-02T20:15:01.969474",
     "status": "completed"
    },
    "tags": []
   },
   "outputs": [],
   "source": [
    "# ====================================================\n",
    "# train loop\n",
    "# ====================================================\n",
    "def train_loop(folds, fold):\n",
    "    \n",
    "    LOGGER.info(f\"========== fold: {fold} training ==========\")\n",
    "\n",
    "    # ====================================================\n",
    "    # loader\n",
    "    # ====================================================\n",
    "    train_folds = folds[folds['fold'] != fold].reset_index(drop=True)\n",
    "    valid_folds = folds[folds['fold'] == fold].reset_index(drop=True)\n",
    "    valid_labels = valid_folds[CFG.target_cols].values\n",
    "    print('### train shape:',train_folds.shape)\n",
    "    \n",
    "    train_dataset = TrainDataset(CFG, train_folds)\n",
    "    valid_dataset = TrainDataset(CFG, valid_folds)\n",
    "\n",
    "    train_loader = DataLoader(train_dataset,\n",
    "                              batch_size=CFG.batch_size,\n",
    "                              shuffle=True,\n",
    "                              num_workers=CFG.num_workers, pin_memory=True, drop_last=True)\n",
    "    valid_loader = DataLoader(valid_dataset,\n",
    "                              batch_size=CFG.batch_size * 2,\n",
    "                              shuffle=False,\n",
    "                              num_workers=CFG.num_workers, pin_memory=True, drop_last=False)\n",
    "\n",
    "    # ====================================================\n",
    "    # model & optimizer\n",
    "    # ====================================================\n",
    "    model = CustomModel(CFG, config_path=None, pretrained=True)\n",
    "    torch.save(model.config, OUTPUT_DIR+'config.pth')\n",
    "    \n",
    "    # FREEZE LAYERS\n",
    "    if CFG.num_freeze_layers>0:\n",
    "        print(f'### Freezing first {CFG.num_freeze_layers} layers.',\n",
    "              f'Leaving {CFG.total_layers-CFG.num_freeze_layers} layers unfrozen')\n",
    "        for name, param in list(model.named_parameters())\\\n",
    "            [:CFG.initial_layers+CFG.layers_per_block*CFG.num_freeze_layers]:     \n",
    "                param.requires_grad = False\n",
    "    model.to(device)\n",
    "    \n",
    "    def get_optimizer_params(model, encoder_lr, decoder_lr, weight_decay=0.0):\n",
    "        param_optimizer = list(model.named_parameters())\n",
    "        no_decay = [\"bias\", \"LayerNorm.bias\", \"LayerNorm.weight\"]\n",
    "        optimizer_parameters = [\n",
    "            {'params': [p for n, p in model.model.named_parameters() if not any(nd in n for nd in no_decay)],\n",
    "             'lr': encoder_lr, 'weight_decay': weight_decay},\n",
    "            {'params': [p for n, p in model.model.named_parameters() if any(nd in n for nd in no_decay)],\n",
    "             'lr': encoder_lr, 'weight_decay': 0.0},\n",
    "            {'params': [p for n, p in model.named_parameters() if \"model\" not in n],\n",
    "             'lr': decoder_lr, 'weight_decay': 0.0}\n",
    "        ]\n",
    "        return optimizer_parameters\n",
    "\n",
    "    optimizer_parameters = get_optimizer_params(model,\n",
    "                                                encoder_lr=CFG.encoder_lr, \n",
    "                                                decoder_lr=CFG.decoder_lr,\n",
    "                                                weight_decay=CFG.weight_decay)\n",
    "    optimizer = AdamW(optimizer_parameters, lr=CFG.encoder_lr, eps=CFG.eps, betas=CFG.betas)\n",
    "    \n",
    "    # ====================================================\n",
    "    # scheduler\n",
    "    # ====================================================\n",
    "    def get_scheduler(cfg, optimizer, num_train_steps):\n",
    "        if cfg.scheduler == 'linear':\n",
    "            scheduler = get_linear_schedule_with_warmup(\n",
    "                optimizer, num_warmup_steps=cfg.num_warmup_steps, num_training_steps=num_train_steps\n",
    "            )\n",
    "        elif cfg.scheduler == 'constant':\n",
    "            scheduler = get_constant_schedule_with_warmup(\n",
    "                optimizer, num_warmup_steps=cfg.num_warmup_steps\n",
    "            )\n",
    "        elif cfg.scheduler == 'cosine':\n",
    "            scheduler = get_cosine_schedule_with_warmup(\n",
    "                optimizer, num_warmup_steps=cfg.num_warmup_steps, num_training_steps=num_train_steps, num_cycles=cfg.num_cycles\n",
    "            )\n",
    "        return scheduler\n",
    "    \n",
    "    num_train_steps = int(len(train_folds) / CFG.batch_size * CFG.epochs)\n",
    "    scheduler = get_scheduler(CFG, optimizer, num_train_steps)\n",
    "\n",
    "    # ====================================================\n",
    "    # loop\n",
    "    # ====================================================\n",
    "    criterion = RMSELoss(reduction=\"mean\") #nn.L1Loss()\n",
    "    \n",
    "    best_score = np.inf\n",
    "\n",
    "    for epoch in range(CFG.epochs):\n",
    "\n",
    "        start_time = time.time()\n",
    "\n",
    "        # train\n",
    "        avg_loss = train_fn(fold, train_loader, model, criterion, optimizer, epoch, scheduler, device)\n",
    "\n",
    "        # eval\n",
    "        avg_val_loss, predictions = valid_fn(valid_loader, model, criterion, device)\n",
    "        \n",
    "        # scoring\n",
    "        score = get_score(valid_labels, predictions)\n",
    "\n",
    "        elapsed = time.time() - start_time\n",
    "\n",
    "        LOGGER.info(f'Epoch {epoch+1} - avg_train_loss: {avg_loss:.4f}  avg_val_loss: {avg_val_loss:.4f}  time: {elapsed:.0f}s')\n",
    "        LOGGER.info(f'Epoch {epoch+1} - Score: {score:.4f}')\n",
    "        \n",
    "        if  score < best_score :\n",
    "            best_score = score\n",
    "            torch.save({'model': model.state_dict(),\n",
    "                        'predictions': predictions},\n",
    "                        OUTPUT_DIR+f\"{CFG.model.replace('/', '-')}_fold{fold}_best.pth\")\n",
    "\n",
    "    predictions = torch.load(OUTPUT_DIR+f\"{CFG.model.replace('/', '-')}_fold{fold}_best.pth\", \n",
    "                             map_location=torch.device('cpu'))['predictions']\n",
    "    valid_folds[[f\"pred_{c}\" for c in CFG.target_cols]] = predictions\n",
    "\n",
    "    torch.cuda.empty_cache()\n",
    "    gc.collect()\n",
    "    \n",
    "    return valid_folds"
   ]
  },
  {
   "cell_type": "code",
   "execution_count": 27,
   "id": "865d627d",
   "metadata": {
    "execution": {
     "iopub.execute_input": "2023-01-02T20:15:02.041004Z",
     "iopub.status.busy": "2023-01-02T20:15:02.039373Z",
     "iopub.status.idle": "2023-01-03T04:35:31.027191Z",
     "shell.execute_reply": "2023-01-03T04:35:31.026174Z"
    },
    "papermill": {
     "duration": 30029.00521,
     "end_time": "2023-01-03T04:35:31.030222",
     "exception": false,
     "start_time": "2023-01-02T20:15:02.025012",
     "status": "completed"
    },
    "tags": []
   },
   "outputs": [
    {
     "name": "stderr",
     "output_type": "stream",
     "text": [
      "========== fold: 0 training ==========\n"
     ]
    },
    {
     "name": "stdout",
     "output_type": "stream",
     "text": [
      "### train shape: (8092, 13)\n"
     ]
    },
    {
     "data": {
      "application/vnd.jupyter.widget-view+json": {
       "model_id": "d7af85556d014a75b759ceb4481ac543",
       "version_major": 2,
       "version_minor": 0
      },
      "text/plain": [
       "Downloading:   0%|          | 0.00/724 [00:00<?, ?B/s]"
      ]
     },
     "metadata": {},
     "output_type": "display_data"
    },
    {
     "data": {
      "application/vnd.jupyter.widget-view+json": {
       "model_id": "03e7c490f28b4baf8fc0e3171869e6f8",
       "version_major": 2,
       "version_minor": 0
      },
      "text/plain": [
       "Downloading:   0%|          | 0.00/2.61G [00:00<?, ?B/s]"
      ]
     },
     "metadata": {},
     "output_type": "display_data"
    },
    {
     "name": "stderr",
     "output_type": "stream",
     "text": [
      "Some weights of the model checkpoint at facebook/esm2_t33_650M_UR50D were not used when initializing EsmModel: ['esm.contact_head.regression.weight', 'lm_head.dense.weight', 'lm_head.dense.bias', 'esm.contact_head.regression.bias', 'lm_head.layer_norm.weight', 'lm_head.decoder.weight', 'lm_head.layer_norm.bias', 'lm_head.bias']\n",
      "- This IS expected if you are initializing EsmModel from the checkpoint of a model trained on another task or with another architecture (e.g. initializing a BertForSequenceClassification model from a BertForPreTraining model).\n",
      "- This IS NOT expected if you are initializing EsmModel from the checkpoint of a model that you expect to be exactly identical (initializing a BertForSequenceClassification model from a BertForSequenceClassification model).\n",
      "Some weights of EsmModel were not initialized from the model checkpoint at facebook/esm2_t33_650M_UR50D and are newly initialized: ['esm.pooler.dense.bias', 'esm.pooler.dense.weight']\n",
      "You should probably TRAIN this model on a down-stream task to be able to use it for predictions and inference.\n"
     ]
    },
    {
     "name": "stdout",
     "output_type": "stream",
     "text": [
      "### Freezing first 32 layers. Leaving 1 layers unfrozen\n",
      "Epoch: [1][0/2023] Elapsed 0m 3s (remain 126m 47s) Loss: 0.5092(0.5092) Grad: inf  LR: 0.00005000  \n",
      "Epoch: [1][100/2023] Elapsed 4m 11s (remain 79m 46s) Loss: 0.3399(0.3866) Grad: 159164.2500  LR: 0.00005000  \n",
      "Epoch: [1][200/2023] Elapsed 8m 19s (remain 75m 26s) Loss: 0.3079(0.3157) Grad: 30717.3438  LR: 0.00005000  \n",
      "Epoch: [1][300/2023] Elapsed 12m 27s (remain 71m 14s) Loss: 0.3022(0.2928) Grad: 71819.7812  LR: 0.00005000  \n",
      "Epoch: [1][400/2023] Elapsed 16m 34s (remain 67m 4s) Loss: 0.2346(0.2809) Grad: 69502.7812  LR: 0.00005000  \n",
      "Epoch: [1][500/2023] Elapsed 20m 42s (remain 62m 55s) Loss: 0.3419(0.2717) Grad: 76066.7188  LR: 0.00005000  \n",
      "Epoch: [1][600/2023] Elapsed 24m 50s (remain 58m 47s) Loss: 0.1730(0.2657) Grad: 54153.8555  LR: 0.00005000  \n",
      "Epoch: [1][700/2023] Elapsed 28m 58s (remain 54m 38s) Loss: 0.2789(0.2608) Grad: 26568.4297  LR: 0.00005000  \n",
      "Epoch: [1][800/2023] Elapsed 33m 6s (remain 50m 30s) Loss: 0.1270(0.2573) Grad: 25644.1016  LR: 0.00005000  \n",
      "Epoch: [1][900/2023] Elapsed 37m 14s (remain 46m 22s) Loss: 0.3322(0.2551) Grad: 31035.7969  LR: 0.00005000  \n",
      "Epoch: [1][1000/2023] Elapsed 41m 22s (remain 42m 14s) Loss: 0.3774(0.2522) Grad: 100632.1719  LR: 0.00005000  \n",
      "Epoch: [1][1100/2023] Elapsed 45m 30s (remain 38m 6s) Loss: 0.0956(0.2499) Grad: 73318.3594  LR: 0.00005000  \n",
      "Epoch: [1][1200/2023] Elapsed 49m 38s (remain 33m 58s) Loss: 0.1429(0.2472) Grad: 85619.1797  LR: 0.00005000  \n",
      "Epoch: [1][1300/2023] Elapsed 53m 46s (remain 29m 50s) Loss: 0.1421(0.2442) Grad: 27954.1445  LR: 0.00005000  \n",
      "Epoch: [1][1400/2023] Elapsed 57m 54s (remain 25m 42s) Loss: 0.1964(0.2427) Grad: 96862.1562  LR: 0.00005000  \n",
      "Epoch: [1][1500/2023] Elapsed 62m 1s (remain 21m 34s) Loss: 0.1881(0.2407) Grad: 62943.2461  LR: 0.00005000  \n",
      "Epoch: [1][1600/2023] Elapsed 66m 9s (remain 17m 26s) Loss: 0.2560(0.2388) Grad: 143018.2812  LR: 0.00005000  \n",
      "Epoch: [1][1700/2023] Elapsed 70m 17s (remain 13m 18s) Loss: 0.1338(0.2367) Grad: 29656.0020  LR: 0.00005000  \n",
      "Epoch: [1][1800/2023] Elapsed 74m 25s (remain 9m 10s) Loss: 0.1164(0.2344) Grad: 109603.3906  LR: 0.00005000  \n",
      "Epoch: [1][1900/2023] Elapsed 78m 33s (remain 5m 2s) Loss: 0.1427(0.2318) Grad: 31372.8516  LR: 0.00005000  \n",
      "Epoch: [1][2000/2023] Elapsed 82m 41s (remain 0m 54s) Loss: 0.2573(0.2297) Grad: 62779.1641  LR: 0.00005000  \n",
      "Epoch: [1][2022/2023] Elapsed 83m 36s (remain 0m 0s) Loss: 0.1483(0.2292) Grad: 145332.1875  LR: 0.00005000  \n",
      "EVAL: [0/253] Elapsed 0m 3s (remain 16m 2s) Loss: 0.1533(0.1533) \n",
      "EVAL: [100/253] Elapsed 6m 11s (remain 9m 19s) Loss: 0.0974(0.1887) \n",
      "EVAL: [200/253] Elapsed 12m 19s (remain 3m 11s) Loss: 0.2632(0.2066) \n"
     ]
    },
    {
     "name": "stderr",
     "output_type": "stream",
     "text": [
      "Epoch 1 - avg_train_loss: 0.2292  avg_val_loss: 0.2032  time: 5947s\n",
      "Epoch 1 - Score: 0.2495\n"
     ]
    },
    {
     "name": "stdout",
     "output_type": "stream",
     "text": [
      "EVAL: [252/253] Elapsed 15m 30s (remain 0m 0s) Loss: 0.1320(0.2032) \n"
     ]
    },
    {
     "name": "stderr",
     "output_type": "stream",
     "text": [
      "========== result ==========\n",
      "Score: 0.2495 \n",
      "========== fold: 1 training ==========\n"
     ]
    },
    {
     "name": "stdout",
     "output_type": "stream",
     "text": [
      "### train shape: (8093, 13)\n"
     ]
    },
    {
     "name": "stderr",
     "output_type": "stream",
     "text": [
      "Some weights of the model checkpoint at facebook/esm2_t33_650M_UR50D were not used when initializing EsmModel: ['esm.contact_head.regression.weight', 'lm_head.dense.weight', 'lm_head.dense.bias', 'esm.contact_head.regression.bias', 'lm_head.layer_norm.weight', 'lm_head.decoder.weight', 'lm_head.layer_norm.bias', 'lm_head.bias']\n",
      "- This IS expected if you are initializing EsmModel from the checkpoint of a model trained on another task or with another architecture (e.g. initializing a BertForSequenceClassification model from a BertForPreTraining model).\n",
      "- This IS NOT expected if you are initializing EsmModel from the checkpoint of a model that you expect to be exactly identical (initializing a BertForSequenceClassification model from a BertForSequenceClassification model).\n",
      "Some weights of EsmModel were not initialized from the model checkpoint at facebook/esm2_t33_650M_UR50D and are newly initialized: ['esm.pooler.dense.bias', 'esm.pooler.dense.weight']\n",
      "You should probably TRAIN this model on a down-stream task to be able to use it for predictions and inference.\n"
     ]
    },
    {
     "name": "stdout",
     "output_type": "stream",
     "text": [
      "### Freezing first 32 layers. Leaving 1 layers unfrozen\n",
      "Epoch: [1][0/2023] Elapsed 0m 2s (remain 90m 22s) Loss: 0.4001(0.4001) Grad: inf  LR: 0.00005000  \n",
      "Epoch: [1][100/2023] Elapsed 4m 10s (remain 79m 30s) Loss: 0.1855(0.3603) Grad: 61736.1367  LR: 0.00005000  \n",
      "Epoch: [1][200/2023] Elapsed 8m 18s (remain 75m 20s) Loss: 0.1038(0.3047) Grad: 78203.1719  LR: 0.00005000  \n",
      "Epoch: [1][300/2023] Elapsed 12m 26s (remain 71m 11s) Loss: 0.2997(0.2833) Grad: 70288.4766  LR: 0.00005000  \n",
      "Epoch: [1][400/2023] Elapsed 16m 34s (remain 67m 3s) Loss: 0.3850(0.2742) Grad: 72292.6641  LR: 0.00005000  \n",
      "Epoch: [1][500/2023] Elapsed 20m 42s (remain 62m 55s) Loss: 0.1175(0.2691) Grad: 23981.3926  LR: 0.00005000  \n",
      "Epoch: [1][600/2023] Elapsed 24m 50s (remain 58m 46s) Loss: 0.3593(0.2646) Grad: 22580.0645  LR: 0.00005000  \n",
      "Epoch: [1][700/2023] Elapsed 28m 58s (remain 54m 38s) Loss: 0.1868(0.2632) Grad: 72908.4609  LR: 0.00005000  \n",
      "Epoch: [1][800/2023] Elapsed 33m 6s (remain 50m 30s) Loss: 0.3140(0.2584) Grad: 27153.5762  LR: 0.00005000  \n",
      "Epoch: [1][900/2023] Elapsed 37m 14s (remain 46m 22s) Loss: 0.0710(0.2542) Grad: 75707.8906  LR: 0.00005000  \n",
      "Epoch: [1][1000/2023] Elapsed 41m 22s (remain 42m 14s) Loss: 0.2191(0.2525) Grad: 64277.6172  LR: 0.00005000  \n",
      "Epoch: [1][1100/2023] Elapsed 45m 30s (remain 38m 6s) Loss: 0.3117(0.2500) Grad: 57271.7656  LR: 0.00005000  \n",
      "Epoch: [1][1200/2023] Elapsed 49m 38s (remain 33m 58s) Loss: 0.2468(0.2486) Grad: 114996.0156  LR: 0.00005000  \n",
      "Epoch: [1][1300/2023] Elapsed 53m 46s (remain 29m 50s) Loss: 0.1704(0.2459) Grad: 28853.1797  LR: 0.00005000  \n",
      "Epoch: [1][1400/2023] Elapsed 57m 54s (remain 25m 42s) Loss: 0.3204(0.2442) Grad: 33127.3125  LR: 0.00005000  \n",
      "Epoch: [1][1500/2023] Elapsed 62m 2s (remain 21m 34s) Loss: 0.1912(0.2412) Grad: 70757.8594  LR: 0.00005000  \n",
      "Epoch: [1][1600/2023] Elapsed 66m 10s (remain 17m 26s) Loss: 0.3491(0.2384) Grad: 26904.2734  LR: 0.00005000  \n",
      "Epoch: [1][1700/2023] Elapsed 70m 18s (remain 13m 18s) Loss: 0.2674(0.2371) Grad: 86279.0859  LR: 0.00005000  \n",
      "Epoch: [1][1800/2023] Elapsed 74m 26s (remain 9m 10s) Loss: 0.1753(0.2356) Grad: 45549.8359  LR: 0.00005000  \n",
      "Epoch: [1][1900/2023] Elapsed 78m 34s (remain 5m 2s) Loss: 0.1291(0.2332) Grad: 33991.4648  LR: 0.00005000  \n",
      "Epoch: [1][2000/2023] Elapsed 82m 42s (remain 0m 54s) Loss: 0.2218(0.2312) Grad: 61165.7539  LR: 0.00005000  \n",
      "Epoch: [1][2022/2023] Elapsed 83m 37s (remain 0m 0s) Loss: 0.2321(0.2307) Grad: 173008.0781  LR: 0.00005000  \n",
      "EVAL: [0/253] Elapsed 0m 3s (remain 16m 21s) Loss: 0.1355(0.1355) \n",
      "EVAL: [100/253] Elapsed 6m 11s (remain 9m 19s) Loss: 0.3786(0.2137) \n",
      "EVAL: [200/253] Elapsed 12m 19s (remain 3m 11s) Loss: 0.1316(0.1870) \n"
     ]
    },
    {
     "name": "stderr",
     "output_type": "stream",
     "text": [
      "Epoch 1 - avg_train_loss: 0.2307  avg_val_loss: 0.1895  time: 5948s\n",
      "Epoch 1 - Score: 0.2359\n"
     ]
    },
    {
     "name": "stdout",
     "output_type": "stream",
     "text": [
      "EVAL: [252/253] Elapsed 15m 30s (remain 0m 0s) Loss: 0.2003(0.1895) \n"
     ]
    },
    {
     "name": "stderr",
     "output_type": "stream",
     "text": [
      "========== result ==========\n",
      "Score: 0.2359 \n",
      "========== fold: 2 training ==========\n"
     ]
    },
    {
     "name": "stdout",
     "output_type": "stream",
     "text": [
      "### train shape: (8093, 13)\n"
     ]
    },
    {
     "name": "stderr",
     "output_type": "stream",
     "text": [
      "Some weights of the model checkpoint at facebook/esm2_t33_650M_UR50D were not used when initializing EsmModel: ['esm.contact_head.regression.weight', 'lm_head.dense.weight', 'lm_head.dense.bias', 'esm.contact_head.regression.bias', 'lm_head.layer_norm.weight', 'lm_head.decoder.weight', 'lm_head.layer_norm.bias', 'lm_head.bias']\n",
      "- This IS expected if you are initializing EsmModel from the checkpoint of a model trained on another task or with another architecture (e.g. initializing a BertForSequenceClassification model from a BertForPreTraining model).\n",
      "- This IS NOT expected if you are initializing EsmModel from the checkpoint of a model that you expect to be exactly identical (initializing a BertForSequenceClassification model from a BertForSequenceClassification model).\n",
      "Some weights of EsmModel were not initialized from the model checkpoint at facebook/esm2_t33_650M_UR50D and are newly initialized: ['esm.pooler.dense.bias', 'esm.pooler.dense.weight']\n",
      "You should probably TRAIN this model on a down-stream task to be able to use it for predictions and inference.\n"
     ]
    },
    {
     "name": "stdout",
     "output_type": "stream",
     "text": [
      "### Freezing first 32 layers. Leaving 1 layers unfrozen\n",
      "Epoch: [1][0/2023] Elapsed 0m 2s (remain 92m 2s) Loss: 0.6760(0.6760) Grad: inf  LR: 0.00005000  \n",
      "Epoch: [1][100/2023] Elapsed 4m 10s (remain 79m 31s) Loss: 0.2531(0.3595) Grad: 59576.6211  LR: 0.00005000  \n",
      "Epoch: [1][200/2023] Elapsed 8m 18s (remain 75m 21s) Loss: 0.1674(0.3049) Grad: 23036.2520  LR: 0.00005000  \n",
      "Epoch: [1][300/2023] Elapsed 12m 26s (remain 71m 12s) Loss: 0.2715(0.2887) Grad: 78763.4141  LR: 0.00005000  \n",
      "Epoch: [1][400/2023] Elapsed 16m 34s (remain 67m 3s) Loss: 0.3010(0.2771) Grad: 23795.3789  LR: 0.00005000  \n",
      "Epoch: [1][500/2023] Elapsed 20m 42s (remain 62m 55s) Loss: 0.3171(0.2686) Grad: 28203.3750  LR: 0.00005000  \n",
      "Epoch: [1][600/2023] Elapsed 24m 50s (remain 58m 47s) Loss: 0.4286(0.2654) Grad: 73638.0469  LR: 0.00005000  \n",
      "Epoch: [1][700/2023] Elapsed 28m 58s (remain 54m 39s) Loss: 0.4572(0.2612) Grad: 22822.7363  LR: 0.00005000  \n",
      "Epoch: [1][800/2023] Elapsed 33m 6s (remain 50m 31s) Loss: 0.0605(0.2575) Grad: 135255.0781  LR: 0.00005000  \n",
      "Epoch: [1][900/2023] Elapsed 37m 14s (remain 46m 23s) Loss: 0.2393(0.2555) Grad: 23602.1836  LR: 0.00005000  \n",
      "Epoch: [1][1000/2023] Elapsed 41m 22s (remain 42m 15s) Loss: 0.1657(0.2524) Grad: 28667.0332  LR: 0.00005000  \n",
      "Epoch: [1][1100/2023] Elapsed 45m 31s (remain 38m 7s) Loss: 0.1908(0.2496) Grad: 65758.6406  LR: 0.00005000  \n",
      "Epoch: [1][1200/2023] Elapsed 49m 39s (remain 33m 58s) Loss: 0.3945(0.2473) Grad: 35087.8477  LR: 0.00005000  \n",
      "Epoch: [1][1300/2023] Elapsed 53m 47s (remain 29m 50s) Loss: 0.2181(0.2449) Grad: 31979.7246  LR: 0.00005000  \n",
      "Epoch: [1][1400/2023] Elapsed 57m 55s (remain 25m 42s) Loss: 0.2245(0.2422) Grad: 87381.1094  LR: 0.00005000  \n",
      "Epoch: [1][1500/2023] Elapsed 62m 3s (remain 21m 34s) Loss: 0.1490(0.2403) Grad: 42875.1953  LR: 0.00005000  \n",
      "Epoch: [1][1600/2023] Elapsed 66m 11s (remain 17m 26s) Loss: 0.0785(0.2374) Grad: 66184.9844  LR: 0.00005000  \n",
      "Epoch: [1][1700/2023] Elapsed 70m 19s (remain 13m 18s) Loss: 0.2769(0.2351) Grad: 88178.8516  LR: 0.00005000  \n",
      "Epoch: [1][1800/2023] Elapsed 74m 27s (remain 9m 10s) Loss: 0.2361(0.2337) Grad: 36842.5156  LR: 0.00005000  \n",
      "Epoch: [1][1900/2023] Elapsed 78m 35s (remain 5m 2s) Loss: 0.3850(0.2315) Grad: 42865.7422  LR: 0.00005000  \n",
      "Epoch: [1][2000/2023] Elapsed 82m 43s (remain 0m 54s) Loss: 0.0991(0.2297) Grad: 79397.7656  LR: 0.00005000  \n",
      "Epoch: [1][2022/2023] Elapsed 83m 37s (remain 0m 0s) Loss: 0.3345(0.2293) Grad: 67967.0781  LR: 0.00005000  \n",
      "EVAL: [0/253] Elapsed 0m 3s (remain 16m 25s) Loss: 0.2063(0.2063) \n",
      "EVAL: [100/253] Elapsed 6m 11s (remain 9m 19s) Loss: 0.3183(0.1943) \n",
      "EVAL: [200/253] Elapsed 12m 18s (remain 3m 11s) Loss: 0.1969(0.1817) \n"
     ]
    },
    {
     "name": "stderr",
     "output_type": "stream",
     "text": [
      "Epoch 1 - avg_train_loss: 0.2293  avg_val_loss: 0.1832  time: 5948s\n",
      "Epoch 1 - Score: 0.2332\n"
     ]
    },
    {
     "name": "stdout",
     "output_type": "stream",
     "text": [
      "EVAL: [252/253] Elapsed 15m 29s (remain 0m 0s) Loss: 0.2193(0.1832) \n"
     ]
    },
    {
     "name": "stderr",
     "output_type": "stream",
     "text": [
      "========== result ==========\n",
      "Score: 0.2332 \n",
      "========== fold: 3 training ==========\n"
     ]
    },
    {
     "name": "stdout",
     "output_type": "stream",
     "text": [
      "### train shape: (8093, 13)\n"
     ]
    },
    {
     "name": "stderr",
     "output_type": "stream",
     "text": [
      "Some weights of the model checkpoint at facebook/esm2_t33_650M_UR50D were not used when initializing EsmModel: ['esm.contact_head.regression.weight', 'lm_head.dense.weight', 'lm_head.dense.bias', 'esm.contact_head.regression.bias', 'lm_head.layer_norm.weight', 'lm_head.decoder.weight', 'lm_head.layer_norm.bias', 'lm_head.bias']\n",
      "- This IS expected if you are initializing EsmModel from the checkpoint of a model trained on another task or with another architecture (e.g. initializing a BertForSequenceClassification model from a BertForPreTraining model).\n",
      "- This IS NOT expected if you are initializing EsmModel from the checkpoint of a model that you expect to be exactly identical (initializing a BertForSequenceClassification model from a BertForSequenceClassification model).\n",
      "Some weights of EsmModel were not initialized from the model checkpoint at facebook/esm2_t33_650M_UR50D and are newly initialized: ['esm.pooler.dense.bias', 'esm.pooler.dense.weight']\n",
      "You should probably TRAIN this model on a down-stream task to be able to use it for predictions and inference.\n"
     ]
    },
    {
     "name": "stdout",
     "output_type": "stream",
     "text": [
      "### Freezing first 32 layers. Leaving 1 layers unfrozen\n",
      "Epoch: [1][0/2023] Elapsed 0m 2s (remain 91m 29s) Loss: 0.3406(0.3406) Grad: inf  LR: 0.00005000  \n",
      "Epoch: [1][100/2023] Elapsed 4m 10s (remain 79m 33s) Loss: 0.2276(0.3848) Grad: 69043.6719  LR: 0.00005000  \n",
      "Epoch: [1][200/2023] Elapsed 8m 18s (remain 75m 22s) Loss: 0.3040(0.3233) Grad: 26635.7285  LR: 0.00005000  \n",
      "Epoch: [1][300/2023] Elapsed 12m 27s (remain 71m 13s) Loss: 0.3587(0.2995) Grad: 77700.1250  LR: 0.00005000  \n",
      "Epoch: [1][400/2023] Elapsed 16m 35s (remain 67m 5s) Loss: 0.2342(0.2845) Grad: 23363.1387  LR: 0.00005000  \n",
      "Epoch: [1][500/2023] Elapsed 20m 43s (remain 62m 56s) Loss: 0.3028(0.2768) Grad: 26719.2305  LR: 0.00005000  \n",
      "Epoch: [1][600/2023] Elapsed 24m 51s (remain 58m 48s) Loss: 0.1322(0.2695) Grad: 71575.7109  LR: 0.00005000  \n",
      "Epoch: [1][700/2023] Elapsed 28m 59s (remain 54m 40s) Loss: 0.2584(0.2647) Grad: 138898.7500  LR: 0.00005000  \n",
      "Epoch: [1][800/2023] Elapsed 33m 7s (remain 50m 32s) Loss: 0.2111(0.2612) Grad: 162926.8906  LR: 0.00005000  \n",
      "Epoch: [1][900/2023] Elapsed 37m 15s (remain 46m 23s) Loss: 0.1526(0.2590) Grad: 28856.3906  LR: 0.00005000  \n",
      "Epoch: [1][1000/2023] Elapsed 41m 23s (remain 42m 15s) Loss: 0.2339(0.2556) Grad: 133984.1250  LR: 0.00005000  \n",
      "Epoch: [1][1100/2023] Elapsed 45m 31s (remain 38m 7s) Loss: 0.2615(0.2534) Grad: 72174.8203  LR: 0.00005000  \n",
      "Epoch: [1][1200/2023] Elapsed 49m 39s (remain 33m 59s) Loss: 0.1832(0.2502) Grad: 68505.3906  LR: 0.00005000  \n",
      "Epoch: [1][1300/2023] Elapsed 53m 47s (remain 29m 51s) Loss: 0.1839(0.2480) Grad: 46367.0078  LR: 0.00005000  \n",
      "Epoch: [1][1400/2023] Elapsed 57m 55s (remain 25m 43s) Loss: 0.2139(0.2450) Grad: 39842.6875  LR: 0.00005000  \n",
      "Epoch: [1][1500/2023] Elapsed 62m 4s (remain 21m 35s) Loss: 0.0958(0.2421) Grad: 48744.8516  LR: 0.00005000  \n",
      "Epoch: [1][1600/2023] Elapsed 66m 12s (remain 17m 26s) Loss: 0.2275(0.2389) Grad: 146571.7031  LR: 0.00005000  \n",
      "Epoch: [1][1700/2023] Elapsed 70m 20s (remain 13m 18s) Loss: 0.1756(0.2359) Grad: 34216.6680  LR: 0.00005000  \n",
      "Epoch: [1][1800/2023] Elapsed 74m 28s (remain 9m 10s) Loss: 0.1708(0.2331) Grad: 42966.5195  LR: 0.00005000  \n",
      "Epoch: [1][1900/2023] Elapsed 78m 36s (remain 5m 2s) Loss: 0.1531(0.2306) Grad: 70361.4766  LR: 0.00005000  \n",
      "Epoch: [1][2000/2023] Elapsed 82m 44s (remain 0m 54s) Loss: 0.2407(0.2284) Grad: 67113.8984  LR: 0.00005000  \n",
      "Epoch: [1][2022/2023] Elapsed 83m 38s (remain 0m 0s) Loss: 0.2549(0.2278) Grad: 43231.1797  LR: 0.00005000  \n",
      "EVAL: [0/253] Elapsed 0m 3s (remain 16m 33s) Loss: 0.2006(0.2006) \n",
      "EVAL: [100/253] Elapsed 6m 11s (remain 9m 19s) Loss: 0.2120(0.2087) \n",
      "EVAL: [200/253] Elapsed 12m 18s (remain 3m 11s) Loss: 0.1305(0.2007) \n"
     ]
    },
    {
     "name": "stderr",
     "output_type": "stream",
     "text": [
      "Epoch 1 - avg_train_loss: 0.2278  avg_val_loss: 0.2011  time: 5949s\n",
      "Epoch 1 - Score: 0.2477\n"
     ]
    },
    {
     "name": "stdout",
     "output_type": "stream",
     "text": [
      "EVAL: [252/253] Elapsed 15m 29s (remain 0m 0s) Loss: 0.1513(0.2011) \n"
     ]
    },
    {
     "name": "stderr",
     "output_type": "stream",
     "text": [
      "========== result ==========\n",
      "Score: 0.2477 \n",
      "========== fold: 4 training ==========\n"
     ]
    },
    {
     "name": "stdout",
     "output_type": "stream",
     "text": [
      "### train shape: (8093, 13)\n"
     ]
    },
    {
     "name": "stderr",
     "output_type": "stream",
     "text": [
      "Some weights of the model checkpoint at facebook/esm2_t33_650M_UR50D were not used when initializing EsmModel: ['esm.contact_head.regression.weight', 'lm_head.dense.weight', 'lm_head.dense.bias', 'esm.contact_head.regression.bias', 'lm_head.layer_norm.weight', 'lm_head.decoder.weight', 'lm_head.layer_norm.bias', 'lm_head.bias']\n",
      "- This IS expected if you are initializing EsmModel from the checkpoint of a model trained on another task or with another architecture (e.g. initializing a BertForSequenceClassification model from a BertForPreTraining model).\n",
      "- This IS NOT expected if you are initializing EsmModel from the checkpoint of a model that you expect to be exactly identical (initializing a BertForSequenceClassification model from a BertForSequenceClassification model).\n",
      "Some weights of EsmModel were not initialized from the model checkpoint at facebook/esm2_t33_650M_UR50D and are newly initialized: ['esm.pooler.dense.bias', 'esm.pooler.dense.weight']\n",
      "You should probably TRAIN this model on a down-stream task to be able to use it for predictions and inference.\n"
     ]
    },
    {
     "name": "stdout",
     "output_type": "stream",
     "text": [
      "### Freezing first 32 layers. Leaving 1 layers unfrozen\n",
      "Epoch: [1][0/2023] Elapsed 0m 2s (remain 91m 54s) Loss: 0.4863(0.4863) Grad: inf  LR: 0.00005000  \n",
      "Epoch: [1][100/2023] Elapsed 4m 10s (remain 79m 32s) Loss: 0.2711(0.3802) Grad: 63106.6250  LR: 0.00005000  \n",
      "Epoch: [1][200/2023] Elapsed 8m 18s (remain 75m 22s) Loss: 0.2824(0.3135) Grad: 26819.5293  LR: 0.00005000  \n",
      "Epoch: [1][300/2023] Elapsed 12m 27s (remain 71m 13s) Loss: 0.2815(0.2905) Grad: 74163.4766  LR: 0.00005000  \n",
      "Epoch: [1][400/2023] Elapsed 16m 35s (remain 67m 5s) Loss: 0.2951(0.2779) Grad: 26794.8965  LR: 0.00005000  \n",
      "Epoch: [1][500/2023] Elapsed 20m 43s (remain 62m 56s) Loss: 0.1982(0.2717) Grad: 23694.3223  LR: 0.00005000  \n",
      "Epoch: [1][600/2023] Elapsed 24m 51s (remain 58m 48s) Loss: 0.1299(0.2672) Grad: 36013.2695  LR: 0.00005000  \n",
      "Epoch: [1][700/2023] Elapsed 28m 59s (remain 54m 40s) Loss: 0.1266(0.2631) Grad: 27804.8281  LR: 0.00005000  \n",
      "Epoch: [1][800/2023] Elapsed 33m 7s (remain 50m 32s) Loss: 0.1873(0.2588) Grad: 29104.3906  LR: 0.00005000  \n",
      "Epoch: [1][900/2023] Elapsed 37m 15s (remain 46m 23s) Loss: 0.0824(0.2540) Grad: 80900.7891  LR: 0.00005000  \n",
      "Epoch: [1][1000/2023] Elapsed 41m 23s (remain 42m 15s) Loss: 0.3369(0.2508) Grad: 115771.1719  LR: 0.00005000  \n",
      "Epoch: [1][1100/2023] Elapsed 45m 31s (remain 38m 7s) Loss: 0.2862(0.2489) Grad: 26637.5801  LR: 0.00005000  \n",
      "Epoch: [1][1200/2023] Elapsed 49m 39s (remain 33m 59s) Loss: 0.2631(0.2469) Grad: 140746.3594  LR: 0.00005000  \n",
      "Epoch: [1][1300/2023] Elapsed 53m 47s (remain 29m 51s) Loss: 0.3155(0.2445) Grad: 62331.9922  LR: 0.00005000  \n",
      "Epoch: [1][1400/2023] Elapsed 57m 55s (remain 25m 43s) Loss: 0.2668(0.2431) Grad: 154898.9531  LR: 0.00005000  \n",
      "Epoch: [1][1500/2023] Elapsed 62m 4s (remain 21m 35s) Loss: 0.1198(0.2407) Grad: 34720.1875  LR: 0.00005000  \n",
      "Epoch: [1][1600/2023] Elapsed 66m 12s (remain 17m 27s) Loss: 0.2106(0.2379) Grad: 36903.5156  LR: 0.00005000  \n",
      "Epoch: [1][1700/2023] Elapsed 70m 20s (remain 13m 18s) Loss: 0.2715(0.2354) Grad: 90989.8359  LR: 0.00005000  \n",
      "Epoch: [1][1800/2023] Elapsed 74m 28s (remain 9m 10s) Loss: 0.1880(0.2332) Grad: 59178.0547  LR: 0.00005000  \n",
      "Epoch: [1][1900/2023] Elapsed 78m 36s (remain 5m 2s) Loss: 0.3198(0.2311) Grad: 84483.4062  LR: 0.00005000  \n",
      "Epoch: [1][2000/2023] Elapsed 82m 44s (remain 0m 54s) Loss: 0.1046(0.2286) Grad: 38771.6641  LR: 0.00005000  \n",
      "Epoch: [1][2022/2023] Elapsed 83m 39s (remain 0m 0s) Loss: 0.1502(0.2281) Grad: 72690.0156  LR: 0.00005000  \n",
      "EVAL: [0/253] Elapsed 0m 3s (remain 16m 25s) Loss: 0.1363(0.1363) \n",
      "EVAL: [100/253] Elapsed 6m 11s (remain 9m 19s) Loss: 0.2289(0.2152) \n",
      "EVAL: [200/253] Elapsed 12m 19s (remain 3m 11s) Loss: 0.2812(0.1962) \n"
     ]
    },
    {
     "name": "stderr",
     "output_type": "stream",
     "text": [
      "Epoch 1 - avg_train_loss: 0.2281  avg_val_loss: 0.1997  time: 5950s\n",
      "Epoch 1 - Score: 0.2508\n"
     ]
    },
    {
     "name": "stdout",
     "output_type": "stream",
     "text": [
      "EVAL: [252/253] Elapsed 15m 30s (remain 0m 0s) Loss: 0.1897(0.1997) \n"
     ]
    },
    {
     "name": "stderr",
     "output_type": "stream",
     "text": [
      "========== result ==========\n",
      "Score: 0.2508 \n",
      "========== CV ==========\n",
      "Score: 0.2435 \n"
     ]
    }
   ],
   "source": [
    "if __name__ == '__main__':\n",
    "    \n",
    "    def get_result(oof_df):\n",
    "        labels = oof_df[CFG.target_cols].values\n",
    "        preds = oof_df[[f\"pred_{c}\" for c in CFG.target_cols]].values\n",
    "        score = get_score(labels, preds)\n",
    "        LOGGER.info(f'Score: {score:<.4f} ')\n",
    "    \n",
    "    if CFG.train:\n",
    "        oof_df = pd.DataFrame()\n",
    "        for fold in range(CFG.n_fold):\n",
    "            if fold in CFG.trn_fold:\n",
    "                _oof_df = train_loop(train, fold)\n",
    "                oof_df = pd.concat([oof_df, _oof_df])\n",
    "                LOGGER.info(f\"========== result ==========\")\n",
    "                get_result(_oof_df)\n",
    "        oof_df = oof_df.reset_index(drop=True)\n",
    "        LOGGER.info(f\"========== CV ==========\")\n",
    "        get_result(oof_df)\n",
    "        oof_df.to_pickle(OUTPUT_DIR+'oof_df.pkl')"
   ]
  },
  {
   "cell_type": "markdown",
   "id": "6eab2d30",
   "metadata": {
    "papermill": {
     "duration": 0.023061,
     "end_time": "2023-01-03T04:35:31.078859",
     "exception": false,
     "start_time": "2023-01-03T04:35:31.055798",
     "status": "completed"
    },
    "tags": []
   },
   "source": [
    "# Compute OOF Score"
   ]
  },
  {
   "cell_type": "code",
   "execution_count": 28,
   "id": "30fe4f2b",
   "metadata": {
    "execution": {
     "iopub.execute_input": "2023-01-03T04:35:31.130617Z",
     "iopub.status.busy": "2023-01-03T04:35:31.130191Z",
     "iopub.status.idle": "2023-01-03T04:35:31.149726Z",
     "shell.execute_reply": "2023-01-03T04:35:31.147893Z"
    },
    "papermill": {
     "duration": 0.046742,
     "end_time": "2023-01-03T04:35:31.152323",
     "exception": false,
     "start_time": "2023-01-03T04:35:31.105581",
     "status": "completed"
    },
    "tags": []
   },
   "outputs": [
    {
     "data": {
      "text/html": [
       "<div>\n",
       "<style scoped>\n",
       "    .dataframe tbody tr th:only-of-type {\n",
       "        vertical-align: middle;\n",
       "    }\n",
       "\n",
       "    .dataframe tbody tr th {\n",
       "        vertical-align: top;\n",
       "    }\n",
       "\n",
       "    .dataframe thead th {\n",
       "        text-align: right;\n",
       "    }\n",
       "</style>\n",
       "<table border=\"1\" class=\"dataframe\">\n",
       "  <thead>\n",
       "    <tr style=\"text-align: right;\">\n",
       "      <th></th>\n",
       "      <th>PDB</th>\n",
       "      <th>wildtype</th>\n",
       "      <th>position</th>\n",
       "      <th>mutation</th>\n",
       "      <th>ddG</th>\n",
       "      <th>sequence</th>\n",
       "      <th>mutant_seq</th>\n",
       "      <th>source</th>\n",
       "      <th>dTm</th>\n",
       "      <th>CIF</th>\n",
       "      <th>n</th>\n",
       "      <th>target</th>\n",
       "      <th>fold</th>\n",
       "      <th>pred_target</th>\n",
       "    </tr>\n",
       "  </thead>\n",
       "  <tbody>\n",
       "    <tr>\n",
       "      <th>0</th>\n",
       "      <td>1BNI</td>\n",
       "      <td>A</td>\n",
       "      <td>30</td>\n",
       "      <td>C</td>\n",
       "      <td>-1.4250</td>\n",
       "      <td>V I N T F D G V A D Y L Q T Y H K L P D N Y I ...</td>\n",
       "      <td>V I N T F D G V A D Y L Q T Y H K L P D N Y I ...</td>\n",
       "      <td>jin_train.csv</td>\n",
       "      <td>NaN</td>\n",
       "      <td>NaN</td>\n",
       "      <td>171</td>\n",
       "      <td>0.491228</td>\n",
       "      <td>0</td>\n",
       "      <td>0.537717</td>\n",
       "    </tr>\n",
       "    <tr>\n",
       "      <th>1</th>\n",
       "      <td>1BNI</td>\n",
       "      <td>A</td>\n",
       "      <td>30</td>\n",
       "      <td>D</td>\n",
       "      <td>-0.5550</td>\n",
       "      <td>V I N T F D G V A D Y L Q T Y H K L P D N Y I ...</td>\n",
       "      <td>V I N T F D G V A D Y L Q T Y H K L P D N Y I ...</td>\n",
       "      <td>jin_train.csv</td>\n",
       "      <td>NaN</td>\n",
       "      <td>NaN</td>\n",
       "      <td>171</td>\n",
       "      <td>0.719298</td>\n",
       "      <td>0</td>\n",
       "      <td>0.582092</td>\n",
       "    </tr>\n",
       "    <tr>\n",
       "      <th>2</th>\n",
       "      <td>1BNI</td>\n",
       "      <td>A</td>\n",
       "      <td>30</td>\n",
       "      <td>E</td>\n",
       "      <td>-0.2350</td>\n",
       "      <td>V I N T F D G V A D Y L Q T Y H K L P D N Y I ...</td>\n",
       "      <td>V I N T F D G V A D Y L Q T Y H K L P D N Y I ...</td>\n",
       "      <td>jin_train.csv</td>\n",
       "      <td>NaN</td>\n",
       "      <td>NaN</td>\n",
       "      <td>171</td>\n",
       "      <td>0.812865</td>\n",
       "      <td>0</td>\n",
       "      <td>0.585378</td>\n",
       "    </tr>\n",
       "    <tr>\n",
       "      <th>3</th>\n",
       "      <td>1BNI</td>\n",
       "      <td>A</td>\n",
       "      <td>30</td>\n",
       "      <td>F</td>\n",
       "      <td>-0.5650</td>\n",
       "      <td>V I N T F D G V A D Y L Q T Y H K L P D N Y I ...</td>\n",
       "      <td>V I N T F D G V A D Y L Q T Y H K L P D N Y I ...</td>\n",
       "      <td>jin_train.csv</td>\n",
       "      <td>NaN</td>\n",
       "      <td>NaN</td>\n",
       "      <td>171</td>\n",
       "      <td>0.707602</td>\n",
       "      <td>0</td>\n",
       "      <td>0.494059</td>\n",
       "    </tr>\n",
       "    <tr>\n",
       "      <th>4</th>\n",
       "      <td>1BNI</td>\n",
       "      <td>A</td>\n",
       "      <td>30</td>\n",
       "      <td>G</td>\n",
       "      <td>-0.8425</td>\n",
       "      <td>V I N T F D G V A D Y L Q T Y H K L P D N Y I ...</td>\n",
       "      <td>V I N T F D G V A D Y L Q T Y H K L P D N Y I ...</td>\n",
       "      <td>jin_train.csv</td>\n",
       "      <td>NaN</td>\n",
       "      <td>NaN</td>\n",
       "      <td>171</td>\n",
       "      <td>0.637427</td>\n",
       "      <td>0</td>\n",
       "      <td>0.539154</td>\n",
       "    </tr>\n",
       "  </tbody>\n",
       "</table>\n",
       "</div>"
      ],
      "text/plain": [
       "    PDB wildtype  position mutation     ddG                                           sequence                                         mutant_seq         source  dTm  CIF    n    target  fold  pred_target\n",
       "0  1BNI        A        30        C -1.4250  V I N T F D G V A D Y L Q T Y H K L P D N Y I ...  V I N T F D G V A D Y L Q T Y H K L P D N Y I ...  jin_train.csv  NaN  NaN  171  0.491228     0     0.537717\n",
       "1  1BNI        A        30        D -0.5550  V I N T F D G V A D Y L Q T Y H K L P D N Y I ...  V I N T F D G V A D Y L Q T Y H K L P D N Y I ...  jin_train.csv  NaN  NaN  171  0.719298     0     0.582092\n",
       "2  1BNI        A        30        E -0.2350  V I N T F D G V A D Y L Q T Y H K L P D N Y I ...  V I N T F D G V A D Y L Q T Y H K L P D N Y I ...  jin_train.csv  NaN  NaN  171  0.812865     0     0.585378\n",
       "3  1BNI        A        30        F -0.5650  V I N T F D G V A D Y L Q T Y H K L P D N Y I ...  V I N T F D G V A D Y L Q T Y H K L P D N Y I ...  jin_train.csv  NaN  NaN  171  0.707602     0     0.494059\n",
       "4  1BNI        A        30        G -0.8425  V I N T F D G V A D Y L Q T Y H K L P D N Y I ...  V I N T F D G V A D Y L Q T Y H K L P D N Y I ...  jin_train.csv  NaN  NaN  171  0.637427     0     0.539154"
      ]
     },
     "execution_count": 28,
     "metadata": {},
     "output_type": "execute_result"
    }
   ],
   "source": [
    "oof_df.head()"
   ]
  },
  {
   "cell_type": "code",
   "execution_count": 29,
   "id": "de5073ff",
   "metadata": {
    "execution": {
     "iopub.execute_input": "2023-01-03T04:35:31.203803Z",
     "iopub.status.busy": "2023-01-03T04:35:31.203523Z",
     "iopub.status.idle": "2023-01-03T04:35:31.658244Z",
     "shell.execute_reply": "2023-01-03T04:35:31.657172Z"
    },
    "papermill": {
     "duration": 0.484417,
     "end_time": "2023-01-03T04:35:31.661237",
     "exception": false,
     "start_time": "2023-01-03T04:35:31.176820",
     "status": "completed"
    },
    "tags": []
   },
   "outputs": [
    {
     "name": "stdout",
     "output_type": "stream",
     "text": [
      "Here are CV scores for each mutation group in OOF:\n",
      "==> CV 0.5364854415420917\n"
     ]
    }
   ],
   "source": [
    "print('Here are CV scores for each mutation group in OOF:')\n",
    "from scipy.stats import spearmanr\n",
    "rs = []\n",
    "for p in oof_df.PDB.unique():\n",
    "    tmp = oof_df.loc[oof_df.PDB==p]\n",
    "    target = 'dTm'\n",
    "    if tmp.dTm.isna().sum()>len(tmp)/2: target = 'ddG'\n",
    "    r = np.abs( spearmanr( tmp.target, tmp.pred_target ).correlation )\n",
    "    rs.append(r)\n",
    "print('==> CV',np.mean(rs))"
   ]
  },
  {
   "cell_type": "markdown",
   "id": "262e3997",
   "metadata": {
    "papermill": {
     "duration": 0.033829,
     "end_time": "2023-01-03T04:35:31.732608",
     "exception": false,
     "start_time": "2023-01-03T04:35:31.698779",
     "status": "completed"
    },
    "tags": []
   },
   "source": [
    "# Infer Test Data"
   ]
  },
  {
   "cell_type": "code",
   "execution_count": 30,
   "id": "3808b66e",
   "metadata": {
    "execution": {
     "iopub.execute_input": "2023-01-03T04:35:31.806648Z",
     "iopub.status.busy": "2023-01-03T04:35:31.806076Z",
     "iopub.status.idle": "2023-01-03T04:35:31.811715Z",
     "shell.execute_reply": "2023-01-03T04:35:31.810826Z"
    },
    "papermill": {
     "duration": 0.047551,
     "end_time": "2023-01-03T04:35:31.816172",
     "exception": false,
     "start_time": "2023-01-03T04:35:31.768621",
     "status": "completed"
    },
    "tags": []
   },
   "outputs": [],
   "source": [
    "CFG.path = OUTPUT_DIR\n",
    "CFG.config_path = CFG.path+'config.pth'"
   ]
  },
  {
   "cell_type": "code",
   "execution_count": 31,
   "id": "b5abab37",
   "metadata": {
    "execution": {
     "iopub.execute_input": "2023-01-03T04:35:31.893916Z",
     "iopub.status.busy": "2023-01-03T04:35:31.893467Z",
     "iopub.status.idle": "2023-01-03T04:35:31.908437Z",
     "shell.execute_reply": "2023-01-03T04:35:31.907316Z"
    },
    "papermill": {
     "duration": 0.058392,
     "end_time": "2023-01-03T04:35:31.911293",
     "exception": false,
     "start_time": "2023-01-03T04:35:31.852901",
     "status": "completed"
    },
    "tags": []
   },
   "outputs": [],
   "source": [
    "class TestDataset(Dataset):\n",
    "    def __init__(self, cfg, df):\n",
    "        self.cfg = cfg\n",
    "        self.texts1 = df['sequence'].values\n",
    "        self.texts2 = df['mutant_seq'].values\n",
    "        self.position = df['position'].values\n",
    "\n",
    "    def __len__(self):\n",
    "        return len(self.texts1)\n",
    "\n",
    "    def __getitem__(self, item):\n",
    "        inputs1 = prepare_input(self.cfg, self.texts1[item])\n",
    "        inputs2 = prepare_input(self.cfg, self.texts2[item])\n",
    "        position = np.zeros(self.cfg.max_len)\n",
    "        position[self.position[item]] = 1\n",
    "        position = torch.tensor(position, dtype=torch.int)\n",
    "        return inputs1, inputs2, position"
   ]
  },
  {
   "cell_type": "code",
   "execution_count": 32,
   "id": "01c7ceeb",
   "metadata": {
    "execution": {
     "iopub.execute_input": "2023-01-03T04:35:31.969606Z",
     "iopub.status.busy": "2023-01-03T04:35:31.969236Z",
     "iopub.status.idle": "2023-01-03T04:35:31.976951Z",
     "shell.execute_reply": "2023-01-03T04:35:31.975920Z"
    },
    "papermill": {
     "duration": 0.037009,
     "end_time": "2023-01-03T04:35:31.979044",
     "exception": false,
     "start_time": "2023-01-03T04:35:31.942035",
     "status": "completed"
    },
    "tags": []
   },
   "outputs": [],
   "source": [
    "# ====================================================\n",
    "# inference\n",
    "# ====================================================\n",
    "def inference_fn(test_loader, model, device):\n",
    "    preds = []\n",
    "    model.eval()\n",
    "    model.to(device)\n",
    "    tk0 = tqdm(test_loader, total=len(test_loader))\n",
    "    for (inputs1,inputs2, position) in tk0:\n",
    "        for k, v in inputs1.items():\n",
    "            inputs1[k] = v.to(device)\n",
    "        for k, v in inputs2.items():\n",
    "            inputs2[k] = v.to(device)\n",
    "        position = position.to(device)\n",
    "        with torch.no_grad():\n",
    "            y_preds = model(inputs1,inputs2,position)\n",
    "        preds.append(y_preds.to('cpu').numpy())\n",
    "    predictions = np.concatenate(preds)\n",
    "    return predictions"
   ]
  },
  {
   "cell_type": "code",
   "execution_count": 33,
   "id": "2e9bc231",
   "metadata": {
    "execution": {
     "iopub.execute_input": "2023-01-03T04:35:32.107318Z",
     "iopub.status.busy": "2023-01-03T04:35:32.106964Z",
     "iopub.status.idle": "2023-01-03T04:35:32.113706Z",
     "shell.execute_reply": "2023-01-03T04:35:32.112742Z"
    },
    "papermill": {
     "duration": 0.112443,
     "end_time": "2023-01-03T04:35:32.116062",
     "exception": false,
     "start_time": "2023-01-03T04:35:32.003619",
     "status": "completed"
    },
    "tags": []
   },
   "outputs": [
    {
     "data": {
      "text/plain": [
       "221"
      ]
     },
     "execution_count": 33,
     "metadata": {},
     "output_type": "execute_result"
    }
   ],
   "source": [
    "# LOAD TEST WILDTYPE\n",
    "base = 'VPVNPEPDATSVENVALKTGSGDSQSDPIKADLEVKGQSALPFDVDCWAILCKGAPNVLQRVNEKTKNSNRDRSGANKGPFKDPQKWGIKALPPKNPSWSAQDFKSPEEYAFASSLQGGTNAILAPVNLASQNSQGGVLNGFYSANKVAQFDPSKPQQTKGTWFQITKFTGAAGPYCKALGSNDKSVCDKNKNIAGDWGFDPAKWAYQYDEKNNKFNYVGK'\n",
    "len(base)"
   ]
  },
  {
   "cell_type": "code",
   "execution_count": 34,
   "id": "7edfe46c",
   "metadata": {
    "execution": {
     "iopub.execute_input": "2023-01-03T04:35:32.166528Z",
     "iopub.status.busy": "2023-01-03T04:35:32.165709Z",
     "iopub.status.idle": "2023-01-03T04:35:32.173521Z",
     "shell.execute_reply": "2023-01-03T04:35:32.172656Z"
    },
    "papermill": {
     "duration": 0.036374,
     "end_time": "2023-01-03T04:35:32.176941",
     "exception": false,
     "start_time": "2023-01-03T04:35:32.140567",
     "status": "completed"
    },
    "tags": []
   },
   "outputs": [],
   "source": [
    "def get_test_mutation(row):\n",
    "    for i,(a,b) in enumerate(zip(row.protein_sequence,base)):\n",
    "        if a!=b: break\n",
    "    row['wildtype'] = base[i]\n",
    "    row['mutation'] = row.protein_sequence[i]\n",
    "    row['position'] = i+1\n",
    "    return row"
   ]
  },
  {
   "cell_type": "code",
   "execution_count": 35,
   "id": "acbe93aa",
   "metadata": {
    "execution": {
     "iopub.execute_input": "2023-01-03T04:35:32.229984Z",
     "iopub.status.busy": "2023-01-03T04:35:32.229607Z",
     "iopub.status.idle": "2023-01-03T04:35:36.050778Z",
     "shell.execute_reply": "2023-01-03T04:35:36.049478Z"
    },
    "papermill": {
     "duration": 3.852548,
     "end_time": "2023-01-03T04:35:36.053197",
     "exception": false,
     "start_time": "2023-01-03T04:35:32.200649",
     "status": "completed"
    },
    "tags": []
   },
   "outputs": [
    {
     "name": "stdout",
     "output_type": "stream",
     "text": [
      "Test data shape: (2413, 8)\n"
     ]
    },
    {
     "data": {
      "text/html": [
       "<div>\n",
       "<style scoped>\n",
       "    .dataframe tbody tr th:only-of-type {\n",
       "        vertical-align: middle;\n",
       "    }\n",
       "\n",
       "    .dataframe tbody tr th {\n",
       "        vertical-align: top;\n",
       "    }\n",
       "\n",
       "    .dataframe thead th {\n",
       "        text-align: right;\n",
       "    }\n",
       "</style>\n",
       "<table border=\"1\" class=\"dataframe\">\n",
       "  <thead>\n",
       "    <tr style=\"text-align: right;\">\n",
       "      <th></th>\n",
       "      <th>seq_id</th>\n",
       "      <th>mutant_seq</th>\n",
       "      <th>pH</th>\n",
       "      <th>data_source</th>\n",
       "      <th>wildtype</th>\n",
       "      <th>mutation</th>\n",
       "      <th>position</th>\n",
       "      <th>sequence</th>\n",
       "    </tr>\n",
       "  </thead>\n",
       "  <tbody>\n",
       "    <tr>\n",
       "      <th>0</th>\n",
       "      <td>31390</td>\n",
       "      <td>V P V N P E P D A T S V E N V A E K T G S G D ...</td>\n",
       "      <td>8</td>\n",
       "      <td>Novozymes</td>\n",
       "      <td>L</td>\n",
       "      <td>E</td>\n",
       "      <td>17</td>\n",
       "      <td>V P V N P E P D A T S V E N V A L K T G S G D ...</td>\n",
       "    </tr>\n",
       "    <tr>\n",
       "      <th>1</th>\n",
       "      <td>31391</td>\n",
       "      <td>V P V N P E P D A T S V E N V A K K T G S G D ...</td>\n",
       "      <td>8</td>\n",
       "      <td>Novozymes</td>\n",
       "      <td>L</td>\n",
       "      <td>K</td>\n",
       "      <td>17</td>\n",
       "      <td>V P V N P E P D A T S V E N V A L K T G S G D ...</td>\n",
       "    </tr>\n",
       "    <tr>\n",
       "      <th>2</th>\n",
       "      <td>31392</td>\n",
       "      <td>V P V N P E P D A T S V E N V A K T G S G D S ...</td>\n",
       "      <td>8</td>\n",
       "      <td>Novozymes</td>\n",
       "      <td>L</td>\n",
       "      <td>K</td>\n",
       "      <td>17</td>\n",
       "      <td>V P V N P E P D A T S V E N V A L K T G S G D ...</td>\n",
       "    </tr>\n",
       "    <tr>\n",
       "      <th>3</th>\n",
       "      <td>31393</td>\n",
       "      <td>V P V N P E P D A T S V E N V A L C T G S G D ...</td>\n",
       "      <td>8</td>\n",
       "      <td>Novozymes</td>\n",
       "      <td>K</td>\n",
       "      <td>C</td>\n",
       "      <td>18</td>\n",
       "      <td>V P V N P E P D A T S V E N V A L K T G S G D ...</td>\n",
       "    </tr>\n",
       "    <tr>\n",
       "      <th>4</th>\n",
       "      <td>31394</td>\n",
       "      <td>V P V N P E P D A T S V E N V A L F T G S G D ...</td>\n",
       "      <td>8</td>\n",
       "      <td>Novozymes</td>\n",
       "      <td>K</td>\n",
       "      <td>F</td>\n",
       "      <td>18</td>\n",
       "      <td>V P V N P E P D A T S V E N V A L K T G S G D ...</td>\n",
       "    </tr>\n",
       "  </tbody>\n",
       "</table>\n",
       "</div>"
      ],
      "text/plain": [
       "   seq_id                                         mutant_seq  pH data_source wildtype mutation  position                                           sequence\n",
       "0   31390  V P V N P E P D A T S V E N V A E K T G S G D ...   8   Novozymes        L        E        17  V P V N P E P D A T S V E N V A L K T G S G D ...\n",
       "1   31391  V P V N P E P D A T S V E N V A K K T G S G D ...   8   Novozymes        L        K        17  V P V N P E P D A T S V E N V A L K T G S G D ...\n",
       "2   31392  V P V N P E P D A T S V E N V A K T G S G D S ...   8   Novozymes        L        K        17  V P V N P E P D A T S V E N V A L K T G S G D ...\n",
       "3   31393  V P V N P E P D A T S V E N V A L C T G S G D ...   8   Novozymes        K        C        18  V P V N P E P D A T S V E N V A L K T G S G D ...\n",
       "4   31394  V P V N P E P D A T S V E N V A L F T G S G D ...   8   Novozymes        K        F        18  V P V N P E P D A T S V E N V A L K T G S G D ..."
      ]
     },
     "execution_count": 35,
     "metadata": {},
     "output_type": "execute_result"
    }
   ],
   "source": [
    "submission = pd.read_csv('/kaggle/input/novozymes-enzyme-stability-prediction/sample_submission.csv')\n",
    "test = pd.read_csv('/kaggle/input/novozymes-enzyme-stability-prediction/test.csv')\n",
    "test = test.apply(get_test_mutation,axis=1)\n",
    "deletions = test.loc[test.protein_sequence.str.len()==220,'seq_id'].values\n",
    "test['sequence'] = base\n",
    "test.sequence = test.sequence.map(add_spaces)\n",
    "test = test.rename({'protein_sequence':'mutant_seq'},axis=1)\n",
    "test.mutant_seq = test.mutant_seq.map(add_spaces)\n",
    "print('Test data shape:', test.shape )\n",
    "test.head()"
   ]
  },
  {
   "cell_type": "code",
   "execution_count": 36,
   "id": "50beb3ce",
   "metadata": {
    "execution": {
     "iopub.execute_input": "2023-01-03T04:35:36.101217Z",
     "iopub.status.busy": "2023-01-03T04:35:36.100852Z",
     "iopub.status.idle": "2023-01-03T06:12:02.906999Z",
     "shell.execute_reply": "2023-01-03T06:12:02.905501Z"
    },
    "papermill": {
     "duration": 5786.834685,
     "end_time": "2023-01-03T06:12:02.911362",
     "exception": false,
     "start_time": "2023-01-03T04:35:36.076677",
     "status": "completed"
    },
    "tags": []
   },
   "outputs": [
    {
     "data": {
      "application/vnd.jupyter.widget-view+json": {
       "model_id": "f7eb2bd5e50a49138b1a45f8dddff6aa",
       "version_major": 2,
       "version_minor": 0
      },
      "text/plain": [
       "  0%|          | 0/202 [00:00<?, ?it/s]"
      ]
     },
     "metadata": {},
     "output_type": "display_data"
    },
    {
     "data": {
      "application/vnd.jupyter.widget-view+json": {
       "model_id": "0cf39b70e2714adca7fdbdd4ca323447",
       "version_major": 2,
       "version_minor": 0
      },
      "text/plain": [
       "  0%|          | 0/202 [00:00<?, ?it/s]"
      ]
     },
     "metadata": {},
     "output_type": "display_data"
    },
    {
     "data": {
      "application/vnd.jupyter.widget-view+json": {
       "model_id": "d4a2af727b474ab4ba764ab35d41e51a",
       "version_major": 2,
       "version_minor": 0
      },
      "text/plain": [
       "  0%|          | 0/202 [00:00<?, ?it/s]"
      ]
     },
     "metadata": {},
     "output_type": "display_data"
    },
    {
     "data": {
      "application/vnd.jupyter.widget-view+json": {
       "model_id": "58a3585756b645a8b65330f4e924c302",
       "version_major": 2,
       "version_minor": 0
      },
      "text/plain": [
       "  0%|          | 0/202 [00:00<?, ?it/s]"
      ]
     },
     "metadata": {},
     "output_type": "display_data"
    },
    {
     "data": {
      "application/vnd.jupyter.widget-view+json": {
       "model_id": "e82db467554940e58a39da51da9360e4",
       "version_major": 2,
       "version_minor": 0
      },
      "text/plain": [
       "  0%|          | 0/202 [00:00<?, ?it/s]"
      ]
     },
     "metadata": {},
     "output_type": "display_data"
    }
   ],
   "source": [
    "test_dataset = TestDataset(CFG, test)\n",
    "test_loader = DataLoader(test_dataset,\n",
    "                         batch_size=CFG.batch_size*3,\n",
    "                         shuffle=False,\n",
    "                         num_workers=CFG.num_workers, pin_memory=True, drop_last=False)\n",
    "predictions_ = []\n",
    "for fold in CFG.trn_fold:\n",
    "    model = CustomModel(CFG, config_path=CFG.config_path, pretrained=False)\n",
    "    state = torch.load(CFG.path+f\"{CFG.model.replace('/', '-')}_fold{fold}_best.pth\",\n",
    "                       map_location=torch.device('cpu'))\n",
    "    model.load_state_dict(state['model'])\n",
    "    prediction = inference_fn(test_loader, model, device)\n",
    "    predictions_.append(prediction)\n",
    "    del model, state, prediction; gc.collect()\n",
    "    torch.cuda.empty_cache()\n",
    "predictions = np.mean(predictions_, axis=0)"
   ]
  },
  {
   "cell_type": "code",
   "execution_count": 37,
   "id": "1d5b83d9",
   "metadata": {
    "execution": {
     "iopub.execute_input": "2023-01-03T06:12:03.010893Z",
     "iopub.status.busy": "2023-01-03T06:12:03.009918Z",
     "iopub.status.idle": "2023-01-03T06:12:03.061364Z",
     "shell.execute_reply": "2023-01-03T06:12:03.060440Z"
    },
    "papermill": {
     "duration": 0.090689,
     "end_time": "2023-01-03T06:12:03.063643",
     "exception": false,
     "start_time": "2023-01-03T06:12:02.972954",
     "status": "completed"
    },
    "tags": []
   },
   "outputs": [
    {
     "data": {
      "text/html": [
       "<div>\n",
       "<style scoped>\n",
       "    .dataframe tbody tr th:only-of-type {\n",
       "        vertical-align: middle;\n",
       "    }\n",
       "\n",
       "    .dataframe tbody tr th {\n",
       "        vertical-align: top;\n",
       "    }\n",
       "\n",
       "    .dataframe thead th {\n",
       "        text-align: right;\n",
       "    }\n",
       "</style>\n",
       "<table border=\"1\" class=\"dataframe\">\n",
       "  <thead>\n",
       "    <tr style=\"text-align: right;\">\n",
       "      <th></th>\n",
       "      <th>seq_id</th>\n",
       "      <th>tm</th>\n",
       "    </tr>\n",
       "  </thead>\n",
       "  <tbody>\n",
       "    <tr>\n",
       "      <th>0</th>\n",
       "      <td>31390</td>\n",
       "      <td>0.513744</td>\n",
       "    </tr>\n",
       "    <tr>\n",
       "      <th>1</th>\n",
       "      <td>31391</td>\n",
       "      <td>0.480029</td>\n",
       "    </tr>\n",
       "    <tr>\n",
       "      <th>2</th>\n",
       "      <td>31392</td>\n",
       "      <td>0.483911</td>\n",
       "    </tr>\n",
       "    <tr>\n",
       "      <th>3</th>\n",
       "      <td>31393</td>\n",
       "      <td>0.686052</td>\n",
       "    </tr>\n",
       "    <tr>\n",
       "      <th>4</th>\n",
       "      <td>31394</td>\n",
       "      <td>0.652583</td>\n",
       "    </tr>\n",
       "  </tbody>\n",
       "</table>\n",
       "</div>"
      ],
      "text/plain": [
       "   seq_id        tm\n",
       "0   31390  0.513744\n",
       "1   31391  0.480029\n",
       "2   31392  0.483911\n",
       "3   31393  0.686052\n",
       "4   31394  0.652583"
      ]
     },
     "metadata": {},
     "output_type": "display_data"
    }
   ],
   "source": [
    "ver = 2\n",
    "\n",
    "test['tm'] = predictions\n",
    "submission = submission.drop(columns=['tm']).merge(test[['seq_id','tm']], on='seq_id', how='left')\n",
    "display(submission.head())\n",
    "submission[['seq_id','tm']].to_csv(f'amt_submission_bert_{ver}.csv', index=False)"
   ]
  },
  {
   "cell_type": "code",
   "execution_count": 38,
   "id": "174813c5",
   "metadata": {
    "execution": {
     "iopub.execute_input": "2023-01-03T06:12:03.114760Z",
     "iopub.status.busy": "2023-01-03T06:12:03.114423Z",
     "iopub.status.idle": "2023-01-03T06:12:03.540844Z",
     "shell.execute_reply": "2023-01-03T06:12:03.539838Z"
    },
    "papermill": {
     "duration": 0.454037,
     "end_time": "2023-01-03T06:12:03.543239",
     "exception": false,
     "start_time": "2023-01-03T06:12:03.089202",
     "status": "completed"
    },
    "tags": []
   },
   "outputs": [
    {
     "data": {
      "image/png": "[encoded data removed]",
      "text/plain": [
       "<Figure size 432x288 with 1 Axes>"
      ]
     },
     "metadata": {
      "needs_background": "light"
     },
     "output_type": "display_data"
    }
   ],
   "source": [
    "import matplotlib.pyplot as plt\n",
    "plt.hist(submission.tm, bins=100)\n",
    "plt.show()"
   ]
  }
 ],
 "metadata": {
  "kernelspec": {
   "display_name": "Python 3 (ipykernel)",
   "language": "python",
   "name": "python3"
  },
  "language_info": {
   "codemirror_mode": {
    "name": "ipython",
    "version": 3
   },
   "file_extension": ".py",
   "mimetype": "text/x-python",
   "name": "python",
   "nbconvert_exporter": "python",
   "pygments_lexer": "ipython3",
   "version": "3.9.18"
  },
  "papermill": {
   "default_parameters": {},
   "duration": 35868.040161,
   "end_time": "2023-01-03T06:12:06.647667",
   "environment_variables": {},
   "exception": null,
   "input_path": "__notebook__.ipynb",
   "output_path": "__notebook__.ipynb",
   "parameters": {},
   "start_time": "2023-01-02T20:14:18.607506",
   "version": "2.3.4"
  },
  "widgets": {
   "application/vnd.jupyter.widget-state+json": {
    "state": {
     "007bd627b4e041c0b71732f563937a22": {
      "model_module": "@jupyter-widgets/controls",
      "model_module_version": "1.5.0",
      "model_name": "FloatProgressModel",
      "state": {
       "_dom_classes": [],
       "_model_module": "@jupyter-widgets/controls",
       "_model_module_version": "1.5.0",
       "_model_name": "FloatProgressModel",
       "_view_count": null,
       "_view_module": "@jupyter-widgets/controls",
       "_view_module_version": "1.5.0",
       "_view_name": "ProgressView",
       "bar_style": "success",
       "description": "",
       "description_tooltip": null,
       "layout": "IPY_MODEL_b4db2f99a87044c0904d96284289e9bf",
       "max": 202,
       "min": 0,
       "orientation": "horizontal",
       "style": "IPY_MODEL_9acea26db8d64e5285a4449d01f99fdd",
       "value": 202
      }
     },
     "03e7c490f28b4baf8fc0e3171869e6f8": {
      "model_module": "@jupyter-widgets/controls",
      "model_module_version": "1.5.0",
      "model_name": "HBoxModel",
      "state": {
       "_dom_classes": [],
       "_model_module": "@jupyter-widgets/controls",
       "_model_module_version": "1.5.0",
       "_model_name": "HBoxModel",
       "_view_count": null,
       "_view_module": "@jupyter-widgets/controls",
       "_view_module_version": "1.5.0",
       "_view_name": "HBoxView",
       "box_style": "",
       "children": [
        "IPY_MODEL_08a8d0805f66406e984695c19c108154",
        "IPY_MODEL_2f3b9868344d49e187451d544c43f259",
        "IPY_MODEL_e59703da883e421d992d04fc0a2cc699"
       ],
       "layout": "IPY_MODEL_61e93eb1831344bc873b16cac4a83895"
      }
     },
     "0666ea4ad7c34038b98b4ac3aeccddec": {
      "model_module": "@jupyter-widgets/controls",
      "model_module_version": "1.5.0",
      "model_name": "HTMLModel",
      "state": {
       "_dom_classes": [],
       "_model_module": "@jupyter-widgets/controls",
       "_model_module_version": "1.5.0",
       "_model_name": "HTMLModel",
       "_view_count": null,
       "_view_module": "@jupyter-widgets/controls",
       "_view_module_version": "1.5.0",
       "_view_name": "HTMLView",
       "description": "",
       "description_tooltip": null,
       "layout": "IPY_MODEL_66a75e42da8349d8bbda285ef948d170",
       "placeholder": "​",
       "style": "IPY_MODEL_6cf9bc8c768b46398e9dc4313e8936be",
       "value": " 125/125 [00:00&lt;00:00, 4.51kB/s]"
      }
     },
     "0757db0e0e004d2cb29af0f834ac083e": {
      "model_module": "@jupyter-widgets/base",
      "model_module_version": "1.2.0",
      "model_name": "LayoutModel",
      "state": {
       "_model_module": "@jupyter-widgets/base",
       "_model_module_version": "1.2.0",
       "_model_name": "LayoutModel",
       "_view_count": null,
       "_view_module": "@jupyter-widgets/base",
       "_view_module_version": "1.2.0",
       "_view_name": "LayoutView",
       "align_content": null,
       "align_items": null,
       "align_self": null,
       "border": null,
       "bottom": null,
       "display": null,
       "flex": null,
       "flex_flow": null,
       "grid_area": null,
       "grid_auto_columns": null,
       "grid_auto_flow": null,
       "grid_auto_rows": null,
       "grid_column": null,
       "grid_gap": null,
       "grid_row": null,
       "grid_template_areas": null,
       "grid_template_columns": null,
       "grid_template_rows": null,
       "height": null,
       "justify_content": null,
       "justify_items": null,
       "left": null,
       "margin": null,
       "max_height": null,
       "max_width": null,
       "min_height": null,
       "min_width": null,
       "object_fit": null,
       "object_position": null,
       "order": null,
       "overflow": null,
       "overflow_x": null,
       "overflow_y": null,
       "padding": null,
       "right": null,
       "top": null,
       "visibility": null,
       "width": null
      }
     },
     "07c0b398ced44354ac64f856b00e129c": {
      "model_module": "@jupyter-widgets/controls",
      "model_module_version": "1.5.0",
      "model_name": "HBoxModel",
      "state": {
       "_dom_classes": [],
       "_model_module": "@jupyter-widgets/controls",
       "_model_module_version": "1.5.0",
       "_model_name": "HBoxModel",
       "_view_count": null,
       "_view_module": "@jupyter-widgets/controls",
       "_view_module_version": "1.5.0",
       "_view_name": "HBoxView",
       "box_style": "",
       "children": [
        "IPY_MODEL_3847ced91c664894914a7c0fd66feae3",
        "IPY_MODEL_26dc49782d114f9da7872c260559cca2",
        "IPY_MODEL_0666ea4ad7c34038b98b4ac3aeccddec"
       ],
       "layout": "IPY_MODEL_14db9345d3ac4f86b2cca60a2d75c0fc"
      }
     },
     "08a8d0805f66406e984695c19c108154": {
      "model_module": "@jupyter-widgets/controls",
      "model_module_version": "1.5.0",
      "model_name": "HTMLModel",
      "state": {
       "_dom_classes": [],
       "_model_module": "@jupyter-widgets/controls",
       "_model_module_version": "1.5.0",
       "_model_name": "HTMLModel",
       "_view_count": null,
       "_view_module": "@jupyter-widgets/controls",
       "_view_module_version": "1.5.0",
       "_view_name": "HTMLView",
       "description": "",
       "description_tooltip": null,
       "layout": "IPY_MODEL_ae96e0f2a9e24564acf6da154917e0da",
       "placeholder": "​",
       "style": "IPY_MODEL_6cd639bdce024b1e8e9e00d099acc4bf",
       "value": "Downloading: 100%"
      }
     },
     "0cf39b70e2714adca7fdbdd4ca323447": {
      "model_module": "@jupyter-widgets/controls",
      "model_module_version": "1.5.0",
      "model_name": "HBoxModel",
      "state": {
       "_dom_classes": [],
       "_model_module": "@jupyter-widgets/controls",
       "_model_module_version": "1.5.0",
       "_model_name": "HBoxModel",
       "_view_count": null,
       "_view_module": "@jupyter-widgets/controls",
       "_view_module_version": "1.5.0",
       "_view_name": "HBoxView",
       "box_style": "",
       "children": [
        "IPY_MODEL_b7af226efcbf4718b4b0414860c80316",
        "IPY_MODEL_7ff8589da06e4663bfbffb3c50ccab89",
        "IPY_MODEL_a96926421041403c8de7f22392ed92a5"
       ],
       "layout": "IPY_MODEL_fbf4e6b46eda48fb84bd04eed446ed46"
      }
     },
     "0d3258474d1546bbb7c07dcd14f6c370": {
      "model_module": "@jupyter-widgets/controls",
      "model_module_version": "1.5.0",
      "model_name": "ProgressStyleModel",
      "state": {
       "_model_module": "@jupyter-widgets/controls",
       "_model_module_version": "1.5.0",
       "_model_name": "ProgressStyleModel",
       "_view_count": null,
       "_view_module": "@jupyter-widgets/base",
       "_view_module_version": "1.2.0",
       "_view_name": "StyleView",
       "bar_color": null,
       "description_width": ""
      }
     },
     "11dd188aed104927ba25e500b8f80a49": {
      "model_module": "@jupyter-widgets/controls",
      "model_module_version": "1.5.0",
      "model_name": "HTMLModel",
      "state": {
       "_dom_classes": [],
       "_model_module": "@jupyter-widgets/controls",
       "_model_module_version": "1.5.0",
       "_model_name": "HTMLModel",
       "_view_count": null,
       "_view_module": "@jupyter-widgets/controls",
       "_view_module_version": "1.5.0",
       "_view_name": "HTMLView",
       "description": "",
       "description_tooltip": null,
       "layout": "IPY_MODEL_cb7423c7fa8647e486a04b2fa8d62519",
       "placeholder": "​",
       "style": "IPY_MODEL_fdcc18534ff64a1db424405bead9eba3",
       "value": "100%"
      }
     },
     "1483b2effa7a4cb0a4c628c419049abd": {
      "model_module": "@jupyter-widgets/base",
      "model_module_version": "1.2.0",
      "model_name": "LayoutModel",
      "state": {
       "_model_module": "@jupyter-widgets/base",
       "_model_module_version": "1.2.0",
       "_model_name": "LayoutModel",
       "_view_count": null,
       "_view_module": "@jupyter-widgets/base",
       "_view_module_version": "1.2.0",
       "_view_name": "LayoutView",
       "align_content": null,
       "align_items": null,
       "align_self": null,
       "border": null,
       "bottom": null,
       "display": null,
       "flex": null,
       "flex_flow": null,
       "grid_area": null,
       "grid_auto_columns": null,
       "grid_auto_flow": null,
       "grid_auto_rows": null,
       "grid_column": null,
       "grid_gap": null,
       "grid_row": null,
       "grid_template_areas": null,
       "grid_template_columns": null,
       "grid_template_rows": null,
       "height": null,
       "justify_content": null,
       "justify_items": null,
       "left": null,
       "margin": null,
       "max_height": null,
       "max_width": null,
       "min_height": null,
       "min_width": null,
       "object_fit": null,
       "object_position": null,
       "order": null,
       "overflow": null,
       "overflow_x": null,
       "overflow_y": null,
       "padding": null,
       "right": null,
       "top": null,
       "visibility": null,
       "width": null
      }
     },
     "14a91f25d0c24b14b6125fa78eff2383": {
      "model_module": "@jupyter-widgets/base",
      "model_module_version": "1.2.0",
      "model_name": "LayoutModel",
      "state": {
       "_model_module": "@jupyter-widgets/base",
       "_model_module_version": "1.2.0",
       "_model_name": "LayoutModel",
       "_view_count": null,
       "_view_module": "@jupyter-widgets/base",
       "_view_module_version": "1.2.0",
       "_view_name": "LayoutView",
       "align_content": null,
       "align_items": null,
       "align_self": null,
       "border": null,
       "bottom": null,
       "display": null,
       "flex": null,
       "flex_flow": null,
       "grid_area": null,
       "grid_auto_columns": null,
       "grid_auto_flow": null,
       "grid_auto_rows": null,
       "grid_column": null,
       "grid_gap": null,
       "grid_row": null,
       "grid_template_areas": null,
       "grid_template_columns": null,
       "grid_template_rows": null,
       "height": null,
       "justify_content": null,
       "justify_items": null,
       "left": null,
       "margin": null,
       "max_height": null,
       "max_width": null,
       "min_height": null,
       "min_width": null,
       "object_fit": null,
       "object_position": null,
       "order": null,
       "overflow": null,
       "overflow_x": null,
       "overflow_y": null,
       "padding": null,
       "right": null,
       "top": null,
       "visibility": null,
       "width": null
      }
     },
     "14db9345d3ac4f86b2cca60a2d75c0fc": {
      "model_module": "@jupyter-widgets/base",
      "model_module_version": "1.2.0",
      "model_name": "LayoutModel",
      "state": {
       "_model_module": "@jupyter-widgets/base",
       "_model_module_version": "1.2.0",
       "_model_name": "LayoutModel",
       "_view_count": null,
       "_view_module": "@jupyter-widgets/base",
       "_view_module_version": "1.2.0",
       "_view_name": "LayoutView",
       "align_content": null,
       "align_items": null,
       "align_self": null,
       "border": null,
       "bottom": null,
       "display": null,
       "flex": null,
       "flex_flow": null,
       "grid_area": null,
       "grid_auto_columns": null,
       "grid_auto_flow": null,
       "grid_auto_rows": null,
       "grid_column": null,
       "grid_gap": null,
       "grid_row": null,
       "grid_template_areas": null,
       "grid_template_columns": null,
       "grid_template_rows": null,
       "height": null,
       "justify_content": null,
       "justify_items": null,
       "left": null,
       "margin": null,
       "max_height": null,
       "max_width": null,
       "min_height": null,
       "min_width": null,
       "object_fit": null,
       "object_position": null,
       "order": null,
       "overflow": null,
       "overflow_x": null,
       "overflow_y": null,
       "padding": null,
       "right": null,
       "top": null,
       "visibility": null,
       "width": null
      }
     },
     "19d20b0c92ec4a609bfde9fa761da5f7": {
      "model_module": "@jupyter-widgets/base",
      "model_module_version": "1.2.0",
      "model_name": "LayoutModel",
      "state": {
       "_model_module": "@jupyter-widgets/base",
       "_model_module_version": "1.2.0",
       "_model_name": "LayoutModel",
       "_view_count": null,
       "_view_module": "@jupyter-widgets/base",
       "_view_module_version": "1.2.0",
       "_view_name": "LayoutView",
       "align_content": null,
       "align_items": null,
       "align_self": null,
       "border": null,
       "bottom": null,
       "display": null,
       "flex": null,
       "flex_flow": null,
       "grid_area": null,
       "grid_auto_columns": null,
       "grid_auto_flow": null,
       "grid_auto_rows": null,
       "grid_column": null,
       "grid_gap": null,
       "grid_row": null,
       "grid_template_areas": null,
       "grid_template_columns": null,
       "grid_template_rows": null,
       "height": null,
       "justify_content": null,
       "justify_items": null,
       "left": null,
       "margin": null,
       "max_height": null,
       "max_width": null,
       "min_height": null,
       "min_width": null,
       "object_fit": null,
       "object_position": null,
       "order": null,
       "overflow": null,
       "overflow_x": null,
       "overflow_y": null,
       "padding": null,
       "right": null,
       "top": null,
       "visibility": null,
       "width": null
      }
     },
     "1bd017c98bff4317a474191c76a1dcae": {
      "model_module": "@jupyter-widgets/controls",
      "model_module_version": "1.5.0",
      "model_name": "DescriptionStyleModel",
      "state": {
       "_model_module": "@jupyter-widgets/controls",
       "_model_module_version": "1.5.0",
       "_model_name": "DescriptionStyleModel",
       "_view_count": null,
       "_view_module": "@jupyter-widgets/base",
       "_view_module_version": "1.2.0",
       "_view_name": "StyleView",
       "description_width": ""
      }
     },
     "200faf899285404eb6204aebae0c90ff": {
      "model_module": "@jupyter-widgets/controls",
      "model_module_version": "1.5.0",
      "model_name": "ProgressStyleModel",
      "state": {
       "_model_module": "@jupyter-widgets/controls",
       "_model_module_version": "1.5.0",
       "_model_name": "ProgressStyleModel",
       "_view_count": null,
       "_view_module": "@jupyter-widgets/base",
       "_view_module_version": "1.2.0",
       "_view_name": "StyleView",
       "bar_color": null,
       "description_width": ""
      }
     },
     "22d7a053db3045f6ad41331dc4e44a22": {
      "model_module": "@jupyter-widgets/controls",
      "model_module_version": "1.5.0",
      "model_name": "ProgressStyleModel",
      "state": {
       "_model_module": "@jupyter-widgets/controls",
       "_model_module_version": "1.5.0",
       "_model_name": "ProgressStyleModel",
       "_view_count": null,
       "_view_module": "@jupyter-widgets/base",
       "_view_module_version": "1.2.0",
       "_view_name": "StyleView",
       "bar_color": null,
       "description_width": ""
      }
     },
     "234fbcdb3194414880793b24f976f6e2": {
      "model_module": "@jupyter-widgets/controls",
      "model_module_version": "1.5.0",
      "model_name": "FloatProgressModel",
      "state": {
       "_dom_classes": [],
       "_model_module": "@jupyter-widgets/controls",
       "_model_module_version": "1.5.0",
       "_model_name": "FloatProgressModel",
       "_view_count": null,
       "_view_module": "@jupyter-widgets/controls",
       "_view_module_version": "1.5.0",
       "_view_name": "ProgressView",
       "bar_style": "success",
       "description": "",
       "description_tooltip": null,
       "layout": "IPY_MODEL_5cc23d0a297e43c19fa7e2c2ce87ff8e",
       "max": 202,
       "min": 0,
       "orientation": "horizontal",
       "style": "IPY_MODEL_f1d1bb9278654ef4a547f9bf9ed06557",
       "value": 202
      }
     },
     "237270d312c04400bbf245155152f873": {
      "model_module": "@jupyter-widgets/controls",
      "model_module_version": "1.5.0",
      "model_name": "DescriptionStyleModel",
      "state": {
       "_model_module": "@jupyter-widgets/controls",
       "_model_module_version": "1.5.0",
       "_model_name": "DescriptionStyleModel",
       "_view_count": null,
       "_view_module": "@jupyter-widgets/base",
       "_view_module_version": "1.2.0",
       "_view_name": "StyleView",
       "description_width": ""
      }
     },
     "26dc49782d114f9da7872c260559cca2": {
      "model_module": "@jupyter-widgets/controls",
      "model_module_version": "1.5.0",
      "model_name": "FloatProgressModel",
      "state": {
       "_dom_classes": [],
       "_model_module": "@jupyter-widgets/controls",
       "_model_module_version": "1.5.0",
       "_model_name": "FloatProgressModel",
       "_view_count": null,
       "_view_module": "@jupyter-widgets/controls",
       "_view_module_version": "1.5.0",
       "_view_name": "ProgressView",
       "bar_style": "success",
       "description": "",
       "description_tooltip": null,
       "layout": "IPY_MODEL_bc6619af9e414a9fb823b1db67eca531",
       "max": 125,
       "min": 0,
       "orientation": "horizontal",
       "style": "IPY_MODEL_200faf899285404eb6204aebae0c90ff",
       "value": 125
      }
     },
     "2c24cbc13b8f44488a4052330bc8a062": {
      "model_module": "@jupyter-widgets/base",
      "model_module_version": "1.2.0",
      "model_name": "LayoutModel",
      "state": {
       "_model_module": "@jupyter-widgets/base",
       "_model_module_version": "1.2.0",
       "_model_name": "LayoutModel",
       "_view_count": null,
       "_view_module": "@jupyter-widgets/base",
       "_view_module_version": "1.2.0",
       "_view_name": "LayoutView",
       "align_content": null,
       "align_items": null,
       "align_self": null,
       "border": null,
       "bottom": null,
       "display": null,
       "flex": null,
       "flex_flow": null,
       "grid_area": null,
       "grid_auto_columns": null,
       "grid_auto_flow": null,
       "grid_auto_rows": null,
       "grid_column": null,
       "grid_gap": null,
       "grid_row": null,
       "grid_template_areas": null,
       "grid_template_columns": null,
       "grid_template_rows": null,
       "height": null,
       "justify_content": null,
       "justify_items": null,
       "left": null,
       "margin": null,
       "max_height": null,
       "max_width": null,
       "min_height": null,
       "min_width": null,
       "object_fit": null,
       "object_position": null,
       "order": null,
       "overflow": null,
       "overflow_x": null,
       "overflow_y": null,
       "padding": null,
       "right": null,
       "top": null,
       "visibility": null,
       "width": null
      }
     },
     "2f3b9868344d49e187451d544c43f259": {
      "model_module": "@jupyter-widgets/controls",
      "model_module_version": "1.5.0",
      "model_name": "FloatProgressModel",
      "state": {
       "_dom_classes": [],
       "_model_module": "@jupyter-widgets/controls",
       "_model_module_version": "1.5.0",
       "_model_name": "FloatProgressModel",
       "_view_count": null,
       "_view_module": "@jupyter-widgets/controls",
       "_view_module_version": "1.5.0",
       "_view_name": "ProgressView",
       "bar_style": "success",
       "description": "",
       "description_tooltip": null,
       "layout": "IPY_MODEL_4ab4b442df064464823d81b4de2b8b9e",
       "max": 2609621831,
       "min": 0,
       "orientation": "horizontal",
       "style": "IPY_MODEL_33ecf5247d5c44cc93f5d8d130b37626",
       "value": 2609621831
      }
     },
     "314e73e3ec0f4205985f51c5768d1fe9": {
      "model_module": "@jupyter-widgets/controls",
      "model_module_version": "1.5.0",
      "model_name": "DescriptionStyleModel",
      "state": {
       "_model_module": "@jupyter-widgets/controls",
       "_model_module_version": "1.5.0",
       "_model_name": "DescriptionStyleModel",
       "_view_count": null,
       "_view_module": "@jupyter-widgets/base",
       "_view_module_version": "1.2.0",
       "_view_name": "StyleView",
       "description_width": ""
      }
     },
     "33766dff29ee446b8d1640ebec5c209f": {
      "model_module": "@jupyter-widgets/base",
      "model_module_version": "1.2.0",
      "model_name": "LayoutModel",
      "state": {
       "_model_module": "@jupyter-widgets/base",
       "_model_module_version": "1.2.0",
       "_model_name": "LayoutModel",
       "_view_count": null,
       "_view_module": "@jupyter-widgets/base",
       "_view_module_version": "1.2.0",
       "_view_name": "LayoutView",
       "align_content": null,
       "align_items": null,
       "align_self": null,
       "border": null,
       "bottom": null,
       "display": null,
       "flex": null,
       "flex_flow": null,
       "grid_area": null,
       "grid_auto_columns": null,
       "grid_auto_flow": null,
       "grid_auto_rows": null,
       "grid_column": null,
       "grid_gap": null,
       "grid_row": null,
       "grid_template_areas": null,
       "grid_template_columns": null,
       "grid_template_rows": null,
       "height": null,
       "justify_content": null,
       "justify_items": null,
       "left": null,
       "margin": null,
       "max_height": null,
       "max_width": null,
       "min_height": null,
       "min_width": null,
       "object_fit": null,
       "object_position": null,
       "order": null,
       "overflow": null,
       "overflow_x": null,
       "overflow_y": null,
       "padding": null,
       "right": null,
       "top": null,
       "visibility": null,
       "width": null
      }
     },
     "33ecf5247d5c44cc93f5d8d130b37626": {
      "model_module": "@jupyter-widgets/controls",
      "model_module_version": "1.5.0",
      "model_name": "ProgressStyleModel",
      "state": {
       "_model_module": "@jupyter-widgets/controls",
       "_model_module_version": "1.5.0",
       "_model_name": "ProgressStyleModel",
       "_view_count": null,
       "_view_module": "@jupyter-widgets/base",
       "_view_module_version": "1.2.0",
       "_view_name": "StyleView",
       "bar_color": null,
       "description_width": ""
      }
     },
     "3538786cb85a421bb882845011ac5ba5": {
      "model_module": "@jupyter-widgets/controls",
      "model_module_version": "1.5.0",
      "model_name": "FloatProgressModel",
      "state": {
       "_dom_classes": [],
       "_model_module": "@jupyter-widgets/controls",
       "_model_module_version": "1.5.0",
       "_model_name": "FloatProgressModel",
       "_view_count": null,
       "_view_module": "@jupyter-widgets/controls",
       "_view_module_version": "1.5.0",
       "_view_name": "ProgressView",
       "bar_style": "success",
       "description": "",
       "description_tooltip": null,
       "layout": "IPY_MODEL_9ef0f2dcc09b4f20bc170d3efc056072",
       "max": 93,
       "min": 0,
       "orientation": "horizontal",
       "style": "IPY_MODEL_beae51a04b784235bbe5a5b018ea9340",
       "value": 93
      }
     },
     "3847ced91c664894914a7c0fd66feae3": {
      "model_module": "@jupyter-widgets/controls",
      "model_module_version": "1.5.0",
      "model_name": "HTMLModel",
      "state": {
       "_dom_classes": [],
       "_model_module": "@jupyter-widgets/controls",
       "_model_module_version": "1.5.0",
       "_model_name": "HTMLModel",
       "_view_count": null,
       "_view_module": "@jupyter-widgets/controls",
       "_view_module_version": "1.5.0",
       "_view_name": "HTMLView",
       "description": "",
       "description_tooltip": null,
       "layout": "IPY_MODEL_9642342d02b14836a3d4299b19a27bba",
       "placeholder": "​",
       "style": "IPY_MODEL_69109b49e90d4c5d83bc20ec9e8d97b4",
       "value": "Downloading: 100%"
      }
     },
     "392ed88a55ce443b935cc1627d517441": {
      "model_module": "@jupyter-widgets/controls",
      "model_module_version": "1.5.0",
      "model_name": "ProgressStyleModel",
      "state": {
       "_model_module": "@jupyter-widgets/controls",
       "_model_module_version": "1.5.0",
       "_model_name": "ProgressStyleModel",
       "_view_count": null,
       "_view_module": "@jupyter-widgets/base",
       "_view_module_version": "1.2.0",
       "_view_name": "StyleView",
       "bar_color": null,
       "description_width": ""
      }
     },
     "3b50a30561a84cd685171ee506a0abdc": {
      "model_module": "@jupyter-widgets/controls",
      "model_module_version": "1.5.0",
      "model_name": "HTMLModel",
      "state": {
       "_dom_classes": [],
       "_model_module": "@jupyter-widgets/controls",
       "_model_module_version": "1.5.0",
       "_model_name": "HTMLModel",
       "_view_count": null,
       "_view_module": "@jupyter-widgets/controls",
       "_view_module_version": "1.5.0",
       "_view_name": "HTMLView",
       "description": "",
       "description_tooltip": null,
       "layout": "IPY_MODEL_6a12ce6046c94a878d3e8f749b0d87b7",
       "placeholder": "​",
       "style": "IPY_MODEL_d2729ed49188467fad2e6c394f4e948a",
       "value": " 95.0/95.0 [00:00&lt;00:00, 3.53kB/s]"
      }
     },
     "3dc77ecdcc844c548066907c61f17e8a": {
      "model_module": "@jupyter-widgets/controls",
      "model_module_version": "1.5.0",
      "model_name": "HBoxModel",
      "state": {
       "_dom_classes": [],
       "_model_module": "@jupyter-widgets/controls",
       "_model_module_version": "1.5.0",
       "_model_name": "HBoxModel",
       "_view_count": null,
       "_view_module": "@jupyter-widgets/controls",
       "_view_module_version": "1.5.0",
       "_view_name": "HBoxView",
       "box_style": "",
       "children": [
        "IPY_MODEL_9a9b41d0851e4eefb8c26c2b8136c60a",
        "IPY_MODEL_3538786cb85a421bb882845011ac5ba5",
        "IPY_MODEL_7ed6362cbc754a4c951c6b9888a9a7eb"
       ],
       "layout": "IPY_MODEL_49d0c6dc63ab45f99382d7f8d4804d3e"
      }
     },
     "4156c571bf1b4ca0a61d8d60c014213f": {
      "model_module": "@jupyter-widgets/controls",
      "model_module_version": "1.5.0",
      "model_name": "DescriptionStyleModel",
      "state": {
       "_model_module": "@jupyter-widgets/controls",
       "_model_module_version": "1.5.0",
       "_model_name": "DescriptionStyleModel",
       "_view_count": null,
       "_view_module": "@jupyter-widgets/base",
       "_view_module_version": "1.2.0",
       "_view_name": "StyleView",
       "description_width": ""
      }
     },
     "42852040f27f4238a98172d9022b7741": {
      "model_module": "@jupyter-widgets/controls",
      "model_module_version": "1.5.0",
      "model_name": "HTMLModel",
      "state": {
       "_dom_classes": [],
       "_model_module": "@jupyter-widgets/controls",
       "_model_module_version": "1.5.0",
       "_model_name": "HTMLModel",
       "_view_count": null,
       "_view_module": "@jupyter-widgets/controls",
       "_view_module_version": "1.5.0",
       "_view_name": "HTMLView",
       "description": "",
       "description_tooltip": null,
       "layout": "IPY_MODEL_d70c4bfb88094f26b68572e86d8bee5f",
       "placeholder": "​",
       "style": "IPY_MODEL_6d26f681dc7244fba7f931221585a012",
       "value": " 202/202 [18:41&lt;00:00,  4.06s/it]"
      }
     },
     "439771a32a6f467eb6c96c5327f87aec": {
      "model_module": "@jupyter-widgets/controls",
      "model_module_version": "1.5.0",
      "model_name": "HTMLModel",
      "state": {
       "_dom_classes": [],
       "_model_module": "@jupyter-widgets/controls",
       "_model_module_version": "1.5.0",
       "_model_name": "HTMLModel",
       "_view_count": null,
       "_view_module": "@jupyter-widgets/controls",
       "_view_module_version": "1.5.0",
       "_view_name": "HTMLView",
       "description": "",
       "description_tooltip": null,
       "layout": "IPY_MODEL_a382a8bc108d4c2ca6394eb0d381bfb7",
       "placeholder": "​",
       "style": "IPY_MODEL_4156c571bf1b4ca0a61d8d60c014213f",
       "value": "100%"
      }
     },
     "49d0c6dc63ab45f99382d7f8d4804d3e": {
      "model_module": "@jupyter-widgets/base",
      "model_module_version": "1.2.0",
      "model_name": "LayoutModel",
      "state": {
       "_model_module": "@jupyter-widgets/base",
       "_model_module_version": "1.2.0",
       "_model_name": "LayoutModel",
       "_view_count": null,
       "_view_module": "@jupyter-widgets/base",
       "_view_module_version": "1.2.0",
       "_view_name": "LayoutView",
       "align_content": null,
       "align_items": null,
       "align_self": null,
       "border": null,
       "bottom": null,
       "display": null,
       "flex": null,
       "flex_flow": null,
       "grid_area": null,
       "grid_auto_columns": null,
       "grid_auto_flow": null,
       "grid_auto_rows": null,
       "grid_column": null,
       "grid_gap": null,
       "grid_row": null,
       "grid_template_areas": null,
       "grid_template_columns": null,
       "grid_template_rows": null,
       "height": null,
       "justify_content": null,
       "justify_items": null,
       "left": null,
       "margin": null,
       "max_height": null,
       "max_width": null,
       "min_height": null,
       "min_width": null,
       "object_fit": null,
       "object_position": null,
       "order": null,
       "overflow": null,
       "overflow_x": null,
       "overflow_y": null,
       "padding": null,
       "right": null,
       "top": null,
       "visibility": null,
       "width": null
      }
     },
     "49f61b98fd8f4a34aa0a48131935a66c": {
      "model_module": "@jupyter-widgets/controls",
      "model_module_version": "1.5.0",
      "model_name": "FloatProgressModel",
      "state": {
       "_dom_classes": [],
       "_model_module": "@jupyter-widgets/controls",
       "_model_module_version": "1.5.0",
       "_model_name": "FloatProgressModel",
       "_view_count": null,
       "_view_module": "@jupyter-widgets/controls",
       "_view_module_version": "1.5.0",
       "_view_name": "ProgressView",
       "bar_style": "success",
       "description": "",
       "description_tooltip": null,
       "layout": "IPY_MODEL_b62ccbe747a74380b179e960a1bc0de4",
       "max": 724,
       "min": 0,
       "orientation": "horizontal",
       "style": "IPY_MODEL_22d7a053db3045f6ad41331dc4e44a22",
       "value": 724
      }
     },
     "4ab4b442df064464823d81b4de2b8b9e": {
      "model_module": "@jupyter-widgets/base",
      "model_module_version": "1.2.0",
      "model_name": "LayoutModel",
      "state": {
       "_model_module": "@jupyter-widgets/base",
       "_model_module_version": "1.2.0",
       "_model_name": "LayoutModel",
       "_view_count": null,
       "_view_module": "@jupyter-widgets/base",
       "_view_module_version": "1.2.0",
       "_view_name": "LayoutView",
       "align_content": null,
       "align_items": null,
       "align_self": null,
       "border": null,
       "bottom": null,
       "display": null,
       "flex": null,
       "flex_flow": null,
       "grid_area": null,
       "grid_auto_columns": null,
       "grid_auto_flow": null,
       "grid_auto_rows": null,
       "grid_column": null,
       "grid_gap": null,
       "grid_row": null,
       "grid_template_areas": null,
       "grid_template_columns": null,
       "grid_template_rows": null,
       "height": null,
       "justify_content": null,
       "justify_items": null,
       "left": null,
       "margin": null,
       "max_height": null,
       "max_width": null,
       "min_height": null,
       "min_width": null,
       "object_fit": null,
       "object_position": null,
       "order": null,
       "overflow": null,
       "overflow_x": null,
       "overflow_y": null,
       "padding": null,
       "right": null,
       "top": null,
       "visibility": null,
       "width": null
      }
     },
     "589b42bef99d4857bc1c9e48a59465b3": {
      "model_module": "@jupyter-widgets/base",
      "model_module_version": "1.2.0",
      "model_name": "LayoutModel",
      "state": {
       "_model_module": "@jupyter-widgets/base",
       "_model_module_version": "1.2.0",
       "_model_name": "LayoutModel",
       "_view_count": null,
       "_view_module": "@jupyter-widgets/base",
       "_view_module_version": "1.2.0",
       "_view_name": "LayoutView",
       "align_content": null,
       "align_items": null,
       "align_self": null,
       "border": null,
       "bottom": null,
       "display": null,
       "flex": null,
       "flex_flow": null,
       "grid_area": null,
       "grid_auto_columns": null,
       "grid_auto_flow": null,
       "grid_auto_rows": null,
       "grid_column": null,
       "grid_gap": null,
       "grid_row": null,
       "grid_template_areas": null,
       "grid_template_columns": null,
       "grid_template_rows": null,
       "height": null,
       "justify_content": null,
       "justify_items": null,
       "left": null,
       "margin": null,
       "max_height": null,
       "max_width": null,
       "min_height": null,
       "min_width": null,
       "object_fit": null,
       "object_position": null,
       "order": null,
       "overflow": null,
       "overflow_x": null,
       "overflow_y": null,
       "padding": null,
       "right": null,
       "top": null,
       "visibility": null,
       "width": null
      }
     },
     "58a3585756b645a8b65330f4e924c302": {
      "model_module": "@jupyter-widgets/controls",
      "model_module_version": "1.5.0",
      "model_name": "HBoxModel",
      "state": {
       "_dom_classes": [],
       "_model_module": "@jupyter-widgets/controls",
       "_model_module_version": "1.5.0",
       "_model_name": "HBoxModel",
       "_view_count": null,
       "_view_module": "@jupyter-widgets/controls",
       "_view_module_version": "1.5.0",
       "_view_name": "HBoxView",
       "box_style": "",
       "children": [
        "IPY_MODEL_646917dde38e49f7bf879a0e17ab810f",
        "IPY_MODEL_007bd627b4e041c0b71732f563937a22",
        "IPY_MODEL_65d814b1f4f74a2daf8217794ce089a0"
       ],
       "layout": "IPY_MODEL_33766dff29ee446b8d1640ebec5c209f"
      }
     },
     "5cc23d0a297e43c19fa7e2c2ce87ff8e": {
      "model_module": "@jupyter-widgets/base",
      "model_module_version": "1.2.0",
      "model_name": "LayoutModel",
      "state": {
       "_model_module": "@jupyter-widgets/base",
       "_model_module_version": "1.2.0",
       "_model_name": "LayoutModel",
       "_view_count": null,
       "_view_module": "@jupyter-widgets/base",
       "_view_module_version": "1.2.0",
       "_view_name": "LayoutView",
       "align_content": null,
       "align_items": null,
       "align_self": null,
       "border": null,
       "bottom": null,
       "display": null,
       "flex": null,
       "flex_flow": null,
       "grid_area": null,
       "grid_auto_columns": null,
       "grid_auto_flow": null,
       "grid_auto_rows": null,
       "grid_column": null,
       "grid_gap": null,
       "grid_row": null,
       "grid_template_areas": null,
       "grid_template_columns": null,
       "grid_template_rows": null,
       "height": null,
       "justify_content": null,
       "justify_items": null,
       "left": null,
       "margin": null,
       "max_height": null,
       "max_width": null,
       "min_height": null,
       "min_width": null,
       "object_fit": null,
       "object_position": null,
       "order": null,
       "overflow": null,
       "overflow_x": null,
       "overflow_y": null,
       "padding": null,
       "right": null,
       "top": null,
       "visibility": null,
       "width": null
      }
     },
     "5d6a1a513831403b88c79a197696c012": {
      "model_module": "@jupyter-widgets/base",
      "model_module_version": "1.2.0",
      "model_name": "LayoutModel",
      "state": {
       "_model_module": "@jupyter-widgets/base",
       "_model_module_version": "1.2.0",
       "_model_name": "LayoutModel",
       "_view_count": null,
       "_view_module": "@jupyter-widgets/base",
       "_view_module_version": "1.2.0",
       "_view_name": "LayoutView",
       "align_content": null,
       "align_items": null,
       "align_self": null,
       "border": null,
       "bottom": null,
       "display": null,
       "flex": null,
       "flex_flow": null,
       "grid_area": null,
       "grid_auto_columns": null,
       "grid_auto_flow": null,
       "grid_auto_rows": null,
       "grid_column": null,
       "grid_gap": null,
       "grid_row": null,
       "grid_template_areas": null,
       "grid_template_columns": null,
       "grid_template_rows": null,
       "height": null,
       "justify_content": null,
       "justify_items": null,
       "left": null,
       "margin": null,
       "max_height": null,
       "max_width": null,
       "min_height": null,
       "min_width": null,
       "object_fit": null,
       "object_position": null,
       "order": null,
       "overflow": null,
       "overflow_x": null,
       "overflow_y": null,
       "padding": null,
       "right": null,
       "top": null,
       "visibility": null,
       "width": null
      }
     },
     "61e93eb1831344bc873b16cac4a83895": {
      "model_module": "@jupyter-widgets/base",
      "model_module_version": "1.2.0",
      "model_name": "LayoutModel",
      "state": {
       "_model_module": "@jupyter-widgets/base",
       "_model_module_version": "1.2.0",
       "_model_name": "LayoutModel",
       "_view_count": null,
       "_view_module": "@jupyter-widgets/base",
       "_view_module_version": "1.2.0",
       "_view_name": "LayoutView",
       "align_content": null,
       "align_items": null,
       "align_self": null,
       "border": null,
       "bottom": null,
       "display": null,
       "flex": null,
       "flex_flow": null,
       "grid_area": null,
       "grid_auto_columns": null,
       "grid_auto_flow": null,
       "grid_auto_rows": null,
       "grid_column": null,
       "grid_gap": null,
       "grid_row": null,
       "grid_template_areas": null,
       "grid_template_columns": null,
       "grid_template_rows": null,
       "height": null,
       "justify_content": null,
       "justify_items": null,
       "left": null,
       "margin": null,
       "max_height": null,
       "max_width": null,
       "min_height": null,
       "min_width": null,
       "object_fit": null,
       "object_position": null,
       "order": null,
       "overflow": null,
       "overflow_x": null,
       "overflow_y": null,
       "padding": null,
       "right": null,
       "top": null,
       "visibility": null,
       "width": null
      }
     },
     "63d8a5186ed141b38d1e8bd0d24a1d9a": {
      "model_module": "@jupyter-widgets/controls",
      "model_module_version": "1.5.0",
      "model_name": "DescriptionStyleModel",
      "state": {
       "_model_module": "@jupyter-widgets/controls",
       "_model_module_version": "1.5.0",
       "_model_name": "DescriptionStyleModel",
       "_view_count": null,
       "_view_module": "@jupyter-widgets/base",
       "_view_module_version": "1.2.0",
       "_view_name": "StyleView",
       "description_width": ""
      }
     },
     "646917dde38e49f7bf879a0e17ab810f": {
      "model_module": "@jupyter-widgets/controls",
      "model_module_version": "1.5.0",
      "model_name": "HTMLModel",
      "state": {
       "_dom_classes": [],
       "_model_module": "@jupyter-widgets/controls",
       "_model_module_version": "1.5.0",
       "_model_name": "HTMLModel",
       "_view_count": null,
       "_view_module": "@jupyter-widgets/controls",
       "_view_module_version": "1.5.0",
       "_view_name": "HTMLView",
       "description": "",
       "description_tooltip": null,
       "layout": "IPY_MODEL_14a91f25d0c24b14b6125fa78eff2383",
       "placeholder": "​",
       "style": "IPY_MODEL_63d8a5186ed141b38d1e8bd0d24a1d9a",
       "value": "100%"
      }
     },
     "65d814b1f4f74a2daf8217794ce089a0": {
      "model_module": "@jupyter-widgets/controls",
      "model_module_version": "1.5.0",
      "model_name": "HTMLModel",
      "state": {
       "_dom_classes": [],
       "_model_module": "@jupyter-widgets/controls",
       "_model_module_version": "1.5.0",
       "_model_name": "HTMLModel",
       "_view_count": null,
       "_view_module": "@jupyter-widgets/controls",
       "_view_module_version": "1.5.0",
       "_view_name": "HTMLView",
       "description": "",
       "description_tooltip": null,
       "layout": "IPY_MODEL_0757db0e0e004d2cb29af0f834ac083e",
       "placeholder": "​",
       "style": "IPY_MODEL_a4bd3a2377614bac956e1dac9d8101e8",
       "value": " 202/202 [18:41&lt;00:00,  4.06s/it]"
      }
     },
     "660347a66b024c8e9a5c69c986c40e4f": {
      "model_module": "@jupyter-widgets/controls",
      "model_module_version": "1.5.0",
      "model_name": "DescriptionStyleModel",
      "state": {
       "_model_module": "@jupyter-widgets/controls",
       "_model_module_version": "1.5.0",
       "_model_name": "DescriptionStyleModel",
       "_view_count": null,
       "_view_module": "@jupyter-widgets/base",
       "_view_module_version": "1.2.0",
       "_view_name": "StyleView",
       "description_width": ""
      }
     },
     "666eecda3440438a8942b576f8714561": {
      "model_module": "@jupyter-widgets/controls",
      "model_module_version": "1.5.0",
      "model_name": "HTMLModel",
      "state": {
       "_dom_classes": [],
       "_model_module": "@jupyter-widgets/controls",
       "_model_module_version": "1.5.0",
       "_model_name": "HTMLModel",
       "_view_count": null,
       "_view_module": "@jupyter-widgets/controls",
       "_view_module_version": "1.5.0",
       "_view_name": "HTMLView",
       "description": "",
       "description_tooltip": null,
       "layout": "IPY_MODEL_dd4cf23f09ff4f1395608d679e0e1fd4",
       "placeholder": "​",
       "style": "IPY_MODEL_b6eb82d04f654343a6a750773d60559e",
       "value": " 202/202 [18:41&lt;00:00,  4.06s/it]"
      }
     },
     "66a75e42da8349d8bbda285ef948d170": {
      "model_module": "@jupyter-widgets/base",
      "model_module_version": "1.2.0",
      "model_name": "LayoutModel",
      "state": {
       "_model_module": "@jupyter-widgets/base",
       "_model_module_version": "1.2.0",
       "_model_name": "LayoutModel",
       "_view_count": null,
       "_view_module": "@jupyter-widgets/base",
       "_view_module_version": "1.2.0",
       "_view_name": "LayoutView",
       "align_content": null,
       "align_items": null,
       "align_self": null,
       "border": null,
       "bottom": null,
       "display": null,
       "flex": null,
       "flex_flow": null,
       "grid_area": null,
       "grid_auto_columns": null,
       "grid_auto_flow": null,
       "grid_auto_rows": null,
       "grid_column": null,
       "grid_gap": null,
       "grid_row": null,
       "grid_template_areas": null,
       "grid_template_columns": null,
       "grid_template_rows": null,
       "height": null,
       "justify_content": null,
       "justify_items": null,
       "left": null,
       "margin": null,
       "max_height": null,
       "max_width": null,
       "min_height": null,
       "min_width": null,
       "object_fit": null,
       "object_position": null,
       "order": null,
       "overflow": null,
       "overflow_x": null,
       "overflow_y": null,
       "padding": null,
       "right": null,
       "top": null,
       "visibility": null,
       "width": null
      }
     },
     "68e9252d146744179e2535032e4422f0": {
      "model_module": "@jupyter-widgets/base",
      "model_module_version": "1.2.0",
      "model_name": "LayoutModel",
      "state": {
       "_model_module": "@jupyter-widgets/base",
       "_model_module_version": "1.2.0",
       "_model_name": "LayoutModel",
       "_view_count": null,
       "_view_module": "@jupyter-widgets/base",
       "_view_module_version": "1.2.0",
       "_view_name": "LayoutView",
       "align_content": null,
       "align_items": null,
       "align_self": null,
       "border": null,
       "bottom": null,
       "display": null,
       "flex": null,
       "flex_flow": null,
       "grid_area": null,
       "grid_auto_columns": null,
       "grid_auto_flow": null,
       "grid_auto_rows": null,
       "grid_column": null,
       "grid_gap": null,
       "grid_row": null,
       "grid_template_areas": null,
       "grid_template_columns": null,
       "grid_template_rows": null,
       "height": null,
       "justify_content": null,
       "justify_items": null,
       "left": null,
       "margin": null,
       "max_height": null,
       "max_width": null,
       "min_height": null,
       "min_width": null,
       "object_fit": null,
       "object_position": null,
       "order": null,
       "overflow": null,
       "overflow_x": null,
       "overflow_y": null,
       "padding": null,
       "right": null,
       "top": null,
       "visibility": null,
       "width": null
      }
     },
     "69109b49e90d4c5d83bc20ec9e8d97b4": {
      "model_module": "@jupyter-widgets/controls",
      "model_module_version": "1.5.0",
      "model_name": "DescriptionStyleModel",
      "state": {
       "_model_module": "@jupyter-widgets/controls",
       "_model_module_version": "1.5.0",
       "_model_name": "DescriptionStyleModel",
       "_view_count": null,
       "_view_module": "@jupyter-widgets/base",
       "_view_module_version": "1.2.0",
       "_view_name": "StyleView",
       "description_width": ""
      }
     },
     "69b886e73bab4aeaab2b7c00ff8eef04": {
      "model_module": "@jupyter-widgets/controls",
      "model_module_version": "1.5.0",
      "model_name": "DescriptionStyleModel",
      "state": {
       "_model_module": "@jupyter-widgets/controls",
       "_model_module_version": "1.5.0",
       "_model_name": "DescriptionStyleModel",
       "_view_count": null,
       "_view_module": "@jupyter-widgets/base",
       "_view_module_version": "1.2.0",
       "_view_name": "StyleView",
       "description_width": ""
      }
     },
     "6a12ce6046c94a878d3e8f749b0d87b7": {
      "model_module": "@jupyter-widgets/base",
      "model_module_version": "1.2.0",
      "model_name": "LayoutModel",
      "state": {
       "_model_module": "@jupyter-widgets/base",
       "_model_module_version": "1.2.0",
       "_model_name": "LayoutModel",
       "_view_count": null,
       "_view_module": "@jupyter-widgets/base",
       "_view_module_version": "1.2.0",
       "_view_name": "LayoutView",
       "align_content": null,
       "align_items": null,
       "align_self": null,
       "border": null,
       "bottom": null,
       "display": null,
       "flex": null,
       "flex_flow": null,
       "grid_area": null,
       "grid_auto_columns": null,
       "grid_auto_flow": null,
       "grid_auto_rows": null,
       "grid_column": null,
       "grid_gap": null,
       "grid_row": null,
       "grid_template_areas": null,
       "grid_template_columns": null,
       "grid_template_rows": null,
       "height": null,
       "justify_content": null,
       "justify_items": null,
       "left": null,
       "margin": null,
       "max_height": null,
       "max_width": null,
       "min_height": null,
       "min_width": null,
       "object_fit": null,
       "object_position": null,
       "order": null,
       "overflow": null,
       "overflow_x": null,
       "overflow_y": null,
       "padding": null,
       "right": null,
       "top": null,
       "visibility": null,
       "width": null
      }
     },
     "6bf56bf67b4944fd9a0816f186443f55": {
      "model_module": "@jupyter-widgets/controls",
      "model_module_version": "1.5.0",
      "model_name": "DescriptionStyleModel",
      "state": {
       "_model_module": "@jupyter-widgets/controls",
       "_model_module_version": "1.5.0",
       "_model_name": "DescriptionStyleModel",
       "_view_count": null,
       "_view_module": "@jupyter-widgets/base",
       "_view_module_version": "1.2.0",
       "_view_name": "StyleView",
       "description_width": ""
      }
     },
     "6cd639bdce024b1e8e9e00d099acc4bf": {
      "model_module": "@jupyter-widgets/controls",
      "model_module_version": "1.5.0",
      "model_name": "DescriptionStyleModel",
      "state": {
       "_model_module": "@jupyter-widgets/controls",
       "_model_module_version": "1.5.0",
       "_model_name": "DescriptionStyleModel",
       "_view_count": null,
       "_view_module": "@jupyter-widgets/base",
       "_view_module_version": "1.2.0",
       "_view_name": "StyleView",
       "description_width": ""
      }
     },
     "6cf9bc8c768b46398e9dc4313e8936be": {
      "model_module": "@jupyter-widgets/controls",
      "model_module_version": "1.5.0",
      "model_name": "DescriptionStyleModel",
      "state": {
       "_model_module": "@jupyter-widgets/controls",
       "_model_module_version": "1.5.0",
       "_model_name": "DescriptionStyleModel",
       "_view_count": null,
       "_view_module": "@jupyter-widgets/base",
       "_view_module_version": "1.2.0",
       "_view_name": "StyleView",
       "description_width": ""
      }
     },
     "6d26f681dc7244fba7f931221585a012": {
      "model_module": "@jupyter-widgets/controls",
      "model_module_version": "1.5.0",
      "model_name": "DescriptionStyleModel",
      "state": {
       "_model_module": "@jupyter-widgets/controls",
       "_model_module_version": "1.5.0",
       "_model_name": "DescriptionStyleModel",
       "_view_count": null,
       "_view_module": "@jupyter-widgets/base",
       "_view_module_version": "1.2.0",
       "_view_name": "StyleView",
       "description_width": ""
      }
     },
     "700b927124ca47678f853d1ffe07739e": {
      "model_module": "@jupyter-widgets/base",
      "model_module_version": "1.2.0",
      "model_name": "LayoutModel",
      "state": {
       "_model_module": "@jupyter-widgets/base",
       "_model_module_version": "1.2.0",
       "_model_name": "LayoutModel",
       "_view_count": null,
       "_view_module": "@jupyter-widgets/base",
       "_view_module_version": "1.2.0",
       "_view_name": "LayoutView",
       "align_content": null,
       "align_items": null,
       "align_self": null,
       "border": null,
       "bottom": null,
       "display": null,
       "flex": null,
       "flex_flow": null,
       "grid_area": null,
       "grid_auto_columns": null,
       "grid_auto_flow": null,
       "grid_auto_rows": null,
       "grid_column": null,
       "grid_gap": null,
       "grid_row": null,
       "grid_template_areas": null,
       "grid_template_columns": null,
       "grid_template_rows": null,
       "height": null,
       "justify_content": null,
       "justify_items": null,
       "left": null,
       "margin": null,
       "max_height": null,
       "max_width": null,
       "min_height": null,
       "min_width": null,
       "object_fit": null,
       "object_position": null,
       "order": null,
       "overflow": null,
       "overflow_x": null,
       "overflow_y": null,
       "padding": null,
       "right": null,
       "top": null,
       "visibility": null,
       "width": null
      }
     },
     "7587dcad863442ff9bc6eb0d0d13ae68": {
      "model_module": "@jupyter-widgets/base",
      "model_module_version": "1.2.0",
      "model_name": "LayoutModel",
      "state": {
       "_model_module": "@jupyter-widgets/base",
       "_model_module_version": "1.2.0",
       "_model_name": "LayoutModel",
       "_view_count": null,
       "_view_module": "@jupyter-widgets/base",
       "_view_module_version": "1.2.0",
       "_view_name": "LayoutView",
       "align_content": null,
       "align_items": null,
       "align_self": null,
       "border": null,
       "bottom": null,
       "display": null,
       "flex": null,
       "flex_flow": null,
       "grid_area": null,
       "grid_auto_columns": null,
       "grid_auto_flow": null,
       "grid_auto_rows": null,
       "grid_column": null,
       "grid_gap": null,
       "grid_row": null,
       "grid_template_areas": null,
       "grid_template_columns": null,
       "grid_template_rows": null,
       "height": null,
       "justify_content": null,
       "justify_items": null,
       "left": null,
       "margin": null,
       "max_height": null,
       "max_width": null,
       "min_height": null,
       "min_width": null,
       "object_fit": null,
       "object_position": null,
       "order": null,
       "overflow": null,
       "overflow_x": null,
       "overflow_y": null,
       "padding": null,
       "right": null,
       "top": null,
       "visibility": null,
       "width": null
      }
     },
     "7ad2144888fc47228c96ffc16d0938a1": {
      "model_module": "@jupyter-widgets/base",
      "model_module_version": "1.2.0",
      "model_name": "LayoutModel",
      "state": {
       "_model_module": "@jupyter-widgets/base",
       "_model_module_version": "1.2.0",
       "_model_name": "LayoutModel",
       "_view_count": null,
       "_view_module": "@jupyter-widgets/base",
       "_view_module_version": "1.2.0",
       "_view_name": "LayoutView",
       "align_content": null,
       "align_items": null,
       "align_self": null,
       "border": null,
       "bottom": null,
       "display": null,
       "flex": null,
       "flex_flow": null,
       "grid_area": null,
       "grid_auto_columns": null,
       "grid_auto_flow": null,
       "grid_auto_rows": null,
       "grid_column": null,
       "grid_gap": null,
       "grid_row": null,
       "grid_template_areas": null,
       "grid_template_columns": null,
       "grid_template_rows": null,
       "height": null,
       "justify_content": null,
       "justify_items": null,
       "left": null,
       "margin": null,
       "max_height": null,
       "max_width": null,
       "min_height": null,
       "min_width": null,
       "object_fit": null,
       "object_position": null,
       "order": null,
       "overflow": null,
       "overflow_x": null,
       "overflow_y": null,
       "padding": null,
       "right": null,
       "top": null,
       "visibility": null,
       "width": null
      }
     },
     "7bedace81a504ebf81ac335e8cb09933": {
      "model_module": "@jupyter-widgets/base",
      "model_module_version": "1.2.0",
      "model_name": "LayoutModel",
      "state": {
       "_model_module": "@jupyter-widgets/base",
       "_model_module_version": "1.2.0",
       "_model_name": "LayoutModel",
       "_view_count": null,
       "_view_module": "@jupyter-widgets/base",
       "_view_module_version": "1.2.0",
       "_view_name": "LayoutView",
       "align_content": null,
       "align_items": null,
       "align_self": null,
       "border": null,
       "bottom": null,
       "display": null,
       "flex": null,
       "flex_flow": null,
       "grid_area": null,
       "grid_auto_columns": null,
       "grid_auto_flow": null,
       "grid_auto_rows": null,
       "grid_column": null,
       "grid_gap": null,
       "grid_row": null,
       "grid_template_areas": null,
       "grid_template_columns": null,
       "grid_template_rows": null,
       "height": null,
       "justify_content": null,
       "justify_items": null,
       "left": null,
       "margin": null,
       "max_height": null,
       "max_width": null,
       "min_height": null,
       "min_width": null,
       "object_fit": null,
       "object_position": null,
       "order": null,
       "overflow": null,
       "overflow_x": null,
       "overflow_y": null,
       "padding": null,
       "right": null,
       "top": null,
       "visibility": null,
       "width": null
      }
     },
     "7cfa73ac045841babc7eb9e3df4cebca": {
      "model_module": "@jupyter-widgets/base",
      "model_module_version": "1.2.0",
      "model_name": "LayoutModel",
      "state": {
       "_model_module": "@jupyter-widgets/base",
       "_model_module_version": "1.2.0",
       "_model_name": "LayoutModel",
       "_view_count": null,
       "_view_module": "@jupyter-widgets/base",
       "_view_module_version": "1.2.0",
       "_view_name": "LayoutView",
       "align_content": null,
       "align_items": null,
       "align_self": null,
       "border": null,
       "bottom": null,
       "display": null,
       "flex": null,
       "flex_flow": null,
       "grid_area": null,
       "grid_auto_columns": null,
       "grid_auto_flow": null,
       "grid_auto_rows": null,
       "grid_column": null,
       "grid_gap": null,
       "grid_row": null,
       "grid_template_areas": null,
       "grid_template_columns": null,
       "grid_template_rows": null,
       "height": null,
       "justify_content": null,
       "justify_items": null,
       "left": null,
       "margin": null,
       "max_height": null,
       "max_width": null,
       "min_height": null,
       "min_width": null,
       "object_fit": null,
       "object_position": null,
       "order": null,
       "overflow": null,
       "overflow_x": null,
       "overflow_y": null,
       "padding": null,
       "right": null,
       "top": null,
       "visibility": null,
       "width": null
      }
     },
     "7ed6362cbc754a4c951c6b9888a9a7eb": {
      "model_module": "@jupyter-widgets/controls",
      "model_module_version": "1.5.0",
      "model_name": "HTMLModel",
      "state": {
       "_dom_classes": [],
       "_model_module": "@jupyter-widgets/controls",
       "_model_module_version": "1.5.0",
       "_model_name": "HTMLModel",
       "_view_count": null,
       "_view_module": "@jupyter-widgets/controls",
       "_view_module_version": "1.5.0",
       "_view_name": "HTMLView",
       "description": "",
       "description_tooltip": null,
       "layout": "IPY_MODEL_7bedace81a504ebf81ac335e8cb09933",
       "placeholder": "​",
       "style": "IPY_MODEL_69b886e73bab4aeaab2b7c00ff8eef04",
       "value": " 93.0/93.0 [00:00&lt;00:00, 3.37kB/s]"
      }
     },
     "7ff8589da06e4663bfbffb3c50ccab89": {
      "model_module": "@jupyter-widgets/controls",
      "model_module_version": "1.5.0",
      "model_name": "FloatProgressModel",
      "state": {
       "_dom_classes": [],
       "_model_module": "@jupyter-widgets/controls",
       "_model_module_version": "1.5.0",
       "_model_name": "FloatProgressModel",
       "_view_count": null,
       "_view_module": "@jupyter-widgets/controls",
       "_view_module_version": "1.5.0",
       "_view_name": "ProgressView",
       "bar_style": "success",
       "description": "",
       "description_tooltip": null,
       "layout": "IPY_MODEL_5d6a1a513831403b88c79a197696c012",
       "max": 202,
       "min": 0,
       "orientation": "horizontal",
       "style": "IPY_MODEL_d71f37c5ab4a498fa2f3b3f70b5af697",
       "value": 202
      }
     },
     "80d4700e31a04a89a8d4537ee8c537ca": {
      "model_module": "@jupyter-widgets/controls",
      "model_module_version": "1.5.0",
      "model_name": "HTMLModel",
      "state": {
       "_dom_classes": [],
       "_model_module": "@jupyter-widgets/controls",
       "_model_module_version": "1.5.0",
       "_model_name": "HTMLModel",
       "_view_count": null,
       "_view_module": "@jupyter-widgets/controls",
       "_view_module_version": "1.5.0",
       "_view_name": "HTMLView",
       "description": "",
       "description_tooltip": null,
       "layout": "IPY_MODEL_589b42bef99d4857bc1c9e48a59465b3",
       "placeholder": "​",
       "style": "IPY_MODEL_237270d312c04400bbf245155152f873",
       "value": "100%"
      }
     },
     "8f89559d0d414e9299fd3ea4263b5c2c": {
      "model_module": "@jupyter-widgets/controls",
      "model_module_version": "1.5.0",
      "model_name": "HBoxModel",
      "state": {
       "_dom_classes": [],
       "_model_module": "@jupyter-widgets/controls",
       "_model_module_version": "1.5.0",
       "_model_name": "HBoxModel",
       "_view_count": null,
       "_view_module": "@jupyter-widgets/controls",
       "_view_module_version": "1.5.0",
       "_view_name": "HBoxView",
       "box_style": "",
       "children": [
        "IPY_MODEL_9de7a19cb412427bb4ed61b4a1740da1",
        "IPY_MODEL_d65730ae831e404a8b9994b5a34bd3d8",
        "IPY_MODEL_3b50a30561a84cd685171ee506a0abdc"
       ],
       "layout": "IPY_MODEL_cb181c1497b54dde9f0cfe5a1e73b348"
      }
     },
     "90ba26c953dd4bc5aa7e476fb7a799f7": {
      "model_module": "@jupyter-widgets/controls",
      "model_module_version": "1.5.0",
      "model_name": "FloatProgressModel",
      "state": {
       "_dom_classes": [],
       "_model_module": "@jupyter-widgets/controls",
       "_model_module_version": "1.5.0",
       "_model_name": "FloatProgressModel",
       "_view_count": null,
       "_view_module": "@jupyter-widgets/controls",
       "_view_module_version": "1.5.0",
       "_view_name": "ProgressView",
       "bar_style": "success",
       "description": "",
       "description_tooltip": null,
       "layout": "IPY_MODEL_700b927124ca47678f853d1ffe07739e",
       "max": 202,
       "min": 0,
       "orientation": "horizontal",
       "style": "IPY_MODEL_0d3258474d1546bbb7c07dcd14f6c370",
       "value": 202
      }
     },
     "9642342d02b14836a3d4299b19a27bba": {
      "model_module": "@jupyter-widgets/base",
      "model_module_version": "1.2.0",
      "model_name": "LayoutModel",
      "state": {
       "_model_module": "@jupyter-widgets/base",
       "_model_module_version": "1.2.0",
       "_model_name": "LayoutModel",
       "_view_count": null,
       "_view_module": "@jupyter-widgets/base",
       "_view_module_version": "1.2.0",
       "_view_name": "LayoutView",
       "align_content": null,
       "align_items": null,
       "align_self": null,
       "border": null,
       "bottom": null,
       "display": null,
       "flex": null,
       "flex_flow": null,
       "grid_area": null,
       "grid_auto_columns": null,
       "grid_auto_flow": null,
       "grid_auto_rows": null,
       "grid_column": null,
       "grid_gap": null,
       "grid_row": null,
       "grid_template_areas": null,
       "grid_template_columns": null,
       "grid_template_rows": null,
       "height": null,
       "justify_content": null,
       "justify_items": null,
       "left": null,
       "margin": null,
       "max_height": null,
       "max_width": null,
       "min_height": null,
       "min_width": null,
       "object_fit": null,
       "object_position": null,
       "order": null,
       "overflow": null,
       "overflow_x": null,
       "overflow_y": null,
       "padding": null,
       "right": null,
       "top": null,
       "visibility": null,
       "width": null
      }
     },
     "9a9b41d0851e4eefb8c26c2b8136c60a": {
      "model_module": "@jupyter-widgets/controls",
      "model_module_version": "1.5.0",
      "model_name": "HTMLModel",
      "state": {
       "_dom_classes": [],
       "_model_module": "@jupyter-widgets/controls",
       "_model_module_version": "1.5.0",
       "_model_name": "HTMLModel",
       "_view_count": null,
       "_view_module": "@jupyter-widgets/controls",
       "_view_module_version": "1.5.0",
       "_view_name": "HTMLView",
       "description": "",
       "description_tooltip": null,
       "layout": "IPY_MODEL_68e9252d146744179e2535032e4422f0",
       "placeholder": "​",
       "style": "IPY_MODEL_314e73e3ec0f4205985f51c5768d1fe9",
       "value": "Downloading: 100%"
      }
     },
     "9acea26db8d64e5285a4449d01f99fdd": {
      "model_module": "@jupyter-widgets/controls",
      "model_module_version": "1.5.0",
      "model_name": "ProgressStyleModel",
      "state": {
       "_model_module": "@jupyter-widgets/controls",
       "_model_module_version": "1.5.0",
       "_model_name": "ProgressStyleModel",
       "_view_count": null,
       "_view_module": "@jupyter-widgets/base",
       "_view_module_version": "1.2.0",
       "_view_name": "StyleView",
       "bar_color": null,
       "description_width": ""
      }
     },
     "9ca09f73d07240c393445168941740ef": {
      "model_module": "@jupyter-widgets/controls",
      "model_module_version": "1.5.0",
      "model_name": "FloatProgressModel",
      "state": {
       "_dom_classes": [],
       "_model_module": "@jupyter-widgets/controls",
       "_model_module_version": "1.5.0",
       "_model_name": "FloatProgressModel",
       "_view_count": null,
       "_view_module": "@jupyter-widgets/controls",
       "_view_module_version": "1.5.0",
       "_view_name": "ProgressView",
       "bar_style": "success",
       "description": "",
       "description_tooltip": null,
       "layout": "IPY_MODEL_db71908a4db14cd7bc04c28e164ce875",
       "max": 202,
       "min": 0,
       "orientation": "horizontal",
       "style": "IPY_MODEL_392ed88a55ce443b935cc1627d517441",
       "value": 202
      }
     },
     "9de7a19cb412427bb4ed61b4a1740da1": {
      "model_module": "@jupyter-widgets/controls",
      "model_module_version": "1.5.0",
      "model_name": "HTMLModel",
      "state": {
       "_dom_classes": [],
       "_model_module": "@jupyter-widgets/controls",
       "_model_module_version": "1.5.0",
       "_model_name": "HTMLModel",
       "_view_count": null,
       "_view_module": "@jupyter-widgets/controls",
       "_view_module_version": "1.5.0",
       "_view_name": "HTMLView",
       "description": "",
       "description_tooltip": null,
       "layout": "IPY_MODEL_7587dcad863442ff9bc6eb0d0d13ae68",
       "placeholder": "​",
       "style": "IPY_MODEL_660347a66b024c8e9a5c69c986c40e4f",
       "value": "Downloading: 100%"
      }
     },
     "9ef0f2dcc09b4f20bc170d3efc056072": {
      "model_module": "@jupyter-widgets/base",
      "model_module_version": "1.2.0",
      "model_name": "LayoutModel",
      "state": {
       "_model_module": "@jupyter-widgets/base",
       "_model_module_version": "1.2.0",
       "_model_name": "LayoutModel",
       "_view_count": null,
       "_view_module": "@jupyter-widgets/base",
       "_view_module_version": "1.2.0",
       "_view_name": "LayoutView",
       "align_content": null,
       "align_items": null,
       "align_self": null,
       "border": null,
       "bottom": null,
       "display": null,
       "flex": null,
       "flex_flow": null,
       "grid_area": null,
       "grid_auto_columns": null,
       "grid_auto_flow": null,
       "grid_auto_rows": null,
       "grid_column": null,
       "grid_gap": null,
       "grid_row": null,
       "grid_template_areas": null,
       "grid_template_columns": null,
       "grid_template_rows": null,
       "height": null,
       "justify_content": null,
       "justify_items": null,
       "left": null,
       "margin": null,
       "max_height": null,
       "max_width": null,
       "min_height": null,
       "min_width": null,
       "object_fit": null,
       "object_position": null,
       "order": null,
       "overflow": null,
       "overflow_x": null,
       "overflow_y": null,
       "padding": null,
       "right": null,
       "top": null,
       "visibility": null,
       "width": null
      }
     },
     "a2cf739d2d374b838a3c5c05e5841239": {
      "model_module": "@jupyter-widgets/controls",
      "model_module_version": "1.5.0",
      "model_name": "HTMLModel",
      "state": {
       "_dom_classes": [],
       "_model_module": "@jupyter-widgets/controls",
       "_model_module_version": "1.5.0",
       "_model_name": "HTMLModel",
       "_view_count": null,
       "_view_module": "@jupyter-widgets/controls",
       "_view_module_version": "1.5.0",
       "_view_name": "HTMLView",
       "description": "",
       "description_tooltip": null,
       "layout": "IPY_MODEL_a371baedbf154ed9878b30cf48819968",
       "placeholder": "​",
       "style": "IPY_MODEL_de12bc92b5f748ae9507decaa15a04f3",
       "value": " 202/202 [18:41&lt;00:00,  4.06s/it]"
      }
     },
     "a371baedbf154ed9878b30cf48819968": {
      "model_module": "@jupyter-widgets/base",
      "model_module_version": "1.2.0",
      "model_name": "LayoutModel",
      "state": {
       "_model_module": "@jupyter-widgets/base",
       "_model_module_version": "1.2.0",
       "_model_name": "LayoutModel",
       "_view_count": null,
       "_view_module": "@jupyter-widgets/base",
       "_view_module_version": "1.2.0",
       "_view_name": "LayoutView",
       "align_content": null,
       "align_items": null,
       "align_self": null,
       "border": null,
       "bottom": null,
       "display": null,
       "flex": null,
       "flex_flow": null,
       "grid_area": null,
       "grid_auto_columns": null,
       "grid_auto_flow": null,
       "grid_auto_rows": null,
       "grid_column": null,
       "grid_gap": null,
       "grid_row": null,
       "grid_template_areas": null,
       "grid_template_columns": null,
       "grid_template_rows": null,
       "height": null,
       "justify_content": null,
       "justify_items": null,
       "left": null,
       "margin": null,
       "max_height": null,
       "max_width": null,
       "min_height": null,
       "min_width": null,
       "object_fit": null,
       "object_position": null,
       "order": null,
       "overflow": null,
       "overflow_x": null,
       "overflow_y": null,
       "padding": null,
       "right": null,
       "top": null,
       "visibility": null,
       "width": null
      }
     },
     "a382a8bc108d4c2ca6394eb0d381bfb7": {
      "model_module": "@jupyter-widgets/base",
      "model_module_version": "1.2.0",
      "model_name": "LayoutModel",
      "state": {
       "_model_module": "@jupyter-widgets/base",
       "_model_module_version": "1.2.0",
       "_model_name": "LayoutModel",
       "_view_count": null,
       "_view_module": "@jupyter-widgets/base",
       "_view_module_version": "1.2.0",
       "_view_name": "LayoutView",
       "align_content": null,
       "align_items": null,
       "align_self": null,
       "border": null,
       "bottom": null,
       "display": null,
       "flex": null,
       "flex_flow": null,
       "grid_area": null,
       "grid_auto_columns": null,
       "grid_auto_flow": null,
       "grid_auto_rows": null,
       "grid_column": null,
       "grid_gap": null,
       "grid_row": null,
       "grid_template_areas": null,
       "grid_template_columns": null,
       "grid_template_rows": null,
       "height": null,
       "justify_content": null,
       "justify_items": null,
       "left": null,
       "margin": null,
       "max_height": null,
       "max_width": null,
       "min_height": null,
       "min_width": null,
       "object_fit": null,
       "object_position": null,
       "order": null,
       "overflow": null,
       "overflow_x": null,
       "overflow_y": null,
       "padding": null,
       "right": null,
       "top": null,
       "visibility": null,
       "width": null
      }
     },
     "a4bd3a2377614bac956e1dac9d8101e8": {
      "model_module": "@jupyter-widgets/controls",
      "model_module_version": "1.5.0",
      "model_name": "DescriptionStyleModel",
      "state": {
       "_model_module": "@jupyter-widgets/controls",
       "_model_module_version": "1.5.0",
       "_model_name": "DescriptionStyleModel",
       "_view_count": null,
       "_view_module": "@jupyter-widgets/base",
       "_view_module_version": "1.2.0",
       "_view_name": "StyleView",
       "description_width": ""
      }
     },
     "a96926421041403c8de7f22392ed92a5": {
      "model_module": "@jupyter-widgets/controls",
      "model_module_version": "1.5.0",
      "model_name": "HTMLModel",
      "state": {
       "_dom_classes": [],
       "_model_module": "@jupyter-widgets/controls",
       "_model_module_version": "1.5.0",
       "_model_name": "HTMLModel",
       "_view_count": null,
       "_view_module": "@jupyter-widgets/controls",
       "_view_module_version": "1.5.0",
       "_view_name": "HTMLView",
       "description": "",
       "description_tooltip": null,
       "layout": "IPY_MODEL_19d20b0c92ec4a609bfde9fa761da5f7",
       "placeholder": "​",
       "style": "IPY_MODEL_c0ea359fe4664a8b8f42a7312fa8c120",
       "value": " 202/202 [18:41&lt;00:00,  4.06s/it]"
      }
     },
     "ae669f3ec3594e3b8b9762098082dd21": {
      "model_module": "@jupyter-widgets/base",
      "model_module_version": "1.2.0",
      "model_name": "LayoutModel",
      "state": {
       "_model_module": "@jupyter-widgets/base",
       "_model_module_version": "1.2.0",
       "_model_name": "LayoutModel",
       "_view_count": null,
       "_view_module": "@jupyter-widgets/base",
       "_view_module_version": "1.2.0",
       "_view_name": "LayoutView",
       "align_content": null,
       "align_items": null,
       "align_self": null,
       "border": null,
       "bottom": null,
       "display": null,
       "flex": null,
       "flex_flow": null,
       "grid_area": null,
       "grid_auto_columns": null,
       "grid_auto_flow": null,
       "grid_auto_rows": null,
       "grid_column": null,
       "grid_gap": null,
       "grid_row": null,
       "grid_template_areas": null,
       "grid_template_columns": null,
       "grid_template_rows": null,
       "height": null,
       "justify_content": null,
       "justify_items": null,
       "left": null,
       "margin": null,
       "max_height": null,
       "max_width": null,
       "min_height": null,
       "min_width": null,
       "object_fit": null,
       "object_position": null,
       "order": null,
       "overflow": null,
       "overflow_x": null,
       "overflow_y": null,
       "padding": null,
       "right": null,
       "top": null,
       "visibility": null,
       "width": null
      }
     },
     "ae96e0f2a9e24564acf6da154917e0da": {
      "model_module": "@jupyter-widgets/base",
      "model_module_version": "1.2.0",
      "model_name": "LayoutModel",
      "state": {
       "_model_module": "@jupyter-widgets/base",
       "_model_module_version": "1.2.0",
       "_model_name": "LayoutModel",
       "_view_count": null,
       "_view_module": "@jupyter-widgets/base",
       "_view_module_version": "1.2.0",
       "_view_name": "LayoutView",
       "align_content": null,
       "align_items": null,
       "align_self": null,
       "border": null,
       "bottom": null,
       "display": null,
       "flex": null,
       "flex_flow": null,
       "grid_area": null,
       "grid_auto_columns": null,
       "grid_auto_flow": null,
       "grid_auto_rows": null,
       "grid_column": null,
       "grid_gap": null,
       "grid_row": null,
       "grid_template_areas": null,
       "grid_template_columns": null,
       "grid_template_rows": null,
       "height": null,
       "justify_content": null,
       "justify_items": null,
       "left": null,
       "margin": null,
       "max_height": null,
       "max_width": null,
       "min_height": null,
       "min_width": null,
       "object_fit": null,
       "object_position": null,
       "order": null,
       "overflow": null,
       "overflow_x": null,
       "overflow_y": null,
       "padding": null,
       "right": null,
       "top": null,
       "visibility": null,
       "width": null
      }
     },
     "b2fc74ebbf554354ac0a1e53c72f329e": {
      "model_module": "@jupyter-widgets/base",
      "model_module_version": "1.2.0",
      "model_name": "LayoutModel",
      "state": {
       "_model_module": "@jupyter-widgets/base",
       "_model_module_version": "1.2.0",
       "_model_name": "LayoutModel",
       "_view_count": null,
       "_view_module": "@jupyter-widgets/base",
       "_view_module_version": "1.2.0",
       "_view_name": "LayoutView",
       "align_content": null,
       "align_items": null,
       "align_self": null,
       "border": null,
       "bottom": null,
       "display": null,
       "flex": null,
       "flex_flow": null,
       "grid_area": null,
       "grid_auto_columns": null,
       "grid_auto_flow": null,
       "grid_auto_rows": null,
       "grid_column": null,
       "grid_gap": null,
       "grid_row": null,
       "grid_template_areas": null,
       "grid_template_columns": null,
       "grid_template_rows": null,
       "height": null,
       "justify_content": null,
       "justify_items": null,
       "left": null,
       "margin": null,
       "max_height": null,
       "max_width": null,
       "min_height": null,
       "min_width": null,
       "object_fit": null,
       "object_position": null,
       "order": null,
       "overflow": null,
       "overflow_x": null,
       "overflow_y": null,
       "padding": null,
       "right": null,
       "top": null,
       "visibility": null,
       "width": null
      }
     },
     "b4db2f99a87044c0904d96284289e9bf": {
      "model_module": "@jupyter-widgets/base",
      "model_module_version": "1.2.0",
      "model_name": "LayoutModel",
      "state": {
       "_model_module": "@jupyter-widgets/base",
       "_model_module_version": "1.2.0",
       "_model_name": "LayoutModel",
       "_view_count": null,
       "_view_module": "@jupyter-widgets/base",
       "_view_module_version": "1.2.0",
       "_view_name": "LayoutView",
       "align_content": null,
       "align_items": null,
       "align_self": null,
       "border": null,
       "bottom": null,
       "display": null,
       "flex": null,
       "flex_flow": null,
       "grid_area": null,
       "grid_auto_columns": null,
       "grid_auto_flow": null,
       "grid_auto_rows": null,
       "grid_column": null,
       "grid_gap": null,
       "grid_row": null,
       "grid_template_areas": null,
       "grid_template_columns": null,
       "grid_template_rows": null,
       "height": null,
       "justify_content": null,
       "justify_items": null,
       "left": null,
       "margin": null,
       "max_height": null,
       "max_width": null,
       "min_height": null,
       "min_width": null,
       "object_fit": null,
       "object_position": null,
       "order": null,
       "overflow": null,
       "overflow_x": null,
       "overflow_y": null,
       "padding": null,
       "right": null,
       "top": null,
       "visibility": null,
       "width": null
      }
     },
     "b62ccbe747a74380b179e960a1bc0de4": {
      "model_module": "@jupyter-widgets/base",
      "model_module_version": "1.2.0",
      "model_name": "LayoutModel",
      "state": {
       "_model_module": "@jupyter-widgets/base",
       "_model_module_version": "1.2.0",
       "_model_name": "LayoutModel",
       "_view_count": null,
       "_view_module": "@jupyter-widgets/base",
       "_view_module_version": "1.2.0",
       "_view_name": "LayoutView",
       "align_content": null,
       "align_items": null,
       "align_self": null,
       "border": null,
       "bottom": null,
       "display": null,
       "flex": null,
       "flex_flow": null,
       "grid_area": null,
       "grid_auto_columns": null,
       "grid_auto_flow": null,
       "grid_auto_rows": null,
       "grid_column": null,
       "grid_gap": null,
       "grid_row": null,
       "grid_template_areas": null,
       "grid_template_columns": null,
       "grid_template_rows": null,
       "height": null,
       "justify_content": null,
       "justify_items": null,
       "left": null,
       "margin": null,
       "max_height": null,
       "max_width": null,
       "min_height": null,
       "min_width": null,
       "object_fit": null,
       "object_position": null,
       "order": null,
       "overflow": null,
       "overflow_x": null,
       "overflow_y": null,
       "padding": null,
       "right": null,
       "top": null,
       "visibility": null,
       "width": null
      }
     },
     "b6eb82d04f654343a6a750773d60559e": {
      "model_module": "@jupyter-widgets/controls",
      "model_module_version": "1.5.0",
      "model_name": "DescriptionStyleModel",
      "state": {
       "_model_module": "@jupyter-widgets/controls",
       "_model_module_version": "1.5.0",
       "_model_name": "DescriptionStyleModel",
       "_view_count": null,
       "_view_module": "@jupyter-widgets/base",
       "_view_module_version": "1.2.0",
       "_view_name": "StyleView",
       "description_width": ""
      }
     },
     "b7af226efcbf4718b4b0414860c80316": {
      "model_module": "@jupyter-widgets/controls",
      "model_module_version": "1.5.0",
      "model_name": "HTMLModel",
      "state": {
       "_dom_classes": [],
       "_model_module": "@jupyter-widgets/controls",
       "_model_module_version": "1.5.0",
       "_model_name": "HTMLModel",
       "_view_count": null,
       "_view_module": "@jupyter-widgets/controls",
       "_view_module_version": "1.5.0",
       "_view_name": "HTMLView",
       "description": "",
       "description_tooltip": null,
       "layout": "IPY_MODEL_b2fc74ebbf554354ac0a1e53c72f329e",
       "placeholder": "​",
       "style": "IPY_MODEL_f82f7f998c6440e7b18e1a4f5530eefe",
       "value": "100%"
      }
     },
     "bc6619af9e414a9fb823b1db67eca531": {
      "model_module": "@jupyter-widgets/base",
      "model_module_version": "1.2.0",
      "model_name": "LayoutModel",
      "state": {
       "_model_module": "@jupyter-widgets/base",
       "_model_module_version": "1.2.0",
       "_model_name": "LayoutModel",
       "_view_count": null,
       "_view_module": "@jupyter-widgets/base",
       "_view_module_version": "1.2.0",
       "_view_name": "LayoutView",
       "align_content": null,
       "align_items": null,
       "align_self": null,
       "border": null,
       "bottom": null,
       "display": null,
       "flex": null,
       "flex_flow": null,
       "grid_area": null,
       "grid_auto_columns": null,
       "grid_auto_flow": null,
       "grid_auto_rows": null,
       "grid_column": null,
       "grid_gap": null,
       "grid_row": null,
       "grid_template_areas": null,
       "grid_template_columns": null,
       "grid_template_rows": null,
       "height": null,
       "justify_content": null,
       "justify_items": null,
       "left": null,
       "margin": null,
       "max_height": null,
       "max_width": null,
       "min_height": null,
       "min_width": null,
       "object_fit": null,
       "object_position": null,
       "order": null,
       "overflow": null,
       "overflow_x": null,
       "overflow_y": null,
       "padding": null,
       "right": null,
       "top": null,
       "visibility": null,
       "width": null
      }
     },
     "beae51a04b784235bbe5a5b018ea9340": {
      "model_module": "@jupyter-widgets/controls",
      "model_module_version": "1.5.0",
      "model_name": "ProgressStyleModel",
      "state": {
       "_model_module": "@jupyter-widgets/controls",
       "_model_module_version": "1.5.0",
       "_model_name": "ProgressStyleModel",
       "_view_count": null,
       "_view_module": "@jupyter-widgets/base",
       "_view_module_version": "1.2.0",
       "_view_name": "StyleView",
       "bar_color": null,
       "description_width": ""
      }
     },
     "c0ea359fe4664a8b8f42a7312fa8c120": {
      "model_module": "@jupyter-widgets/controls",
      "model_module_version": "1.5.0",
      "model_name": "DescriptionStyleModel",
      "state": {
       "_model_module": "@jupyter-widgets/controls",
       "_model_module_version": "1.5.0",
       "_model_name": "DescriptionStyleModel",
       "_view_count": null,
       "_view_module": "@jupyter-widgets/base",
       "_view_module_version": "1.2.0",
       "_view_name": "StyleView",
       "description_width": ""
      }
     },
     "c7ef1434e6994cb2ad81a724527ae75b": {
      "model_module": "@jupyter-widgets/base",
      "model_module_version": "1.2.0",
      "model_name": "LayoutModel",
      "state": {
       "_model_module": "@jupyter-widgets/base",
       "_model_module_version": "1.2.0",
       "_model_name": "LayoutModel",
       "_view_count": null,
       "_view_module": "@jupyter-widgets/base",
       "_view_module_version": "1.2.0",
       "_view_name": "LayoutView",
       "align_content": null,
       "align_items": null,
       "align_self": null,
       "border": null,
       "bottom": null,
       "display": null,
       "flex": null,
       "flex_flow": null,
       "grid_area": null,
       "grid_auto_columns": null,
       "grid_auto_flow": null,
       "grid_auto_rows": null,
       "grid_column": null,
       "grid_gap": null,
       "grid_row": null,
       "grid_template_areas": null,
       "grid_template_columns": null,
       "grid_template_rows": null,
       "height": null,
       "justify_content": null,
       "justify_items": null,
       "left": null,
       "margin": null,
       "max_height": null,
       "max_width": null,
       "min_height": null,
       "min_width": null,
       "object_fit": null,
       "object_position": null,
       "order": null,
       "overflow": null,
       "overflow_x": null,
       "overflow_y": null,
       "padding": null,
       "right": null,
       "top": null,
       "visibility": null,
       "width": null
      }
     },
     "c8523decea9c474fb77a54034ffd6e9e": {
      "model_module": "@jupyter-widgets/controls",
      "model_module_version": "1.5.0",
      "model_name": "DescriptionStyleModel",
      "state": {
       "_model_module": "@jupyter-widgets/controls",
       "_model_module_version": "1.5.0",
       "_model_name": "DescriptionStyleModel",
       "_view_count": null,
       "_view_module": "@jupyter-widgets/base",
       "_view_module_version": "1.2.0",
       "_view_name": "StyleView",
       "description_width": ""
      }
     },
     "c8b9595e12314a85be96b1c85629d859": {
      "model_module": "@jupyter-widgets/controls",
      "model_module_version": "1.5.0",
      "model_name": "HTMLModel",
      "state": {
       "_dom_classes": [],
       "_model_module": "@jupyter-widgets/controls",
       "_model_module_version": "1.5.0",
       "_model_name": "HTMLModel",
       "_view_count": null,
       "_view_module": "@jupyter-widgets/controls",
       "_view_module_version": "1.5.0",
       "_view_name": "HTMLView",
       "description": "",
       "description_tooltip": null,
       "layout": "IPY_MODEL_1483b2effa7a4cb0a4c628c419049abd",
       "placeholder": "​",
       "style": "IPY_MODEL_c8523decea9c474fb77a54034ffd6e9e",
       "value": "Downloading: 100%"
      }
     },
     "cb181c1497b54dde9f0cfe5a1e73b348": {
      "model_module": "@jupyter-widgets/base",
      "model_module_version": "1.2.0",
      "model_name": "LayoutModel",
      "state": {
       "_model_module": "@jupyter-widgets/base",
       "_model_module_version": "1.2.0",
       "_model_name": "LayoutModel",
       "_view_count": null,
       "_view_module": "@jupyter-widgets/base",
       "_view_module_version": "1.2.0",
       "_view_name": "LayoutView",
       "align_content": null,
       "align_items": null,
       "align_self": null,
       "border": null,
       "bottom": null,
       "display": null,
       "flex": null,
       "flex_flow": null,
       "grid_area": null,
       "grid_auto_columns": null,
       "grid_auto_flow": null,
       "grid_auto_rows": null,
       "grid_column": null,
       "grid_gap": null,
       "grid_row": null,
       "grid_template_areas": null,
       "grid_template_columns": null,
       "grid_template_rows": null,
       "height": null,
       "justify_content": null,
       "justify_items": null,
       "left": null,
       "margin": null,
       "max_height": null,
       "max_width": null,
       "min_height": null,
       "min_width": null,
       "object_fit": null,
       "object_position": null,
       "order": null,
       "overflow": null,
       "overflow_x": null,
       "overflow_y": null,
       "padding": null,
       "right": null,
       "top": null,
       "visibility": null,
       "width": null
      }
     },
     "cb7423c7fa8647e486a04b2fa8d62519": {
      "model_module": "@jupyter-widgets/base",
      "model_module_version": "1.2.0",
      "model_name": "LayoutModel",
      "state": {
       "_model_module": "@jupyter-widgets/base",
       "_model_module_version": "1.2.0",
       "_model_name": "LayoutModel",
       "_view_count": null,
       "_view_module": "@jupyter-widgets/base",
       "_view_module_version": "1.2.0",
       "_view_name": "LayoutView",
       "align_content": null,
       "align_items": null,
       "align_self": null,
       "border": null,
       "bottom": null,
       "display": null,
       "flex": null,
       "flex_flow": null,
       "grid_area": null,
       "grid_auto_columns": null,
       "grid_auto_flow": null,
       "grid_auto_rows": null,
       "grid_column": null,
       "grid_gap": null,
       "grid_row": null,
       "grid_template_areas": null,
       "grid_template_columns": null,
       "grid_template_rows": null,
       "height": null,
       "justify_content": null,
       "justify_items": null,
       "left": null,
       "margin": null,
       "max_height": null,
       "max_width": null,
       "min_height": null,
       "min_width": null,
       "object_fit": null,
       "object_position": null,
       "order": null,
       "overflow": null,
       "overflow_x": null,
       "overflow_y": null,
       "padding": null,
       "right": null,
       "top": null,
       "visibility": null,
       "width": null
      }
     },
     "cc9e84b6d1e74bb4849b8498e1b4d883": {
      "model_module": "@jupyter-widgets/controls",
      "model_module_version": "1.5.0",
      "model_name": "HTMLModel",
      "state": {
       "_dom_classes": [],
       "_model_module": "@jupyter-widgets/controls",
       "_model_module_version": "1.5.0",
       "_model_name": "HTMLModel",
       "_view_count": null,
       "_view_module": "@jupyter-widgets/controls",
       "_view_module_version": "1.5.0",
       "_view_name": "HTMLView",
       "description": "",
       "description_tooltip": null,
       "layout": "IPY_MODEL_f099f51e3f6f4f14969c1f7176ce8d5c",
       "placeholder": "​",
       "style": "IPY_MODEL_1bd017c98bff4317a474191c76a1dcae",
       "value": " 724/724 [00:00&lt;00:00, 26.3kB/s]"
      }
     },
     "d20f586e03c64787b281fc10d0b75926": {
      "model_module": "@jupyter-widgets/base",
      "model_module_version": "1.2.0",
      "model_name": "LayoutModel",
      "state": {
       "_model_module": "@jupyter-widgets/base",
       "_model_module_version": "1.2.0",
       "_model_name": "LayoutModel",
       "_view_count": null,
       "_view_module": "@jupyter-widgets/base",
       "_view_module_version": "1.2.0",
       "_view_name": "LayoutView",
       "align_content": null,
       "align_items": null,
       "align_self": null,
       "border": null,
       "bottom": null,
       "display": null,
       "flex": null,
       "flex_flow": null,
       "grid_area": null,
       "grid_auto_columns": null,
       "grid_auto_flow": null,
       "grid_auto_rows": null,
       "grid_column": null,
       "grid_gap": null,
       "grid_row": null,
       "grid_template_areas": null,
       "grid_template_columns": null,
       "grid_template_rows": null,
       "height": null,
       "justify_content": null,
       "justify_items": null,
       "left": null,
       "margin": null,
       "max_height": null,
       "max_width": null,
       "min_height": null,
       "min_width": null,
       "object_fit": null,
       "object_position": null,
       "order": null,
       "overflow": null,
       "overflow_x": null,
       "overflow_y": null,
       "padding": null,
       "right": null,
       "top": null,
       "visibility": null,
       "width": null
      }
     },
     "d2729ed49188467fad2e6c394f4e948a": {
      "model_module": "@jupyter-widgets/controls",
      "model_module_version": "1.5.0",
      "model_name": "DescriptionStyleModel",
      "state": {
       "_model_module": "@jupyter-widgets/controls",
       "_model_module_version": "1.5.0",
       "_model_name": "DescriptionStyleModel",
       "_view_count": null,
       "_view_module": "@jupyter-widgets/base",
       "_view_module_version": "1.2.0",
       "_view_name": "StyleView",
       "description_width": ""
      }
     },
     "d4a2af727b474ab4ba764ab35d41e51a": {
      "model_module": "@jupyter-widgets/controls",
      "model_module_version": "1.5.0",
      "model_name": "HBoxModel",
      "state": {
       "_dom_classes": [],
       "_model_module": "@jupyter-widgets/controls",
       "_model_module_version": "1.5.0",
       "_model_name": "HBoxModel",
       "_view_count": null,
       "_view_module": "@jupyter-widgets/controls",
       "_view_module_version": "1.5.0",
       "_view_name": "HBoxView",
       "box_style": "",
       "children": [
        "IPY_MODEL_80d4700e31a04a89a8d4537ee8c537ca",
        "IPY_MODEL_9ca09f73d07240c393445168941740ef",
        "IPY_MODEL_a2cf739d2d374b838a3c5c05e5841239"
       ],
       "layout": "IPY_MODEL_c7ef1434e6994cb2ad81a724527ae75b"
      }
     },
     "d65730ae831e404a8b9994b5a34bd3d8": {
      "model_module": "@jupyter-widgets/controls",
      "model_module_version": "1.5.0",
      "model_name": "FloatProgressModel",
      "state": {
       "_dom_classes": [],
       "_model_module": "@jupyter-widgets/controls",
       "_model_module_version": "1.5.0",
       "_model_name": "FloatProgressModel",
       "_view_count": null,
       "_view_module": "@jupyter-widgets/controls",
       "_view_module_version": "1.5.0",
       "_view_name": "ProgressView",
       "bar_style": "success",
       "description": "",
       "description_tooltip": null,
       "layout": "IPY_MODEL_7ad2144888fc47228c96ffc16d0938a1",
       "max": 95,
       "min": 0,
       "orientation": "horizontal",
       "style": "IPY_MODEL_f997b028bf2f492a9242f4d9a960449a",
       "value": 95
      }
     },
     "d70c4bfb88094f26b68572e86d8bee5f": {
      "model_module": "@jupyter-widgets/base",
      "model_module_version": "1.2.0",
      "model_name": "LayoutModel",
      "state": {
       "_model_module": "@jupyter-widgets/base",
       "_model_module_version": "1.2.0",
       "_model_name": "LayoutModel",
       "_view_count": null,
       "_view_module": "@jupyter-widgets/base",
       "_view_module_version": "1.2.0",
       "_view_name": "LayoutView",
       "align_content": null,
       "align_items": null,
       "align_self": null,
       "border": null,
       "bottom": null,
       "display": null,
       "flex": null,
       "flex_flow": null,
       "grid_area": null,
       "grid_auto_columns": null,
       "grid_auto_flow": null,
       "grid_auto_rows": null,
       "grid_column": null,
       "grid_gap": null,
       "grid_row": null,
       "grid_template_areas": null,
       "grid_template_columns": null,
       "grid_template_rows": null,
       "height": null,
       "justify_content": null,
       "justify_items": null,
       "left": null,
       "margin": null,
       "max_height": null,
       "max_width": null,
       "min_height": null,
       "min_width": null,
       "object_fit": null,
       "object_position": null,
       "order": null,
       "overflow": null,
       "overflow_x": null,
       "overflow_y": null,
       "padding": null,
       "right": null,
       "top": null,
       "visibility": null,
       "width": null
      }
     },
     "d71f37c5ab4a498fa2f3b3f70b5af697": {
      "model_module": "@jupyter-widgets/controls",
      "model_module_version": "1.5.0",
      "model_name": "ProgressStyleModel",
      "state": {
       "_model_module": "@jupyter-widgets/controls",
       "_model_module_version": "1.5.0",
       "_model_name": "ProgressStyleModel",
       "_view_count": null,
       "_view_module": "@jupyter-widgets/base",
       "_view_module_version": "1.2.0",
       "_view_name": "StyleView",
       "bar_color": null,
       "description_width": ""
      }
     },
     "d7af85556d014a75b759ceb4481ac543": {
      "model_module": "@jupyter-widgets/controls",
      "model_module_version": "1.5.0",
      "model_name": "HBoxModel",
      "state": {
       "_dom_classes": [],
       "_model_module": "@jupyter-widgets/controls",
       "_model_module_version": "1.5.0",
       "_model_name": "HBoxModel",
       "_view_count": null,
       "_view_module": "@jupyter-widgets/controls",
       "_view_module_version": "1.5.0",
       "_view_name": "HBoxView",
       "box_style": "",
       "children": [
        "IPY_MODEL_c8b9595e12314a85be96b1c85629d859",
        "IPY_MODEL_49f61b98fd8f4a34aa0a48131935a66c",
        "IPY_MODEL_cc9e84b6d1e74bb4849b8498e1b4d883"
       ],
       "layout": "IPY_MODEL_7cfa73ac045841babc7eb9e3df4cebca"
      }
     },
     "db71908a4db14cd7bc04c28e164ce875": {
      "model_module": "@jupyter-widgets/base",
      "model_module_version": "1.2.0",
      "model_name": "LayoutModel",
      "state": {
       "_model_module": "@jupyter-widgets/base",
       "_model_module_version": "1.2.0",
       "_model_name": "LayoutModel",
       "_view_count": null,
       "_view_module": "@jupyter-widgets/base",
       "_view_module_version": "1.2.0",
       "_view_name": "LayoutView",
       "align_content": null,
       "align_items": null,
       "align_self": null,
       "border": null,
       "bottom": null,
       "display": null,
       "flex": null,
       "flex_flow": null,
       "grid_area": null,
       "grid_auto_columns": null,
       "grid_auto_flow": null,
       "grid_auto_rows": null,
       "grid_column": null,
       "grid_gap": null,
       "grid_row": null,
       "grid_template_areas": null,
       "grid_template_columns": null,
       "grid_template_rows": null,
       "height": null,
       "justify_content": null,
       "justify_items": null,
       "left": null,
       "margin": null,
       "max_height": null,
       "max_width": null,
       "min_height": null,
       "min_width": null,
       "object_fit": null,
       "object_position": null,
       "order": null,
       "overflow": null,
       "overflow_x": null,
       "overflow_y": null,
       "padding": null,
       "right": null,
       "top": null,
       "visibility": null,
       "width": null
      }
     },
     "dd4cf23f09ff4f1395608d679e0e1fd4": {
      "model_module": "@jupyter-widgets/base",
      "model_module_version": "1.2.0",
      "model_name": "LayoutModel",
      "state": {
       "_model_module": "@jupyter-widgets/base",
       "_model_module_version": "1.2.0",
       "_model_name": "LayoutModel",
       "_view_count": null,
       "_view_module": "@jupyter-widgets/base",
       "_view_module_version": "1.2.0",
       "_view_name": "LayoutView",
       "align_content": null,
       "align_items": null,
       "align_self": null,
       "border": null,
       "bottom": null,
       "display": null,
       "flex": null,
       "flex_flow": null,
       "grid_area": null,
       "grid_auto_columns": null,
       "grid_auto_flow": null,
       "grid_auto_rows": null,
       "grid_column": null,
       "grid_gap": null,
       "grid_row": null,
       "grid_template_areas": null,
       "grid_template_columns": null,
       "grid_template_rows": null,
       "height": null,
       "justify_content": null,
       "justify_items": null,
       "left": null,
       "margin": null,
       "max_height": null,
       "max_width": null,
       "min_height": null,
       "min_width": null,
       "object_fit": null,
       "object_position": null,
       "order": null,
       "overflow": null,
       "overflow_x": null,
       "overflow_y": null,
       "padding": null,
       "right": null,
       "top": null,
       "visibility": null,
       "width": null
      }
     },
     "de12bc92b5f748ae9507decaa15a04f3": {
      "model_module": "@jupyter-widgets/controls",
      "model_module_version": "1.5.0",
      "model_name": "DescriptionStyleModel",
      "state": {
       "_model_module": "@jupyter-widgets/controls",
       "_model_module_version": "1.5.0",
       "_model_name": "DescriptionStyleModel",
       "_view_count": null,
       "_view_module": "@jupyter-widgets/base",
       "_view_module_version": "1.2.0",
       "_view_name": "StyleView",
       "description_width": ""
      }
     },
     "e59703da883e421d992d04fc0a2cc699": {
      "model_module": "@jupyter-widgets/controls",
      "model_module_version": "1.5.0",
      "model_name": "HTMLModel",
      "state": {
       "_dom_classes": [],
       "_model_module": "@jupyter-widgets/controls",
       "_model_module_version": "1.5.0",
       "_model_name": "HTMLModel",
       "_view_count": null,
       "_view_module": "@jupyter-widgets/controls",
       "_view_module_version": "1.5.0",
       "_view_name": "HTMLView",
       "description": "",
       "description_tooltip": null,
       "layout": "IPY_MODEL_d20f586e03c64787b281fc10d0b75926",
       "placeholder": "​",
       "style": "IPY_MODEL_6bf56bf67b4944fd9a0816f186443f55",
       "value": " 2.61G/2.61G [01:54&lt;00:00, 22.4MB/s]"
      }
     },
     "e82db467554940e58a39da51da9360e4": {
      "model_module": "@jupyter-widgets/controls",
      "model_module_version": "1.5.0",
      "model_name": "HBoxModel",
      "state": {
       "_dom_classes": [],
       "_model_module": "@jupyter-widgets/controls",
       "_model_module_version": "1.5.0",
       "_model_name": "HBoxModel",
       "_view_count": null,
       "_view_module": "@jupyter-widgets/controls",
       "_view_module_version": "1.5.0",
       "_view_name": "HBoxView",
       "box_style": "",
       "children": [
        "IPY_MODEL_439771a32a6f467eb6c96c5327f87aec",
        "IPY_MODEL_234fbcdb3194414880793b24f976f6e2",
        "IPY_MODEL_666eecda3440438a8942b576f8714561"
       ],
       "layout": "IPY_MODEL_2c24cbc13b8f44488a4052330bc8a062"
      }
     },
     "f099f51e3f6f4f14969c1f7176ce8d5c": {
      "model_module": "@jupyter-widgets/base",
      "model_module_version": "1.2.0",
      "model_name": "LayoutModel",
      "state": {
       "_model_module": "@jupyter-widgets/base",
       "_model_module_version": "1.2.0",
       "_model_name": "LayoutModel",
       "_view_count": null,
       "_view_module": "@jupyter-widgets/base",
       "_view_module_version": "1.2.0",
       "_view_name": "LayoutView",
       "align_content": null,
       "align_items": null,
       "align_self": null,
       "border": null,
       "bottom": null,
       "display": null,
       "flex": null,
       "flex_flow": null,
       "grid_area": null,
       "grid_auto_columns": null,
       "grid_auto_flow": null,
       "grid_auto_rows": null,
       "grid_column": null,
       "grid_gap": null,
       "grid_row": null,
       "grid_template_areas": null,
       "grid_template_columns": null,
       "grid_template_rows": null,
       "height": null,
       "justify_content": null,
       "justify_items": null,
       "left": null,
       "margin": null,
       "max_height": null,
       "max_width": null,
       "min_height": null,
       "min_width": null,
       "object_fit": null,
       "object_position": null,
       "order": null,
       "overflow": null,
       "overflow_x": null,
       "overflow_y": null,
       "padding": null,
       "right": null,
       "top": null,
       "visibility": null,
       "width": null
      }
     },
     "f1d1bb9278654ef4a547f9bf9ed06557": {
      "model_module": "@jupyter-widgets/controls",
      "model_module_version": "1.5.0",
      "model_name": "ProgressStyleModel",
      "state": {
       "_model_module": "@jupyter-widgets/controls",
       "_model_module_version": "1.5.0",
       "_model_name": "ProgressStyleModel",
       "_view_count": null,
       "_view_module": "@jupyter-widgets/base",
       "_view_module_version": "1.2.0",
       "_view_name": "StyleView",
       "bar_color": null,
       "description_width": ""
      }
     },
     "f7eb2bd5e50a49138b1a45f8dddff6aa": {
      "model_module": "@jupyter-widgets/controls",
      "model_module_version": "1.5.0",
      "model_name": "HBoxModel",
      "state": {
       "_dom_classes": [],
       "_model_module": "@jupyter-widgets/controls",
       "_model_module_version": "1.5.0",
       "_model_name": "HBoxModel",
       "_view_count": null,
       "_view_module": "@jupyter-widgets/controls",
       "_view_module_version": "1.5.0",
       "_view_name": "HBoxView",
       "box_style": "",
       "children": [
        "IPY_MODEL_11dd188aed104927ba25e500b8f80a49",
        "IPY_MODEL_90ba26c953dd4bc5aa7e476fb7a799f7",
        "IPY_MODEL_42852040f27f4238a98172d9022b7741"
       ],
       "layout": "IPY_MODEL_ae669f3ec3594e3b8b9762098082dd21"
      }
     },
     "f82f7f998c6440e7b18e1a4f5530eefe": {
      "model_module": "@jupyter-widgets/controls",
      "model_module_version": "1.5.0",
      "model_name": "DescriptionStyleModel",
      "state": {
       "_model_module": "@jupyter-widgets/controls",
       "_model_module_version": "1.5.0",
       "_model_name": "DescriptionStyleModel",
       "_view_count": null,
       "_view_module": "@jupyter-widgets/base",
       "_view_module_version": "1.2.0",
       "_view_name": "StyleView",
       "description_width": ""
      }
     },
     "f997b028bf2f492a9242f4d9a960449a": {
      "model_module": "@jupyter-widgets/controls",
      "model_module_version": "1.5.0",
      "model_name": "ProgressStyleModel",
      "state": {
       "_model_module": "@jupyter-widgets/controls",
       "_model_module_version": "1.5.0",
       "_model_name": "ProgressStyleModel",
       "_view_count": null,
       "_view_module": "@jupyter-widgets/base",
       "_view_module_version": "1.2.0",
       "_view_name": "StyleView",
       "bar_color": null,
       "description_width": ""
      }
     },
     "fbf4e6b46eda48fb84bd04eed446ed46": {
      "model_module": "@jupyter-widgets/base",
      "model_module_version": "1.2.0",
      "model_name": "LayoutModel",
      "state": {
       "_model_module": "@jupyter-widgets/base",
       "_model_module_version": "1.2.0",
       "_model_name": "LayoutModel",
       "_view_count": null,
       "_view_module": "@jupyter-widgets/base",
       "_view_module_version": "1.2.0",
       "_view_name": "LayoutView",
       "align_content": null,
       "align_items": null,
       "align_self": null,
       "border": null,
       "bottom": null,
       "display": null,
       "flex": null,
       "flex_flow": null,
       "grid_area": null,
       "grid_auto_columns": null,
       "grid_auto_flow": null,
       "grid_auto_rows": null,
       "grid_column": null,
       "grid_gap": null,
       "grid_row": null,
       "grid_template_areas": null,
       "grid_template_columns": null,
       "grid_template_rows": null,
       "height": null,
       "justify_content": null,
       "justify_items": null,
       "left": null,
       "margin": null,
       "max_height": null,
       "max_width": null,
       "min_height": null,
       "min_width": null,
       "object_fit": null,
       "object_position": null,
       "order": null,
       "overflow": null,
       "overflow_x": null,
       "overflow_y": null,
       "padding": null,
       "right": null,
       "top": null,
       "visibility": null,
       "width": null
      }
     },
     "fdcc18534ff64a1db424405bead9eba3": {
      "model_module": "@jupyter-widgets/controls",
      "model_module_version": "1.5.0",
      "model_name": "DescriptionStyleModel",
      "state": {
       "_model_module": "@jupyter-widgets/controls",
       "_model_module_version": "1.5.0",
       "_model_name": "DescriptionStyleModel",
       "_view_count": null,
       "_view_module": "@jupyter-widgets/base",
       "_view_module_version": "1.2.0",
       "_view_name": "StyleView",
       "description_width": ""
      }
     }
    },
    "version_major": 2,
    "version_minor": 0
   }
  }
 },
 "nbformat": 4,
 "nbformat_minor": 5
}
