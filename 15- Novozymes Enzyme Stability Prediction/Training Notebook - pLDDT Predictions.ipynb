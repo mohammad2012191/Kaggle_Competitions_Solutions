{
 "cells": [
  {
   "cell_type": "markdown",
   "metadata": {},
   "source": [
    "# Difference Features - LB 0.600\n",
    "In this notebook we create difference features based on Kvigly's published PDBs [here][1]. For each test mutation we compute the difference between `pLDDT` mutation minus `pLDDT` wildtype. We notice that this submission is very diverse from the existing public notebooks (which mainly focus on wild type protein). \n",
    "\n",
    "We can boost CV LB more by creating more difference features between wild type and mutation using PDB files. For example, another recent diverse high scoring notebook is greySnow's difference PDB feature bewtween energy scores [here][2]\n",
    "\n",
    "[1]: https://www.kaggle.com/competitions/novozymes-enzyme-stability-prediction/discussion/361816\n",
    "[2]: https://www.kaggle.com/code/shlomoron/nesp-relaxed-rosetta-scores"
   ]
  },
  {
   "cell_type": "markdown",
   "metadata": {},
   "source": [
    "# Load Test Data"
   ]
  },
  {
   "cell_type": "code",
   "execution_count": 1,
   "metadata": {
    "_cell_guid": "b1076dfc-b9ad-4769-8c92-a6c4dae69d19",
    "_uuid": "8f2839f25d086af736a60e9eeb907d3b93b6e0e5",
    "execution": {
     "iopub.execute_input": "2022-12-08T23:21:38.593359Z",
     "iopub.status.busy": "2022-12-08T23:21:38.592642Z",
     "iopub.status.idle": "2022-12-08T23:21:39.438388Z",
     "shell.execute_reply": "2022-12-08T23:21:39.437053Z",
     "shell.execute_reply.started": "2022-12-08T23:21:38.593254Z"
    }
   },
   "outputs": [],
   "source": [
    "import pandas as pd\n",
    "pd.set_option('display.max_columns', 500)\n",
    "import matplotlib.pyplot as plt\n",
    "from scipy.stats import rankdata"
   ]
  },
  {
   "cell_type": "code",
   "execution_count": 2,
   "metadata": {
    "execution": {
     "iopub.execute_input": "2022-12-08T23:21:39.441830Z",
     "iopub.status.busy": "2022-12-08T23:21:39.441095Z",
     "iopub.status.idle": "2022-12-08T23:21:39.617696Z",
     "shell.execute_reply": "2022-12-08T23:21:39.616235Z",
     "shell.execute_reply.started": "2022-12-08T23:21:39.441776Z"
    }
   },
   "outputs": [
    {
     "data": {
      "text/html": [
       "<div>\n",
       "<style scoped>\n",
       "    .dataframe tbody tr th:only-of-type {\n",
       "        vertical-align: middle;\n",
       "    }\n",
       "\n",
       "    .dataframe tbody tr th {\n",
       "        vertical-align: top;\n",
       "    }\n",
       "\n",
       "    .dataframe thead th {\n",
       "        text-align: right;\n",
       "    }\n",
       "</style>\n",
       "<table border=\"1\" class=\"dataframe\">\n",
       "  <thead>\n",
       "    <tr style=\"text-align: right;\">\n",
       "      <th></th>\n",
       "      <th>seq_id</th>\n",
       "      <th>protein_sequence</th>\n",
       "      <th>pH</th>\n",
       "      <th>data_source</th>\n",
       "    </tr>\n",
       "  </thead>\n",
       "  <tbody>\n",
       "    <tr>\n",
       "      <th>0</th>\n",
       "      <td>31390</td>\n",
       "      <td>VPVNPEPDATSVENVAEKTGSGDSQSDPIKADLEVKGQSALPFDVD...</td>\n",
       "      <td>8</td>\n",
       "      <td>Novozymes</td>\n",
       "    </tr>\n",
       "    <tr>\n",
       "      <th>1</th>\n",
       "      <td>31391</td>\n",
       "      <td>VPVNPEPDATSVENVAKKTGSGDSQSDPIKADLEVKGQSALPFDVD...</td>\n",
       "      <td>8</td>\n",
       "      <td>Novozymes</td>\n",
       "    </tr>\n",
       "    <tr>\n",
       "      <th>2</th>\n",
       "      <td>31392</td>\n",
       "      <td>VPVNPEPDATSVENVAKTGSGDSQSDPIKADLEVKGQSALPFDVDC...</td>\n",
       "      <td>8</td>\n",
       "      <td>Novozymes</td>\n",
       "    </tr>\n",
       "    <tr>\n",
       "      <th>3</th>\n",
       "      <td>31393</td>\n",
       "      <td>VPVNPEPDATSVENVALCTGSGDSQSDPIKADLEVKGQSALPFDVD...</td>\n",
       "      <td>8</td>\n",
       "      <td>Novozymes</td>\n",
       "    </tr>\n",
       "    <tr>\n",
       "      <th>4</th>\n",
       "      <td>31394</td>\n",
       "      <td>VPVNPEPDATSVENVALFTGSGDSQSDPIKADLEVKGQSALPFDVD...</td>\n",
       "      <td>8</td>\n",
       "      <td>Novozymes</td>\n",
       "    </tr>\n",
       "  </tbody>\n",
       "</table>\n",
       "</div>"
      ],
      "text/plain": [
       "   seq_id                                   protein_sequence  pH data_source\n",
       "0   31390  VPVNPEPDATSVENVAEKTGSGDSQSDPIKADLEVKGQSALPFDVD...   8   Novozymes\n",
       "1   31391  VPVNPEPDATSVENVAKKTGSGDSQSDPIKADLEVKGQSALPFDVD...   8   Novozymes\n",
       "2   31392  VPVNPEPDATSVENVAKTGSGDSQSDPIKADLEVKGQSALPFDVDC...   8   Novozymes\n",
       "3   31393  VPVNPEPDATSVENVALCTGSGDSQSDPIKADLEVKGQSALPFDVD...   8   Novozymes\n",
       "4   31394  VPVNPEPDATSVENVALFTGSGDSQSDPIKADLEVKGQSALPFDVD...   8   Novozymes"
      ]
     },
     "execution_count": 2,
     "metadata": {},
     "output_type": "execute_result"
    }
   ],
   "source": [
    "test = pd.read_csv('../input/novozymes-enzyme-stability-prediction/test.csv')\n",
    "deletions = test.loc[test.protein_sequence.str.len()==220,'seq_id'].values\n",
    "test.head()"
   ]
  },
  {
   "cell_type": "code",
   "execution_count": 3,
   "metadata": {
    "execution": {
     "iopub.execute_input": "2022-12-08T23:21:39.619688Z",
     "iopub.status.busy": "2022-12-08T23:21:39.619312Z",
     "iopub.status.idle": "2022-12-08T23:21:39.627496Z",
     "shell.execute_reply": "2022-12-08T23:21:39.625990Z",
     "shell.execute_reply.started": "2022-12-08T23:21:39.619656Z"
    }
   },
   "outputs": [
    {
     "data": {
      "text/plain": [
       "221"
      ]
     },
     "execution_count": 3,
     "metadata": {},
     "output_type": "execute_result"
    }
   ],
   "source": [
    "# LOAD TEST WILDTYPE\n",
    "base = 'VPVNPEPDATSVENVALKTGSGDSQSDPIKADLEVKGQSALPFDVDCWAILCKGAPNVLQRVNEKTKNSNRDRSGANKGPFKDPQKWGIKALPPKNPSWSAQDFKSPEEYAFASSLQGGTNAILAPVNLASQNSQGGVLNGFYSANKVAQFDPSKPQQTKGTWFQITKFTGAAGPYCKALGSNDKSVCDKNKNIAGDWGFDPAKWAYQYDEKNNKFNYVGK'\n",
    "len(base)"
   ]
  },
  {
   "cell_type": "code",
   "execution_count": 4,
   "metadata": {
    "execution": {
     "iopub.execute_input": "2022-12-08T23:21:39.630700Z",
     "iopub.status.busy": "2022-12-08T23:21:39.630271Z",
     "iopub.status.idle": "2022-12-08T23:21:44.478270Z",
     "shell.execute_reply": "2022-12-08T23:21:44.477019Z",
     "shell.execute_reply.started": "2022-12-08T23:21:39.630662Z"
    }
   },
   "outputs": [
    {
     "data": {
      "text/html": [
       "<div>\n",
       "<style scoped>\n",
       "    .dataframe tbody tr th:only-of-type {\n",
       "        vertical-align: middle;\n",
       "    }\n",
       "\n",
       "    .dataframe tbody tr th {\n",
       "        vertical-align: top;\n",
       "    }\n",
       "\n",
       "    .dataframe thead th {\n",
       "        text-align: right;\n",
       "    }\n",
       "</style>\n",
       "<table border=\"1\" class=\"dataframe\">\n",
       "  <thead>\n",
       "    <tr style=\"text-align: right;\">\n",
       "      <th></th>\n",
       "      <th>seq_id</th>\n",
       "      <th>protein_sequence</th>\n",
       "      <th>pH</th>\n",
       "      <th>data_source</th>\n",
       "      <th>wildtype</th>\n",
       "      <th>mutation</th>\n",
       "      <th>position</th>\n",
       "    </tr>\n",
       "  </thead>\n",
       "  <tbody>\n",
       "    <tr>\n",
       "      <th>0</th>\n",
       "      <td>31390</td>\n",
       "      <td>VPVNPEPDATSVENVAEKTGSGDSQSDPIKADLEVKGQSALPFDVD...</td>\n",
       "      <td>8</td>\n",
       "      <td>Novozymes</td>\n",
       "      <td>L</td>\n",
       "      <td>E</td>\n",
       "      <td>17</td>\n",
       "    </tr>\n",
       "    <tr>\n",
       "      <th>1</th>\n",
       "      <td>31391</td>\n",
       "      <td>VPVNPEPDATSVENVAKKTGSGDSQSDPIKADLEVKGQSALPFDVD...</td>\n",
       "      <td>8</td>\n",
       "      <td>Novozymes</td>\n",
       "      <td>L</td>\n",
       "      <td>K</td>\n",
       "      <td>17</td>\n",
       "    </tr>\n",
       "    <tr>\n",
       "      <th>2</th>\n",
       "      <td>31392</td>\n",
       "      <td>VPVNPEPDATSVENVAKTGSGDSQSDPIKADLEVKGQSALPFDVDC...</td>\n",
       "      <td>8</td>\n",
       "      <td>Novozymes</td>\n",
       "      <td>L</td>\n",
       "      <td>_</td>\n",
       "      <td>17</td>\n",
       "    </tr>\n",
       "    <tr>\n",
       "      <th>3</th>\n",
       "      <td>31393</td>\n",
       "      <td>VPVNPEPDATSVENVALCTGSGDSQSDPIKADLEVKGQSALPFDVD...</td>\n",
       "      <td>8</td>\n",
       "      <td>Novozymes</td>\n",
       "      <td>K</td>\n",
       "      <td>C</td>\n",
       "      <td>18</td>\n",
       "    </tr>\n",
       "    <tr>\n",
       "      <th>4</th>\n",
       "      <td>31394</td>\n",
       "      <td>VPVNPEPDATSVENVALFTGSGDSQSDPIKADLEVKGQSALPFDVD...</td>\n",
       "      <td>8</td>\n",
       "      <td>Novozymes</td>\n",
       "      <td>K</td>\n",
       "      <td>F</td>\n",
       "      <td>18</td>\n",
       "    </tr>\n",
       "  </tbody>\n",
       "</table>\n",
       "</div>"
      ],
      "text/plain": [
       "   seq_id                                   protein_sequence  pH data_source  \\\n",
       "0   31390  VPVNPEPDATSVENVAEKTGSGDSQSDPIKADLEVKGQSALPFDVD...   8   Novozymes   \n",
       "1   31391  VPVNPEPDATSVENVAKKTGSGDSQSDPIKADLEVKGQSALPFDVD...   8   Novozymes   \n",
       "2   31392  VPVNPEPDATSVENVAKTGSGDSQSDPIKADLEVKGQSALPFDVDC...   8   Novozymes   \n",
       "3   31393  VPVNPEPDATSVENVALCTGSGDSQSDPIKADLEVKGQSALPFDVD...   8   Novozymes   \n",
       "4   31394  VPVNPEPDATSVENVALFTGSGDSQSDPIKADLEVKGQSALPFDVD...   8   Novozymes   \n",
       "\n",
       "  wildtype mutation  position  \n",
       "0        L        E        17  \n",
       "1        L        K        17  \n",
       "2        L        _        17  \n",
       "3        K        C        18  \n",
       "4        K        F        18  "
      ]
     },
     "execution_count": 4,
     "metadata": {},
     "output_type": "execute_result"
    }
   ],
   "source": [
    "def get_test_mutation(row):\n",
    "    for i,(a,b) in enumerate(zip(row.protein_sequence,base)):\n",
    "        if a!=b: break\n",
    "    row['wildtype'] = base[i]\n",
    "    row['mutation'] = row.protein_sequence[i]\n",
    "    row['position'] = i+1\n",
    "    return row\n",
    "test = test.apply(get_test_mutation,axis=1)\n",
    "test.loc[test.seq_id.isin(deletions),'mutation'] = '_'\n",
    "test.head()"
   ]
  },
  {
   "cell_type": "markdown",
   "metadata": {},
   "source": [
    "# Load PDBs Provided by Kvigly\n",
    "We load the PDBs provided by Kvigly (discussion [here][1]) and extract the `pLDDT` from wild type and mutation. Then we compute the difference.\n",
    "\n",
    "[1]: https://www.kaggle.com/competitions/novozymes-enzyme-stability-prediction/discussion/361816"
   ]
  },
  {
   "cell_type": "code",
   "execution_count": 5,
   "metadata": {
    "_kg_hide-output": true,
    "execution": {
     "iopub.execute_input": "2022-12-08T23:21:46.462603Z",
     "iopub.status.busy": "2022-12-08T23:21:46.462111Z",
     "iopub.status.idle": "2022-12-08T23:22:02.122591Z",
     "shell.execute_reply": "2022-12-08T23:22:02.121469Z",
     "shell.execute_reply.started": "2022-12-08T23:21:46.462560Z"
    }
   },
   "outputs": [
    {
     "name": "stdout",
     "output_type": "stream",
     "text": [
      "Collecting biopandas\n",
      "  Downloading biopandas-0.4.1-py2.py3-none-any.whl (878 kB)\n",
      "\u001b[2K     \u001b[90m━━━━━━━━━━━━━━━━━━━━━━━━━━━━━━━━━━━━━━━\u001b[0m \u001b[32m879.0/879.0 kB\u001b[0m \u001b[31m1.1 MB/s\u001b[0m eta \u001b[36m0:00:00\u001b[0ma \u001b[36m0:00:01\u001b[0m\n",
      "\u001b[?25hRequirement already satisfied: pandas>=0.24.2 in /opt/conda/lib/python3.7/site-packages (from biopandas) (1.3.5)\n",
      "Requirement already satisfied: setuptools in /opt/conda/lib/python3.7/site-packages (from biopandas) (59.8.0)\n",
      "Requirement already satisfied: numpy>=1.16.2 in /opt/conda/lib/python3.7/site-packages (from biopandas) (1.21.6)\n",
      "Requirement already satisfied: python-dateutil>=2.7.3 in /opt/conda/lib/python3.7/site-packages (from pandas>=0.24.2->biopandas) (2.8.2)\n",
      "Requirement already satisfied: pytz>=2017.3 in /opt/conda/lib/python3.7/site-packages (from pandas>=0.24.2->biopandas) (2022.1)\n",
      "Requirement already satisfied: six>=1.5 in /opt/conda/lib/python3.7/site-packages (from python-dateutil>=2.7.3->pandas>=0.24.2->biopandas) (1.15.0)\n",
      "Installing collected packages: biopandas\n",
      "Successfully installed biopandas-0.4.1\n",
      "\u001b[33mWARNING: Running pip as the 'root' user can result in broken permissions and conflicting behaviour with the system package manager. It is recommended to use a virtual environment instead: https://pip.pypa.io/warnings/venv\u001b[0m\u001b[33m\n",
      "\u001b[0m"
     ]
    }
   ],
   "source": [
    "!pip install biopandas\n",
    "from biopandas.pdb import PandasPdb\n",
    "\n",
    "# TEST WILD TYPE\n",
    "atom_df0 = PandasPdb().read_pdb(f'../input/nesp-kvigly-test-mutation-pdbs/WT_unrelaxed_rank_1_model_3.pdb')\n",
    "atom_df0 = atom_df0.df['ATOM']\n",
    "wt = atom_df0.groupby('residue_number').b_factor.agg('first').values"
   ]
  },
  {
   "cell_type": "markdown",
   "metadata": {},
   "source": [
    "# Compute Difference Mutation vs. Wild Type Feature"
   ]
  },
  {
   "cell_type": "code",
   "execution_count": 6,
   "metadata": {
    "execution": {
     "iopub.execute_input": "2022-12-08T23:22:12.074400Z",
     "iopub.status.busy": "2022-12-08T23:22:12.073775Z",
     "iopub.status.idle": "2022-12-08T23:24:34.926627Z",
     "shell.execute_reply": "2022-12-08T23:24:34.925133Z",
     "shell.execute_reply.started": "2022-12-08T23:22:12.074335Z"
    }
   },
   "outputs": [
    {
     "name": "stdout",
     "output_type": "stream",
     "text": [
      "These PDB are missing: [1169]\n"
     ]
    }
   ],
   "source": [
    "diffs = []\n",
    "missing = []\n",
    "\n",
    "for index,row in test.iterrows():\n",
    "    #print(index,', ',end='')\n",
    "    aa1 = row.wildtype\n",
    "    aa2 = row.mutation\n",
    "    pos = row.position\n",
    "    d = 0\n",
    "    try:\n",
    "        atom_df = PandasPdb().read_pdb(f'../input/nesp-kvigly-test-mutation-pdbs/{aa1}{pos}{aa2}_unrelaxed_rank_1_model_3.pdb')\n",
    "        atom_df = atom_df.df['ATOM']\n",
    "        mut = atom_df.groupby('residue_number').b_factor.agg('first').values\n",
    "        d = mut[pos-1] - wt[pos-1]\n",
    "\n",
    "    except:\n",
    "        missing.append(index)\n",
    "        \n",
    "    diffs.append(d)\n",
    "print('These PDB are missing:', missing )"
   ]
  },
  {
   "cell_type": "markdown",
   "metadata": {},
   "source": [
    "# Create Submission CSV\n",
    "We publish both single model CSV and ensemble with best public notebook CSV."
   ]
  },
  {
   "cell_type": "code",
   "execution_count": 7,
   "metadata": {
    "execution": {
     "iopub.execute_input": "2022-12-08T23:25:34.762246Z",
     "iopub.status.busy": "2022-12-08T23:25:34.761750Z",
     "iopub.status.idle": "2022-12-08T23:25:35.204362Z",
     "shell.execute_reply": "2022-12-08T23:25:35.203272Z",
     "shell.execute_reply.started": "2022-12-08T23:25:34.762206Z"
    }
   },
   "outputs": [
    {
     "data": {
      "image/png": "[encoded data removed]",
      "text/plain": [
       "<Figure size 432x288 with 1 Axes>"
      ]
     },
     "metadata": {
      "needs_background": "light"
     },
     "output_type": "display_data"
    }
   ],
   "source": [
    "sub = pd.read_csv('../input/novozymes-enzyme-stability-prediction/sample_submission.csv')\n",
    "sub['tm'] = diffs\n",
    "sub.to_csv('submission_single_model.csv',index=False)\n",
    "\n",
    "best = pd.read_csv('../input/nesp-thermonet-v2/ensemble_submission.csv')\n",
    "best.tm = rankdata( best.tm )\n",
    "best.head()\n",
    "\n",
    "submission = sub.copy()\n",
    "submission.tm = (0.15 * rankdata(sub.tm) + 0.85 * rankdata(best.tm))/len(submission)\n",
    "plt.hist( submission.tm, bins=100)\n",
    "plt.show()\n",
    "submission.to_csv('submission.csv',index=False)"
   ]
  },
  {
   "cell_type": "code",
   "execution_count": null,
   "metadata": {},
   "outputs": [],
   "source": []
  }
 ],
 "metadata": {
  "kernelspec": {
   "display_name": "Python 3 (ipykernel)",
   "language": "python",
   "name": "python3"
  },
  "language_info": {
   "codemirror_mode": {
    "name": "ipython",
    "version": 3
   },
   "file_extension": ".py",
   "mimetype": "text/x-python",
   "name": "python",
   "nbconvert_exporter": "python",
   "pygments_lexer": "ipython3",
   "version": "3.9.18"
  }
 },
 "nbformat": 4,
 "nbformat_minor": 4
}
