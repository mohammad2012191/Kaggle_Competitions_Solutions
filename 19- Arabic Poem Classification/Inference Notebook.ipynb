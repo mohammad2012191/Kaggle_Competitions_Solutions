{
 "cells": [
  {
   "cell_type": "markdown",
   "id": "c9edcf9c",
   "metadata": {
    "papermill": {
     "duration": 0.008766,
     "end_time": "2024-03-10T22:26:37.985137",
     "exception": false,
     "start_time": "2024-03-10T22:26:37.976371",
     "status": "completed"
    },
    "tags": []
   },
   "source": [
    "# NLP DL Pipeline (Inference)\n",
    "# By Mohamed Eltayeb"
   ]
  },
  {
   "cell_type": "markdown",
   "id": "be72b6a1",
   "metadata": {
    "papermill": {
     "duration": 0.008049,
     "end_time": "2024-03-10T22:26:38.001496",
     "exception": false,
     "start_time": "2024-03-10T22:26:37.993447",
     "status": "completed"
    },
    "tags": []
   },
   "source": [
    "# Import Libraries"
   ]
  },
  {
   "cell_type": "code",
   "execution_count": 1,
   "id": "c0a4806b",
   "metadata": {
    "execution": {
     "iopub.execute_input": "2024-03-10T22:26:38.019984Z",
     "iopub.status.busy": "2024-03-10T22:26:38.019245Z",
     "iopub.status.idle": "2024-03-10T22:26:58.894597Z",
     "shell.execute_reply": "2024-03-10T22:26:58.893400Z"
    },
    "papermill": {
     "duration": 20.88714,
     "end_time": "2024-03-10T22:26:58.896898",
     "exception": false,
     "start_time": "2024-03-10T22:26:38.009758",
     "status": "completed"
    },
    "tags": []
   },
   "outputs": [
    {
     "name": "stdout",
     "output_type": "stream",
     "text": [
      "tokenizers.__version__: 0.15.2\n",
      "transformers.__version__: 4.38.1\n"
     ]
    },
    {
     "name": "stderr",
     "output_type": "stream",
     "text": [
      "2024-03-10 22:26:50.647067: E external/local_xla/xla/stream_executor/cuda/cuda_dnn.cc:9261] Unable to register cuDNN factory: Attempting to register factory for plugin cuDNN when one has already been registered\n",
      "2024-03-10 22:26:50.647176: E external/local_xla/xla/stream_executor/cuda/cuda_fft.cc:607] Unable to register cuFFT factory: Attempting to register factory for plugin cuFFT when one has already been registered\n",
      "2024-03-10 22:26:50.795414: E external/local_xla/xla/stream_executor/cuda/cuda_blas.cc:1515] Unable to register cuBLAS factory: Attempting to register factory for plugin cuBLAS when one has already been registered\n"
     ]
    },
    {
     "name": "stdout",
     "output_type": "stream",
     "text": [
      "env: TOKENIZERS_PARALLELISM=False\n"
     ]
    }
   ],
   "source": [
    "# ====================================================\n",
    "# Library\n",
    "# ====================================================\n",
    "import os\n",
    "import gc\n",
    "import re\n",
    "import ast\n",
    "import sys\n",
    "import copy\n",
    "import json\n",
    "import time\n",
    "import math\n",
    "import string\n",
    "import pickle\n",
    "import random\n",
    "import joblib\n",
    "import glob\n",
    "import itertools\n",
    "import warnings\n",
    "warnings.filterwarnings(\"ignore\")\n",
    "\n",
    "import scipy as sp\n",
    "import numpy as np\n",
    "import pandas as pd\n",
    "import matplotlib.pyplot as plt\n",
    "import seaborn as sns\n",
    "pd.set_option('display.max_rows', 500)\n",
    "pd.set_option('display.max_columns', 500)\n",
    "pd.set_option('display.width', 1000)\n",
    "plt.rcParams[\"figure.figsize\"] = (12, 8)\n",
    "from tqdm.auto import tqdm\n",
    "from sklearn.preprocessing import LabelEncoder\n",
    "from sklearn.metrics import mean_squared_error\n",
    "from sklearn.model_selection import StratifiedKFold, GroupKFold, KFold\n",
    "from sklearn.feature_extraction.text import CountVectorizer, TfidfVectorizer\n",
    "\n",
    "import torch\n",
    "import torch.nn as nn\n",
    "from torch.nn import Parameter\n",
    "from torch.optim import Optimizer\n",
    "import torch.nn.init as init\n",
    "import torch.nn.functional as F\n",
    "from torch.autograd.function import InplaceFunction\n",
    "from torch.optim import Adam, SGD, AdamW\n",
    "from torch.utils.data import DataLoader, Dataset\n",
    "\n",
    "# PyTorch Lightning imports:\n",
    "import pytorch_lightning as pl\n",
    "from pytorch_lightning import LightningModule, Trainer, seed_everything\n",
    "from pytorch_lightning.tuner.tuning import Tuner\n",
    "from pytorch_lightning.callbacks import ModelCheckpoint, EarlyStopping \n",
    "from pytorch_lightning.loggers import CSVLogger\n",
    "\n",
    "import tokenizers\n",
    "import transformers\n",
    "print(f\"tokenizers.__version__: {tokenizers.__version__}\")\n",
    "print(f\"transformers.__version__: {transformers.__version__}\")\n",
    "from transformers import AutoTokenizer, AutoModel, AutoConfig\n",
    "from transformers import get_linear_schedule_with_warmup, get_cosine_schedule_with_warmup\n",
    "from transformers import DataCollatorWithPadding\n",
    "%env TOKENIZERS_PARALLELISM=False\n",
    "\n",
    "device = torch.device('cuda' if torch.cuda.is_available() else 'cpu')"
   ]
  },
  {
   "cell_type": "markdown",
   "id": "23dadf70",
   "metadata": {
    "papermill": {
     "duration": 0.008332,
     "end_time": "2024-03-10T22:26:58.913854",
     "exception": false,
     "start_time": "2024-03-10T22:26:58.905522",
     "status": "completed"
    },
    "tags": []
   },
   "source": [
    "# Pipeline"
   ]
  },
  {
   "cell_type": "markdown",
   "id": "4a7db70e",
   "metadata": {
    "papermill": {
     "duration": 0.008011,
     "end_time": "2024-03-10T22:26:58.930200",
     "exception": false,
     "start_time": "2024-03-10T22:26:58.922189",
     "status": "completed"
    },
    "tags": []
   },
   "source": [
    "## 1- Directory Settings"
   ]
  },
  {
   "cell_type": "code",
   "execution_count": 2,
   "id": "2854c755",
   "metadata": {
    "execution": {
     "iopub.execute_input": "2024-03-10T22:26:58.948296Z",
     "iopub.status.busy": "2024-03-10T22:26:58.947730Z",
     "iopub.status.idle": "2024-03-10T22:26:58.952939Z",
     "shell.execute_reply": "2024-03-10T22:26:58.952156Z"
    },
    "papermill": {
     "duration": 0.016326,
     "end_time": "2024-03-10T22:26:58.954844",
     "exception": false,
     "start_time": "2024-03-10T22:26:58.938518",
     "status": "completed"
    },
    "tags": []
   },
   "outputs": [],
   "source": [
    "# ====================================================\n",
    "# Directory settings\n",
    "# ====================================================\n",
    "import os\n",
    "\n",
    "OUTPUT_DIR = './'\n",
    "if not os.path.exists(OUTPUT_DIR):\n",
    "    os.makedirs(OUTPUT_DIR)\n",
    "    \n",
    "TRAIN_PATH = '/kaggle/input/arabic-poem-classification/poems.csv'\n",
    "TEST_PATH = '/kaggle/input/arabic-poem-classification/test.csv'\n",
    "MODELS_PATH = '/kaggle/input/poem-dl-ckpts/3'"
   ]
  },
  {
   "cell_type": "markdown",
   "id": "be77f949",
   "metadata": {
    "papermill": {
     "duration": 0.008008,
     "end_time": "2024-03-10T22:26:58.971946",
     "exception": false,
     "start_time": "2024-03-10T22:26:58.963938",
     "status": "completed"
    },
    "tags": []
   },
   "source": [
    "## 2- Data Loading"
   ]
  },
  {
   "cell_type": "code",
   "execution_count": 3,
   "id": "4a889652",
   "metadata": {
    "execution": {
     "iopub.execute_input": "2024-03-10T22:26:58.989380Z",
     "iopub.status.busy": "2024-03-10T22:26:58.989107Z",
     "iopub.status.idle": "2024-03-10T22:27:00.124411Z",
     "shell.execute_reply": "2024-03-10T22:27:00.123435Z"
    },
    "papermill": {
     "duration": 1.146456,
     "end_time": "2024-03-10T22:27:00.126584",
     "exception": false,
     "start_time": "2024-03-10T22:26:58.980128",
     "status": "completed"
    },
    "tags": []
   },
   "outputs": [
    {
     "name": "stdout",
     "output_type": "stream",
     "text": [
      "test.shape: (4887, 4)\n"
     ]
    },
    {
     "data": {
      "text/html": [
       "<div>\n",
       "<style scoped>\n",
       "    .dataframe tbody tr th:only-of-type {\n",
       "        vertical-align: middle;\n",
       "    }\n",
       "\n",
       "    .dataframe tbody tr th {\n",
       "        vertical-align: top;\n",
       "    }\n",
       "\n",
       "    .dataframe thead th {\n",
       "        text-align: right;\n",
       "    }\n",
       "</style>\n",
       "<table border=\"1\" class=\"dataframe\">\n",
       "  <thead>\n",
       "    <tr style=\"text-align: right;\">\n",
       "      <th></th>\n",
       "      <th>ID</th>\n",
       "      <th>Title</th>\n",
       "      <th>Author</th>\n",
       "      <th>Poem</th>\n",
       "    </tr>\n",
       "  </thead>\n",
       "  <tbody>\n",
       "    <tr>\n",
       "      <th>0</th>\n",
       "      <td>1</td>\n",
       "      <td>أرعى الأمانة لا أخون أمانتي</td>\n",
       "      <td>كعب بن زهير</td>\n",
       "      <td>أَرعى الأَمانَةَ لا أَخونُ أَمانَتي  إِنَّ الخ...</td>\n",
       "    </tr>\n",
       "    <tr>\n",
       "      <th>1</th>\n",
       "      <td>2</td>\n",
       "      <td>شوق يروح مع الزمان ويغتدي</td>\n",
       "      <td>إيليا ابو ماضي</td>\n",
       "      <td>شَوقٌ يَروحُ مَعَ الزَمانِ وَيَغتَدي وَالشَوقُ...</td>\n",
       "    </tr>\n",
       "    <tr>\n",
       "      <th>2</th>\n",
       "      <td>3</td>\n",
       "      <td>مفتاحٌ وحيدٌ وحُجراتٌ ِعدة</td>\n",
       "      <td>محمود فرغلي</td>\n",
       "      <td>الي المفكر الفلسطيني الراحل /احمد صدقي الدجاني...</td>\n",
       "    </tr>\n",
       "    <tr>\n",
       "      <th>3</th>\n",
       "      <td>4</td>\n",
       "      <td>لي ابنُ عمٍ يجر الشر مجتهداً</td>\n",
       "      <td>ابن الرومي</td>\n",
       "      <td>لي ابن عم يجر الشر مجتهدا علي قدما ولا يصلي ل...</td>\n",
       "    </tr>\n",
       "    <tr>\n",
       "      <th>4</th>\n",
       "      <td>5</td>\n",
       "      <td>متى تَظْهَرِ النَّعماءُ تَشْجَ بها العِدَى</td>\n",
       "      <td>كشاجم</td>\n",
       "      <td>متي تظهر النعماء تشج بها العدي وليس لهم علم ب...</td>\n",
       "    </tr>\n",
       "  </tbody>\n",
       "</table>\n",
       "</div>"
      ],
      "text/plain": [
       "   ID                                        Title          Author                                               Poem\n",
       "0   1                  أرعى الأمانة لا أخون أمانتي     كعب بن زهير  أَرعى الأَمانَةَ لا أَخونُ أَمانَتي  إِنَّ الخ...\n",
       "1   2                    شوق يروح مع الزمان ويغتدي  إيليا ابو ماضي  شَوقٌ يَروحُ مَعَ الزَمانِ وَيَغتَدي وَالشَوقُ...\n",
       "2   3                 مفتاحٌ وحيدٌ وحُجراتٌ ِعدة       محمود فرغلي  الي المفكر الفلسطيني الراحل /احمد صدقي الدجاني...\n",
       "3   4                لي ابنُ عمٍ يجر الشر مجتهداً       ابن الرومي   لي ابن عم يجر الشر مجتهدا علي قدما ولا يصلي ل...\n",
       "4   5  متى تَظْهَرِ النَّعماءُ تَشْجَ بها العِدَى            كشاجم   متي تظهر النعماء تشج بها العدي وليس لهم علم ب..."
      ]
     },
     "metadata": {},
     "output_type": "display_data"
    }
   ],
   "source": [
    "# ====================================================\n",
    "# Data Loading\n",
    "# ====================================================\n",
    "train_df = pd.read_csv(TRAIN_PATH)\n",
    "test_df = pd.read_csv(TEST_PATH)\n",
    "\n",
    "print(f\"test.shape: {test_df.shape}\")\n",
    "display(test_df.head())"
   ]
  },
  {
   "cell_type": "code",
   "execution_count": 4,
   "id": "1984f3ce",
   "metadata": {
    "execution": {
     "iopub.execute_input": "2024-03-10T22:27:00.146085Z",
     "iopub.status.busy": "2024-03-10T22:27:00.145490Z",
     "iopub.status.idle": "2024-03-10T22:27:00.158447Z",
     "shell.execute_reply": "2024-03-10T22:27:00.157555Z"
    },
    "papermill": {
     "duration": 0.024735,
     "end_time": "2024-03-10T22:27:00.160375",
     "exception": false,
     "start_time": "2024-03-10T22:27:00.135640",
     "status": "completed"
    },
    "tags": []
   },
   "outputs": [],
   "source": [
    "test_df['Poem'] = \"العنوان \" + test_df['Title'] + \" والكاتب هو \" + test_df['Author'] + \" :والنص هو \" + test_df['Poem']"
   ]
  },
  {
   "cell_type": "code",
   "execution_count": 5,
   "id": "f2238f8b",
   "metadata": {
    "execution": {
     "iopub.execute_input": "2024-03-10T22:27:00.180216Z",
     "iopub.status.busy": "2024-03-10T22:27:00.179942Z",
     "iopub.status.idle": "2024-03-10T22:27:00.186221Z",
     "shell.execute_reply": "2024-03-10T22:27:00.185449Z"
    },
    "papermill": {
     "duration": 0.019247,
     "end_time": "2024-03-10T22:27:00.188470",
     "exception": false,
     "start_time": "2024-03-10T22:27:00.169223",
     "status": "completed"
    },
    "tags": []
   },
   "outputs": [],
   "source": [
    "le = LabelEncoder()\n",
    "le.fit(train_df[\"Category\"])\n",
    "\n",
    "mapping = dict(zip(le.classes_, range(len((le.classes_)))))\n",
    "mapping_rev = dict(zip(range(len((le.classes_))), le.classes_))"
   ]
  },
  {
   "cell_type": "markdown",
   "id": "ee2341ea",
   "metadata": {
    "papermill": {
     "duration": 0.008428,
     "end_time": "2024-03-10T22:27:00.205599",
     "exception": false,
     "start_time": "2024-03-10T22:27:00.197171",
     "status": "completed"
    },
    "tags": []
   },
   "source": [
    "## 2- CFG"
   ]
  },
  {
   "cell_type": "code",
   "execution_count": 6,
   "id": "a4fe52c0",
   "metadata": {
    "execution": {
     "iopub.execute_input": "2024-03-10T22:27:00.224172Z",
     "iopub.status.busy": "2024-03-10T22:27:00.223928Z",
     "iopub.status.idle": "2024-03-10T22:27:00.231128Z",
     "shell.execute_reply": "2024-03-10T22:27:00.230317Z"
    },
    "papermill": {
     "duration": 0.018695,
     "end_time": "2024-03-10T22:27:00.233072",
     "exception": false,
     "start_time": "2024-03-10T22:27:00.214377",
     "status": "completed"
    },
    "tags": []
   },
   "outputs": [],
   "source": [
    "class CFG:\n",
    "    competition = 'Poem'   # Competition Name\n",
    "    seed = 42\n",
    "########################################################################################################\n",
    "    # Data\n",
    "    max_len = 256         # Max Sentence length  (This is an inital value. The current value is chosen below in the dataset)\n",
    "    batch_size = 1        \n",
    "    valid_batch_size = 1\n",
    "    num_workers = 4       # Threads in Data Loader\n",
    "    target_cols = ['Category_العصر الأندلسي', 'Category_العصر الايوبي', 'Category_العصر العباسي', 'Category_العصر المملوكي', 'Category_العصر حديث']\n",
    "########################################################################################################\n",
    "    # Training\n",
    "    model = 'CAMeL-Lab/bert-base-arabic-camelbert-ca'\n",
    "    epochs = 5\n",
    "\n",
    "    pooling = 'mean'                 \n",
    "    features_type = 'weighted_layers_cls'  \n",
    "    output_hidden_states = True\n",
    "    layer_start = 12                     \n",
    "########################################################################################################\n",
    "    # Optimizer\n",
    "    encoder_lr = 1.5e-5         # Pretrained Model lr  (Deberta Model)\n",
    "    decoder_lr = 1.5e-5         # Custom Model lr  (The new head of the model)\n",
    "    \n",
    "    eps = 1e-6                # Adam Parameters \n",
    "    betas=(0.9, 0.999)        # Adam Parameters\n",
    "    weight_decay = 0.02\n",
    "    \n",
    "    precision = \"16-mixed\"\n",
    "########################################################################################################\n",
    "    # Scheduler\n",
    "    use_scheduler = True    # Use Scheduler\n",
    "    scheduler = 'cosine'      # 'cosine' or 'linear' or 'cosine_hard'\n",
    "    num_cycles = 0.25\n",
    "    num_warmup_steps = 1\n",
    "    sch_interval = 'step'    # 'step' or 'epoch'"
   ]
  },
  {
   "cell_type": "markdown",
   "id": "0928e054",
   "metadata": {
    "papermill": {
     "duration": 0.009241,
     "end_time": "2024-03-10T22:27:00.251380",
     "exception": false,
     "start_time": "2024-03-10T22:27:00.242139",
     "status": "completed"
    },
    "tags": []
   },
   "source": [
    "## 4- Utils"
   ]
  },
  {
   "cell_type": "code",
   "execution_count": 7,
   "id": "5da9bbed",
   "metadata": {
    "execution": {
     "iopub.execute_input": "2024-03-10T22:27:00.270500Z",
     "iopub.status.busy": "2024-03-10T22:27:00.270030Z",
     "iopub.status.idle": "2024-03-10T22:27:00.279263Z",
     "shell.execute_reply": "2024-03-10T22:27:00.278444Z"
    },
    "papermill": {
     "duration": 0.020603,
     "end_time": "2024-03-10T22:27:00.281083",
     "exception": false,
     "start_time": "2024-03-10T22:27:00.260480",
     "status": "completed"
    },
    "tags": []
   },
   "outputs": [
    {
     "data": {
      "text/plain": [
       "42"
      ]
     },
     "execution_count": 7,
     "metadata": {},
     "output_type": "execute_result"
    }
   ],
   "source": [
    "# ====================================================\n",
    "# Utils\n",
    "# ====================================================\n",
    "def get_score(y_preds, y_trues):\n",
    "    metric = MulticlassAccuracy(num_classes=5).to(device)\n",
    "    score = metric(y_preds, y_trues)\n",
    "    return score\n",
    "\n",
    "seed_everything(seed=CFG.seed)"
   ]
  },
  {
   "cell_type": "markdown",
   "id": "42888a4d",
   "metadata": {
    "papermill": {
     "duration": 0.008736,
     "end_time": "2024-03-10T22:27:00.298884",
     "exception": false,
     "start_time": "2024-03-10T22:27:00.290148",
     "status": "completed"
    },
    "tags": []
   },
   "source": [
    "## 6- Tokenizer"
   ]
  },
  {
   "cell_type": "code",
   "execution_count": 8,
   "id": "b702f458",
   "metadata": {
    "execution": {
     "iopub.execute_input": "2024-03-10T22:27:00.317487Z",
     "iopub.status.busy": "2024-03-10T22:27:00.317227Z",
     "iopub.status.idle": "2024-03-10T22:27:00.440788Z",
     "shell.execute_reply": "2024-03-10T22:27:00.440050Z"
    },
    "papermill": {
     "duration": 0.135314,
     "end_time": "2024-03-10T22:27:00.443023",
     "exception": false,
     "start_time": "2024-03-10T22:27:00.307709",
     "status": "completed"
    },
    "tags": []
   },
   "outputs": [],
   "source": [
    "# ====================================================\n",
    "# tokenizer\n",
    "# ====================================================\n",
    "CFG.tokenizer = AutoTokenizer.from_pretrained(MODELS_PATH+'/tokenizer/')"
   ]
  },
  {
   "cell_type": "markdown",
   "id": "ee44edb7",
   "metadata": {
    "papermill": {
     "duration": 0.008691,
     "end_time": "2024-03-10T22:27:00.461150",
     "exception": false,
     "start_time": "2024-03-10T22:27:00.452459",
     "status": "completed"
    },
    "tags": []
   },
   "source": [
    "## 7- Dataset"
   ]
  },
  {
   "cell_type": "code",
   "execution_count": 9,
   "id": "63fed1f9",
   "metadata": {
    "execution": {
     "iopub.execute_input": "2024-03-10T22:27:00.480273Z",
     "iopub.status.busy": "2024-03-10T22:27:00.479988Z",
     "iopub.status.idle": "2024-03-10T22:27:00.487502Z",
     "shell.execute_reply": "2024-03-10T22:27:00.486565Z"
    },
    "papermill": {
     "duration": 0.019244,
     "end_time": "2024-03-10T22:27:00.489409",
     "exception": false,
     "start_time": "2024-03-10T22:27:00.470165",
     "status": "completed"
    },
    "tags": []
   },
   "outputs": [],
   "source": [
    "# ====================================================\n",
    "# Dataset\n",
    "# ====================================================\n",
    "# Split the sentences into tokens & Make the sentences have fixed length (padding for short - truncating for long)\n",
    "def prepare_input(cfg, text):\n",
    "    inputs = cfg.tokenizer.encode_plus(\n",
    "        text, \n",
    "        return_tensors=None,\n",
    "        truncation=True,\n",
    "        max_length=256,\n",
    "        add_special_tokens=True\n",
    "    )\n",
    "    for k, v in inputs.items():\n",
    "        inputs[k] = torch.tensor(v, dtype=torch.long)\n",
    "    return inputs\n",
    "\n",
    "\n",
    "class TestDataset(Dataset):\n",
    "    def __init__(self, cfg, df):\n",
    "        self.cfg = cfg\n",
    "        self.texts = df['Poem'].values\n",
    "\n",
    "    def __len__(self):\n",
    "        return len(self.texts)\n",
    "\n",
    "    def __getitem__(self, item):\n",
    "        inputs = prepare_input(self.cfg, self.texts[item])\n",
    "        return {'input_ids' : inputs['input_ids'], \n",
    "                'attention_mask' : inputs['attention_mask']}"
   ]
  },
  {
   "cell_type": "markdown",
   "id": "562a3bb1",
   "metadata": {
    "papermill": {
     "duration": 0.00864,
     "end_time": "2024-03-10T22:27:00.506823",
     "exception": false,
     "start_time": "2024-03-10T22:27:00.498183",
     "status": "completed"
    },
    "tags": []
   },
   "source": [
    "## 8- Model"
   ]
  },
  {
   "cell_type": "code",
   "execution_count": 10,
   "id": "051bd1e4",
   "metadata": {
    "execution": {
     "iopub.execute_input": "2024-03-10T22:27:00.525272Z",
     "iopub.status.busy": "2024-03-10T22:27:00.525000Z",
     "iopub.status.idle": "2024-03-10T22:27:00.534763Z",
     "shell.execute_reply": "2024-03-10T22:27:00.533903Z"
    },
    "papermill": {
     "duration": 0.021227,
     "end_time": "2024-03-10T22:27:00.536704",
     "exception": false,
     "start_time": "2024-03-10T22:27:00.515477",
     "status": "completed"
    },
    "tags": []
   },
   "outputs": [],
   "source": [
    "class MeanPooling(nn.Module):\n",
    "    def __init__(self):\n",
    "        super(MeanPooling, self).__init__()\n",
    "        \n",
    "    def forward(self, last_hidden_state, attention_mask):\n",
    "        input_mask_expanded = attention_mask.unsqueeze(-1).expand(last_hidden_state.size()).float()\n",
    "        sum_embeddings = torch.sum(last_hidden_state * input_mask_expanded, 1)\n",
    "        sum_mask = input_mask_expanded.sum(1)\n",
    "        sum_mask = torch.clamp(sum_mask, min=1e-9)\n",
    "        mean_embeddings = sum_embeddings / sum_mask\n",
    "        return mean_embeddings\n",
    "\n",
    "class WeightedLayerPooling(nn.Module):\n",
    "    def __init__(self, num_hidden_layers, layer_start: int = 4, layer_weights = None):\n",
    "        super(WeightedLayerPooling, self).__init__()\n",
    "        self.layer_start = layer_start\n",
    "        self.num_hidden_layers = num_hidden_layers\n",
    "        self.layer_weights = layer_weights if layer_weights is not None \\\n",
    "            else nn.Parameter(\n",
    "                torch.tensor([1] * (num_hidden_layers+1 - layer_start), dtype=torch.float)\n",
    "            )\n",
    "\n",
    "    def forward(self, all_hidden_states):\n",
    "        all_layer_embedding = all_hidden_states[self.layer_start:, :, :, :]\n",
    "        weight_factor = self.layer_weights.unsqueeze(-1).unsqueeze(-1).unsqueeze(-1).expand(all_layer_embedding.size())\n",
    "        weight_factor = weight_factor.to(device)\n",
    "        weighted_average = (weight_factor*all_layer_embedding).sum(dim=0) / self.layer_weights.sum()\n",
    "        return weighted_average"
   ]
  },
  {
   "cell_type": "markdown",
   "id": "cace387b",
   "metadata": {
    "papermill": {
     "duration": 0.008574,
     "end_time": "2024-03-10T22:27:00.554190",
     "exception": false,
     "start_time": "2024-03-10T22:27:00.545616",
     "status": "completed"
    },
    "tags": []
   },
   "source": [
    "#### Hidden Layers Poolings"
   ]
  },
  {
   "cell_type": "code",
   "execution_count": 11,
   "id": "71b1edad",
   "metadata": {
    "execution": {
     "iopub.execute_input": "2024-03-10T22:27:00.572633Z",
     "iopub.status.busy": "2024-03-10T22:27:00.572350Z",
     "iopub.status.idle": "2024-03-10T22:27:00.581836Z",
     "shell.execute_reply": "2024-03-10T22:27:00.581006Z"
    },
    "papermill": {
     "duration": 0.020865,
     "end_time": "2024-03-10T22:27:00.583700",
     "exception": false,
     "start_time": "2024-03-10T22:27:00.562835",
     "status": "completed"
    },
    "tags": []
   },
   "outputs": [],
   "source": [
    "def get_optimizer_params(model, encoder_lr, decoder_lr, weight_decay=0.0):\n",
    "        param_optimizer = list(model.named_parameters())\n",
    "        no_decay = [\"bias\", \"LayerNorm.bias\", \"LayerNorm.weight\"]\n",
    "        optimizer_parameters = [\n",
    "            {'params': [p for n, p in model.named_parameters() if not any(nd in n for nd in no_decay)],\n",
    "             'lr': encoder_lr, 'weight_decay': weight_decay},\n",
    "            {'params': [p for n, p in model.named_parameters() if any(nd in n for nd in no_decay)],\n",
    "             'lr': encoder_lr, 'weight_decay': 0.0},\n",
    "            {'params': [p for n, p in model.named_parameters() if \"fc\" in n],\n",
    "             'lr': decoder_lr, 'weight_decay': 0.0}\n",
    "        ]\n",
    "              \n",
    "        return optimizer_parameters\n",
    "    \n",
    "    \n",
    "def get_scheduler(cfg, optimizer, len_train_folds):\n",
    "    num_train_steps = int(len_train_folds / cfg.batch_size * cfg.epochs)\n",
    "    if cfg.scheduler == 'linear':\n",
    "        scheduler = get_linear_schedule_with_warmup(\n",
    "            optimizer, num_warmup_steps=cfg.num_warmup_steps, num_training_steps=num_train_steps\n",
    "        )\n",
    "    elif cfg.scheduler == 'cosine':\n",
    "        scheduler = get_cosine_schedule_with_warmup(\n",
    "            optimizer, num_warmup_steps=cfg.num_warmup_steps, num_training_steps=num_train_steps, num_cycles=cfg.num_cycles\n",
    "        )\n",
    "    elif cfg.scheduler == 'cosine_hard':\n",
    "        scheduler = get_cosine_with_hard_restarts_schedule_with_warmup(\n",
    "            optimizer, num_warmup_steps=cfg.num_warmup_steps, num_training_steps=num_train_steps, num_cycles=cfg.num_cycles\n",
    "        )\n",
    "        \n",
    "    return scheduler"
   ]
  },
  {
   "cell_type": "markdown",
   "id": "649a8646",
   "metadata": {
    "papermill": {
     "duration": 0.008557,
     "end_time": "2024-03-10T22:27:00.600990",
     "exception": false,
     "start_time": "2024-03-10T22:27:00.592433",
     "status": "completed"
    },
    "tags": []
   },
   "source": [
    "#### The Model"
   ]
  },
  {
   "cell_type": "code",
   "execution_count": 12,
   "id": "0b6ed4d1",
   "metadata": {
    "execution": {
     "iopub.execute_input": "2024-03-10T22:27:00.620055Z",
     "iopub.status.busy": "2024-03-10T22:27:00.619793Z",
     "iopub.status.idle": "2024-03-10T22:27:00.642332Z",
     "shell.execute_reply": "2024-03-10T22:27:00.641458Z"
    },
    "papermill": {
     "duration": 0.034422,
     "end_time": "2024-03-10T22:27:00.644301",
     "exception": false,
     "start_time": "2024-03-10T22:27:00.609879",
     "status": "completed"
    },
    "tags": []
   },
   "outputs": [],
   "source": [
    "# ====================================================\n",
    "# Model\n",
    "# ====================================================\n",
    "class CustomModel(LightningModule):\n",
    "    def __init__(self, cfg=CFG, criterion=None, train_folds=None, valid_folds=None, fold=None, pretrained=False, config_path=None):\n",
    "        super().__init__()\n",
    "        self.cfg = cfg\n",
    "        self.criterion = criterion\n",
    "        self.train_folds = train_folds\n",
    "        self.valid_folds = valid_folds\n",
    "        self.fold = fold\n",
    "        self.pretrained = pretrained\n",
    "        self.val_step_outputs = []\n",
    "        self.val_step_labels = []\n",
    "        \n",
    "        # Configurations\n",
    "        if config_path is None:\n",
    "            self.config = AutoConfig.from_pretrained(cfg.model, output_hidden_states = True)\n",
    "            \n",
    "        else:\n",
    "            self.config = torch.load(config_path)\n",
    "        \n",
    "        # Model\n",
    "        if pretrained:\n",
    "            self.model = AutoModel.from_pretrained(cfg.model, config=self.config)\n",
    "        else:\n",
    "            self.model = AutoModel.from_config(self.config)\n",
    "            \n",
    "        torch.save(self.model.config, OUTPUT_DIR+'config.pth')\n",
    "        self.pool = MeanPooling()\n",
    "        \n",
    "        self.fc = nn.Linear(self.config.hidden_size, len(cfg.target_cols))\n",
    "        \n",
    "            \n",
    "    def train_dataloader(self):\n",
    "        train_dataset = TrainDataset(CFG, self.train_folds)\n",
    "        train_loader = DataLoader(train_dataset,\n",
    "                                  batch_size=CFG.batch_size,\n",
    "                                  shuffle=True,\n",
    "                                  num_workers=CFG.num_workers,\n",
    "                                  drop_last=True)\n",
    "        return train_loader\n",
    "    \n",
    "    \n",
    "    def val_dataloader(self):\n",
    "        valid_dataset = TrainDataset(CFG, self.valid_folds)\n",
    "        valid_loader = DataLoader(valid_dataset,\n",
    "                                  batch_size=CFG.valid_batch_size,\n",
    "                                  shuffle=False,\n",
    "                                  num_workers=CFG.num_workers,\n",
    "                                  drop_last=False)\n",
    "        return valid_loader\n",
    "    \n",
    "    def training_step(self, batch, batch_idx):\n",
    "        inputs, labels = {'input_ids': batch['input_ids'], 'attention_mask': batch['attention_mask']}, batch['labels']\n",
    "        inputs = collate(inputs)\n",
    "        batch_size = labels.size(0)\n",
    "\n",
    "        y_preds = self(inputs)\n",
    "        loss = self.criterion(y_preds, labels)\n",
    "\n",
    "        self.log('train_loss', loss, on_step=True, on_epoch=True, prog_bar=True, logger=True)\n",
    "\n",
    "        for param_group in self.trainer.optimizers[0].param_groups:\n",
    "            lr = param_group[\"lr\"]\n",
    "        self.log(\"lr\", lr, on_step=True, on_epoch=False, prog_bar=True)\n",
    "\n",
    "        return loss\n",
    "\n",
    "    \n",
    "    def validation_step(self, batch, batch_idx):\n",
    "        inputs, labels = {'input_ids': batch['input_ids'], 'attention_mask': batch['attention_mask']}, batch['labels']\n",
    "        inputs = collate(inputs)\n",
    "        batch_size = labels.size(0)\n",
    "\n",
    "        y_preds = self(inputs)\n",
    "        loss = self.criterion(y_preds, labels)\n",
    "\n",
    "        self.log('val_loss', loss, on_step=False, on_epoch=True, prog_bar=True, logger=True)\n",
    "\n",
    "        self.val_step_outputs.append(y_preds)\n",
    "        self.val_step_labels.append(labels)\n",
    "\n",
    "        return loss\n",
    "\n",
    "        \n",
    "    def configure_optimizers(self):\n",
    "        optimizer_parameters = get_optimizer_params(self.model,\n",
    "                                                    encoder_lr=CFG.encoder_lr,\n",
    "                                                    decoder_lr=CFG.decoder_lr,\n",
    "                                                    weight_decay=CFG.weight_decay)\n",
    "        \n",
    "        optimizer = AdamW(optimizer_parameters,\n",
    "                              lr=CFG.encoder_lr,\n",
    "                              eps=CFG.eps,\n",
    "                              betas=CFG.betas)\n",
    "        \n",
    "        scheduler = get_scheduler(CFG, optimizer, len(self.train_folds))\n",
    "        lr_scheduler_dict = {\"scheduler\": scheduler, \"interval\": CFG.sch_interval}\n",
    "        if self.cfg.use_scheduler:\n",
    "            return {'optimizer': optimizer, 'lr_scheduler': lr_scheduler_dict}\n",
    "        else:\n",
    "            return {'optimizer': optimizer}\n",
    "    \n",
    "    def on_validation_epoch_end(self):\n",
    "        all_preds = torch.cat(self.val_step_outputs)\n",
    "        all_labels = torch.cat(self.val_step_labels)\n",
    "        self.val_step_outputs.clear()\n",
    "        self.val_step_labels.clear()\n",
    "        \n",
    "        all_preds = nn.Softmax(dim=1)(all_preds)\n",
    "        score = get_score(all_preds, all_labels)\n",
    "        self.log(\"accuracy_score\", score, on_step=False, on_epoch=True, prog_bar=True)\n",
    "        if self.trainer.global_rank == 0:\n",
    "            print(f\"\\nEpoch: {self.current_epoch}, accuracy_score: {score}\", flush=True)\n",
    "           \n",
    "    \n",
    "    # Return hidden states \n",
    "    def feature(self, input_ids, attention_mask):\n",
    "        outputs = self.model(input_ids=input_ids, attention_mask=attention_mask)\n",
    "        # Weighted Layers CLS\n",
    "        all_hidden_states = torch.stack(outputs.hidden_states)\n",
    "        pooler = WeightedLayerPooling(\n",
    "            self.config.num_hidden_layers, \n",
    "            layer_start=self.cfg.layer_start, layer_weights=None\n",
    "        )\n",
    "        weighted_pooling_embeddings = pooler(all_hidden_states)\n",
    "        feature = weighted_pooling_embeddings[:, 0]\n",
    "                    \n",
    "        return feature\n",
    "    \n",
    "    # The Model Architicture\n",
    "    def forward(self, batch):\n",
    "        feature = self.feature(batch['input_ids'], batch['attention_mask'])\n",
    "        output = self.fc(feature)\n",
    "        return output"
   ]
  },
  {
   "cell_type": "markdown",
   "id": "d19aa03e",
   "metadata": {
    "papermill": {
     "duration": 0.008903,
     "end_time": "2024-03-10T22:27:00.662351",
     "exception": false,
     "start_time": "2024-03-10T22:27:00.653448",
     "status": "completed"
    },
    "tags": []
   },
   "source": [
    "## 11- Inference"
   ]
  },
  {
   "cell_type": "code",
   "execution_count": 13,
   "id": "c1fbc515",
   "metadata": {
    "execution": {
     "iopub.execute_input": "2024-03-10T22:27:00.681307Z",
     "iopub.status.busy": "2024-03-10T22:27:00.681058Z",
     "iopub.status.idle": "2024-03-10T22:34:55.349188Z",
     "shell.execute_reply": "2024-03-10T22:34:55.347834Z"
    },
    "papermill": {
     "duration": 474.690803,
     "end_time": "2024-03-10T22:34:55.362050",
     "exception": false,
     "start_time": "2024-03-10T22:27:00.671247",
     "status": "completed"
    },
    "tags": []
   },
   "outputs": [
    {
     "data": {
      "application/vnd.jupyter.widget-view+json": {
       "model_id": "2c4f2a35767d4d44ac0fdb8da96a4f11",
       "version_major": 2,
       "version_minor": 0
      },
      "text/plain": [
       "  0%|          | 0/5 [00:00<?, ?it/s]"
      ]
     },
     "metadata": {},
     "output_type": "display_data"
    },
    {
     "data": {
      "application/vnd.jupyter.widget-view+json": {
       "model_id": "b1ab9962213545bcb2f4800fb34b8d85",
       "version_major": 2,
       "version_minor": 0
      },
      "text/plain": [
       "  0%|          | 0/4887 [00:00<?, ?it/s]"
      ]
     },
     "metadata": {},
     "output_type": "display_data"
    },
    {
     "data": {
      "application/vnd.jupyter.widget-view+json": {
       "model_id": "6b541ef3c68a40c182e1e20bbf3d8b53",
       "version_major": 2,
       "version_minor": 0
      },
      "text/plain": [
       "  0%|          | 0/4887 [00:00<?, ?it/s]"
      ]
     },
     "metadata": {},
     "output_type": "display_data"
    },
    {
     "data": {
      "application/vnd.jupyter.widget-view+json": {
       "model_id": "06e6da36797f42948c51158ec3e5e849",
       "version_major": 2,
       "version_minor": 0
      },
      "text/plain": [
       "  0%|          | 0/4887 [00:00<?, ?it/s]"
      ]
     },
     "metadata": {},
     "output_type": "display_data"
    },
    {
     "data": {
      "application/vnd.jupyter.widget-view+json": {
       "model_id": "316ccf5fcb8e46a4adc52f8e6bb5e29e",
       "version_major": 2,
       "version_minor": 0
      },
      "text/plain": [
       "  0%|          | 0/4887 [00:00<?, ?it/s]"
      ]
     },
     "metadata": {},
     "output_type": "display_data"
    },
    {
     "data": {
      "application/vnd.jupyter.widget-view+json": {
       "model_id": "6a5adacc69e24490886e6457c1410658",
       "version_major": 2,
       "version_minor": 0
      },
      "text/plain": [
       "  0%|          | 0/4887 [00:00<?, ?it/s]"
      ]
     },
     "metadata": {},
     "output_type": "display_data"
    }
   ],
   "source": [
    "def inference_fn(test_loader, model, device):\n",
    "    preds = []\n",
    "    model.eval()\n",
    "    model.to(device)\n",
    "    tk0 = tqdm(test_loader, total=len(test_loader))\n",
    "    for inputs in tk0:\n",
    "        for k, v in inputs.items():\n",
    "            inputs[k] = v.to(device)\n",
    "        with torch.no_grad():\n",
    "            y_preds = model(inputs)\n",
    "            y_preds = nn.Softmax(dim=1)(y_preds)\n",
    "        preds.append(y_preds.to('cpu').numpy())\n",
    "        del y_preds, inputs[k]\n",
    "    predictions = np.concatenate(preds)\n",
    "    return predictions\n",
    "\n",
    "\n",
    "test_dataset = TestDataset(CFG, test_df)\n",
    "test_loader = DataLoader(test_dataset,\n",
    "                         batch_size=CFG.batch_size,\n",
    "                         shuffle=False,\n",
    "                         collate_fn=DataCollatorWithPadding(tokenizer=CFG.tokenizer, padding='longest'),\n",
    "                         num_workers=CFG.num_workers, pin_memory=True, drop_last=False)\n",
    "\n",
    "predictions = []\n",
    "checkpoint_dir = f\"{MODELS_PATH}\"\n",
    "checkpoint_paths = glob.glob(f\"{checkpoint_dir}/*.ckpt\")\n",
    "for checkpoint_path in tqdm(checkpoint_paths):\n",
    "        model = CustomModel.load_from_checkpoint(checkpoint_path, map_location=device, strict=False, config_path=MODELS_PATH+\"/config.pth\")\n",
    "        prediction = inference_fn(test_loader, model, device)\n",
    "        predictions.append(prediction)\n",
    "        del model, prediction; gc.collect()\n",
    "        torch.cuda.empty_cache()\n"
   ]
  },
  {
   "cell_type": "code",
   "execution_count": 14,
   "id": "87790871",
   "metadata": {
    "execution": {
     "iopub.execute_input": "2024-03-10T22:34:55.383961Z",
     "iopub.status.busy": "2024-03-10T22:34:55.383637Z",
     "iopub.status.idle": "2024-03-10T22:34:55.395942Z",
     "shell.execute_reply": "2024-03-10T22:34:55.395203Z"
    },
    "papermill": {
     "duration": 0.025502,
     "end_time": "2024-03-10T22:34:55.397836",
     "exception": false,
     "start_time": "2024-03-10T22:34:55.372334",
     "status": "completed"
    },
    "tags": []
   },
   "outputs": [],
   "source": [
    "predictions = np.mean(predictions, axis=0)\n",
    "predictions = pd.Series(predictions.argmax(axis=1)).map(mapping_rev)"
   ]
  },
  {
   "cell_type": "code",
   "execution_count": 15,
   "id": "efafbff1",
   "metadata": {
    "execution": {
     "iopub.execute_input": "2024-03-10T22:34:55.419478Z",
     "iopub.status.busy": "2024-03-10T22:34:55.419185Z",
     "iopub.status.idle": "2024-03-10T22:34:55.426682Z",
     "shell.execute_reply": "2024-03-10T22:34:55.425829Z"
    },
    "papermill": {
     "duration": 0.020984,
     "end_time": "2024-03-10T22:34:55.429068",
     "exception": false,
     "start_time": "2024-03-10T22:34:55.408084",
     "status": "completed"
    },
    "tags": []
   },
   "outputs": [
    {
     "data": {
      "text/plain": [
       "0        العصر العباسي\n",
       "1           العصر حديث\n",
       "2           العصر حديث\n",
       "3        العصر العباسي\n",
       "4        العصر العباسي\n",
       "             ...      \n",
       "4882        العصر حديث\n",
       "4883    العصر المملوكي\n",
       "4884     العصر الايوبي\n",
       "4885        العصر حديث\n",
       "4886     العصر الايوبي\n",
       "Length: 4887, dtype: object"
      ]
     },
     "execution_count": 15,
     "metadata": {},
     "output_type": "execute_result"
    }
   ],
   "source": [
    "predictions"
   ]
  },
  {
   "cell_type": "markdown",
   "id": "6b80385a",
   "metadata": {
    "papermill": {
     "duration": 0.010042,
     "end_time": "2024-03-10T22:34:55.450413",
     "exception": false,
     "start_time": "2024-03-10T22:34:55.440371",
     "status": "completed"
    },
    "tags": []
   },
   "source": [
    "# Submission"
   ]
  },
  {
   "cell_type": "code",
   "execution_count": 16,
   "id": "c6121e05",
   "metadata": {
    "execution": {
     "iopub.execute_input": "2024-03-10T22:34:55.471630Z",
     "iopub.status.busy": "2024-03-10T22:34:55.471329Z",
     "iopub.status.idle": "2024-03-10T22:34:55.504002Z",
     "shell.execute_reply": "2024-03-10T22:34:55.503261Z"
    },
    "papermill": {
     "duration": 0.045337,
     "end_time": "2024-03-10T22:34:55.505891",
     "exception": false,
     "start_time": "2024-03-10T22:34:55.460554",
     "status": "completed"
    },
    "tags": []
   },
   "outputs": [],
   "source": [
    "# Dictionary to store authors who are in train\n",
    "drop_authors = train_df.groupby('Author')['Category'].nunique().sort_values().tail(17).keys().values # Authors that lived in more than one era\n",
    "Authors_in_train_test = dict(train_df.drop_duplicates(subset=['Author'])[['Author','Category']].values)\n",
    "Authors_in_train_test = {author: category for author, category in Authors_in_train_test.items() if author not in drop_authors}"
   ]
  },
  {
   "cell_type": "code",
   "execution_count": 17,
   "id": "fe4ee85a",
   "metadata": {
    "execution": {
     "iopub.execute_input": "2024-03-10T22:34:55.527930Z",
     "iopub.status.busy": "2024-03-10T22:34:55.527649Z",
     "iopub.status.idle": "2024-03-10T22:34:55.577286Z",
     "shell.execute_reply": "2024-03-10T22:34:55.576582Z"
    },
    "papermill": {
     "duration": 0.062862,
     "end_time": "2024-03-10T22:34:55.579242",
     "exception": false,
     "start_time": "2024-03-10T22:34:55.516380",
     "status": "completed"
    },
    "tags": []
   },
   "outputs": [],
   "source": [
    "# Dictionary to store titles that are in train\n",
    "Titles_in_train_test = dict(train_df.drop_duplicates(subset=['Title'])[['Title','Category']].values)"
   ]
  },
  {
   "cell_type": "code",
   "execution_count": 18,
   "id": "a4f9ecd5",
   "metadata": {
    "execution": {
     "iopub.execute_input": "2024-03-10T22:34:55.601666Z",
     "iopub.status.busy": "2024-03-10T22:34:55.601325Z",
     "iopub.status.idle": "2024-03-10T22:34:55.619390Z",
     "shell.execute_reply": "2024-03-10T22:34:55.618568Z"
    },
    "papermill": {
     "duration": 0.031447,
     "end_time": "2024-03-10T22:34:55.621303",
     "exception": false,
     "start_time": "2024-03-10T22:34:55.589856",
     "status": "completed"
    },
    "tags": []
   },
   "outputs": [],
   "source": [
    "submission = pd.DataFrame({\"ID\": test_df.ID ,\"Target\": predictions.values})\n",
    "\n",
    "# Map any Authors in train into the test\n",
    "cls = test_df['Author'].map(Authors_in_train_test).dropna()\n",
    "submission.loc[cls.index,'Target'] = cls.values\n",
    "\n",
    "# Map any Titles in train into the test\n",
    "cls = test_df['Title'].map(Titles_in_train_test).dropna()\n",
    "submission.loc[cls.index,'Target'] = cls.values"
   ]
  },
  {
   "cell_type": "code",
   "execution_count": 19,
   "id": "f44bf6f3",
   "metadata": {
    "execution": {
     "iopub.execute_input": "2024-03-10T22:34:55.643519Z",
     "iopub.status.busy": "2024-03-10T22:34:55.642972Z",
     "iopub.status.idle": "2024-03-10T22:34:55.665220Z",
     "shell.execute_reply": "2024-03-10T22:34:55.664295Z"
    },
    "papermill": {
     "duration": 0.035637,
     "end_time": "2024-03-10T22:34:55.667380",
     "exception": false,
     "start_time": "2024-03-10T22:34:55.631743",
     "status": "completed"
    },
    "tags": []
   },
   "outputs": [
    {
     "data": {
      "text/html": [
       "<div>\n",
       "<style scoped>\n",
       "    .dataframe tbody tr th:only-of-type {\n",
       "        vertical-align: middle;\n",
       "    }\n",
       "\n",
       "    .dataframe tbody tr th {\n",
       "        vertical-align: top;\n",
       "    }\n",
       "\n",
       "    .dataframe thead th {\n",
       "        text-align: right;\n",
       "    }\n",
       "</style>\n",
       "<table border=\"1\" class=\"dataframe\">\n",
       "  <thead>\n",
       "    <tr style=\"text-align: right;\">\n",
       "      <th></th>\n",
       "      <th>ID</th>\n",
       "      <th>Target</th>\n",
       "    </tr>\n",
       "  </thead>\n",
       "  <tbody>\n",
       "    <tr>\n",
       "      <th>0</th>\n",
       "      <td>1</td>\n",
       "      <td>العصر العباسي</td>\n",
       "    </tr>\n",
       "    <tr>\n",
       "      <th>1</th>\n",
       "      <td>2</td>\n",
       "      <td>العصر حديث</td>\n",
       "    </tr>\n",
       "    <tr>\n",
       "      <th>2</th>\n",
       "      <td>3</td>\n",
       "      <td>العصر حديث</td>\n",
       "    </tr>\n",
       "    <tr>\n",
       "      <th>3</th>\n",
       "      <td>4</td>\n",
       "      <td>العصر العباسي</td>\n",
       "    </tr>\n",
       "    <tr>\n",
       "      <th>4</th>\n",
       "      <td>5</td>\n",
       "      <td>العصر العباسي</td>\n",
       "    </tr>\n",
       "    <tr>\n",
       "      <th>...</th>\n",
       "      <td>...</td>\n",
       "      <td>...</td>\n",
       "    </tr>\n",
       "    <tr>\n",
       "      <th>4882</th>\n",
       "      <td>4883</td>\n",
       "      <td>العصر حديث</td>\n",
       "    </tr>\n",
       "    <tr>\n",
       "      <th>4883</th>\n",
       "      <td>4884</td>\n",
       "      <td>العصر المملوكي</td>\n",
       "    </tr>\n",
       "    <tr>\n",
       "      <th>4884</th>\n",
       "      <td>4885</td>\n",
       "      <td>العصر العباسي</td>\n",
       "    </tr>\n",
       "    <tr>\n",
       "      <th>4885</th>\n",
       "      <td>4886</td>\n",
       "      <td>العصر حديث</td>\n",
       "    </tr>\n",
       "    <tr>\n",
       "      <th>4886</th>\n",
       "      <td>4887</td>\n",
       "      <td>العصر الايوبي</td>\n",
       "    </tr>\n",
       "  </tbody>\n",
       "</table>\n",
       "<p>4887 rows × 2 columns</p>\n",
       "</div>"
      ],
      "text/plain": [
       "        ID          Target\n",
       "0        1   العصر العباسي\n",
       "1        2      العصر حديث\n",
       "2        3      العصر حديث\n",
       "3        4   العصر العباسي\n",
       "4        5   العصر العباسي\n",
       "...    ...             ...\n",
       "4882  4883      العصر حديث\n",
       "4883  4884  العصر المملوكي\n",
       "4884  4885   العصر العباسي\n",
       "4885  4886      العصر حديث\n",
       "4886  4887   العصر الايوبي\n",
       "\n",
       "[4887 rows x 2 columns]"
      ]
     },
     "execution_count": 19,
     "metadata": {},
     "output_type": "execute_result"
    }
   ],
   "source": [
    "submission = submission.sort_values('ID').reset_index(drop=True)\n",
    "submission.to_csv('submission.csv',index=False)\n",
    "submission"
   ]
  }
 ],
 "metadata": {
  "kaggle": {
   "accelerator": "gpu",
   "dataSources": [
    {
     "databundleVersionId": 7797293,
     "sourceId": 71335,
     "sourceType": "competition"
    },
    {
     "datasetId": 4501607,
     "sourceId": 7709700,
     "sourceType": "datasetVersion"
    },
    {
     "datasetId": 4511784,
     "sourceId": 7731296,
     "sourceType": "datasetVersion"
    },
    {
     "datasetId": 4569319,
     "sourceId": 7803155,
     "sourceType": "datasetVersion"
    },
    {
     "datasetId": 4506335,
     "isSourceIdPinned": true,
     "sourceId": 7804468,
     "sourceType": "datasetVersion"
    }
   ],
   "dockerImageVersionId": 30664,
   "isGpuEnabled": true,
   "isInternetEnabled": true,
   "language": "python",
   "sourceType": "notebook"
  },
  "kernelspec": {
   "display_name": "Python 3",
   "language": "python",
   "name": "python3"
  },
  "language_info": {
   "codemirror_mode": {
    "name": "ipython",
    "version": 3
   },
   "file_extension": ".py",
   "mimetype": "text/x-python",
   "name": "python",
   "nbconvert_exporter": "python",
   "pygments_lexer": "ipython3",
   "version": "3.10.13"
  },
  "papermill": {
   "default_parameters": {},
   "duration": 503.251106,
   "end_time": "2024-03-10T22:34:58.400212",
   "environment_variables": {},
   "exception": null,
   "input_path": "__notebook__.ipynb",
   "output_path": "__notebook__.ipynb",
   "parameters": {},
   "start_time": "2024-03-10T22:26:35.149106",
   "version": "2.5.0"
  },
  "widgets": {
   "application/vnd.jupyter.widget-state+json": {
    "state": {
     "014e92715a1f456786496ecae9b62670": {
      "model_module": "@jupyter-widgets/base",
      "model_module_version": "1.2.0",
      "model_name": "LayoutModel",
      "state": {
       "_model_module": "@jupyter-widgets/base",
       "_model_module_version": "1.2.0",
       "_model_name": "LayoutModel",
       "_view_count": null,
       "_view_module": "@jupyter-widgets/base",
       "_view_module_version": "1.2.0",
       "_view_name": "LayoutView",
       "align_content": null,
       "align_items": null,
       "align_self": null,
       "border": null,
       "bottom": null,
       "display": null,
       "flex": null,
       "flex_flow": null,
       "grid_area": null,
       "grid_auto_columns": null,
       "grid_auto_flow": null,
       "grid_auto_rows": null,
       "grid_column": null,
       "grid_gap": null,
       "grid_row": null,
       "grid_template_areas": null,
       "grid_template_columns": null,
       "grid_template_rows": null,
       "height": null,
       "justify_content": null,
       "justify_items": null,
       "left": null,
       "margin": null,
       "max_height": null,
       "max_width": null,
       "min_height": null,
       "min_width": null,
       "object_fit": null,
       "object_position": null,
       "order": null,
       "overflow": null,
       "overflow_x": null,
       "overflow_y": null,
       "padding": null,
       "right": null,
       "top": null,
       "visibility": null,
       "width": null
      }
     },
     "06e6da36797f42948c51158ec3e5e849": {
      "model_module": "@jupyter-widgets/controls",
      "model_module_version": "1.5.0",
      "model_name": "HBoxModel",
      "state": {
       "_dom_classes": [],
       "_model_module": "@jupyter-widgets/controls",
       "_model_module_version": "1.5.0",
       "_model_name": "HBoxModel",
       "_view_count": null,
       "_view_module": "@jupyter-widgets/controls",
       "_view_module_version": "1.5.0",
       "_view_name": "HBoxView",
       "box_style": "",
       "children": [
        "IPY_MODEL_2781100c5c904ca28e27e87ec0bc867a",
        "IPY_MODEL_b058165005c1433e81674b9c1bf00ae4",
        "IPY_MODEL_473ec4abde604844ab100b7ecb34c783"
       ],
       "layout": "IPY_MODEL_63ba74eb3b514b4e8c56aa1277e73bbb"
      }
     },
     "0724f3a22040454f9bc2431728ffe5b1": {
      "model_module": "@jupyter-widgets/base",
      "model_module_version": "1.2.0",
      "model_name": "LayoutModel",
      "state": {
       "_model_module": "@jupyter-widgets/base",
       "_model_module_version": "1.2.0",
       "_model_name": "LayoutModel",
       "_view_count": null,
       "_view_module": "@jupyter-widgets/base",
       "_view_module_version": "1.2.0",
       "_view_name": "LayoutView",
       "align_content": null,
       "align_items": null,
       "align_self": null,
       "border": null,
       "bottom": null,
       "display": null,
       "flex": null,
       "flex_flow": null,
       "grid_area": null,
       "grid_auto_columns": null,
       "grid_auto_flow": null,
       "grid_auto_rows": null,
       "grid_column": null,
       "grid_gap": null,
       "grid_row": null,
       "grid_template_areas": null,
       "grid_template_columns": null,
       "grid_template_rows": null,
       "height": null,
       "justify_content": null,
       "justify_items": null,
       "left": null,
       "margin": null,
       "max_height": null,
       "max_width": null,
       "min_height": null,
       "min_width": null,
       "object_fit": null,
       "object_position": null,
       "order": null,
       "overflow": null,
       "overflow_x": null,
       "overflow_y": null,
       "padding": null,
       "right": null,
       "top": null,
       "visibility": null,
       "width": null
      }
     },
     "08f55a5451b447cb859c389edaf65848": {
      "model_module": "@jupyter-widgets/base",
      "model_module_version": "1.2.0",
      "model_name": "LayoutModel",
      "state": {
       "_model_module": "@jupyter-widgets/base",
       "_model_module_version": "1.2.0",
       "_model_name": "LayoutModel",
       "_view_count": null,
       "_view_module": "@jupyter-widgets/base",
       "_view_module_version": "1.2.0",
       "_view_name": "LayoutView",
       "align_content": null,
       "align_items": null,
       "align_self": null,
       "border": null,
       "bottom": null,
       "display": null,
       "flex": null,
       "flex_flow": null,
       "grid_area": null,
       "grid_auto_columns": null,
       "grid_auto_flow": null,
       "grid_auto_rows": null,
       "grid_column": null,
       "grid_gap": null,
       "grid_row": null,
       "grid_template_areas": null,
       "grid_template_columns": null,
       "grid_template_rows": null,
       "height": null,
       "justify_content": null,
       "justify_items": null,
       "left": null,
       "margin": null,
       "max_height": null,
       "max_width": null,
       "min_height": null,
       "min_width": null,
       "object_fit": null,
       "object_position": null,
       "order": null,
       "overflow": null,
       "overflow_x": null,
       "overflow_y": null,
       "padding": null,
       "right": null,
       "top": null,
       "visibility": null,
       "width": null
      }
     },
     "0decd03e55334eaabe636725861667f9": {
      "model_module": "@jupyter-widgets/controls",
      "model_module_version": "1.5.0",
      "model_name": "ProgressStyleModel",
      "state": {
       "_model_module": "@jupyter-widgets/controls",
       "_model_module_version": "1.5.0",
       "_model_name": "ProgressStyleModel",
       "_view_count": null,
       "_view_module": "@jupyter-widgets/base",
       "_view_module_version": "1.2.0",
       "_view_name": "StyleView",
       "bar_color": null,
       "description_width": ""
      }
     },
     "0ec6c355db1a46ac889aa9e3663cd58a": {
      "model_module": "@jupyter-widgets/controls",
      "model_module_version": "1.5.0",
      "model_name": "DescriptionStyleModel",
      "state": {
       "_model_module": "@jupyter-widgets/controls",
       "_model_module_version": "1.5.0",
       "_model_name": "DescriptionStyleModel",
       "_view_count": null,
       "_view_module": "@jupyter-widgets/base",
       "_view_module_version": "1.2.0",
       "_view_name": "StyleView",
       "description_width": ""
      }
     },
     "19a287d7cd744f3a87e96bdc6ccbdcc9": {
      "model_module": "@jupyter-widgets/controls",
      "model_module_version": "1.5.0",
      "model_name": "DescriptionStyleModel",
      "state": {
       "_model_module": "@jupyter-widgets/controls",
       "_model_module_version": "1.5.0",
       "_model_name": "DescriptionStyleModel",
       "_view_count": null,
       "_view_module": "@jupyter-widgets/base",
       "_view_module_version": "1.2.0",
       "_view_name": "StyleView",
       "description_width": ""
      }
     },
     "19a957eea24d48879ee65f9165370140": {
      "model_module": "@jupyter-widgets/base",
      "model_module_version": "1.2.0",
      "model_name": "LayoutModel",
      "state": {
       "_model_module": "@jupyter-widgets/base",
       "_model_module_version": "1.2.0",
       "_model_name": "LayoutModel",
       "_view_count": null,
       "_view_module": "@jupyter-widgets/base",
       "_view_module_version": "1.2.0",
       "_view_name": "LayoutView",
       "align_content": null,
       "align_items": null,
       "align_self": null,
       "border": null,
       "bottom": null,
       "display": null,
       "flex": null,
       "flex_flow": null,
       "grid_area": null,
       "grid_auto_columns": null,
       "grid_auto_flow": null,
       "grid_auto_rows": null,
       "grid_column": null,
       "grid_gap": null,
       "grid_row": null,
       "grid_template_areas": null,
       "grid_template_columns": null,
       "grid_template_rows": null,
       "height": null,
       "justify_content": null,
       "justify_items": null,
       "left": null,
       "margin": null,
       "max_height": null,
       "max_width": null,
       "min_height": null,
       "min_width": null,
       "object_fit": null,
       "object_position": null,
       "order": null,
       "overflow": null,
       "overflow_x": null,
       "overflow_y": null,
       "padding": null,
       "right": null,
       "top": null,
       "visibility": null,
       "width": null
      }
     },
     "1b10abef5b1340d4b91dfa4a3e105cde": {
      "model_module": "@jupyter-widgets/controls",
      "model_module_version": "1.5.0",
      "model_name": "ProgressStyleModel",
      "state": {
       "_model_module": "@jupyter-widgets/controls",
       "_model_module_version": "1.5.0",
       "_model_name": "ProgressStyleModel",
       "_view_count": null,
       "_view_module": "@jupyter-widgets/base",
       "_view_module_version": "1.2.0",
       "_view_name": "StyleView",
       "bar_color": null,
       "description_width": ""
      }
     },
     "21dbd4f3f25341a88a18f4e9ccb81f1f": {
      "model_module": "@jupyter-widgets/controls",
      "model_module_version": "1.5.0",
      "model_name": "DescriptionStyleModel",
      "state": {
       "_model_module": "@jupyter-widgets/controls",
       "_model_module_version": "1.5.0",
       "_model_name": "DescriptionStyleModel",
       "_view_count": null,
       "_view_module": "@jupyter-widgets/base",
       "_view_module_version": "1.2.0",
       "_view_name": "StyleView",
       "description_width": ""
      }
     },
     "2781100c5c904ca28e27e87ec0bc867a": {
      "model_module": "@jupyter-widgets/controls",
      "model_module_version": "1.5.0",
      "model_name": "HTMLModel",
      "state": {
       "_dom_classes": [],
       "_model_module": "@jupyter-widgets/controls",
       "_model_module_version": "1.5.0",
       "_model_name": "HTMLModel",
       "_view_count": null,
       "_view_module": "@jupyter-widgets/controls",
       "_view_module_version": "1.5.0",
       "_view_name": "HTMLView",
       "description": "",
       "description_tooltip": null,
       "layout": "IPY_MODEL_8afdedd09c7448f191c8f97d8804e137",
       "placeholder": "​",
       "style": "IPY_MODEL_21dbd4f3f25341a88a18f4e9ccb81f1f",
       "value": "100%"
      }
     },
     "27f12af0614d4a70aa7e9c6d432b29a9": {
      "model_module": "@jupyter-widgets/base",
      "model_module_version": "1.2.0",
      "model_name": "LayoutModel",
      "state": {
       "_model_module": "@jupyter-widgets/base",
       "_model_module_version": "1.2.0",
       "_model_name": "LayoutModel",
       "_view_count": null,
       "_view_module": "@jupyter-widgets/base",
       "_view_module_version": "1.2.0",
       "_view_name": "LayoutView",
       "align_content": null,
       "align_items": null,
       "align_self": null,
       "border": null,
       "bottom": null,
       "display": null,
       "flex": null,
       "flex_flow": null,
       "grid_area": null,
       "grid_auto_columns": null,
       "grid_auto_flow": null,
       "grid_auto_rows": null,
       "grid_column": null,
       "grid_gap": null,
       "grid_row": null,
       "grid_template_areas": null,
       "grid_template_columns": null,
       "grid_template_rows": null,
       "height": null,
       "justify_content": null,
       "justify_items": null,
       "left": null,
       "margin": null,
       "max_height": null,
       "max_width": null,
       "min_height": null,
       "min_width": null,
       "object_fit": null,
       "object_position": null,
       "order": null,
       "overflow": null,
       "overflow_x": null,
       "overflow_y": null,
       "padding": null,
       "right": null,
       "top": null,
       "visibility": null,
       "width": null
      }
     },
     "2a6939be5d764e15bdf59808a418a47f": {
      "model_module": "@jupyter-widgets/base",
      "model_module_version": "1.2.0",
      "model_name": "LayoutModel",
      "state": {
       "_model_module": "@jupyter-widgets/base",
       "_model_module_version": "1.2.0",
       "_model_name": "LayoutModel",
       "_view_count": null,
       "_view_module": "@jupyter-widgets/base",
       "_view_module_version": "1.2.0",
       "_view_name": "LayoutView",
       "align_content": null,
       "align_items": null,
       "align_self": null,
       "border": null,
       "bottom": null,
       "display": null,
       "flex": null,
       "flex_flow": null,
       "grid_area": null,
       "grid_auto_columns": null,
       "grid_auto_flow": null,
       "grid_auto_rows": null,
       "grid_column": null,
       "grid_gap": null,
       "grid_row": null,
       "grid_template_areas": null,
       "grid_template_columns": null,
       "grid_template_rows": null,
       "height": null,
       "justify_content": null,
       "justify_items": null,
       "left": null,
       "margin": null,
       "max_height": null,
       "max_width": null,
       "min_height": null,
       "min_width": null,
       "object_fit": null,
       "object_position": null,
       "order": null,
       "overflow": null,
       "overflow_x": null,
       "overflow_y": null,
       "padding": null,
       "right": null,
       "top": null,
       "visibility": null,
       "width": null
      }
     },
     "2a8f966fd67f4dc98030751d24032cf8": {
      "model_module": "@jupyter-widgets/controls",
      "model_module_version": "1.5.0",
      "model_name": "HTMLModel",
      "state": {
       "_dom_classes": [],
       "_model_module": "@jupyter-widgets/controls",
       "_model_module_version": "1.5.0",
       "_model_name": "HTMLModel",
       "_view_count": null,
       "_view_module": "@jupyter-widgets/controls",
       "_view_module_version": "1.5.0",
       "_view_name": "HTMLView",
       "description": "",
       "description_tooltip": null,
       "layout": "IPY_MODEL_7a19f5b840f648c0a4080aa243198fbb",
       "placeholder": "​",
       "style": "IPY_MODEL_5d66269c0d854613b7ab077f4698c705",
       "value": "100%"
      }
     },
     "2c4f2a35767d4d44ac0fdb8da96a4f11": {
      "model_module": "@jupyter-widgets/controls",
      "model_module_version": "1.5.0",
      "model_name": "HBoxModel",
      "state": {
       "_dom_classes": [],
       "_model_module": "@jupyter-widgets/controls",
       "_model_module_version": "1.5.0",
       "_model_name": "HBoxModel",
       "_view_count": null,
       "_view_module": "@jupyter-widgets/controls",
       "_view_module_version": "1.5.0",
       "_view_name": "HBoxView",
       "box_style": "",
       "children": [
        "IPY_MODEL_94f17c6931694d4983e3f0feb255168e",
        "IPY_MODEL_be3ddf08d0514ff7868fa40ad46b169a",
        "IPY_MODEL_f7f6e2822e064f73b2419cf14ba298ec"
       ],
       "layout": "IPY_MODEL_19a957eea24d48879ee65f9165370140"
      }
     },
     "316ccf5fcb8e46a4adc52f8e6bb5e29e": {
      "model_module": "@jupyter-widgets/controls",
      "model_module_version": "1.5.0",
      "model_name": "HBoxModel",
      "state": {
       "_dom_classes": [],
       "_model_module": "@jupyter-widgets/controls",
       "_model_module_version": "1.5.0",
       "_model_name": "HBoxModel",
       "_view_count": null,
       "_view_module": "@jupyter-widgets/controls",
       "_view_module_version": "1.5.0",
       "_view_name": "HBoxView",
       "box_style": "",
       "children": [
        "IPY_MODEL_2a8f966fd67f4dc98030751d24032cf8",
        "IPY_MODEL_7c884072473842ddbf056bd2a5613899",
        "IPY_MODEL_6d4633246c6e490089b82ce83bd7b57d"
       ],
       "layout": "IPY_MODEL_6a1dafce23f8482ab4475baa6d56623e"
      }
     },
     "3fa983bed9d64d39b2d83ad41c8b9c64": {
      "model_module": "@jupyter-widgets/controls",
      "model_module_version": "1.5.0",
      "model_name": "HTMLModel",
      "state": {
       "_dom_classes": [],
       "_model_module": "@jupyter-widgets/controls",
       "_model_module_version": "1.5.0",
       "_model_name": "HTMLModel",
       "_view_count": null,
       "_view_module": "@jupyter-widgets/controls",
       "_view_module_version": "1.5.0",
       "_view_name": "HTMLView",
       "description": "",
       "description_tooltip": null,
       "layout": "IPY_MODEL_7e62088f779a40879020d9e814a54ad9",
       "placeholder": "​",
       "style": "IPY_MODEL_a264cc06d7ea42a982baa5a30af48d42",
       "value": "100%"
      }
     },
     "473ec4abde604844ab100b7ecb34c783": {
      "model_module": "@jupyter-widgets/controls",
      "model_module_version": "1.5.0",
      "model_name": "HTMLModel",
      "state": {
       "_dom_classes": [],
       "_model_module": "@jupyter-widgets/controls",
       "_model_module_version": "1.5.0",
       "_model_name": "HTMLModel",
       "_view_count": null,
       "_view_module": "@jupyter-widgets/controls",
       "_view_module_version": "1.5.0",
       "_view_name": "HTMLView",
       "description": "",
       "description_tooltip": null,
       "layout": "IPY_MODEL_d66e9671a81c42e2bd972b7f0a5df753",
       "placeholder": "​",
       "style": "IPY_MODEL_ef419f4179304e41a63fb26004f7bc34",
       "value": " 4887/4887 [01:06&lt;00:00, 74.67it/s]"
      }
     },
     "4be7993fa4da4b30b8a35f19485cba68": {
      "model_module": "@jupyter-widgets/base",
      "model_module_version": "1.2.0",
      "model_name": "LayoutModel",
      "state": {
       "_model_module": "@jupyter-widgets/base",
       "_model_module_version": "1.2.0",
       "_model_name": "LayoutModel",
       "_view_count": null,
       "_view_module": "@jupyter-widgets/base",
       "_view_module_version": "1.2.0",
       "_view_name": "LayoutView",
       "align_content": null,
       "align_items": null,
       "align_self": null,
       "border": null,
       "bottom": null,
       "display": null,
       "flex": null,
       "flex_flow": null,
       "grid_area": null,
       "grid_auto_columns": null,
       "grid_auto_flow": null,
       "grid_auto_rows": null,
       "grid_column": null,
       "grid_gap": null,
       "grid_row": null,
       "grid_template_areas": null,
       "grid_template_columns": null,
       "grid_template_rows": null,
       "height": null,
       "justify_content": null,
       "justify_items": null,
       "left": null,
       "margin": null,
       "max_height": null,
       "max_width": null,
       "min_height": null,
       "min_width": null,
       "object_fit": null,
       "object_position": null,
       "order": null,
       "overflow": null,
       "overflow_x": null,
       "overflow_y": null,
       "padding": null,
       "right": null,
       "top": null,
       "visibility": null,
       "width": null
      }
     },
     "5d66269c0d854613b7ab077f4698c705": {
      "model_module": "@jupyter-widgets/controls",
      "model_module_version": "1.5.0",
      "model_name": "DescriptionStyleModel",
      "state": {
       "_model_module": "@jupyter-widgets/controls",
       "_model_module_version": "1.5.0",
       "_model_name": "DescriptionStyleModel",
       "_view_count": null,
       "_view_module": "@jupyter-widgets/base",
       "_view_module_version": "1.2.0",
       "_view_name": "StyleView",
       "description_width": ""
      }
     },
     "63ba74eb3b514b4e8c56aa1277e73bbb": {
      "model_module": "@jupyter-widgets/base",
      "model_module_version": "1.2.0",
      "model_name": "LayoutModel",
      "state": {
       "_model_module": "@jupyter-widgets/base",
       "_model_module_version": "1.2.0",
       "_model_name": "LayoutModel",
       "_view_count": null,
       "_view_module": "@jupyter-widgets/base",
       "_view_module_version": "1.2.0",
       "_view_name": "LayoutView",
       "align_content": null,
       "align_items": null,
       "align_self": null,
       "border": null,
       "bottom": null,
       "display": null,
       "flex": null,
       "flex_flow": null,
       "grid_area": null,
       "grid_auto_columns": null,
       "grid_auto_flow": null,
       "grid_auto_rows": null,
       "grid_column": null,
       "grid_gap": null,
       "grid_row": null,
       "grid_template_areas": null,
       "grid_template_columns": null,
       "grid_template_rows": null,
       "height": null,
       "justify_content": null,
       "justify_items": null,
       "left": null,
       "margin": null,
       "max_height": null,
       "max_width": null,
       "min_height": null,
       "min_width": null,
       "object_fit": null,
       "object_position": null,
       "order": null,
       "overflow": null,
       "overflow_x": null,
       "overflow_y": null,
       "padding": null,
       "right": null,
       "top": null,
       "visibility": null,
       "width": null
      }
     },
     "66846439bd254e26a393d550a9212298": {
      "model_module": "@jupyter-widgets/controls",
      "model_module_version": "1.5.0",
      "model_name": "DescriptionStyleModel",
      "state": {
       "_model_module": "@jupyter-widgets/controls",
       "_model_module_version": "1.5.0",
       "_model_name": "DescriptionStyleModel",
       "_view_count": null,
       "_view_module": "@jupyter-widgets/base",
       "_view_module_version": "1.2.0",
       "_view_name": "StyleView",
       "description_width": ""
      }
     },
     "67cbb99df873412ab6fe09888abc873a": {
      "model_module": "@jupyter-widgets/controls",
      "model_module_version": "1.5.0",
      "model_name": "HTMLModel",
      "state": {
       "_dom_classes": [],
       "_model_module": "@jupyter-widgets/controls",
       "_model_module_version": "1.5.0",
       "_model_name": "HTMLModel",
       "_view_count": null,
       "_view_module": "@jupyter-widgets/controls",
       "_view_module_version": "1.5.0",
       "_view_name": "HTMLView",
       "description": "",
       "description_tooltip": null,
       "layout": "IPY_MODEL_c5d396d65d03441bb01f2178bc05fb54",
       "placeholder": "​",
       "style": "IPY_MODEL_0ec6c355db1a46ac889aa9e3663cd58a",
       "value": " 4887/4887 [01:06&lt;00:00, 74.81it/s]"
      }
     },
     "6a1dafce23f8482ab4475baa6d56623e": {
      "model_module": "@jupyter-widgets/base",
      "model_module_version": "1.2.0",
      "model_name": "LayoutModel",
      "state": {
       "_model_module": "@jupyter-widgets/base",
       "_model_module_version": "1.2.0",
       "_model_name": "LayoutModel",
       "_view_count": null,
       "_view_module": "@jupyter-widgets/base",
       "_view_module_version": "1.2.0",
       "_view_name": "LayoutView",
       "align_content": null,
       "align_items": null,
       "align_self": null,
       "border": null,
       "bottom": null,
       "display": null,
       "flex": null,
       "flex_flow": null,
       "grid_area": null,
       "grid_auto_columns": null,
       "grid_auto_flow": null,
       "grid_auto_rows": null,
       "grid_column": null,
       "grid_gap": null,
       "grid_row": null,
       "grid_template_areas": null,
       "grid_template_columns": null,
       "grid_template_rows": null,
       "height": null,
       "justify_content": null,
       "justify_items": null,
       "left": null,
       "margin": null,
       "max_height": null,
       "max_width": null,
       "min_height": null,
       "min_width": null,
       "object_fit": null,
       "object_position": null,
       "order": null,
       "overflow": null,
       "overflow_x": null,
       "overflow_y": null,
       "padding": null,
       "right": null,
       "top": null,
       "visibility": null,
       "width": null
      }
     },
     "6a5adacc69e24490886e6457c1410658": {
      "model_module": "@jupyter-widgets/controls",
      "model_module_version": "1.5.0",
      "model_name": "HBoxModel",
      "state": {
       "_dom_classes": [],
       "_model_module": "@jupyter-widgets/controls",
       "_model_module_version": "1.5.0",
       "_model_name": "HBoxModel",
       "_view_count": null,
       "_view_module": "@jupyter-widgets/controls",
       "_view_module_version": "1.5.0",
       "_view_name": "HBoxView",
       "box_style": "",
       "children": [
        "IPY_MODEL_3fa983bed9d64d39b2d83ad41c8b9c64",
        "IPY_MODEL_a94b6078f9a04b9d8d513083a77d31d8",
        "IPY_MODEL_e526dc27f0834a6fb0609539559d76e1"
       ],
       "layout": "IPY_MODEL_b69033dced7d4556815e17397df4cd29"
      }
     },
     "6b541ef3c68a40c182e1e20bbf3d8b53": {
      "model_module": "@jupyter-widgets/controls",
      "model_module_version": "1.5.0",
      "model_name": "HBoxModel",
      "state": {
       "_dom_classes": [],
       "_model_module": "@jupyter-widgets/controls",
       "_model_module_version": "1.5.0",
       "_model_name": "HBoxModel",
       "_view_count": null,
       "_view_module": "@jupyter-widgets/controls",
       "_view_module_version": "1.5.0",
       "_view_name": "HBoxView",
       "box_style": "",
       "children": [
        "IPY_MODEL_a5ad9460ed704085b82b3aac6df67883",
        "IPY_MODEL_8e079c0b4ef24c81ade572e4c4afd23b",
        "IPY_MODEL_67cbb99df873412ab6fe09888abc873a"
       ],
       "layout": "IPY_MODEL_0724f3a22040454f9bc2431728ffe5b1"
      }
     },
     "6d4633246c6e490089b82ce83bd7b57d": {
      "model_module": "@jupyter-widgets/controls",
      "model_module_version": "1.5.0",
      "model_name": "HTMLModel",
      "state": {
       "_dom_classes": [],
       "_model_module": "@jupyter-widgets/controls",
       "_model_module_version": "1.5.0",
       "_model_name": "HTMLModel",
       "_view_count": null,
       "_view_module": "@jupyter-widgets/controls",
       "_view_module_version": "1.5.0",
       "_view_name": "HTMLView",
       "description": "",
       "description_tooltip": null,
       "layout": "IPY_MODEL_74772126933841948c7250b72f2da703",
       "placeholder": "​",
       "style": "IPY_MODEL_66846439bd254e26a393d550a9212298",
       "value": " 4887/4887 [01:06&lt;00:00, 75.44it/s]"
      }
     },
     "74772126933841948c7250b72f2da703": {
      "model_module": "@jupyter-widgets/base",
      "model_module_version": "1.2.0",
      "model_name": "LayoutModel",
      "state": {
       "_model_module": "@jupyter-widgets/base",
       "_model_module_version": "1.2.0",
       "_model_name": "LayoutModel",
       "_view_count": null,
       "_view_module": "@jupyter-widgets/base",
       "_view_module_version": "1.2.0",
       "_view_name": "LayoutView",
       "align_content": null,
       "align_items": null,
       "align_self": null,
       "border": null,
       "bottom": null,
       "display": null,
       "flex": null,
       "flex_flow": null,
       "grid_area": null,
       "grid_auto_columns": null,
       "grid_auto_flow": null,
       "grid_auto_rows": null,
       "grid_column": null,
       "grid_gap": null,
       "grid_row": null,
       "grid_template_areas": null,
       "grid_template_columns": null,
       "grid_template_rows": null,
       "height": null,
       "justify_content": null,
       "justify_items": null,
       "left": null,
       "margin": null,
       "max_height": null,
       "max_width": null,
       "min_height": null,
       "min_width": null,
       "object_fit": null,
       "object_position": null,
       "order": null,
       "overflow": null,
       "overflow_x": null,
       "overflow_y": null,
       "padding": null,
       "right": null,
       "top": null,
       "visibility": null,
       "width": null
      }
     },
     "7a19f5b840f648c0a4080aa243198fbb": {
      "model_module": "@jupyter-widgets/base",
      "model_module_version": "1.2.0",
      "model_name": "LayoutModel",
      "state": {
       "_model_module": "@jupyter-widgets/base",
       "_model_module_version": "1.2.0",
       "_model_name": "LayoutModel",
       "_view_count": null,
       "_view_module": "@jupyter-widgets/base",
       "_view_module_version": "1.2.0",
       "_view_name": "LayoutView",
       "align_content": null,
       "align_items": null,
       "align_self": null,
       "border": null,
       "bottom": null,
       "display": null,
       "flex": null,
       "flex_flow": null,
       "grid_area": null,
       "grid_auto_columns": null,
       "grid_auto_flow": null,
       "grid_auto_rows": null,
       "grid_column": null,
       "grid_gap": null,
       "grid_row": null,
       "grid_template_areas": null,
       "grid_template_columns": null,
       "grid_template_rows": null,
       "height": null,
       "justify_content": null,
       "justify_items": null,
       "left": null,
       "margin": null,
       "max_height": null,
       "max_width": null,
       "min_height": null,
       "min_width": null,
       "object_fit": null,
       "object_position": null,
       "order": null,
       "overflow": null,
       "overflow_x": null,
       "overflow_y": null,
       "padding": null,
       "right": null,
       "top": null,
       "visibility": null,
       "width": null
      }
     },
     "7c884072473842ddbf056bd2a5613899": {
      "model_module": "@jupyter-widgets/controls",
      "model_module_version": "1.5.0",
      "model_name": "FloatProgressModel",
      "state": {
       "_dom_classes": [],
       "_model_module": "@jupyter-widgets/controls",
       "_model_module_version": "1.5.0",
       "_model_name": "FloatProgressModel",
       "_view_count": null,
       "_view_module": "@jupyter-widgets/controls",
       "_view_module_version": "1.5.0",
       "_view_name": "ProgressView",
       "bar_style": "success",
       "description": "",
       "description_tooltip": null,
       "layout": "IPY_MODEL_08f55a5451b447cb859c389edaf65848",
       "max": 4887.0,
       "min": 0.0,
       "orientation": "horizontal",
       "style": "IPY_MODEL_abe6c2a4f498438eaea973181b418f82",
       "value": 4887.0
      }
     },
     "7e62088f779a40879020d9e814a54ad9": {
      "model_module": "@jupyter-widgets/base",
      "model_module_version": "1.2.0",
      "model_name": "LayoutModel",
      "state": {
       "_model_module": "@jupyter-widgets/base",
       "_model_module_version": "1.2.0",
       "_model_name": "LayoutModel",
       "_view_count": null,
       "_view_module": "@jupyter-widgets/base",
       "_view_module_version": "1.2.0",
       "_view_name": "LayoutView",
       "align_content": null,
       "align_items": null,
       "align_self": null,
       "border": null,
       "bottom": null,
       "display": null,
       "flex": null,
       "flex_flow": null,
       "grid_area": null,
       "grid_auto_columns": null,
       "grid_auto_flow": null,
       "grid_auto_rows": null,
       "grid_column": null,
       "grid_gap": null,
       "grid_row": null,
       "grid_template_areas": null,
       "grid_template_columns": null,
       "grid_template_rows": null,
       "height": null,
       "justify_content": null,
       "justify_items": null,
       "left": null,
       "margin": null,
       "max_height": null,
       "max_width": null,
       "min_height": null,
       "min_width": null,
       "object_fit": null,
       "object_position": null,
       "order": null,
       "overflow": null,
       "overflow_x": null,
       "overflow_y": null,
       "padding": null,
       "right": null,
       "top": null,
       "visibility": null,
       "width": null
      }
     },
     "7ec9507e84ba46799a4f6c1f3c418e69": {
      "model_module": "@jupyter-widgets/base",
      "model_module_version": "1.2.0",
      "model_name": "LayoutModel",
      "state": {
       "_model_module": "@jupyter-widgets/base",
       "_model_module_version": "1.2.0",
       "_model_name": "LayoutModel",
       "_view_count": null,
       "_view_module": "@jupyter-widgets/base",
       "_view_module_version": "1.2.0",
       "_view_name": "LayoutView",
       "align_content": null,
       "align_items": null,
       "align_self": null,
       "border": null,
       "bottom": null,
       "display": null,
       "flex": null,
       "flex_flow": null,
       "grid_area": null,
       "grid_auto_columns": null,
       "grid_auto_flow": null,
       "grid_auto_rows": null,
       "grid_column": null,
       "grid_gap": null,
       "grid_row": null,
       "grid_template_areas": null,
       "grid_template_columns": null,
       "grid_template_rows": null,
       "height": null,
       "justify_content": null,
       "justify_items": null,
       "left": null,
       "margin": null,
       "max_height": null,
       "max_width": null,
       "min_height": null,
       "min_width": null,
       "object_fit": null,
       "object_position": null,
       "order": null,
       "overflow": null,
       "overflow_x": null,
       "overflow_y": null,
       "padding": null,
       "right": null,
       "top": null,
       "visibility": null,
       "width": null
      }
     },
     "86323c63ca2f4a59afb26dc3365ce93c": {
      "model_module": "@jupyter-widgets/controls",
      "model_module_version": "1.5.0",
      "model_name": "DescriptionStyleModel",
      "state": {
       "_model_module": "@jupyter-widgets/controls",
       "_model_module_version": "1.5.0",
       "_model_name": "DescriptionStyleModel",
       "_view_count": null,
       "_view_module": "@jupyter-widgets/base",
       "_view_module_version": "1.2.0",
       "_view_name": "StyleView",
       "description_width": ""
      }
     },
     "863c18616cca48908379a8bbf2b80485": {
      "model_module": "@jupyter-widgets/controls",
      "model_module_version": "1.5.0",
      "model_name": "DescriptionStyleModel",
      "state": {
       "_model_module": "@jupyter-widgets/controls",
       "_model_module_version": "1.5.0",
       "_model_name": "DescriptionStyleModel",
       "_view_count": null,
       "_view_module": "@jupyter-widgets/base",
       "_view_module_version": "1.2.0",
       "_view_name": "StyleView",
       "description_width": ""
      }
     },
     "8868fcce105f44c0a40eb08351b1d5b1": {
      "model_module": "@jupyter-widgets/controls",
      "model_module_version": "1.5.0",
      "model_name": "HTMLModel",
      "state": {
       "_dom_classes": [],
       "_model_module": "@jupyter-widgets/controls",
       "_model_module_version": "1.5.0",
       "_model_name": "HTMLModel",
       "_view_count": null,
       "_view_module": "@jupyter-widgets/controls",
       "_view_module_version": "1.5.0",
       "_view_name": "HTMLView",
       "description": "",
       "description_tooltip": null,
       "layout": "IPY_MODEL_2a6939be5d764e15bdf59808a418a47f",
       "placeholder": "​",
       "style": "IPY_MODEL_86323c63ca2f4a59afb26dc3365ce93c",
       "value": "100%"
      }
     },
     "88993befe2044122bd176fb013a1eed8": {
      "model_module": "@jupyter-widgets/controls",
      "model_module_version": "1.5.0",
      "model_name": "ProgressStyleModel",
      "state": {
       "_model_module": "@jupyter-widgets/controls",
       "_model_module_version": "1.5.0",
       "_model_name": "ProgressStyleModel",
       "_view_count": null,
       "_view_module": "@jupyter-widgets/base",
       "_view_module_version": "1.2.0",
       "_view_name": "StyleView",
       "bar_color": null,
       "description_width": ""
      }
     },
     "8afdedd09c7448f191c8f97d8804e137": {
      "model_module": "@jupyter-widgets/base",
      "model_module_version": "1.2.0",
      "model_name": "LayoutModel",
      "state": {
       "_model_module": "@jupyter-widgets/base",
       "_model_module_version": "1.2.0",
       "_model_name": "LayoutModel",
       "_view_count": null,
       "_view_module": "@jupyter-widgets/base",
       "_view_module_version": "1.2.0",
       "_view_name": "LayoutView",
       "align_content": null,
       "align_items": null,
       "align_self": null,
       "border": null,
       "bottom": null,
       "display": null,
       "flex": null,
       "flex_flow": null,
       "grid_area": null,
       "grid_auto_columns": null,
       "grid_auto_flow": null,
       "grid_auto_rows": null,
       "grid_column": null,
       "grid_gap": null,
       "grid_row": null,
       "grid_template_areas": null,
       "grid_template_columns": null,
       "grid_template_rows": null,
       "height": null,
       "justify_content": null,
       "justify_items": null,
       "left": null,
       "margin": null,
       "max_height": null,
       "max_width": null,
       "min_height": null,
       "min_width": null,
       "object_fit": null,
       "object_position": null,
       "order": null,
       "overflow": null,
       "overflow_x": null,
       "overflow_y": null,
       "padding": null,
       "right": null,
       "top": null,
       "visibility": null,
       "width": null
      }
     },
     "8e079c0b4ef24c81ade572e4c4afd23b": {
      "model_module": "@jupyter-widgets/controls",
      "model_module_version": "1.5.0",
      "model_name": "FloatProgressModel",
      "state": {
       "_dom_classes": [],
       "_model_module": "@jupyter-widgets/controls",
       "_model_module_version": "1.5.0",
       "_model_name": "FloatProgressModel",
       "_view_count": null,
       "_view_module": "@jupyter-widgets/controls",
       "_view_module_version": "1.5.0",
       "_view_name": "ProgressView",
       "bar_style": "success",
       "description": "",
       "description_tooltip": null,
       "layout": "IPY_MODEL_e607770a5c3246cf9307271b6153803b",
       "max": 4887.0,
       "min": 0.0,
       "orientation": "horizontal",
       "style": "IPY_MODEL_d413a9b76077424ca94c660f9403e678",
       "value": 4887.0
      }
     },
     "94f17c6931694d4983e3f0feb255168e": {
      "model_module": "@jupyter-widgets/controls",
      "model_module_version": "1.5.0",
      "model_name": "HTMLModel",
      "state": {
       "_dom_classes": [],
       "_model_module": "@jupyter-widgets/controls",
       "_model_module_version": "1.5.0",
       "_model_name": "HTMLModel",
       "_view_count": null,
       "_view_module": "@jupyter-widgets/controls",
       "_view_module_version": "1.5.0",
       "_view_name": "HTMLView",
       "description": "",
       "description_tooltip": null,
       "layout": "IPY_MODEL_4be7993fa4da4b30b8a35f19485cba68",
       "placeholder": "​",
       "style": "IPY_MODEL_e543e989af9b4678b6e4e53bd4962dca",
       "value": "100%"
      }
     },
     "974ed01d035e4515bfabb9e30aa1f3b6": {
      "model_module": "@jupyter-widgets/base",
      "model_module_version": "1.2.0",
      "model_name": "LayoutModel",
      "state": {
       "_model_module": "@jupyter-widgets/base",
       "_model_module_version": "1.2.0",
       "_model_name": "LayoutModel",
       "_view_count": null,
       "_view_module": "@jupyter-widgets/base",
       "_view_module_version": "1.2.0",
       "_view_name": "LayoutView",
       "align_content": null,
       "align_items": null,
       "align_self": null,
       "border": null,
       "bottom": null,
       "display": null,
       "flex": null,
       "flex_flow": null,
       "grid_area": null,
       "grid_auto_columns": null,
       "grid_auto_flow": null,
       "grid_auto_rows": null,
       "grid_column": null,
       "grid_gap": null,
       "grid_row": null,
       "grid_template_areas": null,
       "grid_template_columns": null,
       "grid_template_rows": null,
       "height": null,
       "justify_content": null,
       "justify_items": null,
       "left": null,
       "margin": null,
       "max_height": null,
       "max_width": null,
       "min_height": null,
       "min_width": null,
       "object_fit": null,
       "object_position": null,
       "order": null,
       "overflow": null,
       "overflow_x": null,
       "overflow_y": null,
       "padding": null,
       "right": null,
       "top": null,
       "visibility": null,
       "width": null
      }
     },
     "a1bd405c606142caadc1fae7ad79e4ab": {
      "model_module": "@jupyter-widgets/controls",
      "model_module_version": "1.5.0",
      "model_name": "DescriptionStyleModel",
      "state": {
       "_model_module": "@jupyter-widgets/controls",
       "_model_module_version": "1.5.0",
       "_model_name": "DescriptionStyleModel",
       "_view_count": null,
       "_view_module": "@jupyter-widgets/base",
       "_view_module_version": "1.2.0",
       "_view_name": "StyleView",
       "description_width": ""
      }
     },
     "a264cc06d7ea42a982baa5a30af48d42": {
      "model_module": "@jupyter-widgets/controls",
      "model_module_version": "1.5.0",
      "model_name": "DescriptionStyleModel",
      "state": {
       "_model_module": "@jupyter-widgets/controls",
       "_model_module_version": "1.5.0",
       "_model_name": "DescriptionStyleModel",
       "_view_count": null,
       "_view_module": "@jupyter-widgets/base",
       "_view_module_version": "1.2.0",
       "_view_name": "StyleView",
       "description_width": ""
      }
     },
     "a4f8281836b345ccb171adcce952b69f": {
      "model_module": "@jupyter-widgets/base",
      "model_module_version": "1.2.0",
      "model_name": "LayoutModel",
      "state": {
       "_model_module": "@jupyter-widgets/base",
       "_model_module_version": "1.2.0",
       "_model_name": "LayoutModel",
       "_view_count": null,
       "_view_module": "@jupyter-widgets/base",
       "_view_module_version": "1.2.0",
       "_view_name": "LayoutView",
       "align_content": null,
       "align_items": null,
       "align_self": null,
       "border": null,
       "bottom": null,
       "display": null,
       "flex": null,
       "flex_flow": null,
       "grid_area": null,
       "grid_auto_columns": null,
       "grid_auto_flow": null,
       "grid_auto_rows": null,
       "grid_column": null,
       "grid_gap": null,
       "grid_row": null,
       "grid_template_areas": null,
       "grid_template_columns": null,
       "grid_template_rows": null,
       "height": null,
       "justify_content": null,
       "justify_items": null,
       "left": null,
       "margin": null,
       "max_height": null,
       "max_width": null,
       "min_height": null,
       "min_width": null,
       "object_fit": null,
       "object_position": null,
       "order": null,
       "overflow": null,
       "overflow_x": null,
       "overflow_y": null,
       "padding": null,
       "right": null,
       "top": null,
       "visibility": null,
       "width": null
      }
     },
     "a5ad9460ed704085b82b3aac6df67883": {
      "model_module": "@jupyter-widgets/controls",
      "model_module_version": "1.5.0",
      "model_name": "HTMLModel",
      "state": {
       "_dom_classes": [],
       "_model_module": "@jupyter-widgets/controls",
       "_model_module_version": "1.5.0",
       "_model_name": "HTMLModel",
       "_view_count": null,
       "_view_module": "@jupyter-widgets/controls",
       "_view_module_version": "1.5.0",
       "_view_name": "HTMLView",
       "description": "",
       "description_tooltip": null,
       "layout": "IPY_MODEL_974ed01d035e4515bfabb9e30aa1f3b6",
       "placeholder": "​",
       "style": "IPY_MODEL_19a287d7cd744f3a87e96bdc6ccbdcc9",
       "value": "100%"
      }
     },
     "a94b6078f9a04b9d8d513083a77d31d8": {
      "model_module": "@jupyter-widgets/controls",
      "model_module_version": "1.5.0",
      "model_name": "FloatProgressModel",
      "state": {
       "_dom_classes": [],
       "_model_module": "@jupyter-widgets/controls",
       "_model_module_version": "1.5.0",
       "_model_name": "FloatProgressModel",
       "_view_count": null,
       "_view_module": "@jupyter-widgets/controls",
       "_view_module_version": "1.5.0",
       "_view_name": "ProgressView",
       "bar_style": "success",
       "description": "",
       "description_tooltip": null,
       "layout": "IPY_MODEL_27f12af0614d4a70aa7e9c6d432b29a9",
       "max": 4887.0,
       "min": 0.0,
       "orientation": "horizontal",
       "style": "IPY_MODEL_c5931e551755465fa6f9dd3b3eaae681",
       "value": 4887.0
      }
     },
     "abe6c2a4f498438eaea973181b418f82": {
      "model_module": "@jupyter-widgets/controls",
      "model_module_version": "1.5.0",
      "model_name": "ProgressStyleModel",
      "state": {
       "_model_module": "@jupyter-widgets/controls",
       "_model_module_version": "1.5.0",
       "_model_name": "ProgressStyleModel",
       "_view_count": null,
       "_view_module": "@jupyter-widgets/base",
       "_view_module_version": "1.2.0",
       "_view_name": "StyleView",
       "bar_color": null,
       "description_width": ""
      }
     },
     "b058165005c1433e81674b9c1bf00ae4": {
      "model_module": "@jupyter-widgets/controls",
      "model_module_version": "1.5.0",
      "model_name": "FloatProgressModel",
      "state": {
       "_dom_classes": [],
       "_model_module": "@jupyter-widgets/controls",
       "_model_module_version": "1.5.0",
       "_model_name": "FloatProgressModel",
       "_view_count": null,
       "_view_module": "@jupyter-widgets/controls",
       "_view_module_version": "1.5.0",
       "_view_name": "ProgressView",
       "bar_style": "success",
       "description": "",
       "description_tooltip": null,
       "layout": "IPY_MODEL_7ec9507e84ba46799a4f6c1f3c418e69",
       "max": 4887.0,
       "min": 0.0,
       "orientation": "horizontal",
       "style": "IPY_MODEL_0decd03e55334eaabe636725861667f9",
       "value": 4887.0
      }
     },
     "b1ab9962213545bcb2f4800fb34b8d85": {
      "model_module": "@jupyter-widgets/controls",
      "model_module_version": "1.5.0",
      "model_name": "HBoxModel",
      "state": {
       "_dom_classes": [],
       "_model_module": "@jupyter-widgets/controls",
       "_model_module_version": "1.5.0",
       "_model_name": "HBoxModel",
       "_view_count": null,
       "_view_module": "@jupyter-widgets/controls",
       "_view_module_version": "1.5.0",
       "_view_name": "HBoxView",
       "box_style": "",
       "children": [
        "IPY_MODEL_8868fcce105f44c0a40eb08351b1d5b1",
        "IPY_MODEL_c5f6b1249c6d415ca382b7b50592b156",
        "IPY_MODEL_d5d0699ef37548b9a3327f10f1c8b2bd"
       ],
       "layout": "IPY_MODEL_da1ad7d3079445fab7b1831c8643f211"
      }
     },
     "b39d264be0e24abfb5290082722ad71b": {
      "model_module": "@jupyter-widgets/base",
      "model_module_version": "1.2.0",
      "model_name": "LayoutModel",
      "state": {
       "_model_module": "@jupyter-widgets/base",
       "_model_module_version": "1.2.0",
       "_model_name": "LayoutModel",
       "_view_count": null,
       "_view_module": "@jupyter-widgets/base",
       "_view_module_version": "1.2.0",
       "_view_name": "LayoutView",
       "align_content": null,
       "align_items": null,
       "align_self": null,
       "border": null,
       "bottom": null,
       "display": null,
       "flex": null,
       "flex_flow": null,
       "grid_area": null,
       "grid_auto_columns": null,
       "grid_auto_flow": null,
       "grid_auto_rows": null,
       "grid_column": null,
       "grid_gap": null,
       "grid_row": null,
       "grid_template_areas": null,
       "grid_template_columns": null,
       "grid_template_rows": null,
       "height": null,
       "justify_content": null,
       "justify_items": null,
       "left": null,
       "margin": null,
       "max_height": null,
       "max_width": null,
       "min_height": null,
       "min_width": null,
       "object_fit": null,
       "object_position": null,
       "order": null,
       "overflow": null,
       "overflow_x": null,
       "overflow_y": null,
       "padding": null,
       "right": null,
       "top": null,
       "visibility": null,
       "width": null
      }
     },
     "b69033dced7d4556815e17397df4cd29": {
      "model_module": "@jupyter-widgets/base",
      "model_module_version": "1.2.0",
      "model_name": "LayoutModel",
      "state": {
       "_model_module": "@jupyter-widgets/base",
       "_model_module_version": "1.2.0",
       "_model_name": "LayoutModel",
       "_view_count": null,
       "_view_module": "@jupyter-widgets/base",
       "_view_module_version": "1.2.0",
       "_view_name": "LayoutView",
       "align_content": null,
       "align_items": null,
       "align_self": null,
       "border": null,
       "bottom": null,
       "display": null,
       "flex": null,
       "flex_flow": null,
       "grid_area": null,
       "grid_auto_columns": null,
       "grid_auto_flow": null,
       "grid_auto_rows": null,
       "grid_column": null,
       "grid_gap": null,
       "grid_row": null,
       "grid_template_areas": null,
       "grid_template_columns": null,
       "grid_template_rows": null,
       "height": null,
       "justify_content": null,
       "justify_items": null,
       "left": null,
       "margin": null,
       "max_height": null,
       "max_width": null,
       "min_height": null,
       "min_width": null,
       "object_fit": null,
       "object_position": null,
       "order": null,
       "overflow": null,
       "overflow_x": null,
       "overflow_y": null,
       "padding": null,
       "right": null,
       "top": null,
       "visibility": null,
       "width": null
      }
     },
     "be3ddf08d0514ff7868fa40ad46b169a": {
      "model_module": "@jupyter-widgets/controls",
      "model_module_version": "1.5.0",
      "model_name": "FloatProgressModel",
      "state": {
       "_dom_classes": [],
       "_model_module": "@jupyter-widgets/controls",
       "_model_module_version": "1.5.0",
       "_model_name": "FloatProgressModel",
       "_view_count": null,
       "_view_module": "@jupyter-widgets/controls",
       "_view_module_version": "1.5.0",
       "_view_name": "ProgressView",
       "bar_style": "success",
       "description": "",
       "description_tooltip": null,
       "layout": "IPY_MODEL_bed53cd9a2584d1aa2f4cd4012598028",
       "max": 5.0,
       "min": 0.0,
       "orientation": "horizontal",
       "style": "IPY_MODEL_88993befe2044122bd176fb013a1eed8",
       "value": 5.0
      }
     },
     "bed53cd9a2584d1aa2f4cd4012598028": {
      "model_module": "@jupyter-widgets/base",
      "model_module_version": "1.2.0",
      "model_name": "LayoutModel",
      "state": {
       "_model_module": "@jupyter-widgets/base",
       "_model_module_version": "1.2.0",
       "_model_name": "LayoutModel",
       "_view_count": null,
       "_view_module": "@jupyter-widgets/base",
       "_view_module_version": "1.2.0",
       "_view_name": "LayoutView",
       "align_content": null,
       "align_items": null,
       "align_self": null,
       "border": null,
       "bottom": null,
       "display": null,
       "flex": null,
       "flex_flow": null,
       "grid_area": null,
       "grid_auto_columns": null,
       "grid_auto_flow": null,
       "grid_auto_rows": null,
       "grid_column": null,
       "grid_gap": null,
       "grid_row": null,
       "grid_template_areas": null,
       "grid_template_columns": null,
       "grid_template_rows": null,
       "height": null,
       "justify_content": null,
       "justify_items": null,
       "left": null,
       "margin": null,
       "max_height": null,
       "max_width": null,
       "min_height": null,
       "min_width": null,
       "object_fit": null,
       "object_position": null,
       "order": null,
       "overflow": null,
       "overflow_x": null,
       "overflow_y": null,
       "padding": null,
       "right": null,
       "top": null,
       "visibility": null,
       "width": null
      }
     },
     "c5931e551755465fa6f9dd3b3eaae681": {
      "model_module": "@jupyter-widgets/controls",
      "model_module_version": "1.5.0",
      "model_name": "ProgressStyleModel",
      "state": {
       "_model_module": "@jupyter-widgets/controls",
       "_model_module_version": "1.5.0",
       "_model_name": "ProgressStyleModel",
       "_view_count": null,
       "_view_module": "@jupyter-widgets/base",
       "_view_module_version": "1.2.0",
       "_view_name": "StyleView",
       "bar_color": null,
       "description_width": ""
      }
     },
     "c5d396d65d03441bb01f2178bc05fb54": {
      "model_module": "@jupyter-widgets/base",
      "model_module_version": "1.2.0",
      "model_name": "LayoutModel",
      "state": {
       "_model_module": "@jupyter-widgets/base",
       "_model_module_version": "1.2.0",
       "_model_name": "LayoutModel",
       "_view_count": null,
       "_view_module": "@jupyter-widgets/base",
       "_view_module_version": "1.2.0",
       "_view_name": "LayoutView",
       "align_content": null,
       "align_items": null,
       "align_self": null,
       "border": null,
       "bottom": null,
       "display": null,
       "flex": null,
       "flex_flow": null,
       "grid_area": null,
       "grid_auto_columns": null,
       "grid_auto_flow": null,
       "grid_auto_rows": null,
       "grid_column": null,
       "grid_gap": null,
       "grid_row": null,
       "grid_template_areas": null,
       "grid_template_columns": null,
       "grid_template_rows": null,
       "height": null,
       "justify_content": null,
       "justify_items": null,
       "left": null,
       "margin": null,
       "max_height": null,
       "max_width": null,
       "min_height": null,
       "min_width": null,
       "object_fit": null,
       "object_position": null,
       "order": null,
       "overflow": null,
       "overflow_x": null,
       "overflow_y": null,
       "padding": null,
       "right": null,
       "top": null,
       "visibility": null,
       "width": null
      }
     },
     "c5f6b1249c6d415ca382b7b50592b156": {
      "model_module": "@jupyter-widgets/controls",
      "model_module_version": "1.5.0",
      "model_name": "FloatProgressModel",
      "state": {
       "_dom_classes": [],
       "_model_module": "@jupyter-widgets/controls",
       "_model_module_version": "1.5.0",
       "_model_name": "FloatProgressModel",
       "_view_count": null,
       "_view_module": "@jupyter-widgets/controls",
       "_view_module_version": "1.5.0",
       "_view_name": "ProgressView",
       "bar_style": "success",
       "description": "",
       "description_tooltip": null,
       "layout": "IPY_MODEL_a4f8281836b345ccb171adcce952b69f",
       "max": 4887.0,
       "min": 0.0,
       "orientation": "horizontal",
       "style": "IPY_MODEL_1b10abef5b1340d4b91dfa4a3e105cde",
       "value": 4887.0
      }
     },
     "cd099f3a1a104a47ba6067596f69ad37": {
      "model_module": "@jupyter-widgets/base",
      "model_module_version": "1.2.0",
      "model_name": "LayoutModel",
      "state": {
       "_model_module": "@jupyter-widgets/base",
       "_model_module_version": "1.2.0",
       "_model_name": "LayoutModel",
       "_view_count": null,
       "_view_module": "@jupyter-widgets/base",
       "_view_module_version": "1.2.0",
       "_view_name": "LayoutView",
       "align_content": null,
       "align_items": null,
       "align_self": null,
       "border": null,
       "bottom": null,
       "display": null,
       "flex": null,
       "flex_flow": null,
       "grid_area": null,
       "grid_auto_columns": null,
       "grid_auto_flow": null,
       "grid_auto_rows": null,
       "grid_column": null,
       "grid_gap": null,
       "grid_row": null,
       "grid_template_areas": null,
       "grid_template_columns": null,
       "grid_template_rows": null,
       "height": null,
       "justify_content": null,
       "justify_items": null,
       "left": null,
       "margin": null,
       "max_height": null,
       "max_width": null,
       "min_height": null,
       "min_width": null,
       "object_fit": null,
       "object_position": null,
       "order": null,
       "overflow": null,
       "overflow_x": null,
       "overflow_y": null,
       "padding": null,
       "right": null,
       "top": null,
       "visibility": null,
       "width": null
      }
     },
     "d413a9b76077424ca94c660f9403e678": {
      "model_module": "@jupyter-widgets/controls",
      "model_module_version": "1.5.0",
      "model_name": "ProgressStyleModel",
      "state": {
       "_model_module": "@jupyter-widgets/controls",
       "_model_module_version": "1.5.0",
       "_model_name": "ProgressStyleModel",
       "_view_count": null,
       "_view_module": "@jupyter-widgets/base",
       "_view_module_version": "1.2.0",
       "_view_name": "StyleView",
       "bar_color": null,
       "description_width": ""
      }
     },
     "d5d0699ef37548b9a3327f10f1c8b2bd": {
      "model_module": "@jupyter-widgets/controls",
      "model_module_version": "1.5.0",
      "model_name": "HTMLModel",
      "state": {
       "_dom_classes": [],
       "_model_module": "@jupyter-widgets/controls",
       "_model_module_version": "1.5.0",
       "_model_name": "HTMLModel",
       "_view_count": null,
       "_view_module": "@jupyter-widgets/controls",
       "_view_module_version": "1.5.0",
       "_view_name": "HTMLView",
       "description": "",
       "description_tooltip": null,
       "layout": "IPY_MODEL_cd099f3a1a104a47ba6067596f69ad37",
       "placeholder": "​",
       "style": "IPY_MODEL_863c18616cca48908379a8bbf2b80485",
       "value": " 4887/4887 [01:06&lt;00:00, 79.19it/s]"
      }
     },
     "d66e9671a81c42e2bd972b7f0a5df753": {
      "model_module": "@jupyter-widgets/base",
      "model_module_version": "1.2.0",
      "model_name": "LayoutModel",
      "state": {
       "_model_module": "@jupyter-widgets/base",
       "_model_module_version": "1.2.0",
       "_model_name": "LayoutModel",
       "_view_count": null,
       "_view_module": "@jupyter-widgets/base",
       "_view_module_version": "1.2.0",
       "_view_name": "LayoutView",
       "align_content": null,
       "align_items": null,
       "align_self": null,
       "border": null,
       "bottom": null,
       "display": null,
       "flex": null,
       "flex_flow": null,
       "grid_area": null,
       "grid_auto_columns": null,
       "grid_auto_flow": null,
       "grid_auto_rows": null,
       "grid_column": null,
       "grid_gap": null,
       "grid_row": null,
       "grid_template_areas": null,
       "grid_template_columns": null,
       "grid_template_rows": null,
       "height": null,
       "justify_content": null,
       "justify_items": null,
       "left": null,
       "margin": null,
       "max_height": null,
       "max_width": null,
       "min_height": null,
       "min_width": null,
       "object_fit": null,
       "object_position": null,
       "order": null,
       "overflow": null,
       "overflow_x": null,
       "overflow_y": null,
       "padding": null,
       "right": null,
       "top": null,
       "visibility": null,
       "width": null
      }
     },
     "da1ad7d3079445fab7b1831c8643f211": {
      "model_module": "@jupyter-widgets/base",
      "model_module_version": "1.2.0",
      "model_name": "LayoutModel",
      "state": {
       "_model_module": "@jupyter-widgets/base",
       "_model_module_version": "1.2.0",
       "_model_name": "LayoutModel",
       "_view_count": null,
       "_view_module": "@jupyter-widgets/base",
       "_view_module_version": "1.2.0",
       "_view_name": "LayoutView",
       "align_content": null,
       "align_items": null,
       "align_self": null,
       "border": null,
       "bottom": null,
       "display": null,
       "flex": null,
       "flex_flow": null,
       "grid_area": null,
       "grid_auto_columns": null,
       "grid_auto_flow": null,
       "grid_auto_rows": null,
       "grid_column": null,
       "grid_gap": null,
       "grid_row": null,
       "grid_template_areas": null,
       "grid_template_columns": null,
       "grid_template_rows": null,
       "height": null,
       "justify_content": null,
       "justify_items": null,
       "left": null,
       "margin": null,
       "max_height": null,
       "max_width": null,
       "min_height": null,
       "min_width": null,
       "object_fit": null,
       "object_position": null,
       "order": null,
       "overflow": null,
       "overflow_x": null,
       "overflow_y": null,
       "padding": null,
       "right": null,
       "top": null,
       "visibility": null,
       "width": null
      }
     },
     "e526dc27f0834a6fb0609539559d76e1": {
      "model_module": "@jupyter-widgets/controls",
      "model_module_version": "1.5.0",
      "model_name": "HTMLModel",
      "state": {
       "_dom_classes": [],
       "_model_module": "@jupyter-widgets/controls",
       "_model_module_version": "1.5.0",
       "_model_name": "HTMLModel",
       "_view_count": null,
       "_view_module": "@jupyter-widgets/controls",
       "_view_module_version": "1.5.0",
       "_view_name": "HTMLView",
       "description": "",
       "description_tooltip": null,
       "layout": "IPY_MODEL_b39d264be0e24abfb5290082722ad71b",
       "placeholder": "​",
       "style": "IPY_MODEL_f60f93073855466b84b2909ba5c4ce8a",
       "value": " 4887/4887 [01:06&lt;00:00, 78.02it/s]"
      }
     },
     "e543e989af9b4678b6e4e53bd4962dca": {
      "model_module": "@jupyter-widgets/controls",
      "model_module_version": "1.5.0",
      "model_name": "DescriptionStyleModel",
      "state": {
       "_model_module": "@jupyter-widgets/controls",
       "_model_module_version": "1.5.0",
       "_model_name": "DescriptionStyleModel",
       "_view_count": null,
       "_view_module": "@jupyter-widgets/base",
       "_view_module_version": "1.2.0",
       "_view_name": "StyleView",
       "description_width": ""
      }
     },
     "e607770a5c3246cf9307271b6153803b": {
      "model_module": "@jupyter-widgets/base",
      "model_module_version": "1.2.0",
      "model_name": "LayoutModel",
      "state": {
       "_model_module": "@jupyter-widgets/base",
       "_model_module_version": "1.2.0",
       "_model_name": "LayoutModel",
       "_view_count": null,
       "_view_module": "@jupyter-widgets/base",
       "_view_module_version": "1.2.0",
       "_view_name": "LayoutView",
       "align_content": null,
       "align_items": null,
       "align_self": null,
       "border": null,
       "bottom": null,
       "display": null,
       "flex": null,
       "flex_flow": null,
       "grid_area": null,
       "grid_auto_columns": null,
       "grid_auto_flow": null,
       "grid_auto_rows": null,
       "grid_column": null,
       "grid_gap": null,
       "grid_row": null,
       "grid_template_areas": null,
       "grid_template_columns": null,
       "grid_template_rows": null,
       "height": null,
       "justify_content": null,
       "justify_items": null,
       "left": null,
       "margin": null,
       "max_height": null,
       "max_width": null,
       "min_height": null,
       "min_width": null,
       "object_fit": null,
       "object_position": null,
       "order": null,
       "overflow": null,
       "overflow_x": null,
       "overflow_y": null,
       "padding": null,
       "right": null,
       "top": null,
       "visibility": null,
       "width": null
      }
     },
     "ef419f4179304e41a63fb26004f7bc34": {
      "model_module": "@jupyter-widgets/controls",
      "model_module_version": "1.5.0",
      "model_name": "DescriptionStyleModel",
      "state": {
       "_model_module": "@jupyter-widgets/controls",
       "_model_module_version": "1.5.0",
       "_model_name": "DescriptionStyleModel",
       "_view_count": null,
       "_view_module": "@jupyter-widgets/base",
       "_view_module_version": "1.2.0",
       "_view_name": "StyleView",
       "description_width": ""
      }
     },
     "f60f93073855466b84b2909ba5c4ce8a": {
      "model_module": "@jupyter-widgets/controls",
      "model_module_version": "1.5.0",
      "model_name": "DescriptionStyleModel",
      "state": {
       "_model_module": "@jupyter-widgets/controls",
       "_model_module_version": "1.5.0",
       "_model_name": "DescriptionStyleModel",
       "_view_count": null,
       "_view_module": "@jupyter-widgets/base",
       "_view_module_version": "1.2.0",
       "_view_name": "StyleView",
       "description_width": ""
      }
     },
     "f7f6e2822e064f73b2419cf14ba298ec": {
      "model_module": "@jupyter-widgets/controls",
      "model_module_version": "1.5.0",
      "model_name": "HTMLModel",
      "state": {
       "_dom_classes": [],
       "_model_module": "@jupyter-widgets/controls",
       "_model_module_version": "1.5.0",
       "_model_name": "HTMLModel",
       "_view_count": null,
       "_view_module": "@jupyter-widgets/controls",
       "_view_module_version": "1.5.0",
       "_view_name": "HTMLView",
       "description": "",
       "description_tooltip": null,
       "layout": "IPY_MODEL_014e92715a1f456786496ecae9b62670",
       "placeholder": "​",
       "style": "IPY_MODEL_a1bd405c606142caadc1fae7ad79e4ab",
       "value": " 5/5 [07:54&lt;00:00, 94.65s/it]"
      }
     }
    },
    "version_major": 2,
    "version_minor": 0
   }
  }
 },
 "nbformat": 4,
 "nbformat_minor": 5
}
