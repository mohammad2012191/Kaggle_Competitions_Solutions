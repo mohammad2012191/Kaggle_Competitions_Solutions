{
 "cells": [
  {
   "cell_type": "markdown",
   "id": "a3e4ad97",
   "metadata": {
    "papermill": {
     "duration": 0.003976,
     "end_time": "2024-12-01T05:17:39.232766",
     "exception": false,
     "start_time": "2024-12-01T05:17:39.228790",
     "status": "completed"
    },
    "tags": []
   },
   "source": [
    "## <u>Dart Tab Fusion</u>  "
   ]
  },
  {
   "cell_type": "code",
   "execution_count": 1,
   "id": "254481a2",
   "metadata": {
    "execution": {
     "iopub.execute_input": "2024-12-01T05:17:39.240661Z",
     "iopub.status.busy": "2024-12-01T05:17:39.240322Z",
     "iopub.status.idle": "2024-12-01T05:17:49.461840Z",
     "shell.execute_reply": "2024-12-01T05:17:49.460980Z"
    },
    "papermill": {
     "duration": 10.228293,
     "end_time": "2024-12-01T05:17:49.464345",
     "exception": false,
     "start_time": "2024-12-01T05:17:39.236052",
     "status": "completed"
    },
    "tags": []
   },
   "outputs": [
    {
     "name": "stdout",
     "output_type": "stream",
     "text": [
      "Looking in links: /kaggle/input/pytorchtabnet/pytorch_tabnet-4.1.0-py3-none-any.whl\r\n",
      "Processing /kaggle/input/pytorchtabnet/pytorch_tabnet-4.1.0-py3-none-any.whl\r\n",
      "Requirement already satisfied: numpy>=1.17 in /opt/conda/lib/python3.10/site-packages (from pytorch-tabnet) (1.26.4)\r\n",
      "Requirement already satisfied: scikit_learn>0.21 in /opt/conda/lib/python3.10/site-packages (from pytorch-tabnet) (1.2.2)\r\n",
      "Requirement already satisfied: scipy>1.4 in /opt/conda/lib/python3.10/site-packages (from pytorch-tabnet) (1.14.0)\r\n",
      "Requirement already satisfied: torch>=1.3 in /opt/conda/lib/python3.10/site-packages (from pytorch-tabnet) (2.4.0)\r\n",
      "Requirement already satisfied: tqdm>=4.36 in /opt/conda/lib/python3.10/site-packages (from pytorch-tabnet) (4.66.4)\r\n",
      "Requirement already satisfied: joblib>=1.1.1 in /opt/conda/lib/python3.10/site-packages (from scikit_learn>0.21->pytorch-tabnet) (1.4.2)\r\n",
      "Requirement already satisfied: threadpoolctl>=2.0.0 in /opt/conda/lib/python3.10/site-packages (from scikit_learn>0.21->pytorch-tabnet) (3.5.0)\r\n",
      "Requirement already satisfied: filelock in /opt/conda/lib/python3.10/site-packages (from torch>=1.3->pytorch-tabnet) (3.15.1)\r\n",
      "Requirement already satisfied: typing-extensions>=4.8.0 in /opt/conda/lib/python3.10/site-packages (from torch>=1.3->pytorch-tabnet) (4.12.2)\r\n",
      "Requirement already satisfied: sympy in /opt/conda/lib/python3.10/site-packages (from torch>=1.3->pytorch-tabnet) (1.13.2)\r\n",
      "Requirement already satisfied: networkx in /opt/conda/lib/python3.10/site-packages (from torch>=1.3->pytorch-tabnet) (3.3)\r\n",
      "Requirement already satisfied: jinja2 in /opt/conda/lib/python3.10/site-packages (from torch>=1.3->pytorch-tabnet) (3.1.4)\r\n",
      "Requirement already satisfied: fsspec in /opt/conda/lib/python3.10/site-packages (from torch>=1.3->pytorch-tabnet) (2024.6.1)\r\n",
      "Requirement already satisfied: MarkupSafe>=2.0 in /opt/conda/lib/python3.10/site-packages (from jinja2->torch>=1.3->pytorch-tabnet) (2.1.5)\r\n",
      "Requirement already satisfied: mpmath<1.4,>=1.1.0 in /opt/conda/lib/python3.10/site-packages (from sympy->torch>=1.3->pytorch-tabnet) (1.3.0)\r\n",
      "Installing collected packages: pytorch-tabnet\r\n",
      "Successfully installed pytorch-tabnet-4.1.0\r\n"
     ]
    }
   ],
   "source": [
    "!pip install --no-index --find-links /kaggle/input/pytorchtabnet/pytorch_tabnet-4.1.0-py3-none-any.whl pytorch-tabnet"
   ]
  },
  {
   "cell_type": "code",
   "execution_count": 2,
   "id": "92eb2047",
   "metadata": {
    "execution": {
     "iopub.execute_input": "2024-12-01T05:17:49.473069Z",
     "iopub.status.busy": "2024-12-01T05:17:49.472793Z",
     "iopub.status.idle": "2024-12-01T05:17:51.808178Z",
     "shell.execute_reply": "2024-12-01T05:17:51.807257Z"
    },
    "papermill": {
     "duration": 2.342042,
     "end_time": "2024-12-01T05:17:51.810160",
     "exception": false,
     "start_time": "2024-12-01T05:17:49.468118",
     "status": "completed"
    },
    "tags": []
   },
   "outputs": [],
   "source": [
    "import numpy as np\n",
    "import polars as pl\n",
    "import pandas as pd\n",
    "from pathlib import Path\n",
    "import json\n",
    "import os \n",
    "import joblib\n",
    "from datetime import datetime \n",
    "from sklearn.metrics import mean_squared_error as mse\n",
    "import kaggle_evaluation.mcts_inference_server \n",
    "\n",
    "import matplotlib.pyplot as plt\n",
    "class CFG:\n",
    "    # Paths to competition data\n",
    "    train_path = Path('/kaggle/input/um-game-playing-strength-of-mcts-variants/train.csv')\n",
    "    test_path = Path('/kaggle/input/um-game-playing-strength-of-mcts-variants/test.csv')\n",
    "    subm_path = Path('/kaggle/input/um-game-playing-strength-of-mcts-variants/sample_submission.csv')\n",
    "    # Feature engineering (FE) arguments\n",
    "    batch_size = 16384*2\n",
    "    low_memory = True\n",
    "    top_features= True\n",
    "    drop_gameruleset=True\n",
    "    version = \"dart_5f_V8\"\n",
    "    path =  \"/kaggle/input/mcts-gaurav-dart-tab/\"#\"/kaggle/working/\"#\n",
    "    infer_path = \"/kaggle/input/mcts-gaurav-dart-tab/dart_5f_V8\"\n",
    "    # Color for EDA and MD\n",
    "    color = '#E0BFB8' \n",
    "    early_stop = 50\n",
    "    n_features=300\n",
    "    n_splits = 8\n",
    "    var_threshold = 0.01#0.005#0.01\n",
    "    log_steps = 600\n",
    "    tfidf = False\n",
    "    DEBUG = False\n",
    "    single_run = True\n",
    "    seed=2024\n",
    "    TRAIN=False\n",
    "    response_variate='utility_agent1'\n",
    "    # LightGBM parameters\n",
    "    lgb_p = {\n",
    "        'objective': 'regression',\n",
    "        'boosting_type':'dart',\n",
    "        'n_estimators': 12000,\n",
    "        'learning_rate': 0.075,\n",
    "        'extra_trees': True,\n",
    "        'reg_lambda': 0.8,\n",
    "        'colsample_bytree': 0.6,#0.6 \n",
    "        'subsample': 0.8, \n",
    "        'num_leaves': 64,\n",
    "        'metric': 'rmse',\n",
    "        'device': 'cpu',\n",
    "        #'max_depth': 4,\n",
    "        'max_bin': 128,#128,\n",
    "        'verbose': -1,\n",
    "        'seed': 42,\n",
    "        'num_threads':os.cpu_count(),\n",
    "    } \n",
    "\n",
    "if not os.path.exists(f\"{CFG.path}/{CFG.version}\"):\n",
    "    os.makedirs(f\"{CFG.path}/{CFG.version}\")   "
   ]
  },
  {
   "cell_type": "code",
   "execution_count": 3,
   "id": "671f223f",
   "metadata": {
    "execution": {
     "iopub.execute_input": "2024-12-01T05:17:51.818582Z",
     "iopub.status.busy": "2024-12-01T05:17:51.818236Z",
     "iopub.status.idle": "2024-12-01T05:17:51.822233Z",
     "shell.execute_reply": "2024-12-01T05:17:51.821434Z"
    },
    "papermill": {
     "duration": 0.009893,
     "end_time": "2024-12-01T05:17:51.823881",
     "exception": false,
     "start_time": "2024-12-01T05:17:51.813988",
     "status": "completed"
    },
    "tags": []
   },
   "outputs": [],
   "source": [
    "train_path = Path('/kaggle/input/um-game-playing-strength-of-mcts-variants/train.csv')\n",
    "test_path = Path('/kaggle/input/um-game-playing-strength-of-mcts-variants/test.csv')\n",
    "subm_path = Path('/kaggle/input/um-game-playing-strength-of-mcts-variants/sample_submission.csv') "
   ]
  },
  {
   "cell_type": "markdown",
   "id": "a2054e05",
   "metadata": {
    "papermill": {
     "duration": 0.003523,
     "end_time": "2024-12-01T05:17:51.830918",
     "exception": false,
     "start_time": "2024-12-01T05:17:51.827395",
     "status": "completed"
    },
    "tags": []
   },
   "source": [
    "# TRAIN INFER WITH SCRIPTS"
   ]
  },
  {
   "cell_type": "code",
   "execution_count": 4,
   "id": "85ce5ba7",
   "metadata": {
    "execution": {
     "iopub.execute_input": "2024-12-01T05:17:51.838941Z",
     "iopub.status.busy": "2024-12-01T05:17:51.838630Z",
     "iopub.status.idle": "2024-12-01T05:17:51.842329Z",
     "shell.execute_reply": "2024-12-01T05:17:51.841563Z"
    },
    "papermill": {
     "duration": 0.009607,
     "end_time": "2024-12-01T05:17:51.843876",
     "exception": false,
     "start_time": "2024-12-01T05:17:51.834269",
     "status": "completed"
    },
    "tags": []
   },
   "outputs": [],
   "source": [
    "# import glob\n",
    "# import shutil\n",
    "# import os\n",
    "\n",
    "# # Assuming CFG.infer_path is the directory containing the files\n",
    "# source_path = CFG.infer_path\n",
    "# destination_path = f\"{CFG.path}/{CFG.version}/\"\n",
    "\n",
    "# # Create destination directory if it doesn't exist\n",
    "# os.makedirs(destination_path, exist_ok=True)\n",
    "\n",
    "# # Copy each file from source to destination\n",
    "# for file in glob.glob(os.path.join(source_path, '*')):\n",
    "#     shutil.copy(file, destination_path)"
   ]
  },
  {
   "cell_type": "code",
   "execution_count": 5,
   "id": "836f3ecc",
   "metadata": {
    "execution": {
     "iopub.execute_input": "2024-12-01T05:17:51.852186Z",
     "iopub.status.busy": "2024-12-01T05:17:51.851889Z",
     "iopub.status.idle": "2024-12-01T05:17:51.855280Z",
     "shell.execute_reply": "2024-12-01T05:17:51.854607Z"
    },
    "papermill": {
     "duration": 0.00934,
     "end_time": "2024-12-01T05:17:51.856851",
     "exception": false,
     "start_time": "2024-12-01T05:17:51.847511",
     "status": "completed"
    },
    "tags": []
   },
   "outputs": [],
   "source": [
    "# %%bash\n",
    "# for file in /kaggle/working/dart_5f_V8/tabnet*.mcin; do\n",
    "#     mv \"$file\" \"${file%.mcin}\"\n",
    "# done"
   ]
  },
  {
   "cell_type": "code",
   "execution_count": 6,
   "id": "d8e41413",
   "metadata": {
    "execution": {
     "iopub.execute_input": "2024-12-01T05:17:51.864885Z",
     "iopub.status.busy": "2024-12-01T05:17:51.864629Z",
     "iopub.status.idle": "2024-12-01T05:17:58.580804Z",
     "shell.execute_reply": "2024-12-01T05:17:58.580120Z"
    },
    "papermill": {
     "duration": 6.72246,
     "end_time": "2024-12-01T05:17:58.582834",
     "exception": false,
     "start_time": "2024-12-01T05:17:51.860374",
     "status": "completed"
    },
    "tags": []
   },
   "outputs": [],
   "source": [
    "import sys\n",
    "sys.path.insert(0,f'/kaggle/input/train-infer-modifed') \n",
    "from train_infer import MD\n",
    "sys.path.insert(0,f'{CFG.path}/{CFG.version}/')  \n",
    "from fe import FE\n"
   ]
  },
  {
   "cell_type": "code",
   "execution_count": 7,
   "id": "c1667482",
   "metadata": {
    "execution": {
     "iopub.execute_input": "2024-12-01T05:17:58.592053Z",
     "iopub.status.busy": "2024-12-01T05:17:58.590888Z",
     "iopub.status.idle": "2024-12-01T05:17:58.626738Z",
     "shell.execute_reply": "2024-12-01T05:17:58.625904Z"
    },
    "papermill": {
     "duration": 0.041768,
     "end_time": "2024-12-01T05:17:58.628402",
     "exception": false,
     "start_time": "2024-12-01T05:17:58.586634",
     "status": "completed"
    },
    "tags": []
   },
   "outputs": [],
   "source": [
    "top_features = pd.read_csv(\"/kaggle/input/mcts-models/dart_5f_V7/lgbm_fe.csv\")[\"name\"][:CFG.n_features].to_list()\n",
    "fe = FE(CFG.batch_size, CFG.low_memory,CFG,top_features)\n",
    "md = MD(CFG.early_stop, CFG.n_splits,CFG.color,CFG.lgb_p,CFG,top_features)    \n",
    "\n",
    "def train_model(w):  \n",
    "    global cat_cols, lgb_models,final_model,drop_cols, lgb_oof_preds,tab_models,lgb_wof_oofs,tab_oofs,cat_models, cat_oofs\n",
    "    lgb_models_oof=None\n",
    "    processed_path = f\"{CFG.path}/{CFG.version}_processed_train_data.csv\"\n",
    "    cat_cols_path = f\"{CFG.path}/{CFG.version}_cat_cols.json\"\n",
    "\n",
    "    if os.path.exists(processed_path+\"1\"):\n",
    "        print(\"Loading processed training data...\")\n",
    "        train = pl.read_csv(processed_path)\n",
    "        with open(cat_cols_path, 'r') as f:\n",
    "            cat_cols = json.load(f)\n",
    "    else:\n",
    "        print(\"Processing raw training data...\")\n",
    "        df = pl.read_csv(CFG.train_path, low_memory=CFG.low_memory, batch_size=CFG.batch_size)  \n",
    "        df = fe.process_agent_cols(df) \n",
    "        df = fe.set_datatypes(df)  \n",
    "        drop_cols = fe.remove_low_variance_features(df, exclude_cols=['utility_agent1','p1_selection','p1_exploration','p2_exploration','p1_playout','p1_bounds','p2_selection','p2_playout','p2_bounds' ])\n",
    "        train, cat_cols = fe.process_data(df, drop_cols) \n",
    "#         train.write_csv(processed_path)\n",
    "#         with open(cat_cols_path, 'w') as f:\n",
    "#             json.dump(cat_cols, f)\n",
    "        print(f\"Processed data saved to {processed_path} and cat_cols saved to {cat_cols_path}\")\n",
    "        \n",
    "    print(\"#### Columns used \",train.shape, cat_cols)\n",
    "    cat_models, cat_oofs = md.train_cat(train, cat_cols)      \n",
    "    lgb_models, lgb_oof_preds,fcls = md.train_lgb(train, cat_cols, '')\n",
    "    #md.feature_importances(lgb_models,fcls)\n",
    "    if not CFG.single_run:\n",
    "        train = train.with_columns(pl.Series(lgb_oof_preds).alias('lgb_oof_preds')) \n",
    "        lgb_models_oof, _,_ = md.train_lgb(train, cat_cols, title='_wOOF')\n",
    "    #md.feature_importances(lgb_models,fcls)\n",
    "    #train = train.with_columns(pl.Series(lgb_oof_preds).alias('lgb_oof_preds')) \n",
    "    #lgb_models_oof, lgb_wof_oofs, _ = md.train_lgb(train, cat_cols, title='LightGBM_wOOF') \n",
    "    #tab_models, tab_oofs = md.train_tab(train, cat_cols)      \n",
    "    score = mse(train[CFG.response_variate],(lgb_oof_preds*w[0]+cat_oofs*w[1]), squared=False)\n",
    "    print(f\"####  Ensemble Score {score} ####\")"
   ]
  },
  {
   "cell_type": "markdown",
   "id": "8f7751b1",
   "metadata": {
    "papermill": {
     "duration": 0.003115,
     "end_time": "2024-12-01T05:17:58.635054",
     "exception": false,
     "start_time": "2024-12-01T05:17:58.631939",
     "status": "completed"
    },
    "tags": []
   },
   "source": [
    "# Catboost"
   ]
  },
  {
   "cell_type": "code",
   "execution_count": 8,
   "id": "56f0cfa9",
   "metadata": {
    "execution": {
     "iopub.execute_input": "2024-12-01T05:17:58.643016Z",
     "iopub.status.busy": "2024-12-01T05:17:58.642742Z",
     "iopub.status.idle": "2024-12-01T05:19:00.812983Z",
     "shell.execute_reply": "2024-12-01T05:19:00.812249Z"
    },
    "papermill": {
     "duration": 62.176742,
     "end_time": "2024-12-01T05:19:00.815137",
     "exception": false,
     "start_time": "2024-12-01T05:17:58.638395",
     "status": "completed"
    },
    "tags": []
   },
   "outputs": [],
   "source": [
    "import numpy as np\n",
    "import pandas as pd\n",
    "import matplotlib.pyplot as plt\n",
    "import seaborn as sns\n",
    "from scipy import stats\n",
    "from tqdm import tqdm\n",
    "\n",
    "\n",
    "from sklearn.preprocessing import LabelEncoder\n",
    "from sklearn.model_selection import StratifiedGroupKFold, GroupKFold\n",
    "\n",
    "from lightgbm import LGBMRegressor, LGBMClassifier\n",
    "from xgboost import XGBRegressor, XGBClassifier\n",
    "from catboost import CatBoostRegressor, CatBoostClassifier\n",
    "from sklearn.ensemble import RandomForestRegressor, RandomForestClassifier\n",
    "import warnings\n",
    "warnings.filterwarnings('ignore', category=pd.errors.PerformanceWarning)\n",
    "\n",
    "\n",
    "#Reduce Memory Usage\n",
    "def reduce_memory_usage(df):\n",
    "    \n",
    "    for col in df.columns:\n",
    "        col_type = df[col].dtype.name\n",
    "        if ((col_type != 'datetime64[ns]') & (col_type != 'category')):\n",
    "            if (col_type != 'object'):\n",
    "                c_min = df[col].min()\n",
    "                c_max = df[col].max()\n",
    "\n",
    "                if str(col_type)[:3] == 'int':\n",
    "                    if c_min > np.iinfo(np.int8).min and c_max < np.iinfo(np.int8).max:\n",
    "                        df[col] = df[col].astype(np.int8)\n",
    "                    elif c_min > np.iinfo(np.int16).min and c_max < np.iinfo(np.int16).max:\n",
    "                        df[col] = df[col].astype(np.int16)\n",
    "                    elif c_min > np.iinfo(np.int32).min and c_max < np.iinfo(np.int32).max:\n",
    "                        df[col] = df[col].astype(np.int32)\n",
    "                    elif c_min > np.iinfo(np.int64).min and c_max < np.iinfo(np.int64).max:\n",
    "                        df[col] = df[col].astype(np.int64)\n",
    "\n",
    "                else:\n",
    "                    if c_min > np.finfo(np.float16).min and c_max < np.finfo(np.float16).max:\n",
    "                        df[col] = df[col].astype(np.float16)\n",
    "                    elif c_min > np.finfo(np.float32).min and c_max < np.finfo(np.float32).max:\n",
    "                        df[col] = df[col].astype(np.float32)\n",
    "                    else:\n",
    "                        pass\n",
    "            # else:\n",
    "            #     df[col] = df[col].astype('category')\n",
    "    \n",
    "    return df\n",
    "\n",
    "ignore_constant_columns =  ['Properties', 'Format', 'Time', 'Discrete', 'Realtime', 'Turns', 'Alternating', 'Simultaneous', 'HiddenInformation', 'Match', 'AsymmetricRules', 'AsymmetricPlayRules', 'AsymmetricEndRules', 'AsymmetricSetup', 'Players', 'NumPlayers', 'Simulation', 'Solitaire', 'TwoPlayer', 'Multiplayer', 'Coalition', 'Puzzle', 'DeductionPuzzle', 'PlanningPuzzle', 'Equipment', 'Container', 'Board', 'PrismShape', 'ParallelogramShape', 'RectanglePyramidalShape', 'TargetShape', 'BrickTiling', 'CelticTiling', 'QuadHexTiling', 'Hints', 'PlayableSites', 'Component', 'DiceD3', 'BiasedDice', 'Card', 'Domino', 'Rules', 'SituationalTurnKo', 'SituationalSuperko', 'InitialAmount', 'InitialPot', 'Play', 'BetDecision', 'BetDecisionFrequency', 'VoteDecisionFrequency', 'ChooseTrumpSuitDecision', 'ChooseTrumpSuitDecisionFrequency', 'LeapDecisionToFriend', 'LeapDecisionToFriendFrequency', 'HopDecisionEnemyToFriend', 'HopDecisionEnemyToFriendFrequency', 'HopDecisionFriendToFriend', 'FromToDecisionWithinBoard', 'FromToDecisionBetweenContainers', 'BetEffect', 'BetEffectFrequency', 'VoteEffectFrequency', 'SwapPlayersEffectFrequency', 'TakeControl', 'TakeControlFrequency', 'PassEffectFrequency', 'SetCost', 'SetCostFrequency', 'SetPhase', 'SetPhaseFrequency', 'SetTrumpSuit', 'SetTrumpSuitFrequency', 'StepEffectFrequency', 'SlideEffectFrequency', 'LeapEffectFrequency', 'HopEffectFrequency', 'FromToEffectFrequency', 'SwapPiecesEffect', 'SwapPiecesEffectFrequency', 'ShootEffect', 'ShootEffectFrequency', 'MaxCapture', 'OffDiagonalDirection', 'Information', 'HidePieceType', 'HidePieceOwner', 'HidePieceCount', 'HidePieceRotation', 'HidePieceValue', 'HidePieceState', 'InvisiblePiece', 'End', 'LineDrawFrequency', 'ConnectionDraw', 'ConnectionDrawFrequency', 'GroupLossFrequency', 'GroupDrawFrequency', 'LoopLossFrequency', 'LoopDraw', 'LoopDrawFrequency', 'PatternLoss', 'PatternLossFrequency', 'PatternDraw', 'PatternDrawFrequency', 'PathExtentEndFrequency', 'PathExtentWinFrequency', 'PathExtentLossFrequency', 'PathExtentDraw', 'PathExtentDrawFrequency', 'TerritoryLoss', 'TerritoryLossFrequency', 'TerritoryDraw', 'TerritoryDrawFrequency', 'CheckmateLoss', 'CheckmateLossFrequency', 'CheckmateDraw', 'CheckmateDrawFrequency', 'NoTargetPieceLoss', 'NoTargetPieceLossFrequency', 'NoTargetPieceDraw', 'NoTargetPieceDrawFrequency', 'NoOwnPiecesDraw', 'NoOwnPiecesDrawFrequency', 'FillLoss', 'FillLossFrequency', 'FillDraw', 'FillDrawFrequency', 'ScoringDrawFrequency', 'NoProgressWin', 'NoProgressWinFrequency', 'NoProgressLoss', 'NoProgressLossFrequency', 'SolvedEnd', 'PositionalRepetition', 'SituationalRepetition', 'Narrowness', 'Variance', 'DecisivenessMoves', 'DecisivenessThreshold', 'LeadChange', 'Stability', 'DramaAverage', 'DramaMedian', 'DramaMaximum', 'DramaMinimum', 'DramaVariance', 'DramaChangeAverage', 'DramaChangeSign', 'DramaChangeLineBestFit', 'DramaChangeNumTimes', 'DramaMaxIncrease', 'DramaMaxDecrease', 'MoveEvaluationAverage', 'MoveEvaluationMedian', 'MoveEvaluationMaximum', 'MoveEvaluationMinimum', 'MoveEvaluationVariance', 'MoveEvaluationChangeAverage', 'MoveEvaluationChangeSign', 'MoveEvaluationChangeLineBestFit', 'MoveEvaluationChangeNumTimes', 'MoveEvaluationMaxIncrease', 'MoveEvaluationMaxDecrease', 'StateEvaluationDifferenceAverage', 'StateEvaluationDifferenceMedian', 'StateEvaluationDifferenceMaximum', 'StateEvaluationDifferenceMinimum', 'StateEvaluationDifferenceVariance', 'StateEvaluationDifferenceChangeAverage', 'StateEvaluationDifferenceChangeSign', 'StateEvaluationDifferenceChangeLineBestFit', 'StateEvaluationDifferenceChangeNumTimes', 'StateEvaluationDifferenceMaxIncrease', 'StateEvaluationDifferenceMaxDecrease', 'BoardSitesOccupiedMinimum', 'BranchingFactorMinimum', 'DecisionFactorMinimum', 'MoveDistanceMinimum', 'PieceNumberMinimum', 'ScoreDifferenceMinimum', 'ScoreDifferenceChangeNumTimes', 'Roots', 'Cosine', 'Sine', 'Tangent', 'Exponential', 'Logarithm', 'ExclusiveDisjunction', 'Float', 'HandComponent', 'SetHidden', 'SetInvisible', 'SetHiddenCount', 'SetHiddenRotation', 'SetHiddenState', 'SetHiddenValue', 'SetHiddenWhat', 'SetHiddenWho']\n",
    "ignore_null_columns = ['Behaviour', 'StateRepetition', 'Duration', 'Complexity', 'BoardCoverage', 'GameOutcome', 'StateEvaluation', 'Clarity', 'Decisiveness', 'Drama', 'MoveEvaluation', 'StateEvaluationDifference', 'BoardSitesOccupied', 'BranchingFactor', 'DecisionFactor', 'MoveDistance', 'PieceNumber', 'ScoreDifference']\n",
    "ignore_game_columns = ['GameRulesetName', 'EnglishRules', 'LudRules']\n",
    "new_duplicates = ['AsymmetricForces','AsymmetricPiecesType','PieceDirection','Team','SpiralTiling','CircleTiling','ShibumiStyle','Sow','MancalaStyle','NumPerimeterSites','SetRotation','Roll','SwapOption','SetRotationFrequency','PathExtent','LoopLoss','PathExtentEnd','PathExtentWin','PathExtentLoss','SowOriginFirst','LoopEnd','TerritoryEnd','TerritoryWin','LeftwardDirection','LeftwardsDirection','ForwardRightDirection','BackwardRightDirection','LoopWinFrequency','PatternWin','PatternWinFrequency','TerritoryWinFrequency','NoProgressDrawFrequency','StackState']\n",
    "\n",
    "\n",
    "train_df = pd.read_csv(\"/kaggle/input/um-game-playing-strength-of-mcts-variants/train.csv\")\n",
    "\n",
    "#### Add Augmented data\n",
    "temp = train_df.copy()\n",
    "temp['AdvantageP1'] = 1 - temp['AdvantageP1']\n",
    "temp['agent1'], temp['agent2'] = temp['agent2'], temp['agent1']\n",
    "temp['utility_agent1'] = -temp['utility_agent1']\n",
    "train_df = pd.concat([train_df,temp]).reset_index(drop=True)\n",
    "train_df = train_df.drop('Id',axis=1).drop_duplicates().reset_index(drop=True)\n",
    "\n",
    "#### Get the groups\n",
    "groups = train_df['GameRulesetName'].copy()\n",
    "# groups = train_df['LudRules'].str.extract(r'\\(game\\s+\"([^\"]+)\"')\n",
    "\n",
    "train_df = train_df.drop(ignore_null_columns + ignore_constant_columns + ignore_game_columns + new_duplicates,axis=1)\n",
    "\n",
    "# Add eight features extracted from player names\n",
    "def extract_agent_info(df, agent_col, prefix):\n",
    "    df[f'{prefix}_selection'] = df[agent_col].str.extract(r'MCTS-(.*)-(.*)-(.*)-(.*)', expand=True)[0]\n",
    "    df[f'{prefix}_exploration'] = df[agent_col].str.extract(r'MCTS-(.*)-(.*)-(.*)-(.*)', expand=True)[1].astype(float)\n",
    "    df[f'{prefix}_playout'] = df[agent_col].str.extract(r'MCTS-(.*)-(.*)-(.*)-(.*)', expand=True)[2]\n",
    "    df[f'{prefix}_bounds'] = df[agent_col].str.extract(r'MCTS-(.*)-(.*)-(.*)-(.*)', expand=True)[3]\n",
    "\n",
    "extract_agent_info(train_df, 'agent1', 'p1')\n",
    "extract_agent_info(train_df, 'agent2', 'p2')\n",
    "\n",
    "train_df = reduce_memory_usage(train_df)\n",
    "\n",
    "\n",
    "def apply_ensemble(submissions, weights, scales, constants):\n",
    "\n",
    "    # Transform each submission and compute weighted sum\n",
    "    transformed_subs = [(scale * sub + const) \n",
    "                       for sub, scale, const \n",
    "                       in zip(submissions, scales, constants)]\n",
    "    \n",
    "    # Compute weighted sum\n",
    "    ensemble_prediction = sum(weight * sub \n",
    "                            for weight, sub \n",
    "                            in zip(weights, transformed_subs))\n",
    "    \n",
    "    return np.clip(ensemble_prediction, -0.9715,0.9649)\n",
    "\n",
    "# Your optimized parameters\n",
    "weights = [0.39416418, 0.24588782, 0.31496934, 0.04497866]\n",
    "scales = [1.24084309, 1.18381245, 1.21937415, 1.0        ]\n",
    "constants = [0.01421057, 0.01084297, 0.0128257,  0.0        ]"
   ]
  },
  {
   "cell_type": "markdown",
   "id": "e7cdc31e",
   "metadata": {
    "papermill": {
     "duration": 0.003367,
     "end_time": "2024-12-01T05:19:00.822329",
     "exception": false,
     "start_time": "2024-12-01T05:19:00.818962",
     "status": "completed"
    },
    "tags": []
   },
   "source": [
    "# subs"
   ]
  },
  {
   "cell_type": "code",
   "execution_count": 9,
   "id": "23dc51e6",
   "metadata": {
    "execution": {
     "iopub.execute_input": "2024-12-01T05:19:00.830470Z",
     "iopub.status.busy": "2024-12-01T05:19:00.830214Z",
     "iopub.status.idle": "2024-12-01T05:19:00.843500Z",
     "shell.execute_reply": "2024-12-01T05:19:00.842837Z"
    },
    "papermill": {
     "duration": 0.019233,
     "end_time": "2024-12-01T05:19:00.844971",
     "exception": false,
     "start_time": "2024-12-01T05:19:00.825738",
     "status": "completed"
    },
    "tags": []
   },
   "outputs": [],
   "source": [
    "import pickle\n",
    "from glob import glob\n",
    "counter = 0  \n",
    "def predict(test, submission):\n",
    "    global counter \n",
    "    test_copy = test.clone()\n",
    "    wts = [1.0,0.0,0.0]\n",
    "    print(f\"using weights {wts}\")\n",
    "    train_model(wts) if counter == 0 else None\n",
    "    test = test.to_pandas()\n",
    "    test_len = len(test)\n",
    "    # TTA\n",
    "    temp = test.copy()\n",
    "    temp['AdvantageP1'] = 1 - temp['AdvantageP1']\n",
    "    temp['agent1'], temp['agent2'] = temp['agent2'], temp['agent1']\n",
    "    test = pd.concat([test,temp]).reset_index(drop=True)  \n",
    "    test = pl.DataFrame(test)    \n",
    "    counter += 1 \n",
    "    test = fe.process_agent_cols(test) \n",
    "    test = fe.set_datatypes(test)  \n",
    "    if CFG.tfidf:\n",
    "        df = fe.do_tfidf(test,True)   \n",
    "    print(\"Test shape \",test.shape)  \n",
    "    \n",
    "    if CFG.drop_gameruleset: \n",
    "        try:\n",
    "            globals[\"drop_cols\"] = list(globals[\"drop_cols\"] +[\"GameRulesetName\"])\n",
    "        except BaseException as e:\n",
    "            print(\"An exception occurred\",e)  \n",
    "    test, _ = fe.process_data(test, drop_cols +[\"GameRulesetName\"] if CFG.drop_gameruleset else drop_cols, False) \n",
    "    tab_preds = 0\n",
    "    predictions1 = md.inference(test,cat_cols,lgb_models,cat_models,None,test_len,wts)\n",
    "    \n",
    "    \n",
    "    \n",
    "    ## CB\n",
    "    test = test_copy.to_pandas()\n",
    "    test = test.drop(ignore_null_columns + ignore_constant_columns + ignore_game_columns + new_duplicates,axis=1)\n",
    "    test_len = len(test)\n",
    "    \n",
    "    \n",
    "    test = test.drop('Id',axis=1)\n",
    "    extract_agent_info(test, 'agent1', 'p1')\n",
    "    extract_agent_info(test, 'agent2', 'p2')\n",
    "    test = reduce_memory_usage(test)\n",
    "    \n",
    "    # TTA\n",
    "    temp = test.copy()\n",
    "    temp['AdvantageP1'] = 1 - temp['AdvantageP1']\n",
    "    temp['agent1'], temp['agent2'] = temp['agent2'], temp['agent1']\n",
    "    temp[\"p1_selection\"], temp[\"p2_selection\"] = temp[\"p2_selection\"], temp[\"p1_selection\"] \n",
    "    temp[\"p1_exploration\"], temp[\"p2_exploration\"] = temp[\"p2_exploration\"], temp[\"p1_exploration\"] \n",
    "    temp[\"p1_playout\"], temp[\"p2_playout\"] = temp[\"p2_playout\"], temp[\"p1_playout\"] \n",
    "    temp[\"p1_bounds\"], temp[\"p2_bounds\"] = temp[\"p2_bounds\"], temp[\"p1_bounds\"] \n",
    "    test = pd.concat([test,temp]).reset_index(drop=True)  \n",
    "    \n",
    "    X = train_df.drop(['utility_agent1', 'num_wins_agent1', 'num_draws_agent1', 'num_losses_agent1'], axis=1)\n",
    "    y = train_df['utility_agent1'].values  \n",
    "    \n",
    "     # Label Encoder\n",
    "    feats = ['p1_selection', 'p1_exploration',\n",
    "           'p1_playout', 'p1_bounds', 'p2_selection', 'p2_exploration',\n",
    "           'p2_playout', 'p2_bounds','agent1','agent2']\n",
    "    le = LabelEncoder()\n",
    "    for f in feats:\n",
    "        le.fit(X[f])\n",
    "        X[f] = le.transform(X[f])\n",
    "        test[f] = le.transform(test[f])\n",
    "\n",
    "    # Inference loop for test_df\n",
    "    model_paths = [\"/kaggle/input/um-ckpts/cb_fold_0.pkl\",\"/kaggle/input/um-ckpts-2/cb_fold_0.pkl\"]\n",
    "    predictions = np.zeros((len(test), 3))\n",
    "    # Load each saved model and predict\n",
    "    for i, model_path in tqdm(enumerate(model_paths)):\n",
    "        \n",
    "        with open(model_path, 'rb') as file:\n",
    "            model = pickle.load(file)\n",
    "        \n",
    "        predictions[:, i] = (model.predict(test)) + test['AdvantageP1']\n",
    "\n",
    "\n",
    "    \n",
    "    # Load each saved model and predict\n",
    "    for model_path in glob(\"/kaggle/input/um-ckpts/lgbm_fold*\"):\n",
    "        with open(model_path, 'rb') as file:\n",
    "            model = pickle.load(file)\n",
    "        \n",
    "        predictions[:, 2] = (model.predict(test[X.columns])) \n",
    "    \n",
    "  \n",
    "    ## Ensemble\n",
    "    advp1_utility = -(test[\"AdvantageP1\"] - (1 - test[\"AdvantageP1\"])).values[:test_len].reshape(-1,)\n",
    "    preds = apply_ensemble([predictions1,-predictions[test_len:,2] , predictions[:test_len,0], advp1_utility], weights, scales, constants)\n",
    "    print(preds)\n",
    "    return submission.with_columns(pl.Series('utility_agent1', preds)) "
   ]
  },
  {
   "cell_type": "code",
   "execution_count": 10,
   "id": "000c68a5",
   "metadata": {
    "execution": {
     "iopub.execute_input": "2024-12-01T05:19:00.852488Z",
     "iopub.status.busy": "2024-12-01T05:19:00.852221Z",
     "iopub.status.idle": "2024-12-01T05:22:35.577062Z",
     "shell.execute_reply": "2024-12-01T05:22:35.575840Z"
    },
    "papermill": {
     "duration": 214.73275,
     "end_time": "2024-12-01T05:22:35.581001",
     "exception": false,
     "start_time": "2024-12-01T05:19:00.848251",
     "status": "completed"
    },
    "tags": []
   },
   "outputs": [
    {
     "name": "stdout",
     "output_type": "stream",
     "text": [
      "using weights [1.0, 0.0, 0.0]\n",
      "Processing raw training data...\n"
     ]
    },
    {
     "name": "stderr",
     "output_type": "stream",
     "text": [
      "/kaggle/input/mcts-gaurav-dart-tab//dart_5f_V8/fe.py:141: CategoricalRemappingWarning: Local categoricals have different encodings, expensive re-encoding is done to perform this merge operation. Consider using a StringCache or an Enum type if the categories are known in advance\n",
      "  df = df.with_columns([pl.col(col).cast(pl.Categorical) for col in cat_cols if col in df.columns])\n"
     ]
    },
    {
     "name": "stdout",
     "output_type": "stream",
     "text": [
      "Calculating correlation removing more than 0.8\n",
      "Variable dropped with more than 80.0% 77\n",
      "Features selected for dropping: 388 \n",
      "before removal (233234, 867)\n",
      "after removal (233234, 849)\n",
      "Shape: (233234, 401)\n",
      "Memory usage: 356.81 MB\n",
      "\n",
      "Processed data saved to /kaggle/input/mcts-gaurav-dart-tab//dart_5f_V8_processed_train_data.csv and cat_cols saved to /kaggle/input/mcts-gaurav-dart-tab//dart_5f_V8_cat_cols.json\n",
      "#### Columns used  (233234, 401) ['GameRulesetName', 'agent1_1', 'agent1_2', 'agent1_3', 'agent1_4', 'agent2_1', 'agent2_2', 'agent2_3', 'agent2_4']\n",
      "using existing fold indicies\n",
      "\n",
      " fold 0 catb CAT CV RMSE: 0.3779538279244822\n",
      "\n",
      " fold 1 catb CAT CV RMSE: 0.4255574828119897\n",
      "\n",
      " fold 2 catb CAT CV RMSE: 0.42624032122814326\n",
      "\n",
      " fold 3 catb CAT CV RMSE: 0.3920211943239598\n",
      "\n",
      " fold 4 catb CAT CV RMSE: 0.3963979069036515\n",
      "\n",
      " fold 5 catb CAT CV RMSE: 0.4384884910786434\n",
      "\n",
      " fold 6 catb CAT CV RMSE: 0.4617225671618552\n",
      "\n",
      " fold 7 catb CAT CV RMSE: 0.39971203196802163\n",
      "\n",
      " catb CAT CV RMSE: 0.4155835220680536\n",
      "using existing fold indicies\n",
      "X  (233234, 300)\n",
      "Selected cols 300  Index(['agent2_1', 'agent1_1', 'agent2_3', 'agent1_3', 'agent2_2', 'agent1_2',\n",
      "       'AdvantageP1', 'agent1_4', 'agent2_4', 'Asymmetric',\n",
      "       ...\n",
      "       'ForwardDirection', 'ConcentricTiling', 'Trigger', 'SetSiteState',\n",
      "       'CanMove', 'FromToEffect', 'SiteState', 'ForwardLeftDirection',\n",
      "       'MaxMovesInTurn', 'ConnectionEndFrequency'],\n",
      "      dtype='object', length=300)\n",
      "Fold 0 score mse 0.37020029418220257\n",
      "Fold 1 score mse 0.41923791788264886\n",
      "Fold 2 score mse 0.44259257007934955\n",
      "Fold 3 score mse 0.384131818106481\n",
      "Fold 4 score mse 0.3888998815080816\n",
      "Fold 5 score mse 0.4475221737080596\n",
      "Fold 6 score mse 0.45410248284478316\n",
      "Fold 7 score mse 0.4011905695385448\n"
     ]
    },
    {
     "data": {
      "text/html": [
       "        <script type=\"text/javascript\">\n",
       "        window.PlotlyConfig = {MathJaxConfig: 'local'};\n",
       "        if (window.MathJax && window.MathJax.Hub && window.MathJax.Hub.Config) {window.MathJax.Hub.Config({SVG: {font: \"STIX-Web\"}});}\n",
       "        if (typeof require !== 'undefined') {\n",
       "        require.undef(\"plotly\");\n",
       "        requirejs.config({\n",
       "            paths: {\n",
       "                'plotly': ['https://cdn.plot.ly/plotly-2.32.0.min']\n",
       "            }\n",
       "        });\n",
       "        require(['plotly'], function(Plotly) {\n",
       "            window._Plotly = Plotly;\n",
       "        });\n",
       "        }\n",
       "        </script>\n",
       "        "
      ]
     },
     "metadata": {},
     "output_type": "display_data"
    },
    {
     "data": {
      "text/html": [
       "<div>                            <div id=\"1002d12d-96c2-4d3d-b7f0-02a438c629b7\" class=\"plotly-graph-div\" style=\"height:525px; width:100%;\"></div>            <script type=\"text/javascript\">                require([\"plotly\"], function(Plotly) {                    window.PLOTLYENV=window.PLOTLYENV || {};                                    if (document.getElementById(\"1002d12d-96c2-4d3d-b7f0-02a438c629b7\")) {                    Plotly.newPlot(                        \"1002d12d-96c2-4d3d-b7f0-02a438c629b7\",                        [{\"hoverlabel\":{\"font\":{\"size\":16}},\"hovertemplate\":\"Fold %{x}: %{text}\\u003cextra\\u003e\\u003c\\u002fextra\\u003e\",\"marker\":{\"color\":\"#E0BFB8\",\"size\":24,\"symbol\":\"diamond\"},\"mode\":\"markers\",\"name\":\"Fold Scores\",\"text\":[\"0.370\",\"0.419\",\"0.443\",\"0.384\",\"0.389\",\"0.448\",\"0.454\",\"0.401\"],\"x\":[1,2,3,4,5,6,7,8],\"y\":[0.37,0.419,0.443,0.384,0.389,0.448,0.454,0.401],\"type\":\"scatter\"},{\"hoverinfo\":\"none\",\"line\":{\"color\":\"#FFBF00\",\"dash\":\"dash\"},\"mode\":\"lines\",\"name\":\"Mean: 0.414\",\"x\":[1,8],\"y\":[0.414,0.414],\"type\":\"scatter\"}],                        {\"template\":{\"data\":{\"histogram2dcontour\":[{\"type\":\"histogram2dcontour\",\"colorbar\":{\"outlinewidth\":0,\"ticks\":\"\"},\"colorscale\":[[0.0,\"#0d0887\"],[0.1111111111111111,\"#46039f\"],[0.2222222222222222,\"#7201a8\"],[0.3333333333333333,\"#9c179e\"],[0.4444444444444444,\"#bd3786\"],[0.5555555555555556,\"#d8576b\"],[0.6666666666666666,\"#ed7953\"],[0.7777777777777778,\"#fb9f3a\"],[0.8888888888888888,\"#fdca26\"],[1.0,\"#f0f921\"]]}],\"choropleth\":[{\"type\":\"choropleth\",\"colorbar\":{\"outlinewidth\":0,\"ticks\":\"\"}}],\"histogram2d\":[{\"type\":\"histogram2d\",\"colorbar\":{\"outlinewidth\":0,\"ticks\":\"\"},\"colorscale\":[[0.0,\"#0d0887\"],[0.1111111111111111,\"#46039f\"],[0.2222222222222222,\"#7201a8\"],[0.3333333333333333,\"#9c179e\"],[0.4444444444444444,\"#bd3786\"],[0.5555555555555556,\"#d8576b\"],[0.6666666666666666,\"#ed7953\"],[0.7777777777777778,\"#fb9f3a\"],[0.8888888888888888,\"#fdca26\"],[1.0,\"#f0f921\"]]}],\"heatmap\":[{\"type\":\"heatmap\",\"colorbar\":{\"outlinewidth\":0,\"ticks\":\"\"},\"colorscale\":[[0.0,\"#0d0887\"],[0.1111111111111111,\"#46039f\"],[0.2222222222222222,\"#7201a8\"],[0.3333333333333333,\"#9c179e\"],[0.4444444444444444,\"#bd3786\"],[0.5555555555555556,\"#d8576b\"],[0.6666666666666666,\"#ed7953\"],[0.7777777777777778,\"#fb9f3a\"],[0.8888888888888888,\"#fdca26\"],[1.0,\"#f0f921\"]]}],\"heatmapgl\":[{\"type\":\"heatmapgl\",\"colorbar\":{\"outlinewidth\":0,\"ticks\":\"\"},\"colorscale\":[[0.0,\"#0d0887\"],[0.1111111111111111,\"#46039f\"],[0.2222222222222222,\"#7201a8\"],[0.3333333333333333,\"#9c179e\"],[0.4444444444444444,\"#bd3786\"],[0.5555555555555556,\"#d8576b\"],[0.6666666666666666,\"#ed7953\"],[0.7777777777777778,\"#fb9f3a\"],[0.8888888888888888,\"#fdca26\"],[1.0,\"#f0f921\"]]}],\"contourcarpet\":[{\"type\":\"contourcarpet\",\"colorbar\":{\"outlinewidth\":0,\"ticks\":\"\"}}],\"contour\":[{\"type\":\"contour\",\"colorbar\":{\"outlinewidth\":0,\"ticks\":\"\"},\"colorscale\":[[0.0,\"#0d0887\"],[0.1111111111111111,\"#46039f\"],[0.2222222222222222,\"#7201a8\"],[0.3333333333333333,\"#9c179e\"],[0.4444444444444444,\"#bd3786\"],[0.5555555555555556,\"#d8576b\"],[0.6666666666666666,\"#ed7953\"],[0.7777777777777778,\"#fb9f3a\"],[0.8888888888888888,\"#fdca26\"],[1.0,\"#f0f921\"]]}],\"surface\":[{\"type\":\"surface\",\"colorbar\":{\"outlinewidth\":0,\"ticks\":\"\"},\"colorscale\":[[0.0,\"#0d0887\"],[0.1111111111111111,\"#46039f\"],[0.2222222222222222,\"#7201a8\"],[0.3333333333333333,\"#9c179e\"],[0.4444444444444444,\"#bd3786\"],[0.5555555555555556,\"#d8576b\"],[0.6666666666666666,\"#ed7953\"],[0.7777777777777778,\"#fb9f3a\"],[0.8888888888888888,\"#fdca26\"],[1.0,\"#f0f921\"]]}],\"mesh3d\":[{\"type\":\"mesh3d\",\"colorbar\":{\"outlinewidth\":0,\"ticks\":\"\"}}],\"scatter\":[{\"fillpattern\":{\"fillmode\":\"overlay\",\"size\":10,\"solidity\":0.2},\"type\":\"scatter\"}],\"parcoords\":[{\"type\":\"parcoords\",\"line\":{\"colorbar\":{\"outlinewidth\":0,\"ticks\":\"\"}}}],\"scatterpolargl\":[{\"type\":\"scatterpolargl\",\"marker\":{\"colorbar\":{\"outlinewidth\":0,\"ticks\":\"\"}}}],\"bar\":[{\"error_x\":{\"color\":\"#2a3f5f\"},\"error_y\":{\"color\":\"#2a3f5f\"},\"marker\":{\"line\":{\"color\":\"#E5ECF6\",\"width\":0.5},\"pattern\":{\"fillmode\":\"overlay\",\"size\":10,\"solidity\":0.2}},\"type\":\"bar\"}],\"scattergeo\":[{\"type\":\"scattergeo\",\"marker\":{\"colorbar\":{\"outlinewidth\":0,\"ticks\":\"\"}}}],\"scatterpolar\":[{\"type\":\"scatterpolar\",\"marker\":{\"colorbar\":{\"outlinewidth\":0,\"ticks\":\"\"}}}],\"histogram\":[{\"marker\":{\"pattern\":{\"fillmode\":\"overlay\",\"size\":10,\"solidity\":0.2}},\"type\":\"histogram\"}],\"scattergl\":[{\"type\":\"scattergl\",\"marker\":{\"colorbar\":{\"outlinewidth\":0,\"ticks\":\"\"}}}],\"scatter3d\":[{\"type\":\"scatter3d\",\"line\":{\"colorbar\":{\"outlinewidth\":0,\"ticks\":\"\"}},\"marker\":{\"colorbar\":{\"outlinewidth\":0,\"ticks\":\"\"}}}],\"scattermapbox\":[{\"type\":\"scattermapbox\",\"marker\":{\"colorbar\":{\"outlinewidth\":0,\"ticks\":\"\"}}}],\"scatterternary\":[{\"type\":\"scatterternary\",\"marker\":{\"colorbar\":{\"outlinewidth\":0,\"ticks\":\"\"}}}],\"scattercarpet\":[{\"type\":\"scattercarpet\",\"marker\":{\"colorbar\":{\"outlinewidth\":0,\"ticks\":\"\"}}}],\"carpet\":[{\"aaxis\":{\"endlinecolor\":\"#2a3f5f\",\"gridcolor\":\"white\",\"linecolor\":\"white\",\"minorgridcolor\":\"white\",\"startlinecolor\":\"#2a3f5f\"},\"baxis\":{\"endlinecolor\":\"#2a3f5f\",\"gridcolor\":\"white\",\"linecolor\":\"white\",\"minorgridcolor\":\"white\",\"startlinecolor\":\"#2a3f5f\"},\"type\":\"carpet\"}],\"table\":[{\"cells\":{\"fill\":{\"color\":\"#EBF0F8\"},\"line\":{\"color\":\"white\"}},\"header\":{\"fill\":{\"color\":\"#C8D4E3\"},\"line\":{\"color\":\"white\"}},\"type\":\"table\"}],\"barpolar\":[{\"marker\":{\"line\":{\"color\":\"#E5ECF6\",\"width\":0.5},\"pattern\":{\"fillmode\":\"overlay\",\"size\":10,\"solidity\":0.2}},\"type\":\"barpolar\"}],\"pie\":[{\"automargin\":true,\"type\":\"pie\"}]},\"layout\":{\"autotypenumbers\":\"strict\",\"colorway\":[\"#636efa\",\"#EF553B\",\"#00cc96\",\"#ab63fa\",\"#FFA15A\",\"#19d3f3\",\"#FF6692\",\"#B6E880\",\"#FF97FF\",\"#FECB52\"],\"font\":{\"color\":\"#2a3f5f\"},\"hovermode\":\"closest\",\"hoverlabel\":{\"align\":\"left\"},\"paper_bgcolor\":\"white\",\"plot_bgcolor\":\"#E5ECF6\",\"polar\":{\"bgcolor\":\"#E5ECF6\",\"angularaxis\":{\"gridcolor\":\"white\",\"linecolor\":\"white\",\"ticks\":\"\"},\"radialaxis\":{\"gridcolor\":\"white\",\"linecolor\":\"white\",\"ticks\":\"\"}},\"ternary\":{\"bgcolor\":\"#E5ECF6\",\"aaxis\":{\"gridcolor\":\"white\",\"linecolor\":\"white\",\"ticks\":\"\"},\"baxis\":{\"gridcolor\":\"white\",\"linecolor\":\"white\",\"ticks\":\"\"},\"caxis\":{\"gridcolor\":\"white\",\"linecolor\":\"white\",\"ticks\":\"\"}},\"coloraxis\":{\"colorbar\":{\"outlinewidth\":0,\"ticks\":\"\"}},\"colorscale\":{\"sequential\":[[0.0,\"#0d0887\"],[0.1111111111111111,\"#46039f\"],[0.2222222222222222,\"#7201a8\"],[0.3333333333333333,\"#9c179e\"],[0.4444444444444444,\"#bd3786\"],[0.5555555555555556,\"#d8576b\"],[0.6666666666666666,\"#ed7953\"],[0.7777777777777778,\"#fb9f3a\"],[0.8888888888888888,\"#fdca26\"],[1.0,\"#f0f921\"]],\"sequentialminus\":[[0.0,\"#0d0887\"],[0.1111111111111111,\"#46039f\"],[0.2222222222222222,\"#7201a8\"],[0.3333333333333333,\"#9c179e\"],[0.4444444444444444,\"#bd3786\"],[0.5555555555555556,\"#d8576b\"],[0.6666666666666666,\"#ed7953\"],[0.7777777777777778,\"#fb9f3a\"],[0.8888888888888888,\"#fdca26\"],[1.0,\"#f0f921\"]],\"diverging\":[[0,\"#8e0152\"],[0.1,\"#c51b7d\"],[0.2,\"#de77ae\"],[0.3,\"#f1b6da\"],[0.4,\"#fde0ef\"],[0.5,\"#f7f7f7\"],[0.6,\"#e6f5d0\"],[0.7,\"#b8e186\"],[0.8,\"#7fbc41\"],[0.9,\"#4d9221\"],[1,\"#276419\"]]},\"xaxis\":{\"gridcolor\":\"white\",\"linecolor\":\"white\",\"ticks\":\"\",\"title\":{\"standoff\":15},\"zerolinecolor\":\"white\",\"automargin\":true,\"zerolinewidth\":2},\"yaxis\":{\"gridcolor\":\"white\",\"linecolor\":\"white\",\"ticks\":\"\",\"title\":{\"standoff\":15},\"zerolinecolor\":\"white\",\"automargin\":true,\"zerolinewidth\":2},\"scene\":{\"xaxis\":{\"backgroundcolor\":\"#E5ECF6\",\"gridcolor\":\"white\",\"linecolor\":\"white\",\"showbackground\":true,\"ticks\":\"\",\"zerolinecolor\":\"white\",\"gridwidth\":2},\"yaxis\":{\"backgroundcolor\":\"#E5ECF6\",\"gridcolor\":\"white\",\"linecolor\":\"white\",\"showbackground\":true,\"ticks\":\"\",\"zerolinecolor\":\"white\",\"gridwidth\":2},\"zaxis\":{\"backgroundcolor\":\"#E5ECF6\",\"gridcolor\":\"white\",\"linecolor\":\"white\",\"showbackground\":true,\"ticks\":\"\",\"zerolinecolor\":\"white\",\"gridwidth\":2}},\"shapedefaults\":{\"line\":{\"color\":\"#2a3f5f\"}},\"annotationdefaults\":{\"arrowcolor\":\"#2a3f5f\",\"arrowhead\":0,\"arrowwidth\":1},\"geo\":{\"bgcolor\":\"white\",\"landcolor\":\"#E5ECF6\",\"subunitcolor\":\"white\",\"showland\":true,\"showlakes\":true,\"lakecolor\":\"white\"},\"title\":{\"x\":0.05},\"mapbox\":{\"style\":\"light\"}}},\"xaxis\":{\"title\":{\"text\":\"Fold\"},\"gridcolor\":\"lightgray\",\"tickmode\":\"linear\",\"tick0\":1,\"dtick\":1,\"range\":[0.5,8.5]},\"yaxis\":{\"title\":{\"text\":\"RMSE Score\"},\"gridcolor\":\"lightgray\"},\"title\":{\"text\":\" | Cross-Validation RMSE Scores | Variation of CV scores: 0.414 ± 0.03\"},\"plot_bgcolor\":\"rgba(0,0,0,0)\",\"paper_bgcolor\":\"rgba(0,0,0,0)\"},                        {\"responsive\": true}                    ).then(function(){\n",
       "                            \n",
       "var gd = document.getElementById('1002d12d-96c2-4d3d-b7f0-02a438c629b7');\n",
       "var x = new MutationObserver(function (mutations, observer) {{\n",
       "        var display = window.getComputedStyle(gd).display;\n",
       "        if (!display || display === 'none') {{\n",
       "            console.log([gd, 'removed!']);\n",
       "            Plotly.purge(gd);\n",
       "            observer.disconnect();\n",
       "        }}\n",
       "}});\n",
       "\n",
       "// Listen for the removal of the full notebook cells\n",
       "var notebookContainer = gd.closest('#notebook-container');\n",
       "if (notebookContainer) {{\n",
       "    x.observe(notebookContainer, {childList: true});\n",
       "}}\n",
       "\n",
       "// Listen for the clearing of the current output cell\n",
       "var outputEl = gd.closest('.output');\n",
       "if (outputEl) {{\n",
       "    x.observe(outputEl, {childList: true});\n",
       "}}\n",
       "\n",
       "                        })                };                });            </script>        </div>"
      ]
     },
     "metadata": {},
     "output_type": "display_data"
    },
    {
     "name": "stdout",
     "output_type": "stream",
     "text": [
      "####  Ensemble Score 0.4145693673983757 ####\n",
      "Test shape  (6, 816)\n",
      "An exception occurred 'builtin_function_or_method' object is not subscriptable\n",
      "before removal (6, 863)\n",
      "after removal (6, 863)\n",
      "Shape: (6, 399)\n",
      "Memory usage: 0.01 MB\n",
      "\n"
     ]
    },
    {
     "name": "stderr",
     "output_type": "stream",
     "text": [
      "2it [00:02,  1.33s/it]\n"
     ]
    },
    {
     "name": "stdout",
     "output_type": "stream",
     "text": [
      "[ 0.25245695  0.11935638 -0.24372749]\n"
     ]
    }
   ],
   "source": [
    "inference_server = kaggle_evaluation.mcts_inference_server.MCTSInferenceServer(predict)\n",
    "if os.getenv('KAGGLE_IS_COMPETITION_RERUN'):\n",
    "    inference_server.serve()\n",
    "else:\n",
    "    inference_server.run_local_gateway(\n",
    "        (\n",
    "            '/kaggle/input/um-game-playing-strength-of-mcts-variants/test.csv',\n",
    "            '/kaggle/input/um-game-playing-strength-of-mcts-variants/sample_submission.csv'\n",
    "        )\n",
    "    )"
   ]
  },
  {
   "cell_type": "code",
   "execution_count": null,
   "id": "a5932738",
   "metadata": {
    "papermill": {
     "duration": 0.014075,
     "end_time": "2024-12-01T05:22:35.609765",
     "exception": false,
     "start_time": "2024-12-01T05:22:35.595690",
     "status": "completed"
    },
    "tags": []
   },
   "outputs": [],
   "source": []
  }
 ],
 "metadata": {
  "kaggle": {
   "accelerator": "gpu",
   "dataSources": [
    {
     "databundleVersionId": 9515283,
     "sourceId": 70089,
     "sourceType": "competition"
    },
    {
     "datasetId": 921302,
     "sourceId": 7453542,
     "sourceType": "datasetVersion"
    },
    {
     "datasetId": 5806061,
     "sourceId": 9533233,
     "sourceType": "datasetVersion"
    },
    {
     "datasetId": 5801363,
     "sourceId": 9564397,
     "sourceType": "datasetVersion"
    },
    {
     "datasetId": 5671594,
     "sourceId": 9671142,
     "sourceType": "datasetVersion"
    },
    {
     "datasetId": 5799288,
     "sourceId": 9677119,
     "sourceType": "datasetVersion"
    },
    {
     "datasetId": 5915698,
     "sourceId": 9728843,
     "sourceType": "datasetVersion"
    },
    {
     "datasetId": 5955494,
     "sourceId": 9731687,
     "sourceType": "datasetVersion"
    },
    {
     "datasetId": 5949821,
     "isSourceIdPinned": true,
     "sourceId": 9773364,
     "sourceType": "datasetVersion"
    },
    {
     "datasetId": 5999152,
     "isSourceIdPinned": true,
     "sourceId": 9790487,
     "sourceType": "datasetVersion"
    },
    {
     "datasetId": 5801587,
     "isSourceIdPinned": true,
     "sourceId": 9924255,
     "sourceType": "datasetVersion"
    },
    {
     "datasetId": 5698432,
     "isSourceIdPinned": true,
     "sourceId": 10020249,
     "sourceType": "datasetVersion"
    }
   ],
   "dockerImageVersionId": 30761,
   "isGpuEnabled": true,
   "isInternetEnabled": false,
   "language": "python",
   "sourceType": "notebook"
  },
  "kernelspec": {
   "display_name": "Python 3",
   "language": "python",
   "name": "python3"
  },
  "language_info": {
   "codemirror_mode": {
    "name": "ipython",
    "version": 3
   },
   "file_extension": ".py",
   "mimetype": "text/x-python",
   "name": "python",
   "nbconvert_exporter": "python",
   "pygments_lexer": "ipython3",
   "version": "3.10.14"
  },
  "papermill": {
   "default_parameters": {},
   "duration": 301.50153,
   "end_time": "2024-12-01T05:22:38.287502",
   "environment_variables": {},
   "exception": null,
   "input_path": "__notebook__.ipynb",
   "output_path": "__notebook__.ipynb",
   "parameters": {},
   "start_time": "2024-12-01T05:17:36.785972",
   "version": "2.6.0"
  }
 },
 "nbformat": 4,
 "nbformat_minor": 5
}
