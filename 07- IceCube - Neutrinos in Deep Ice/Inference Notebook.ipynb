{
 "cells": [
  {
   "cell_type": "markdown",
   "id": "98fb13f1",
   "metadata": {
    "papermill": {
     "duration": 0.006264,
     "end_time": "2023-04-14T02:53:05.785465",
     "exception": false,
     "start_time": "2023-04-14T02:53:05.779201",
     "status": "completed"
    },
    "tags": []
   },
   "source": [
    "In this inference notebook I show that with the correct data pre-processing, model architecture and training setup an LSTM model can achieve the same performance as the current top performing Graph based models.\n",
    "\n",
    "This notebook is based on the notebook originally published with LSTM training and inference: [3 LSTMs; with Data Picking and Shifting](https://www.kaggle.com/code/seungmoklee/3-lstms-with-data-picking-and-shifting). \n",
    "\n",
    "This Inference notebook is for the largest part the same. It doesn't use the shifting as applied in the original work, it is based on only using 96 pulses and only 6 features.\n",
    "It does ensemble 3 models but they are from the same training run (just different epochs)."
   ]
  },
  {
   "cell_type": "code",
   "execution_count": 1,
   "id": "c1306e35",
   "metadata": {
    "_cell_guid": "b1076dfc-b9ad-4769-8c92-a6c4dae69d19",
    "_uuid": "8f2839f25d086af736a60e9eeb907d3b93b6e0e5",
    "execution": {
     "iopub.execute_input": "2023-04-14T02:53:05.797927Z",
     "iopub.status.busy": "2023-04-14T02:53:05.797086Z",
     "iopub.status.idle": "2023-04-14T02:53:10.069874Z",
     "shell.execute_reply": "2023-04-14T02:53:10.068883Z"
    },
    "papermill": {
     "duration": 4.28196,
     "end_time": "2023-04-14T02:53:10.072500",
     "exception": false,
     "start_time": "2023-04-14T02:53:05.790540",
     "status": "completed"
    },
    "tags": []
   },
   "outputs": [],
   "source": [
    "# Import Modules\n",
    "import gc\n",
    "import os\n",
    "import multiprocessing\n",
    "import time\n",
    "import numpy as np\n",
    "import pandas as pd\n",
    "import pyarrow.parquet as pq\n",
    "import tensorflow as tf\n",
    "from tqdm import tqdm"
   ]
  },
  {
   "cell_type": "code",
   "execution_count": 2,
   "id": "9edeeea0",
   "metadata": {
    "execution": {
     "iopub.execute_input": "2023-04-14T02:53:10.084802Z",
     "iopub.status.busy": "2023-04-14T02:53:10.083622Z",
     "iopub.status.idle": "2023-04-14T02:53:10.090190Z",
     "shell.execute_reply": "2023-04-14T02:53:10.089330Z"
    },
    "papermill": {
     "duration": 0.014521,
     "end_time": "2023-04-14T02:53:10.092060",
     "exception": false,
     "start_time": "2023-04-14T02:53:10.077539",
     "status": "completed"
    },
    "tags": []
   },
   "outputs": [],
   "source": [
    "# Directories and constants\n",
    "home_dir = \"/kaggle/input/icecube-neutrinos-in-deep-ice/\"\n",
    "test_format = home_dir + 'test/batch_{batch_id:d}.parquet'\n",
    "model_home = \"/kaggle/input/model-on-tpu-new/\"\n",
    "\n",
    "# Model(s)\n",
    "model_names = [\"tpu_pp96_n8_bin24_batch16384_epoch15.h5\",\n",
    "               \"tpu_pp96_n8_bin24_batch16384_epoch16.h5\",\n",
    "               \"tpu_pp96_n8_bin24_batch16384_epoch17.h5\",\n",
    "               \"tpu_pp96_n8_bin24_batch16384_epoch18.h5\", \n",
    "               \"tpu_pp96_n8_bin24_batch16384_epoch19.h5\"]\n",
    "model_weights = np.array([0.15, \n",
    "                          0.15,\n",
    "                          0.20,\n",
    "                          0.25,\n",
    "                          0.25])"
   ]
  },
  {
   "cell_type": "markdown",
   "id": "18ead24e",
   "metadata": {
    "papermill": {
     "duration": 0.004672,
     "end_time": "2023-04-14T02:53:10.101437",
     "exception": false,
     "start_time": "2023-04-14T02:53:10.096765",
     "status": "completed"
    },
    "tags": []
   },
   "source": [
    "## Load Model(s)"
   ]
  },
  {
   "cell_type": "code",
   "execution_count": 3,
   "id": "8affbb7e",
   "metadata": {
    "execution": {
     "iopub.execute_input": "2023-04-14T02:53:10.113327Z",
     "iopub.status.busy": "2023-04-14T02:53:10.111885Z",
     "iopub.status.idle": "2023-04-14T02:53:36.734992Z",
     "shell.execute_reply": "2023-04-14T02:53:36.733836Z"
    },
    "papermill": {
     "duration": 26.631018,
     "end_time": "2023-04-14T02:53:36.737207",
     "exception": false,
     "start_time": "2023-04-14T02:53:10.106189",
     "status": "completed"
    },
    "tags": []
   },
   "outputs": [
    {
     "name": "stdout",
     "output_type": "stream",
     "text": [
      "\n",
      "========== Model File: tpu_pp96_n8_bin24_batch16384_epoch15.h5\n",
      "Model: \"model\"\n",
      "_________________________________________________________________\n",
      "Layer (type)                 Output Shape              Param #   \n",
      "=================================================================\n",
      "input_1 (InputLayer)         [(None, 96, 8)]           0         \n",
      "_________________________________________________________________\n",
      "masking (Masking)            (None, 96, 8)             0         \n",
      "_________________________________________________________________\n",
      "bidirectional (Bidirectional (None, 96, 384)           232704    \n",
      "_________________________________________________________________\n",
      "bidirectional_1 (Bidirection (None, 96, 384)           665856    \n",
      "_________________________________________________________________\n",
      "bidirectional_2 (Bidirection (None, 384)               665856    \n",
      "_________________________________________________________________\n",
      "dense (Dense)                (None, 256)               98560     \n",
      "_________________________________________________________________\n",
      "dense_1 (Dense)              (None, 576)               148032    \n",
      "=================================================================\n",
      "Total params: 1,811,008\n",
      "Trainable params: 1,811,008\n",
      "Non-trainable params: 0\n",
      "_________________________________________________________________\n",
      "\n",
      "========== Model File: tpu_pp96_n8_bin24_batch16384_epoch16.h5\n",
      "Model: \"model\"\n",
      "_________________________________________________________________\n",
      "Layer (type)                 Output Shape              Param #   \n",
      "=================================================================\n",
      "input_1 (InputLayer)         [(None, 96, 8)]           0         \n",
      "_________________________________________________________________\n",
      "masking (Masking)            (None, 96, 8)             0         \n",
      "_________________________________________________________________\n",
      "bidirectional (Bidirectional (None, 96, 384)           232704    \n",
      "_________________________________________________________________\n",
      "bidirectional_1 (Bidirection (None, 96, 384)           665856    \n",
      "_________________________________________________________________\n",
      "bidirectional_2 (Bidirection (None, 384)               665856    \n",
      "_________________________________________________________________\n",
      "dense (Dense)                (None, 256)               98560     \n",
      "_________________________________________________________________\n",
      "dense_1 (Dense)              (None, 576)               148032    \n",
      "=================================================================\n",
      "Total params: 1,811,008\n",
      "Trainable params: 1,811,008\n",
      "Non-trainable params: 0\n",
      "_________________________________________________________________\n",
      "\n",
      "========== Model File: tpu_pp96_n8_bin24_batch16384_epoch17.h5\n",
      "Model: \"model\"\n",
      "_________________________________________________________________\n",
      "Layer (type)                 Output Shape              Param #   \n",
      "=================================================================\n",
      "input_1 (InputLayer)         [(None, 96, 8)]           0         \n",
      "_________________________________________________________________\n",
      "masking (Masking)            (None, 96, 8)             0         \n",
      "_________________________________________________________________\n",
      "bidirectional (Bidirectional (None, 96, 384)           232704    \n",
      "_________________________________________________________________\n",
      "bidirectional_1 (Bidirection (None, 96, 384)           665856    \n",
      "_________________________________________________________________\n",
      "bidirectional_2 (Bidirection (None, 384)               665856    \n",
      "_________________________________________________________________\n",
      "dense (Dense)                (None, 256)               98560     \n",
      "_________________________________________________________________\n",
      "dense_1 (Dense)              (None, 576)               148032    \n",
      "=================================================================\n",
      "Total params: 1,811,008\n",
      "Trainable params: 1,811,008\n",
      "Non-trainable params: 0\n",
      "_________________________________________________________________\n",
      "\n",
      "========== Model File: tpu_pp96_n8_bin24_batch16384_epoch18.h5\n",
      "Model: \"model\"\n",
      "_________________________________________________________________\n",
      "Layer (type)                 Output Shape              Param #   \n",
      "=================================================================\n",
      "input_1 (InputLayer)         [(None, 96, 8)]           0         \n",
      "_________________________________________________________________\n",
      "masking (Masking)            (None, 96, 8)             0         \n",
      "_________________________________________________________________\n",
      "bidirectional (Bidirectional (None, 96, 384)           232704    \n",
      "_________________________________________________________________\n",
      "bidirectional_1 (Bidirection (None, 96, 384)           665856    \n",
      "_________________________________________________________________\n",
      "bidirectional_2 (Bidirection (None, 384)               665856    \n",
      "_________________________________________________________________\n",
      "dense (Dense)                (None, 256)               98560     \n",
      "_________________________________________________________________\n",
      "dense_1 (Dense)              (None, 576)               148032    \n",
      "=================================================================\n",
      "Total params: 1,811,008\n",
      "Trainable params: 1,811,008\n",
      "Non-trainable params: 0\n",
      "_________________________________________________________________\n",
      "\n",
      "========== Model File: tpu_pp96_n8_bin24_batch16384_epoch19.h5\n",
      "Model: \"model\"\n",
      "_________________________________________________________________\n",
      "Layer (type)                 Output Shape              Param #   \n",
      "=================================================================\n",
      "input_1 (InputLayer)         [(None, 96, 8)]           0         \n",
      "_________________________________________________________________\n",
      "masking (Masking)            (None, 96, 8)             0         \n",
      "_________________________________________________________________\n",
      "bidirectional (Bidirectional (None, 96, 384)           232704    \n",
      "_________________________________________________________________\n",
      "bidirectional_1 (Bidirection (None, 96, 384)           665856    \n",
      "_________________________________________________________________\n",
      "bidirectional_2 (Bidirection (None, 384)               665856    \n",
      "_________________________________________________________________\n",
      "dense (Dense)                (None, 256)               98560     \n",
      "_________________________________________________________________\n",
      "dense_1 (Dense)              (None, 576)               148032    \n",
      "=================================================================\n",
      "Total params: 1,811,008\n",
      "Trainable params: 1,811,008\n",
      "Non-trainable params: 0\n",
      "_________________________________________________________________\n",
      "\n",
      "==== Model Parameters\n",
      "Bin Numbers: 24\n",
      "Maximum Pulse Count: 96\n",
      "Features Count: 8\n"
     ]
    }
   ],
   "source": [
    "# Load Models\n",
    "models = []\n",
    "for model_name in model_names:\n",
    "    print(f'\\n========== Model File: {model_name}')\n",
    "    \n",
    "    # Load Model\n",
    "    model_path = model_home + model_name\n",
    "    model = tf.keras.models.load_model(model_path, compile = False)\n",
    "    models.append(model)      \n",
    "    \n",
    "    # Model summary\n",
    "    model.summary()\n",
    "    \n",
    "# Get Model Parameters\n",
    "pulse_count = model.inputs[0].shape[1]\n",
    "feature_count = model.inputs[0].shape[2]\n",
    "output_bins = model.layers[-1].weights[0].shape[-1]\n",
    "bin_num = int(np.sqrt(output_bins))\n",
    "\n",
    "# Model Parameter Summary\n",
    "print(\"\\n==== Model Parameters\")\n",
    "print(f\"Bin Numbers: {bin_num}\")\n",
    "print(f\"Maximum Pulse Count: {pulse_count}\")\n",
    "print(f\"Features Count: {feature_count}\")"
   ]
  },
  {
   "cell_type": "markdown",
   "id": "7cee2984",
   "metadata": {
    "papermill": {
     "duration": 0.005125,
     "end_time": "2023-04-14T02:53:36.748051",
     "exception": false,
     "start_time": "2023-04-14T02:53:36.742926",
     "status": "completed"
    },
    "tags": []
   },
   "source": [
    "## Detector Information"
   ]
  },
  {
   "cell_type": "code",
   "execution_count": 4,
   "id": "96d80a3e",
   "metadata": {
    "execution": {
     "iopub.execute_input": "2023-04-14T02:53:36.760348Z",
     "iopub.status.busy": "2023-04-14T02:53:36.759492Z",
     "iopub.status.idle": "2023-04-14T02:53:36.783663Z",
     "shell.execute_reply": "2023-04-14T02:53:36.782437Z"
    },
    "papermill": {
     "duration": 0.032497,
     "end_time": "2023-04-14T02:53:36.785761",
     "exception": false,
     "start_time": "2023-04-14T02:53:36.753264",
     "status": "completed"
    },
    "tags": []
   },
   "outputs": [
    {
     "name": "stdout",
     "output_type": "stream",
     "text": [
      "time valid length: 6199.700247193777 ns\n"
     ]
    }
   ],
   "source": [
    "# Load sensor_geometry\n",
    "sensor_geometry_df = pd.read_csv(home_dir + \"sensor_geometry.csv\")\n",
    "\n",
    "# Get Sensor Information\n",
    "sensor_x = sensor_geometry_df.x\n",
    "sensor_y = sensor_geometry_df.y\n",
    "sensor_z = sensor_geometry_df.z\n",
    "\n",
    "# Detector constants\n",
    "c_const = 0.299792458  # speed of light [m/ns]\n",
    "\n",
    "# Sensor Min / Max Coordinates\n",
    "x_min = sensor_x.min()\n",
    "x_max = sensor_x.max()\n",
    "y_min = sensor_y.min()\n",
    "y_max = sensor_y.max()\n",
    "z_min = sensor_z.min()\n",
    "z_max = sensor_z.max()\n",
    "\n",
    "detector_length = np.sqrt((x_max - x_min)**2 + (y_max - y_min)**2 + (z_max - z_min)**2)\n",
    "t_valid_length = detector_length / c_const\n",
    "\n",
    "print(f\"time valid length: {t_valid_length} ns\")"
   ]
  },
  {
   "cell_type": "markdown",
   "id": "57b1d4a6",
   "metadata": {
    "papermill": {
     "duration": 0.005251,
     "end_time": "2023-04-14T02:53:36.796380",
     "exception": false,
     "start_time": "2023-04-14T02:53:36.791129",
     "status": "completed"
    },
    "tags": []
   },
   "source": [
    "## Angle encoding edges\n",
    "\n",
    "- It is efficient to train the model by classification task, initially.\n",
    "- azimuth and zenith are independent\n",
    "- azimuth distribution is flat and zenith distribution is sinusoidal.\n",
    "  - Flat on the spherical surface\n",
    "  - $\\phi > \\pi$ events are a little bit rarer than $\\phi < \\pi$ events, (maybe) because of the neutrino attenuation by earth.\n",
    "- So, the uniform bin is used for azimuth, and $\\left| \\cos \\right|$ bin is used for zenith"
   ]
  },
  {
   "cell_type": "code",
   "execution_count": 5,
   "id": "66975bf9",
   "metadata": {
    "execution": {
     "iopub.execute_input": "2023-04-14T02:53:36.808257Z",
     "iopub.status.busy": "2023-04-14T02:53:36.807928Z",
     "iopub.status.idle": "2023-04-14T02:53:36.816554Z",
     "shell.execute_reply": "2023-04-14T02:53:36.815621Z"
    },
    "papermill": {
     "duration": 0.017255,
     "end_time": "2023-04-14T02:53:36.818972",
     "exception": false,
     "start_time": "2023-04-14T02:53:36.801717",
     "status": "completed"
    },
    "tags": []
   },
   "outputs": [
    {
     "name": "stdout",
     "output_type": "stream",
     "text": [
      "[0.         0.26179939 0.52359878 0.78539816 1.04719755 1.30899694\n",
      " 1.57079633 1.83259571 2.0943951  2.35619449 2.61799388 2.87979327\n",
      " 3.14159265 3.40339204 3.66519143 3.92699082 4.1887902  4.45058959\n",
      " 4.71238898 4.97418837 5.23598776 5.49778714 5.75958653 6.02138592\n",
      " 6.28318531]\n",
      "[0.         0.41113786 0.58568554 0.72273425 0.84106867 0.94796974\n",
      " 1.04719755 1.1410209  1.23095942 1.31811607 1.40334825 1.48736624\n",
      " 1.57079633 1.65422641 1.73824441 1.82347658 1.91063324 2.00057176\n",
      " 2.0943951  2.19362291 2.30052398 2.41885841 2.55590711 2.73045479\n",
      " 3.14159265]\n"
     ]
    }
   ],
   "source": [
    "# Create Azimuth Edges\n",
    "azimuth_edges = np.linspace(0, 2 * np.pi, bin_num + 1)\n",
    "print(azimuth_edges)\n",
    "\n",
    "# Create Zenith Edges\n",
    "zenith_edges = []\n",
    "zenith_edges.append(0)\n",
    "for bin_idx in range(1, bin_num):\n",
    "    zenith_edges.append(np.arccos(np.cos(zenith_edges[-1]) - 2 / (bin_num)))\n",
    "zenith_edges.append(np.pi)\n",
    "zenith_edges = np.array(zenith_edges)\n",
    "print(zenith_edges)"
   ]
  },
  {
   "cell_type": "markdown",
   "id": "53e8ca26",
   "metadata": {
    "papermill": {
     "duration": 0.005233,
     "end_time": "2023-04-14T02:53:36.829507",
     "exception": false,
     "start_time": "2023-04-14T02:53:36.824274",
     "status": "completed"
    },
    "tags": []
   },
   "source": [
    "## Define a function converts from prediction to angles\n",
    "\n",
    "- Calculation of the mean-vector in a bin $\\theta \\in ( \\theta_0, \\theta_1 )$ and $\\phi \\in ( \\phi_0, \\phi_1 )$\n",
    "  - $\\vec{r} \\left( \\theta, ~ \\phi \\right) = \\left< \\sin \\theta \\cos \\phi, ~ \\sin \\theta \\sin \\phi, ~ \\cos \\theta \\right>$\n",
    "  - $\\bar{\\vec{r}} = \\frac{ \\int_{\\theta_{0}}^{\\theta_{1}} \\int_{\\phi_0}^{\\phi_1} \\vec{r} \\left( \\theta, ~ \\phi \\right) \\sin \\theta \\,d\\phi \\,d\\theta }{ \\int_{\\theta_{0}}^{\\theta_{1}} \\int_{\\phi_0}^{\\phi_1} 1 \\sin \\theta \\,d\\phi \\,d\\theta }$\n",
    "  - $ \\int_{\\theta_{0}}^{\\theta_{1}} \\int_{\\phi_0}^{\\phi_1} 1 \\sin \\theta \\,d\\phi \\,d\\theta = \\left( \\phi_1 - \\phi_0 \\right) \\left( \\cos \\theta_0 - \\cos \\theta_1 \\right)$\n",
    "  - $\n",
    "\\int_{\\theta_{0}}^{\\theta_{1}} \\int_{\\phi_0}^{\\phi_1} {r}_{x} \\left( \\theta, ~ \\phi \\right) \\sin \\theta \\,d\\phi \\,d\\theta = \n",
    "\\int_{\\theta_{0}}^{\\theta_{1}} \\int_{\\phi_0}^{\\phi_1} \\sin^2 \\theta \\cos \\phi \\,d\\phi \\,d\\theta = \n",
    "\\left( \\sin \\phi_1 - \\sin \\phi_0 \\right) \\left( \\frac{\\theta_1 - \\theta_0}{2} - \\frac{\\sin 2 \\theta_1 - \\sin 2 \\theta_0}{4} \\right)\n",
    "$\n",
    "  - $\n",
    "\\int_{\\theta_{0}}^{\\theta_{1}} \\int_{\\phi_0}^{\\phi_1} {r}_{y} \\left( \\theta, ~ \\phi \\right) \\sin \\theta \\,d\\phi \\,d\\theta = \n",
    "\\int_{\\theta_{0}}^{\\theta_{1}} \\int_{\\phi_0}^{\\phi_1} \\sin^2 \\theta \\sin \\phi \\,d\\phi \\,d\\theta = \n",
    "\\left( \\cos \\phi_0 - \\cos \\phi_1 \\right) \\left( \\frac{\\theta_1 - \\theta_0}{2} - \\frac{\\sin 2 \\theta_1 - \\sin 2 \\theta_0}{4} \\right)\n",
    "$\n",
    "  - $\n",
    "\\int_{\\theta_{0}}^{\\theta_{1}} \\int_{\\phi_0}^{\\phi_1} {r}_{z} \\left( \\theta, ~ \\phi \\right) \\sin \\theta \\,d\\phi \\,d\\theta = \n",
    "\\int_{\\theta_{0}}^{\\theta_{1}} \\int_{\\phi_0}^{\\phi_1} \\sin \\theta \\cos \\theta \\,d\\phi \\,d\\theta = \n",
    "\\left( \\phi_1 - \\phi_0 \\right) \\left( \\frac{\\cos 2 \\theta_0 - \\cos 2 \\theta_1}{4} \\right)\n",
    "$"
   ]
  },
  {
   "cell_type": "code",
   "execution_count": 6,
   "id": "8c49b2db",
   "metadata": {
    "execution": {
     "iopub.execute_input": "2023-04-14T02:53:36.842217Z",
     "iopub.status.busy": "2023-04-14T02:53:36.840825Z",
     "iopub.status.idle": "2023-04-14T02:53:36.852046Z",
     "shell.execute_reply": "2023-04-14T02:53:36.851094Z"
    },
    "papermill": {
     "duration": 0.019624,
     "end_time": "2023-04-14T02:53:36.854345",
     "exception": false,
     "start_time": "2023-04-14T02:53:36.834721",
     "status": "completed"
    },
    "tags": []
   },
   "outputs": [],
   "source": [
    "angle_bin_zenith0 = np.tile(zenith_edges[:-1], bin_num)\n",
    "angle_bin_zenith1 = np.tile(zenith_edges[1:], bin_num)\n",
    "angle_bin_azimuth0 = np.repeat(azimuth_edges[:-1], bin_num)\n",
    "angle_bin_azimuth1 = np.repeat(azimuth_edges[1:], bin_num)\n",
    "\n",
    "angle_bin_area = (angle_bin_azimuth1 - angle_bin_azimuth0) * (np.cos(angle_bin_zenith0) - np.cos(angle_bin_zenith1))\n",
    "angle_bin_vector_sum_x = (np.sin(angle_bin_azimuth1) - np.sin(angle_bin_azimuth0)) * ((angle_bin_zenith1 - angle_bin_zenith0) / 2 - (np.sin(2 * angle_bin_zenith1) - np.sin(2 * angle_bin_zenith0)) / 4)\n",
    "angle_bin_vector_sum_y = (np.cos(angle_bin_azimuth0) - np.cos(angle_bin_azimuth1)) * ((angle_bin_zenith1 - angle_bin_zenith0) / 2 - (np.sin(2 * angle_bin_zenith1) - np.sin(2 * angle_bin_zenith0)) / 4)\n",
    "angle_bin_vector_sum_z = (angle_bin_azimuth1 - angle_bin_azimuth0) * ((np.cos(2 * angle_bin_zenith0) - np.cos(2 * angle_bin_zenith1)) / 4)\n",
    "\n",
    "angle_bin_vector_mean_x = angle_bin_vector_sum_x / angle_bin_area\n",
    "angle_bin_vector_mean_y = angle_bin_vector_sum_y / angle_bin_area\n",
    "angle_bin_vector_mean_z = angle_bin_vector_sum_z / angle_bin_area\n",
    "\n",
    "angle_bin_vector = np.zeros((1, bin_num * bin_num, 3))\n",
    "angle_bin_vector[:, :, 0] = angle_bin_vector_mean_x\n",
    "angle_bin_vector[:, :, 1] = angle_bin_vector_mean_y\n",
    "angle_bin_vector[:, :, 2] = angle_bin_vector_mean_z\n",
    "\n",
    "angle_bin_vector_unit = angle_bin_vector[0].copy()\n",
    "angle_bin_vector_unit /= np.sqrt((angle_bin_vector_unit**2).sum(axis=1).reshape((-1, 1)))"
   ]
  },
  {
   "cell_type": "code",
   "execution_count": 7,
   "id": "5984f3c3",
   "metadata": {
    "execution": {
     "iopub.execute_input": "2023-04-14T02:53:36.867243Z",
     "iopub.status.busy": "2023-04-14T02:53:36.866917Z",
     "iopub.status.idle": "2023-04-14T02:53:36.873830Z",
     "shell.execute_reply": "2023-04-14T02:53:36.872886Z"
    },
    "papermill": {
     "duration": 0.016243,
     "end_time": "2023-04-14T02:53:36.875876",
     "exception": false,
     "start_time": "2023-04-14T02:53:36.859633",
     "status": "completed"
    },
    "tags": []
   },
   "outputs": [],
   "source": [
    "def pred_to_angle(pred, epsilon = 1e-8):\n",
    "    # Convert prediction\n",
    "    pred_vector = (pred.reshape((-1, bin_num**2, 1)) * angle_bin_vector).sum(axis = 1)\n",
    "    \n",
    "    # Normalize\n",
    "    pred_vector_norm = np.sqrt((pred_vector**2).sum(axis = 1))\n",
    "    mask = pred_vector_norm < epsilon\n",
    "    pred_vector_norm[mask] = 1\n",
    "    \n",
    "    # Assign <1, 0, 0> to very small vectors (badly predicted)\n",
    "    pred_vector /= pred_vector_norm.reshape((-1, 1))\n",
    "    pred_vector[mask] = np.array([1., 0., 0.])\n",
    "    \n",
    "    # Convert to angle\n",
    "    azimuth = np.arctan2(pred_vector[:, 1], pred_vector[:, 0])\n",
    "    azimuth[azimuth < 0] += 2 * np.pi\n",
    "    zenith = np.arccos(pred_vector[:, 2])\n",
    "    \n",
    "    # Mask bad norm predictions as 0, 0\n",
    "    azimuth[mask] = 0.\n",
    "    zenith[mask] = 0.\n",
    "    \n",
    "    return azimuth, zenith"
   ]
  },
  {
   "cell_type": "markdown",
   "id": "a7b39ff5",
   "metadata": {
    "papermill": {
     "duration": 0.005059,
     "end_time": "2023-04-14T02:53:36.886201",
     "exception": false,
     "start_time": "2023-04-14T02:53:36.881142",
     "status": "completed"
    },
    "tags": []
   },
   "source": [
    "## Weighted-Vector Ensemble"
   ]
  },
  {
   "cell_type": "code",
   "execution_count": 8,
   "id": "2d09f0fd",
   "metadata": {
    "execution": {
     "iopub.execute_input": "2023-04-14T02:53:36.900543Z",
     "iopub.status.busy": "2023-04-14T02:53:36.900083Z",
     "iopub.status.idle": "2023-04-14T02:53:36.914407Z",
     "shell.execute_reply": "2023-04-14T02:53:36.913469Z"
    },
    "papermill": {
     "duration": 0.025141,
     "end_time": "2023-04-14T02:53:36.916562",
     "exception": false,
     "start_time": "2023-04-14T02:53:36.891421",
     "status": "completed"
    },
    "tags": []
   },
   "outputs": [],
   "source": [
    "def weighted_vector_ensemble(angles, weight):\n",
    "    # Convert angle to vector\n",
    "    vec_models = list()\n",
    "    for angle in angles:\n",
    "        az, zen = angle\n",
    "        sa = np.sin(az)\n",
    "        ca = np.cos(az)\n",
    "        sz = np.sin(zen)\n",
    "        cz = np.cos(zen)\n",
    "        vec = np.stack([sz * ca, sz * sa, cz], axis=1)\n",
    "        vec_models.append(vec)\n",
    "    vec_models = np.array(vec_models)\n",
    "\n",
    "    # Weighted-mean\n",
    "    vec_mean = (weight.reshape((-1, 1, 1)) * vec_models).sum(axis=0) / weight.sum()\n",
    "    vec_mean /= np.sqrt((vec_mean**2).sum(axis=1)).reshape((-1, 1))\n",
    "\n",
    "    # Convert vector to angle\n",
    "    zenith = np.arccos(vec_mean[:, 2])\n",
    "    azimuth = np.arctan2(vec_mean[:, 1], vec_mean[:, 0])\n",
    "    azimuth[azimuth < 0] += 2 * np.pi\n",
    "    \n",
    "    return azimuth, zenith"
   ]
  },
  {
   "cell_type": "markdown",
   "id": "2ce0ae24",
   "metadata": {
    "papermill": {
     "duration": 0.009433,
     "end_time": "2023-04-14T02:53:36.931721",
     "exception": false,
     "start_time": "2023-04-14T02:53:36.922288",
     "status": "completed"
    },
    "tags": []
   },
   "source": [
    "## Single event reader function\n",
    "\n",
    "- Pick-up important data points first\n",
    "    - Rank 3 (First)\n",
    "        - not aux, in valid time window\n",
    "    - Rank 2\n",
    "        - not aux, out of valid time window\n",
    "    - Rank 1\n",
    "        - aux, in valid time window\n",
    "    - Rank 0 (Last)\n",
    "        - aux, out of valid time window\n",
    "    - In each ranks, take pulses from highest charge"
   ]
  },
  {
   "cell_type": "code",
   "execution_count": 9,
   "id": "26ab7a90",
   "metadata": {
    "execution": {
     "iopub.execute_input": "2023-04-14T02:53:36.943533Z",
     "iopub.status.busy": "2023-04-14T02:53:36.943239Z",
     "iopub.status.idle": "2023-04-14T02:53:36.948783Z",
     "shell.execute_reply": "2023-04-14T02:53:36.947812Z"
    },
    "papermill": {
     "duration": 0.013752,
     "end_time": "2023-04-14T02:53:36.950811",
     "exception": false,
     "start_time": "2023-04-14T02:53:36.937059",
     "status": "completed"
    },
    "tags": []
   },
   "outputs": [],
   "source": [
    "def shift5(arr, num, fill_value=np.nan):\n",
    "    result = np.empty_like(arr)\n",
    "    if num > 0:\n",
    "        result[:num] = fill_value\n",
    "        result[num:] = arr[:-num]\n",
    "    elif num < 0:\n",
    "        result[num:] = fill_value\n",
    "        result[:num] = arr[-num:]\n",
    "    else:\n",
    "        result[:] = arr\n",
    "    return result"
   ]
  },
  {
   "cell_type": "code",
   "execution_count": 10,
   "id": "0ea921fd",
   "metadata": {
    "execution": {
     "iopub.execute_input": "2023-04-14T02:53:36.962681Z",
     "iopub.status.busy": "2023-04-14T02:53:36.962421Z",
     "iopub.status.idle": "2023-04-14T02:53:36.974870Z",
     "shell.execute_reply": "2023-04-14T02:53:36.973968Z"
    },
    "papermill": {
     "duration": 0.020822,
     "end_time": "2023-04-14T02:53:36.976843",
     "exception": false,
     "start_time": "2023-04-14T02:53:36.956021",
     "status": "completed"
    },
    "tags": []
   },
   "outputs": [],
   "source": [
    "# Placeholder\n",
    "open_batch_dict = dict()\n",
    "\n",
    "# Read single event from batch_meta_df\n",
    "def read_event(event_idx, batch_meta_df, pulse_count):\n",
    "    # Read metadata\n",
    "    batch_id, first_pulse_index, last_pulse_index = batch_meta_df.iloc[event_idx][[\"batch_id\", \"first_pulse_index\", \"last_pulse_index\"]].astype(\"int\")\n",
    "\n",
    "    # close past batch df\n",
    "    if batch_id - 1 in open_batch_dict.keys():\n",
    "        del open_batch_dict[batch_id - 1]\n",
    "\n",
    "    # open current batch df\n",
    "    if batch_id not in open_batch_dict.keys():\n",
    "        open_batch_dict.update({batch_id: pd.read_parquet(test_format.format(batch_id=batch_id))})\n",
    "    \n",
    "    batch_df = open_batch_dict[batch_id]\n",
    "    \n",
    "    # Read event\n",
    "    event_feature = batch_df[first_pulse_index:last_pulse_index + 1]\n",
    "    sensor_id = event_feature.sensor_id\n",
    "    \n",
    "    # Merge features into single structured array\n",
    "    dtype = [(\"time\", \"float16\"),\n",
    "             (\"charge\", \"float16\"),\n",
    "             (\"auxiliary\", \"float16\"),\n",
    "             (\"x\", \"float16\"),\n",
    "             (\"y\", \"float16\"),\n",
    "             (\"z\", \"float16\"),\n",
    "             (\"rank\", \"short\")]    \n",
    "    \n",
    "    # Create event_x\n",
    "    event_x = np.zeros(last_pulse_index - first_pulse_index + 1, dtype)\n",
    "    event_x[\"time\"] = event_feature.time.values - event_feature.time.min()\n",
    "    event_x[\"charge\"] = event_feature.charge.values\n",
    "    event_x[\"auxiliary\"] = event_feature.auxiliary.values\n",
    "    event_x[\"x\"] = sensor_geometry_df.x[sensor_id].values\n",
    "    event_x[\"y\"] = sensor_geometry_df.y[sensor_id].values\n",
    "    event_x[\"z\"] = sensor_geometry_df.z[sensor_id].values\n",
    "\n",
    "    # For long event, pick-up\n",
    "    if len(event_x) > pulse_count:\n",
    "        # Find valid time window\n",
    "        t_peak = event_x[\"time\"][event_x[\"charge\"].argmax()]\n",
    "        t_valid_min = t_peak - t_valid_length\n",
    "        t_valid_max = t_peak + t_valid_length\n",
    "        t_valid = (event_x[\"time\"] > t_valid_min) * (event_x[\"time\"] < t_valid_max)\n",
    "\n",
    "        # Rank\n",
    "        event_x[\"rank\"] = 2 * (1 - event_x[\"auxiliary\"]) + (t_valid)\n",
    "\n",
    "        # Sort by Rank and Charge (important goes to backward)\n",
    "        event_x = np.sort(event_x, order = [\"rank\", \"charge\"])\n",
    "\n",
    "        # pick-up from backward\n",
    "        event_x = event_x[-pulse_count:]\n",
    "\n",
    "        # Sort events by time \n",
    "        event_x = np.sort(event_x, order = \"time\")\n",
    "        \n",
    "    #r = np.sqrt(event_x['x']**2 + event_x['y']**2 + event_x['z']**2)\n",
    "    #theta = np.arctan2(event_x['y'], event_x['x'])\n",
    "    #phi = np.arccos(event_x['z']/r)\n",
    "    \n",
    "    #event_x['x'] = r.copy()\n",
    "    #del r\n",
    "    #event_x['y'] = theta.copy()\n",
    "    #del theta\n",
    "    #event_x['z'] = phi.copy()\n",
    "    #del phi\n",
    "    relative_time = event_x['time'] - shift5(event_x['time'],1, fill_value=0)\n",
    "    scattering_range = np.sqrt(event_x['x'].max()**2 + event_x['y'].max()**2 + event_x['z'].max()**2) - np.sqrt(event_x['x'].min()**2 + event_x['y'].min()**2 + event_x['z'].min()**2)\n",
    "\n",
    "        \n",
    "    return event_idx, len(event_x), event_x, relative_time, scattering_range\n",
    "\n",
    "    #return event_idx, len(event_x), event_x"
   ]
  },
  {
   "cell_type": "markdown",
   "id": "222abc29",
   "metadata": {
    "papermill": {
     "duration": 0.005215,
     "end_time": "2023-04-14T02:53:36.987367",
     "exception": false,
     "start_time": "2023-04-14T02:53:36.982152",
     "status": "completed"
    },
    "tags": []
   },
   "source": [
    "## Test metadata"
   ]
  },
  {
   "cell_type": "code",
   "execution_count": 11,
   "id": "83a0edea",
   "metadata": {
    "execution": {
     "iopub.execute_input": "2023-04-14T02:53:37.000507Z",
     "iopub.status.busy": "2023-04-14T02:53:36.999069Z",
     "iopub.status.idle": "2023-04-14T02:53:37.077283Z",
     "shell.execute_reply": "2023-04-14T02:53:37.076343Z"
    },
    "papermill": {
     "duration": 0.086783,
     "end_time": "2023-04-14T02:53:37.079661",
     "exception": false,
     "start_time": "2023-04-14T02:53:36.992878",
     "status": "completed"
    },
    "tags": []
   },
   "outputs": [],
   "source": [
    "# Read Test Meta data\n",
    "test_meta_df = pq.read_table(home_dir + 'test_meta.parquet').to_pandas()\n",
    "batch_counts = test_meta_df.batch_id.value_counts().sort_index()\n",
    "\n",
    "batch_max_index = batch_counts.cumsum()\n",
    "batch_max_index[test_meta_df.batch_id.min() - 1] = 0\n",
    "batch_max_index = batch_max_index.sort_index()\n",
    "\n",
    "# Support Function\n",
    "def test_meta_df_spliter(batch_id):\n",
    "    return test_meta_df.loc[batch_max_index[batch_id - 1]:batch_max_index[batch_id] - 1]"
   ]
  },
  {
   "cell_type": "markdown",
   "id": "7b361271",
   "metadata": {
    "papermill": {
     "duration": 0.005138,
     "end_time": "2023-04-14T02:53:37.090666",
     "exception": false,
     "start_time": "2023-04-14T02:53:37.085528",
     "status": "completed"
    },
    "tags": []
   },
   "source": [
    "## Read test data and predict batchwise"
   ]
  },
  {
   "cell_type": "code",
   "execution_count": 12,
   "id": "e5389682",
   "metadata": {
    "execution": {
     "iopub.execute_input": "2023-04-14T02:53:37.102733Z",
     "iopub.status.busy": "2023-04-14T02:53:37.102437Z",
     "iopub.status.idle": "2023-04-14T02:54:07.967148Z",
     "shell.execute_reply": "2023-04-14T02:54:07.965991Z"
    },
    "papermill": {
     "duration": 30.873728,
     "end_time": "2023-04-14T02:54:07.969601",
     "exception": false,
     "start_time": "2023-04-14T02:53:37.095873",
     "status": "completed"
    },
    "tags": []
   },
   "outputs": [],
   "source": [
    "# Get Batch IDs\n",
    "test_batch_ids = test_meta_df.batch_id.unique()\n",
    "\n",
    "# Submission Placeholders\n",
    "test_event_id = []\n",
    "test_azimuth = []\n",
    "test_zenith = []\n",
    "\n",
    "# Batch Loop\n",
    "for batch_id in test_batch_ids:\n",
    "    # Batch Meta DF\n",
    "    batch_meta_df = test_meta_df_spliter(batch_id)\n",
    "\n",
    "    # Set Pulses\n",
    "    test_x = np.zeros((len(batch_meta_df), pulse_count, feature_count), dtype = \"float16\")    \n",
    "    test_x[:, :, 2] = -1    \n",
    "\n",
    "    # Read Event Data\n",
    "    def read_event_local(event_idx):\n",
    "        return read_event(event_idx, batch_meta_df, pulse_count)\n",
    "    \n",
    "    # Multiprocess Events\n",
    "    iterator = range(len(batch_meta_df))\n",
    "    with multiprocessing.Pool() as pool:\n",
    "        for event_idx, pulsecount, event_x, relative_time, scattering_range in pool.map(read_event_local, iterator):\n",
    "            # Features\n",
    "            test_x[event_idx, :pulsecount, 0] = event_x[\"time\"]\n",
    "            test_x[event_idx, :pulsecount, 1] = event_x[\"charge\"]\n",
    "            test_x[event_idx, :pulsecount, 2] = event_x[\"auxiliary\"]\n",
    "            test_x[event_idx, :pulsecount, 3] = event_x[\"x\"]\n",
    "            test_x[event_idx, :pulsecount, 4] = event_x[\"y\"]\n",
    "            test_x[event_idx, :pulsecount, 5] = event_x[\"z\"]\n",
    "            test_x[event_idx, :pulsecount, 6] = relative_time\n",
    "            test_x[event_idx, :pulsecount, 7] = scattering_range\n",
    "    \n",
    "    del batch_meta_df\n",
    "    \n",
    "    # Normalize\n",
    "    test_x[:, :, 0] /= 1000  # time\n",
    "    test_x[:, :, 1] /= 300  # charge\n",
    "    test_x[:, :, 3:] /= 600  # space\n",
    "        \n",
    "    # Predict\n",
    "    pred_angles = []\n",
    "    for model in models:\n",
    "        pred_model = model.predict(test_x, verbose=0)\n",
    "        az_model, zen_model = pred_to_angle(pred_model)\n",
    "        pred_angles.append((az_model, zen_model))\n",
    "    \n",
    "    # Get Predicted Azimuth and Zenith\n",
    "    pred_azimuth, pred_zenith = weighted_vector_ensemble(pred_angles, model_weights)\n",
    "    \n",
    "    # Get Event IDs\n",
    "    event_ids = test_meta_df.event_id[test_meta_df.batch_id == batch_id].values\n",
    "    \n",
    "    # Finalize \n",
    "    for event_id, azimuth, zenith in zip(event_ids, pred_azimuth, pred_zenith):\n",
    "        if np.isfinite(azimuth) and np.isfinite(zenith):\n",
    "            test_event_id.append(int(event_id))\n",
    "            test_azimuth.append(azimuth)\n",
    "            test_zenith.append(zenith)\n",
    "        else:\n",
    "            test_event_id.append(int(event_id))\n",
    "            test_azimuth.append(0.)\n",
    "            test_zenith.append(0.)"
   ]
  },
  {
   "cell_type": "markdown",
   "id": "9e95f277",
   "metadata": {
    "papermill": {
     "duration": 0.005951,
     "end_time": "2023-04-14T02:54:07.981240",
     "exception": false,
     "start_time": "2023-04-14T02:54:07.975289",
     "status": "completed"
    },
    "tags": []
   },
   "source": [
    "## Create Submission"
   ]
  },
  {
   "cell_type": "code",
   "execution_count": 13,
   "id": "c1ddd4fc",
   "metadata": {
    "execution": {
     "iopub.execute_input": "2023-04-14T02:54:07.993451Z",
     "iopub.status.busy": "2023-04-14T02:54:07.993125Z",
     "iopub.status.idle": "2023-04-14T02:54:08.004602Z",
     "shell.execute_reply": "2023-04-14T02:54:08.003528Z"
    },
    "papermill": {
     "duration": 0.019813,
     "end_time": "2023-04-14T02:54:08.006571",
     "exception": false,
     "start_time": "2023-04-14T02:54:07.986758",
     "status": "completed"
    },
    "tags": []
   },
   "outputs": [],
   "source": [
    "# Create and Save Submission.csv\n",
    "submission_df = pd.DataFrame({\"event_id\": test_event_id,\n",
    "                              \"azimuth\": test_azimuth,\n",
    "                              \"zenith\": test_zenith})\n",
    "submission_df = submission_df.sort_values(by = ['event_id'])\n",
    "submission_df.to_csv(\"submission.csv\", index = False)"
   ]
  },
  {
   "cell_type": "code",
   "execution_count": 14,
   "id": "232e62b6",
   "metadata": {
    "execution": {
     "iopub.execute_input": "2023-04-14T02:54:08.018874Z",
     "iopub.status.busy": "2023-04-14T02:54:08.018597Z",
     "iopub.status.idle": "2023-04-14T02:54:08.033693Z",
     "shell.execute_reply": "2023-04-14T02:54:08.032706Z"
    },
    "papermill": {
     "duration": 0.023792,
     "end_time": "2023-04-14T02:54:08.035720",
     "exception": false,
     "start_time": "2023-04-14T02:54:08.011928",
     "status": "completed"
    },
    "tags": []
   },
   "outputs": [
    {
     "data": {
      "text/html": [
       "<div>\n",
       "<style scoped>\n",
       "    .dataframe tbody tr th:only-of-type {\n",
       "        vertical-align: middle;\n",
       "    }\n",
       "\n",
       "    .dataframe tbody tr th {\n",
       "        vertical-align: top;\n",
       "    }\n",
       "\n",
       "    .dataframe thead th {\n",
       "        text-align: right;\n",
       "    }\n",
       "</style>\n",
       "<table border=\"1\" class=\"dataframe\">\n",
       "  <thead>\n",
       "    <tr style=\"text-align: right;\">\n",
       "      <th></th>\n",
       "      <th>event_id</th>\n",
       "      <th>azimuth</th>\n",
       "      <th>zenith</th>\n",
       "    </tr>\n",
       "  </thead>\n",
       "  <tbody>\n",
       "    <tr>\n",
       "      <th>0</th>\n",
       "      <td>2092</td>\n",
       "      <td>2.001775</td>\n",
       "      <td>1.294450</td>\n",
       "    </tr>\n",
       "    <tr>\n",
       "      <th>1</th>\n",
       "      <td>7344</td>\n",
       "      <td>3.324982</td>\n",
       "      <td>2.536133</td>\n",
       "    </tr>\n",
       "    <tr>\n",
       "      <th>2</th>\n",
       "      <td>9482</td>\n",
       "      <td>4.649077</td>\n",
       "      <td>1.538306</td>\n",
       "    </tr>\n",
       "  </tbody>\n",
       "</table>\n",
       "</div>"
      ],
      "text/plain": [
       "   event_id   azimuth    zenith\n",
       "0      2092  2.001775  1.294450\n",
       "1      7344  3.324982  2.536133\n",
       "2      9482  4.649077  1.538306"
      ]
     },
     "execution_count": 14,
     "metadata": {},
     "output_type": "execute_result"
    }
   ],
   "source": [
    "# Summary\n",
    "submission_df.head()"
   ]
  },
  {
   "cell_type": "code",
   "execution_count": null,
   "id": "f85e1830",
   "metadata": {
    "papermill": {
     "duration": 0.005526,
     "end_time": "2023-04-14T02:54:08.047175",
     "exception": false,
     "start_time": "2023-04-14T02:54:08.041649",
     "status": "completed"
    },
    "tags": []
   },
   "outputs": [],
   "source": []
  }
 ],
 "metadata": {
  "kernelspec": {
   "display_name": "Python 3 (ipykernel)",
   "language": "python",
   "name": "python3"
  },
  "language_info": {
   "codemirror_mode": {
    "name": "ipython",
    "version": 3
   },
   "file_extension": ".py",
   "mimetype": "text/x-python",
   "name": "python",
   "nbconvert_exporter": "python",
   "pygments_lexer": "ipython3",
   "version": "3.9.18"
  },
  "papermill": {
   "default_parameters": {},
   "duration": 73.290086,
   "end_time": "2023-04-14T02:54:11.487693",
   "environment_variables": {},
   "exception": null,
   "input_path": "__notebook__.ipynb",
   "output_path": "__notebook__.ipynb",
   "parameters": {},
   "start_time": "2023-04-14T02:52:58.197607",
   "version": "2.3.4"
  }
 },
 "nbformat": 4,
 "nbformat_minor": 5
}
