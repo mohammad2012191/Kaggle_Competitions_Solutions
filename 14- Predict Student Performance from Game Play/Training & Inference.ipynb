{
 "cells": [
  {
   "cell_type": "code",
   "execution_count": 1,
   "id": "039b8238",
   "metadata": {
    "execution": {
     "iopub.execute_input": "2023-06-28T15:35:31.061671Z",
     "iopub.status.busy": "2023-06-28T15:35:31.060823Z",
     "iopub.status.idle": "2023-06-28T15:35:32.644050Z",
     "shell.execute_reply": "2023-06-28T15:35:32.642726Z"
    },
    "papermill": {
     "duration": 1.599204,
     "end_time": "2023-06-28T15:35:32.647158",
     "exception": false,
     "start_time": "2023-06-28T15:35:31.047954",
     "status": "completed"
    },
    "tags": []
   },
   "outputs": [],
   "source": [
    "import pandas as pd, numpy as np\n",
    "from catboost import CatBoostClassifier\n",
    "from xgboost import XGBClassifier\n",
    "import pickle\n",
    "import sys\n",
    "from sklearn.model_selection import GroupKFold\n",
    "from sklearn.metrics import f1_score"
   ]
  },
  {
   "cell_type": "markdown",
   "id": "67ad2c9f",
   "metadata": {
    "papermill": {
     "duration": 0.008577,
     "end_time": "2023-06-28T15:35:32.665306",
     "exception": false,
     "start_time": "2023-06-28T15:35:32.656729",
     "status": "completed"
    },
    "tags": []
   },
   "source": [
    "# Load Train Data and Labels"
   ]
  },
  {
   "cell_type": "code",
   "execution_count": 2,
   "id": "dec7afac",
   "metadata": {
    "execution": {
     "iopub.execute_input": "2023-06-28T15:35:32.686089Z",
     "iopub.status.busy": "2023-06-28T15:35:32.685286Z",
     "iopub.status.idle": "2023-06-28T15:35:32.689771Z",
     "shell.execute_reply": "2023-06-28T15:35:32.688907Z"
    },
    "papermill": {
     "duration": 0.017541,
     "end_time": "2023-06-28T15:35:32.692203",
     "exception": false,
     "start_time": "2023-06-28T15:35:32.674662",
     "status": "completed"
    },
    "tags": []
   },
   "outputs": [],
   "source": [
    "IS_VALIDATION = False\n",
    "IS_SUBMIT = True"
   ]
  },
  {
   "cell_type": "code",
   "execution_count": 3,
   "id": "9a21f2b8",
   "metadata": {
    "execution": {
     "iopub.execute_input": "2023-06-28T15:35:32.712517Z",
     "iopub.status.busy": "2023-06-28T15:35:32.711698Z",
     "iopub.status.idle": "2023-06-28T15:35:32.720416Z",
     "shell.execute_reply": "2023-06-28T15:35:32.719491Z"
    },
    "papermill": {
     "duration": 0.021821,
     "end_time": "2023-06-28T15:35:32.723075",
     "exception": false,
     "start_time": "2023-06-28T15:35:32.701254",
     "status": "completed"
    },
    "tags": []
   },
   "outputs": [],
   "source": [
    "dtypes = {\"session_id\": 'int64',\n",
    "          \"index\": np.int16,\n",
    "          \"elapsed_time\": np.int32,\n",
    "          \"event_name\": 'category',\n",
    "          \"name\": 'category',\n",
    "          \"level\": np.int8,\n",
    "          \"page\": np.float16,\n",
    "          \"room_coor_x\": np.float16,\n",
    "          \"room_coor_y\": np.float16,\n",
    "          \"screen_coor_x\": np.float16,\n",
    "          \"screen_coor_y\": np.float16,\n",
    "          \"hover_duration\": np.float32,\n",
    "          \"text\": 'category',\n",
    "          \"fqid\": 'category',\n",
    "          \"room_fqid\": 'category',\n",
    "          \"text_fqid\": 'category',\n",
    "          \"fullscreen\": np.int8,\n",
    "          \"hq\": np.int8,\n",
    "          \"music\": np.int8,\n",
    "          \"level_group\": 'category'\n",
    "          }\n",
    "use_col = ['session_id', 'index', 'elapsed_time', 'event_name', 'name', 'level', 'page',\n",
    "           'room_coor_x', 'room_coor_y', 'hover_duration', 'text', 'fqid', 'room_fqid', 'text_fqid', 'level_group']"
   ]
  },
  {
   "cell_type": "code",
   "execution_count": 4,
   "id": "2cd8b088",
   "metadata": {
    "execution": {
     "iopub.execute_input": "2023-06-28T15:35:32.743697Z",
     "iopub.status.busy": "2023-06-28T15:35:32.742927Z",
     "iopub.status.idle": "2023-06-28T15:35:34.403929Z",
     "shell.execute_reply": "2023-06-28T15:35:34.402981Z"
    },
    "papermill": {
     "duration": 1.674014,
     "end_time": "2023-06-28T15:35:34.406321",
     "exception": false,
     "start_time": "2023-06-28T15:35:32.732307",
     "status": "completed"
    },
    "tags": []
   },
   "outputs": [
    {
     "name": "stdout",
     "output_type": "stream",
     "text": [
      "(424116, 4)\n"
     ]
    },
    {
     "data": {
      "text/html": [
       "<div>\n",
       "<style scoped>\n",
       "    .dataframe tbody tr th:only-of-type {\n",
       "        vertical-align: middle;\n",
       "    }\n",
       "\n",
       "    .dataframe tbody tr th {\n",
       "        vertical-align: top;\n",
       "    }\n",
       "\n",
       "    .dataframe thead th {\n",
       "        text-align: right;\n",
       "    }\n",
       "</style>\n",
       "<table border=\"1\" class=\"dataframe\">\n",
       "  <thead>\n",
       "    <tr style=\"text-align: right;\">\n",
       "      <th></th>\n",
       "      <th>session_id</th>\n",
       "      <th>correct</th>\n",
       "      <th>session</th>\n",
       "      <th>q</th>\n",
       "    </tr>\n",
       "  </thead>\n",
       "  <tbody>\n",
       "    <tr>\n",
       "      <th>0</th>\n",
       "      <td>20090312431273200_q1</td>\n",
       "      <td>1</td>\n",
       "      <td>20090312431273200</td>\n",
       "      <td>1</td>\n",
       "    </tr>\n",
       "    <tr>\n",
       "      <th>1</th>\n",
       "      <td>20090312433251036_q1</td>\n",
       "      <td>0</td>\n",
       "      <td>20090312433251036</td>\n",
       "      <td>1</td>\n",
       "    </tr>\n",
       "    <tr>\n",
       "      <th>2</th>\n",
       "      <td>20090312455206810_q1</td>\n",
       "      <td>1</td>\n",
       "      <td>20090312455206810</td>\n",
       "      <td>1</td>\n",
       "    </tr>\n",
       "    <tr>\n",
       "      <th>3</th>\n",
       "      <td>20090313091715820_q1</td>\n",
       "      <td>0</td>\n",
       "      <td>20090313091715820</td>\n",
       "      <td>1</td>\n",
       "    </tr>\n",
       "    <tr>\n",
       "      <th>4</th>\n",
       "      <td>20090313571836404_q1</td>\n",
       "      <td>1</td>\n",
       "      <td>20090313571836404</td>\n",
       "      <td>1</td>\n",
       "    </tr>\n",
       "  </tbody>\n",
       "</table>\n",
       "</div>"
      ],
      "text/plain": [
       "             session_id  correct            session  q\n",
       "0  20090312431273200_q1        1  20090312431273200  1\n",
       "1  20090312433251036_q1        0  20090312433251036  1\n",
       "2  20090312455206810_q1        1  20090312455206810  1\n",
       "3  20090313091715820_q1        0  20090313091715820  1\n",
       "4  20090313571836404_q1        1  20090313571836404  1"
      ]
     },
     "execution_count": 4,
     "metadata": {},
     "output_type": "execute_result"
    }
   ],
   "source": [
    "targets = pd.read_csv('/kaggle/input/predict-student-performance-from-game-play/train_labels.csv')\n",
    "targets['session'] = targets.session_id.apply(lambda x: int(x.split('_')[0]) )\n",
    "targets['q'] = targets.session_id.apply(lambda x: int(x.split('_')[-1][1:]) )\n",
    "print( targets.shape )\n",
    "targets.head()"
   ]
  },
  {
   "cell_type": "code",
   "execution_count": 5,
   "id": "798a5eea",
   "metadata": {
    "execution": {
     "iopub.execute_input": "2023-06-28T15:35:34.427142Z",
     "iopub.status.busy": "2023-06-28T15:35:34.426451Z",
     "iopub.status.idle": "2023-06-28T15:35:34.592569Z",
     "shell.execute_reply": "2023-06-28T15:35:34.591233Z"
    },
    "papermill": {
     "duration": 0.179899,
     "end_time": "2023-06-28T15:35:34.595659",
     "exception": false,
     "start_time": "2023-06-28T15:35:34.415760",
     "status": "completed"
    },
    "tags": []
   },
   "outputs": [],
   "source": [
    "feature_df = pd.read_csv('/kaggle/input/featur/feature_sort.csv')"
   ]
  },
  {
   "cell_type": "markdown",
   "id": "53f29889",
   "metadata": {
    "papermill": {
     "duration": 0.008924,
     "end_time": "2023-06-28T15:35:34.613789",
     "exception": false,
     "start_time": "2023-06-28T15:35:34.604865",
     "status": "completed"
    },
    "tags": []
   },
   "source": [
    "# Feature Engineer"
   ]
  },
  {
   "cell_type": "code",
   "execution_count": 6,
   "id": "f8cc4ce0",
   "metadata": {
    "execution": {
     "iopub.execute_input": "2023-06-28T15:35:34.634096Z",
     "iopub.status.busy": "2023-06-28T15:35:34.633675Z",
     "iopub.status.idle": "2023-06-28T15:35:34.640286Z",
     "shell.execute_reply": "2023-06-28T15:35:34.639316Z"
    },
    "papermill": {
     "duration": 0.019474,
     "end_time": "2023-06-28T15:35:34.642454",
     "exception": false,
     "start_time": "2023-06-28T15:35:34.622980",
     "status": "completed"
    },
    "tags": []
   },
   "outputs": [],
   "source": [
    "def delt_time_def(df):\n",
    "    df.sort_values(by=['session_id', 'elapsed_time'], inplace=True)\n",
    "    df['d_time'] = df['elapsed_time'].diff(1)\n",
    "    df['d_time'].fillna(0, inplace=True)\n",
    "    df['delt_time'] = df['d_time'].clip(0, 103000)\n",
    "    df['delt_time_next'] = df['delt_time'].shift(-1)\n",
    "    return df"
   ]
  },
  {
   "cell_type": "code",
   "execution_count": 7,
   "id": "b021f9aa",
   "metadata": {
    "execution": {
     "iopub.execute_input": "2023-06-28T15:35:34.664077Z",
     "iopub.status.busy": "2023-06-28T15:35:34.662867Z",
     "iopub.status.idle": "2023-06-28T15:35:34.679418Z",
     "shell.execute_reply": "2023-06-28T15:35:34.678258Z"
    },
    "papermill": {
     "duration": 0.030107,
     "end_time": "2023-06-28T15:35:34.682090",
     "exception": false,
     "start_time": "2023-06-28T15:35:34.651983",
     "status": "completed"
    },
    "tags": []
   },
   "outputs": [],
   "source": [
    "def feature_engineer(train, kol_f):\n",
    "    global kol_col, kol_col_max\n",
    "    kol_col = 9\n",
    "    kol_col_max = 11+kol_f*2\n",
    "    col = [i for i in range(0,kol_col_max)]\n",
    "    new_train = pd.DataFrame(index=train['session_id'].unique(), columns=col, dtype=np.float16)  \n",
    "    new_train[10] = new_train.index # \"session_id\"    \n",
    "\n",
    "    new_train[0] = train.groupby(['session_id'])['d_time'].quantile(q=0.3)\n",
    "    new_train[1] = train.groupby(['session_id'])['d_time'].quantile(q=0.8)\n",
    "    new_train[2] = train.groupby(['session_id'])['d_time'].quantile(q=0.5)\n",
    "    new_train[3] = train.groupby(['session_id'])['d_time'].quantile(q=0.65)\n",
    "    new_train[4] = train.groupby(['session_id'])['hover_duration'].agg('mean')\n",
    "    new_train[5] = train.groupby(['session_id'])['hover_duration'].agg('std')    \n",
    "    new_train[6] = new_train[10].apply(lambda x: int(str(x)[:2])).astype(np.uint8) # \"year\"\n",
    "    new_train[7] = new_train[10].apply(lambda x: int(str(x)[2:4])+1).astype(np.uint8) # \"month\"\n",
    "    new_train[8] = new_train[10].apply(lambda x: int(str(x)[4:6])).astype(np.uint8) # \"day\"\n",
    "    new_train[9] = new_train[10].apply(lambda x: int(str(x)[6:8])).astype(np.uint8) + new_train[10].apply(lambda x: int(str(x)[8:10])).astype(np.uint8)/60\n",
    "    new_train[10] = 0\n",
    "    new_train = new_train.fillna(-1)\n",
    "    \n",
    "    return new_train"
   ]
  },
  {
   "cell_type": "code",
   "execution_count": 8,
   "id": "3989613f",
   "metadata": {
    "execution": {
     "iopub.execute_input": "2023-06-28T15:35:34.703041Z",
     "iopub.status.busy": "2023-06-28T15:35:34.701969Z",
     "iopub.status.idle": "2023-06-28T15:35:34.714565Z",
     "shell.execute_reply": "2023-06-28T15:35:34.713543Z"
    },
    "papermill": {
     "duration": 0.025998,
     "end_time": "2023-06-28T15:35:34.717345",
     "exception": false,
     "start_time": "2023-06-28T15:35:34.691347",
     "status": "completed"
    },
    "tags": []
   },
   "outputs": [],
   "source": [
    "def feature_next_t(row_f, new_train, train, gran_1, gran_2, i):\n",
    "    global kol_col\n",
    "    kol_col +=1\n",
    "    col1 = row_f['col1']\n",
    "    val1 = row_f['val1']\n",
    "    maska = (train[col1] == val1)\n",
    "    if row_f['kol_col'] == 1:       \n",
    "        new_train[kol_col] = train[maska].groupby(['session_id'])['delt_time_next'].sum()\n",
    "        if gran_1:\n",
    "            kol_col +=1\n",
    "            new_train[kol_col] = train[maska].groupby(['session_id'])['delt_time'].mean()\n",
    "        if gran_2:\n",
    "            kol_col +=1\n",
    "            new_train[kol_col] = train[maska].groupby(['session_id'])['index'].count()          \n",
    "    elif row_f['kol_col'] == 2: \n",
    "        col2 = row_f['col2']\n",
    "        val2 = row_f['val2']\n",
    "        maska = maska & (train[col2] == val2)        \n",
    "        new_train[kol_col] = train[maska].groupby(['session_id'])['delt_time_next'].sum()\n",
    "        if gran_1:\n",
    "            kol_col +=1\n",
    "            new_train[kol_col] = train[maska].groupby(['session_id'])['delt_time'].mean()\n",
    "        if gran_2:\n",
    "            kol_col +=1\n",
    "            new_train[kol_col] = train[maska].groupby(['session_id'])['index'].count()\n",
    "    return new_train"
   ]
  },
  {
   "cell_type": "code",
   "execution_count": 9,
   "id": "f46e5aa6",
   "metadata": {
    "execution": {
     "iopub.execute_input": "2023-06-28T15:35:34.737848Z",
     "iopub.status.busy": "2023-06-28T15:35:34.737107Z",
     "iopub.status.idle": "2023-06-28T15:35:34.748172Z",
     "shell.execute_reply": "2023-06-28T15:35:34.747078Z"
    },
    "papermill": {
     "duration": 0.024369,
     "end_time": "2023-06-28T15:35:34.750831",
     "exception": false,
     "start_time": "2023-06-28T15:35:34.726462",
     "status": "completed"
    },
    "tags": []
   },
   "outputs": [],
   "source": [
    "def feature_next_t_otvet(row_f, new_train, train, gran_1, gran_2, i):\n",
    "    global kol_col\n",
    "    kol_col +=1\n",
    "    col1 = row_f['col1']\n",
    "    val1 = row_f['val1']\n",
    "    maska = (train[col1] == val1)\n",
    "    if row_f['kol_col'] == 1:      \n",
    "        new_train[kol_col] = train[maska]['delt_time_next'].sum()\n",
    "        if gran_1:\n",
    "            kol_col +=1\n",
    "            new_train[kol_col] = train[maska]['delt_time'].mean()\n",
    "        if gran_2:\n",
    "            kol_col +=1\n",
    "            new_train[kol_col] = train[maska]['index'].count()          \n",
    "    elif row_f['kol_col'] == 2: \n",
    "        col2 = row_f['col2']\n",
    "        val2 = row_f['val2']\n",
    "        maska = maska & (train[col2] == val2)        \n",
    "        new_train[kol_col] = train[maska]['delt_time_next'].sum()\n",
    "        if gran_1:\n",
    "            kol_col +=1\n",
    "            new_train[kol_col] = train[maska]['delt_time'].mean()\n",
    "        if gran_2:\n",
    "            kol_col +=1\n",
    "            new_train[kol_col] = train[maska]['index'].count()\n",
    "    return new_train"
   ]
  },
  {
   "cell_type": "code",
   "execution_count": 10,
   "id": "0cc8adbc",
   "metadata": {
    "execution": {
     "iopub.execute_input": "2023-06-28T15:35:34.771875Z",
     "iopub.status.busy": "2023-06-28T15:35:34.771086Z",
     "iopub.status.idle": "2023-06-28T15:35:34.782906Z",
     "shell.execute_reply": "2023-06-28T15:35:34.781859Z"
    },
    "papermill": {
     "duration": 0.025529,
     "end_time": "2023-06-28T15:35:34.785830",
     "exception": false,
     "start_time": "2023-06-28T15:35:34.760301",
     "status": "completed"
    },
    "tags": []
   },
   "outputs": [],
   "source": [
    "def experiment_feature_next_t_otvet(row_f, new_train, train, gran_1, gran_2, i):\n",
    "    global kol_col\n",
    "    kol_col +=1\n",
    "    if row_f['kol_col'] == 1: \n",
    "        maska = train[row_f['col1']] == row_f['val1']\n",
    "        new_train[kol_col] = train[maska]['delt_time_next'].sum()\n",
    "        if gran_1:\n",
    "            kol_col +=1\n",
    "            new_train[kol_col] = train[maska]['delt_time'].mean()\n",
    "        if gran_2:\n",
    "            kol_col +=1\n",
    "            new_train[kol_col] = train[maska]['index'].count()          \n",
    "    elif row_f['kol_col'] == 2: \n",
    "        col2 = row_f['col2']\n",
    "        val2 = row_f['val2']\n",
    "        maska = (train[col1] == val1) & (train[col2] == val2)        \n",
    "        new_train[kol_col] = train[maska]['delt_time_next'].sum()\n",
    "        if gran_1:\n",
    "            kol_col +=1\n",
    "            new_train[kol_col] = train[maska]['delt_time'].mean()\n",
    "        if gran_2:\n",
    "            kol_col +=1\n",
    "            new_train[kol_col] = train[maska]['index'].count()\n",
    "    return new_train"
   ]
  },
  {
   "cell_type": "code",
   "execution_count": 11,
   "id": "23aab91a",
   "metadata": {
    "execution": {
     "iopub.execute_input": "2023-06-28T15:35:34.807716Z",
     "iopub.status.busy": "2023-06-28T15:35:34.806952Z",
     "iopub.status.idle": "2023-06-28T15:35:34.815669Z",
     "shell.execute_reply": "2023-06-28T15:35:34.814735Z"
    },
    "papermill": {
     "duration": 0.022655,
     "end_time": "2023-06-28T15:35:34.818282",
     "exception": false,
     "start_time": "2023-06-28T15:35:34.795627",
     "status": "completed"
    },
    "tags": []
   },
   "outputs": [],
   "source": [
    "def feature_quest_otvet(new_train, train, quest, kol_f):\n",
    "    global kol_col\n",
    "    kol_col = 9\n",
    "    g1 = 0.7 \n",
    "    g2 = 0.3 \n",
    "\n",
    "    feature_q = feature_df[feature_df['quest'] == quest].copy()\n",
    "    feature_q.reset_index(drop=True, inplace=True)\n",
    "    \n",
    "    gran1 = round(kol_f * g1)\n",
    "    gran2 = round(kol_f * g2)    \n",
    "    for i in range(0, kol_f):         \n",
    "        row_f = feature_q.loc[i]\n",
    "        new_train = feature_next_t_otvet(row_f, new_train, train, i < gran1, i <  gran2, i) \n",
    "    col = [i for i in range(0,kol_col+1)]\n",
    "    return new_train[col]"
   ]
  },
  {
   "cell_type": "code",
   "execution_count": 12,
   "id": "8a837d95",
   "metadata": {
    "execution": {
     "iopub.execute_input": "2023-06-28T15:35:34.839015Z",
     "iopub.status.busy": "2023-06-28T15:35:34.838240Z",
     "iopub.status.idle": "2023-06-28T15:35:34.845161Z",
     "shell.execute_reply": "2023-06-28T15:35:34.844018Z"
    },
    "papermill": {
     "duration": 0.020347,
     "end_time": "2023-06-28T15:35:34.847913",
     "exception": false,
     "start_time": "2023-06-28T15:35:34.827566",
     "status": "completed"
    },
    "tags": []
   },
   "outputs": [],
   "source": [
    "def feature_engineer_new(new_train, train, feature_q, kol_f):\n",
    "    g1 = 0.7 \n",
    "    g2 = 0.3 \n",
    "    gran1 = round(kol_f * g1)\n",
    "    gran2 = round(kol_f * g2)    \n",
    "    for i in range(0, kol_f): \n",
    "        row_f = feature_q.loc[i]       \n",
    "        new_train = feature_next_t(row_f, new_train, train, i < gran1, i <  gran2, i)         \n",
    "    return new_train"
   ]
  },
  {
   "cell_type": "code",
   "execution_count": 13,
   "id": "8e8ed96a",
   "metadata": {
    "execution": {
     "iopub.execute_input": "2023-06-28T15:35:34.868829Z",
     "iopub.status.busy": "2023-06-28T15:35:34.868060Z",
     "iopub.status.idle": "2023-06-28T15:35:34.874847Z",
     "shell.execute_reply": "2023-06-28T15:35:34.874000Z"
    },
    "papermill": {
     "duration": 0.020186,
     "end_time": "2023-06-28T15:35:34.877383",
     "exception": false,
     "start_time": "2023-06-28T15:35:34.857197",
     "status": "completed"
    },
    "tags": []
   },
   "outputs": [],
   "source": [
    "def feature_quest(new_train, train, quest, kol_f):\n",
    "    global kol_col\n",
    "    kol_col = 9\n",
    "    feature_q = feature_df[feature_df['quest'] == quest].copy()\n",
    "    feature_q.reset_index(drop=True, inplace=True)\n",
    "    new_train = feature_engineer_new(new_train, train, feature_q, kol_f)\n",
    "    col = [i for i in range(0,kol_col+1)]\n",
    "    return new_train[col]"
   ]
  },
  {
   "cell_type": "code",
   "execution_count": 14,
   "id": "78dc2e17",
   "metadata": {
    "execution": {
     "iopub.execute_input": "2023-06-28T15:35:34.898016Z",
     "iopub.status.busy": "2023-06-28T15:35:34.897234Z",
     "iopub.status.idle": "2023-06-28T15:35:34.913353Z",
     "shell.execute_reply": "2023-06-28T15:35:34.912296Z"
    },
    "papermill": {
     "duration": 0.029486,
     "end_time": "2023-06-28T15:35:34.916088",
     "exception": false,
     "start_time": "2023-06-28T15:35:34.886602",
     "status": "completed"
    },
    "tags": []
   },
   "outputs": [],
   "source": [
    "def create_model(old_train, quests, models, list_kol_f):\n",
    "    \n",
    "    threshold = 0.63\n",
    "    \n",
    "    kol_quest = len(quests)\n",
    "    # ITERATE THRU QUESTIONS\n",
    "    for k, q in enumerate(quests):\n",
    "        print('### quest ', q, end='')\n",
    "        new_train = feature_engineer(old_train, list_kol_f[q])\n",
    "        train_x = feature_quest(new_train, old_train, q, list_kol_f[q])\n",
    "        print (' ---- ', 'train_q.shape = ', train_x.shape)\n",
    "            \n",
    "        # TRAIN DATA\n",
    "        train_users = train_x.index.values\n",
    "        train_y = targets.loc[targets.q==q].set_index('session').loc[train_users]\n",
    "\n",
    "        # TRAIN MODEL \n",
    "        gkf = GroupKFold(n_splits=5)\n",
    "        X = train_x.astype('float32').reset_index(drop=True).copy()\n",
    "        y = train_y.reset_index(drop=True).copy()\n",
    "        model = CatBoostClassifier(\n",
    "                    n_estimators = 300,\n",
    "                    learning_rate= 0.045,\n",
    "                    depth = 6,\n",
    "                    task_type='CPU')\n",
    "        \n",
    "        if IS_VALIDATION:\n",
    "            scores = []\n",
    "            for i, (train_index, test_index) in enumerate(gkf.split(X=X,y=y['correct'], groups=train_y.index)):\n",
    "                X_Train, X_Test = X.loc[train_index,:], X.loc[test_index,:]\n",
    "                y_Train, y_Test = y.loc[train_index,'correct'], y.loc[test_index,'correct']\n",
    "\n",
    "                model.fit(X_Train, y_Train, verbose=False)\n",
    "                y_pred = model.predict_proba(X_Test)[:,1]\n",
    "                y_pred = (y_pred.reshape((-1))>threshold).astype('int')\n",
    "                scores.append(f1_score(y_Test,y_pred, average='macro'))\n",
    "                \n",
    "            print(\"\\nMean:\",np.mean(scores))\n",
    "        # SAVE MODEL, PREDICT VALID OOF\n",
    "        if IS_SUBMIT:\n",
    "            model.fit(X, y['correct'], verbose=False)\n",
    "            models[q] = model\n",
    "    print('***')\n",
    "    \n",
    "    return models"
   ]
  },
  {
   "cell_type": "code",
   "execution_count": 15,
   "id": "7665dc03",
   "metadata": {
    "execution": {
     "iopub.execute_input": "2023-06-28T15:35:34.936747Z",
     "iopub.status.busy": "2023-06-28T15:35:34.935998Z",
     "iopub.status.idle": "2023-06-28T15:35:34.940658Z",
     "shell.execute_reply": "2023-06-28T15:35:34.939761Z"
    },
    "papermill": {
     "duration": 0.017932,
     "end_time": "2023-06-28T15:35:34.943238",
     "exception": false,
     "start_time": "2023-06-28T15:35:34.925306",
     "status": "completed"
    },
    "tags": []
   },
   "outputs": [],
   "source": [
    "models = {}\n",
    "best_threshold = 0.63"
   ]
  },
  {
   "cell_type": "code",
   "execution_count": 16,
   "id": "06bdd3fc",
   "metadata": {
    "execution": {
     "iopub.execute_input": "2023-06-28T15:35:34.964253Z",
     "iopub.status.busy": "2023-06-28T15:35:34.963490Z",
     "iopub.status.idle": "2023-06-28T15:35:34.969628Z",
     "shell.execute_reply": "2023-06-28T15:35:34.968766Z"
    },
    "papermill": {
     "duration": 0.019343,
     "end_time": "2023-06-28T15:35:34.972175",
     "exception": false,
     "start_time": "2023-06-28T15:35:34.952832",
     "status": "completed"
    },
    "tags": []
   },
   "outputs": [],
   "source": [
    "list_kol_f = {\n",
    "    1:140,2:120,3:110,\n",
    "    4:120, 5:220, 6:130, 7:110, 8:110, 9:100, 10:140, 11:120, 12:120, 13:120,\n",
    "    14: 160, 15:160, 16:130, 17:140, 18:150             \n",
    "             }"
   ]
  },
  {
   "cell_type": "code",
   "execution_count": 17,
   "id": "fdbd63b8",
   "metadata": {
    "execution": {
     "iopub.execute_input": "2023-06-28T15:35:34.992890Z",
     "iopub.status.busy": "2023-06-28T15:35:34.992111Z",
     "iopub.status.idle": "2023-06-28T15:37:37.994574Z",
     "shell.execute_reply": "2023-06-28T15:37:37.993560Z"
    },
    "papermill": {
     "duration": 123.015598,
     "end_time": "2023-06-28T15:37:37.997010",
     "exception": false,
     "start_time": "2023-06-28T15:35:34.981412",
     "status": "completed"
    },
    "tags": []
   },
   "outputs": [
    {
     "name": "stdout",
     "output_type": "stream",
     "text": [
      "### quest  1 ----  train_q.shape =  (23562, 290)\n",
      "### quest  2 ----  train_q.shape =  (23562, 250)\n",
      "### quest  3 ----  train_q.shape =  (23562, 230)\n",
      "***\n"
     ]
    }
   ],
   "source": [
    "df0_4 = pd.read_csv('/kaggle/input/featur/train_0_4t.csv', dtype=dtypes) \n",
    "kol_lvl = (df0_4 .groupby(['session_id'])['level'].agg('nunique') < 5)\n",
    "list_session = kol_lvl[kol_lvl].index\n",
    "df0_4  = df0_4 [~df0_4 ['session_id'].isin(list_session)]\n",
    "df0_4 = delt_time_def(df0_4)\n",
    "\n",
    "quests_0_4 = [1,2,3] \n",
    "\n",
    "models = create_model(df0_4, quests_0_4, models, list_kol_f)\n",
    "del df0_4"
   ]
  },
  {
   "cell_type": "code",
   "execution_count": 18,
   "id": "a4f63d55",
   "metadata": {
    "execution": {
     "iopub.execute_input": "2023-06-28T15:37:38.019156Z",
     "iopub.status.busy": "2023-06-28T15:37:38.018295Z",
     "iopub.status.idle": "2023-06-28T15:46:45.723499Z",
     "shell.execute_reply": "2023-06-28T15:46:45.722034Z"
    },
    "papermill": {
     "duration": 547.735354,
     "end_time": "2023-06-28T15:46:45.742367",
     "exception": false,
     "start_time": "2023-06-28T15:37:38.007013",
     "status": "completed"
    },
    "tags": []
   },
   "outputs": [
    {
     "name": "stdout",
     "output_type": "stream",
     "text": [
      "### quest  4 ----  train_q.shape =  (23561, 250)\n",
      "### quest  5 ----  train_q.shape =  (23561, 450)\n",
      "### quest  6 ----  train_q.shape =  (23561, 270)\n",
      "### quest  7 ----  train_q.shape =  (23561, 230)\n",
      "### quest  8 ----  train_q.shape =  (23561, 230)\n",
      "### quest  9 ----  train_q.shape =  (23561, 210)\n",
      "### quest  10 ----  train_q.shape =  (23561, 290)\n",
      "### quest  11 ----  train_q.shape =  (23561, 250)\n",
      "### quest  12 ----  train_q.shape =  (23561, 250)\n",
      "### quest  13 ----  train_q.shape =  (23561, 250)\n",
      "***\n"
     ]
    }
   ],
   "source": [
    "df5_12 = pd.read_csv('/kaggle/input/featur/train_5_12t.csv', dtype=dtypes)\n",
    "kol_lvl = (df5_12.groupby(['session_id'])['level'].agg('nunique') < 8)\n",
    "list_session = kol_lvl[kol_lvl].index\n",
    "df5_12 = df5_12[~df5_12['session_id'].isin(list_session)]\n",
    "df5_12 = delt_time_def(df5_12)\n",
    "quests_5_12 = [4, 5, 6, 7, 8, 9, 10, 11, 12, 13] \n",
    "\n",
    "# list_kol_f = {4:110, 5:220, 6:120, 7:110, 8:110, 9:100, 10:140, 11:120}\n",
    "\n",
    "models = create_model(df5_12, quests_5_12, models, list_kol_f)\n",
    "del df5_12\n",
    "\n",
    "# Mean: 0.6706794887292276\n",
    "# Mean: 0.6313519444517699\n",
    "# Mean: 0.6414561905583858\n",
    "# Mean: 0.6257191786189739\n",
    "# Mean: 0.5619083089359364\n",
    "# Mean: 0.6284340871564126\n",
    "# Mean: 0.5691873364807394\n",
    "# Mean: 0.6086697655564295"
   ]
  },
  {
   "cell_type": "code",
   "execution_count": 19,
   "id": "f82fc350",
   "metadata": {
    "execution": {
     "iopub.execute_input": "2023-06-28T15:46:45.772208Z",
     "iopub.status.busy": "2023-06-28T15:46:45.771207Z",
     "iopub.status.idle": "2023-06-28T15:52:57.997063Z",
     "shell.execute_reply": "2023-06-28T15:52:57.996055Z"
    },
    "papermill": {
     "duration": 372.241685,
     "end_time": "2023-06-28T15:52:57.999726",
     "exception": false,
     "start_time": "2023-06-28T15:46:45.758041",
     "status": "completed"
    },
    "tags": []
   },
   "outputs": [
    {
     "name": "stdout",
     "output_type": "stream",
     "text": [
      "### quest  14 ----  train_q.shape =  (22986, 330)\n",
      "### quest  15 ----  train_q.shape =  (22986, 330)\n",
      "### quest  16 ----  train_q.shape =  (22986, 270)\n",
      "### quest  17 ----  train_q.shape =  (22986, 290)\n",
      "### quest  18 ----  train_q.shape =  (22986, 310)\n",
      "***\n"
     ]
    }
   ],
   "source": [
    "df13_22 = pd.read_csv('/kaggle/input/featur/train_13_22t.csv', dtype=dtypes) \n",
    "kol_lvl = (df13_22 .groupby(['session_id'])['level'].agg('nunique') < 10)\n",
    "list_session = kol_lvl[kol_lvl].index\n",
    "df13_22  = df13_22 [~df13_22 ['session_id'].isin(list_session)]\n",
    "df13_22 = delt_time_def(df13_22)\n",
    "\n",
    "quests_13_22 = [14, 15, 16, 17, 18] \n",
    "# list_kol_f = {14: 160, 15:160, 16:105, 17:140}\n",
    "\n",
    "models = create_model(df13_22, quests_13_22, models, list_kol_f)\n",
    "\n",
    "# Mean: 0.6343802011898173\n",
    "# Mean: 0.5975221078208751\n",
    "# Mean: 0.5011219447159772\n",
    "# Mean: 0.5498305040970815"
   ]
  },
  {
   "cell_type": "markdown",
   "id": "73fde1c7",
   "metadata": {
    "papermill": {
     "duration": 0.01218,
     "end_time": "2023-06-28T15:52:58.024618",
     "exception": false,
     "start_time": "2023-06-28T15:52:58.012438",
     "status": "completed"
    },
    "tags": []
   },
   "source": [
    "**Infer Test Data**"
   ]
  },
  {
   "cell_type": "code",
   "execution_count": 20,
   "id": "1ffdb9d4",
   "metadata": {
    "execution": {
     "iopub.execute_input": "2023-06-28T15:52:58.051872Z",
     "iopub.status.busy": "2023-06-28T15:52:58.051198Z",
     "iopub.status.idle": "2023-06-28T15:52:58.086286Z",
     "shell.execute_reply": "2023-06-28T15:52:58.085367Z"
    },
    "papermill": {
     "duration": 0.051725,
     "end_time": "2023-06-28T15:52:58.088945",
     "exception": false,
     "start_time": "2023-06-28T15:52:58.037220",
     "status": "completed"
    },
    "tags": []
   },
   "outputs": [],
   "source": [
    "if IS_SUBMIT:\n",
    "    import jo_wilder\n",
    "\n",
    "    try:\n",
    "        jo_wilder.make_env.__called__ = False\n",
    "        env.__called__ = False\n",
    "        type(env)._state = type(type(env)._state).__dict__['INIT']\n",
    "    except:\n",
    "        pass\n",
    "\n",
    "    env = jo_wilder.make_env()\n",
    "    iter_test = env.iter_test()    "
   ]
  },
  {
   "cell_type": "code",
   "execution_count": 21,
   "id": "7650b3b1",
   "metadata": {
    "execution": {
     "iopub.execute_input": "2023-06-28T15:52:58.116052Z",
     "iopub.status.busy": "2023-06-28T15:52:58.115648Z",
     "iopub.status.idle": "2023-06-28T15:53:13.666764Z",
     "shell.execute_reply": "2023-06-28T15:53:13.665560Z"
    },
    "papermill": {
     "duration": 15.568472,
     "end_time": "2023-06-28T15:53:13.669890",
     "exception": false,
     "start_time": "2023-06-28T15:52:58.101418",
     "status": "completed"
    },
    "tags": []
   },
   "outputs": [
    {
     "name": "stdout",
     "output_type": "stream",
     "text": [
      "This version of the API is not optimized and should not be used to estimate the runtime of your code on the hidden test set.\n"
     ]
    }
   ],
   "source": [
    "if IS_SUBMIT:\n",
    "    import time\n",
    "    g_end4 = 0\n",
    "    g_end5 = 0\n",
    "\n",
    "    list_q = {'0-4':quests_0_4, '5-12':quests_5_12, '13-22':quests_13_22}\n",
    "    for (test, sam_sub) in iter_test:\n",
    "        sam_sub['question'] = [int(label.split('_')[1][1:]) for label in sam_sub['session_id']]    \n",
    "        grp = test.level_group.values[0]   \n",
    "        sam_sub['correct'] = 1\n",
    "        sam_sub.loc[sam_sub.question.isin([5, 8, 10, 13, 15]), 'correct'] = 0  \n",
    "        old_train = delt_time_def(test[test.level_group == grp])\n",
    "\n",
    "        for q in list_q[grp]:\n",
    "\n",
    "            start4 = time.time()\n",
    "            new_train = feature_engineer(old_train, list_kol_f[q])\n",
    "            new_train = feature_quest_otvet(new_train, old_train, q, list_kol_f[q])\n",
    "    #         new_train = feature_quest(new_train, old_train, q, kol_f)\n",
    "\n",
    "            end4 = time.time() - start4\n",
    "            g_end4 += end4\n",
    "\n",
    "            start5 = time.time()        \n",
    "\n",
    "            clf = models[q]\n",
    "            p = clf.predict_proba(new_train.astype('float32'))[:,1]        \n",
    "\n",
    "            end5 = time.time() - start5\n",
    "            g_end5 += end5\n",
    "\n",
    "\n",
    "            mask = sam_sub.question == q \n",
    "            x = int(p[0]>best_threshold)\n",
    "            sam_sub.loc[mask,'correct'] = x      \n",
    "\n",
    "\n",
    "        sam_sub = sam_sub[['session_id', 'correct']]      \n",
    "        env.predict(sam_sub)"
   ]
  },
  {
   "cell_type": "code",
   "execution_count": null,
   "id": "1fc1e517",
   "metadata": {
    "papermill": {
     "duration": 0.012747,
     "end_time": "2023-06-28T15:53:13.696081",
     "exception": false,
     "start_time": "2023-06-28T15:53:13.683334",
     "status": "completed"
    },
    "tags": []
   },
   "outputs": [],
   "source": []
  }
 ],
 "metadata": {
  "kernelspec": {
   "display_name": "Python 3 (ipykernel)",
   "language": "python",
   "name": "python3"
  },
  "language_info": {
   "codemirror_mode": {
    "name": "ipython",
    "version": 3
   },
   "file_extension": ".py",
   "mimetype": "text/x-python",
   "name": "python",
   "nbconvert_exporter": "python",
   "pygments_lexer": "ipython3",
   "version": "3.9.18"
  },
  "papermill": {
   "default_parameters": {},
   "duration": 1075.623015,
   "end_time": "2023-06-28T15:53:14.737351",
   "environment_variables": {},
   "exception": null,
   "input_path": "__notebook__.ipynb",
   "output_path": "__notebook__.ipynb",
   "parameters": {},
   "start_time": "2023-06-28T15:35:19.114336",
   "version": "2.3.4"
  }
 },
 "nbformat": 4,
 "nbformat_minor": 5
}
