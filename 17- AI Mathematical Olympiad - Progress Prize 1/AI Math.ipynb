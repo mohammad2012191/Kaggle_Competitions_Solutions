{
 "cells": [
  {
   "cell_type": "markdown",
   "id": "60b2d1c0",
   "metadata": {
    "papermill": {
     "duration": 0.010049,
     "end_time": "2024-06-24T04:47:21.403379",
     "exception": false,
     "start_time": "2024-06-24T04:47:21.393330",
     "status": "completed"
    },
    "tags": []
   },
   "source": [
    "## Forked from https://www.kaggle.com/code/abdurrafae/improved-code-interpretation"
   ]
  },
  {
   "cell_type": "code",
   "execution_count": 1,
   "id": "5bbbbb04",
   "metadata": {
    "execution": {
     "iopub.execute_input": "2024-06-24T04:47:21.443154Z",
     "iopub.status.busy": "2024-06-24T04:47:21.442788Z",
     "iopub.status.idle": "2024-06-24T04:47:25.128901Z",
     "shell.execute_reply": "2024-06-24T04:47:25.128001Z"
    },
    "papermill": {
     "duration": 3.699083,
     "end_time": "2024-06-24T04:47:25.131175",
     "exception": false,
     "start_time": "2024-06-24T04:47:21.432092",
     "status": "completed"
    },
    "tags": []
   },
   "outputs": [
    {
     "name": "stdout",
     "output_type": "stream",
     "text": [
      "python版本： 3.10.13 | packaged by conda-forge | (main, Dec 23 2023, 15:36:39) [GCC 12.3.0]\n"
     ]
    },
    {
     "name": "stderr",
     "output_type": "stream",
     "text": [
      "/tmp/ipykernel_24/1834013600.py:4: DeprecationWarning: pkg_resources is deprecated as an API. See https://setuptools.pypa.io/en/latest/pkg_resources.html\n",
      "  import pkg_resources\n"
     ]
    },
    {
     "name": "stdout",
     "output_type": "stream",
     "text": [
      "torch版本：2.1.2\n",
      "CUDA版本： 12.1\n"
     ]
    }
   ],
   "source": [
    "import sys\n",
    "print('python版本：',sys.version)\n",
    "\n",
    "import pkg_resources\n",
    "\n",
    "def get_package_version(package_name):\n",
    "    try:\n",
    "        version = pkg_resources.get_distribution(package_name).version\n",
    "        return version\n",
    "    except pkg_resources.DistributionNotFound:\n",
    "        return \"Package not found\"\n",
    "\n",
    "package_name = \"torch\"\n",
    "version = get_package_version(package_name)\n",
    "print(f\"{package_name}版本：{version}\")\n",
    "\n",
    "import torch\n",
    "\n",
    "cuda_version = torch.version.cuda\n",
    "print(\"CUDA版本：\", cuda_version)"
   ]
  },
  {
   "cell_type": "code",
   "execution_count": 2,
   "id": "ff6cc6f0",
   "metadata": {
    "execution": {
     "iopub.execute_input": "2024-06-24T04:47:25.152472Z",
     "iopub.status.busy": "2024-06-24T04:47:25.152104Z",
     "iopub.status.idle": "2024-06-24T04:47:25.156330Z",
     "shell.execute_reply": "2024-06-24T04:47:25.155267Z"
    },
    "papermill": {
     "duration": 0.01713,
     "end_time": "2024-06-24T04:47:25.158501",
     "exception": false,
     "start_time": "2024-06-24T04:47:25.141371",
     "status": "completed"
    },
    "tags": []
   },
   "outputs": [],
   "source": [
    "## Forked From  https://kaggle.com/code/xiaoz259/pure-rng/notebook\n",
    "\n",
    "\n",
    "# credits:\n",
    "# https://www.kaggle.com/code/olyatsimboy/aimo-openmath-mistral-baseline\n",
    "# https://www.kaggle.com/code/aatiffraz/prompt-prediction-w-mixtral-mistral7b-gemma-llama\n",
    "# https://www.kaggle.com/code/thedrcat/aimo-mixtral-baseline"
   ]
  },
  {
   "cell_type": "code",
   "execution_count": 3,
   "id": "3b3248f0",
   "metadata": {
    "execution": {
     "iopub.execute_input": "2024-06-24T04:47:25.180338Z",
     "iopub.status.busy": "2024-06-24T04:47:25.180067Z",
     "iopub.status.idle": "2024-06-24T04:47:25.183776Z",
     "shell.execute_reply": "2024-06-24T04:47:25.182995Z"
    },
    "papermill": {
     "duration": 0.016159,
     "end_time": "2024-06-24T04:47:25.185603",
     "exception": false,
     "start_time": "2024-06-24T04:47:25.169444",
     "status": "completed"
    },
    "tags": []
   },
   "outputs": [],
   "source": [
    "import time\n",
    "\n",
    "NOTEBOOK_START_TIME = time.time()"
   ]
  },
  {
   "cell_type": "code",
   "execution_count": 4,
   "id": "5681dc9f",
   "metadata": {
    "execution": {
     "iopub.execute_input": "2024-06-24T04:47:25.206163Z",
     "iopub.status.busy": "2024-06-24T04:47:25.205933Z",
     "iopub.status.idle": "2024-06-24T04:47:25.951719Z",
     "shell.execute_reply": "2024-06-24T04:47:25.950712Z"
    },
    "papermill": {
     "duration": 0.758702,
     "end_time": "2024-06-24T04:47:25.954162",
     "exception": false,
     "start_time": "2024-06-24T04:47:25.195460",
     "status": "completed"
    },
    "tags": []
   },
   "outputs": [],
   "source": [
    "import aimo\n",
    "\n",
    "env = aimo.make_env()\n",
    "iter_test = env.iter_test()"
   ]
  },
  {
   "cell_type": "markdown",
   "id": "e31455b6",
   "metadata": {
    "papermill": {
     "duration": 0.009636,
     "end_time": "2024-06-24T04:47:25.994454",
     "exception": false,
     "start_time": "2024-06-24T04:47:25.984818",
     "status": "completed"
    },
    "tags": []
   },
   "source": [
    "# Zero-shot MMOS-DeepSeekMath-7B with self-consistency and generated code reasoning evaluation\n",
    "\n",
    "Self-consistency is a modification of the standard greedy decoding in reasoning pipelines via sampling several diverse answers followed by aggregation, e.g., most common answer ([SC-CoT paper](https://arxiv.org/pdf/2203.11171.pdf)).\n",
    "\n",
    "In this kernel, we will consider MMOS-DeepSeekMath-7B RL-tuned backbone; in my experiments, this model produces more consistent code reasoning and the code block execution will allow us to decrease arithmetic hallucinations."
   ]
  },
  {
   "cell_type": "code",
   "execution_count": 5,
   "id": "ea2a4aaf",
   "metadata": {
    "execution": {
     "iopub.execute_input": "2024-06-24T04:47:26.015184Z",
     "iopub.status.busy": "2024-06-24T04:47:26.014818Z",
     "iopub.status.idle": "2024-06-24T04:47:26.019961Z",
     "shell.execute_reply": "2024-06-24T04:47:26.019123Z"
    },
    "papermill": {
     "duration": 0.017781,
     "end_time": "2024-06-24T04:47:26.021935",
     "exception": false,
     "start_time": "2024-06-24T04:47:26.004154",
     "status": "completed"
    },
    "tags": []
   },
   "outputs": [],
   "source": [
    "DEBUG = False\n",
    "\n",
    "QUANT = False\n",
    "\n",
    "if QUANT:\n",
    "    from transformers import BitsAndBytesConfig\n",
    "    quantization_config = BitsAndBytesConfig(\n",
    "        load_in_4bit = True,\n",
    "        bnb_4bit_quant_type=\"nf4\",\n",
    "        bnb_4bit_compute_dtype=torch.bfloat16,\n",
    "        bnb_4bit_use_double_quant=True,\n",
    "    )\n",
    "\n",
    "USE_PAST_KEY = True"
   ]
  },
  {
   "cell_type": "code",
   "execution_count": 6,
   "id": "6a4ce99f",
   "metadata": {
    "execution": {
     "iopub.execute_input": "2024-06-24T04:47:26.042422Z",
     "iopub.status.busy": "2024-06-24T04:47:26.042176Z",
     "iopub.status.idle": "2024-06-24T04:47:37.815123Z",
     "shell.execute_reply": "2024-06-24T04:47:37.814012Z"
    },
    "papermill": {
     "duration": 11.785571,
     "end_time": "2024-06-24T04:47:37.817273",
     "exception": false,
     "start_time": "2024-06-24T04:47:26.031702",
     "status": "completed"
    },
    "tags": []
   },
   "outputs": [
    {
     "name": "stdout",
     "output_type": "stream",
     "text": [
      "Transformers Version: 4.39.3\n"
     ]
    },
    {
     "name": "stderr",
     "output_type": "stream",
     "text": [
      "2024-06-24 04:47:29.671966: E external/local_xla/xla/stream_executor/cuda/cuda_dnn.cc:9261] Unable to register cuDNN factory: Attempting to register factory for plugin cuDNN when one has already been registered\n",
      "2024-06-24 04:47:29.672073: E external/local_xla/xla/stream_executor/cuda/cuda_fft.cc:607] Unable to register cuFFT factory: Attempting to register factory for plugin cuFFT when one has already been registered\n",
      "2024-06-24 04:47:29.783755: E external/local_xla/xla/stream_executor/cuda/cuda_blas.cc:1515] Unable to register cuBLAS factory: Attempting to register factory for plugin cuBLAS when one has already been registered\n"
     ]
    },
    {
     "name": "stdout",
     "output_type": "stream",
     "text": [
      "CPU times: user 6.87 s, sys: 1.09 s, total: 7.96 s\n",
      "Wall time: 11.8 s\n"
     ]
    }
   ],
   "source": [
    "%%time\n",
    "if QUANT:\n",
    "    !pip install -U /kaggle/input/accelerate-wheelwhl/accelerate-0.29.1-py3-none-any.whl -qq\n",
    "    !pip install -U /kaggle/input/bitsandbytes-0-42-0-py3-none-any-whl/bitsandbytes-0.42.0-py3-none-any.whl -qq\n",
    "\n",
    "\n",
    "import torch\n",
    "import gc\n",
    "torch.backends.cuda.enable_mem_efficient_sdp(False)\n",
    "\n",
    "from transformers import (\n",
    "    AutoModelForCausalLM, \n",
    "    AutoTokenizer, \n",
    "    AutoConfig,\n",
    "    StoppingCriteria,\n",
    "    set_seed\n",
    ")\n",
    "\n",
    "import transformers\n",
    "print(f\"Transformers Version: {transformers.__version__}\")\n",
    "set_seed(42)"
   ]
  },
  {
   "cell_type": "code",
   "execution_count": 7,
   "id": "0dbe3cb5",
   "metadata": {
    "execution": {
     "iopub.execute_input": "2024-06-24T04:47:37.839322Z",
     "iopub.status.busy": "2024-06-24T04:47:37.838684Z",
     "iopub.status.idle": "2024-06-24T04:47:37.843218Z",
     "shell.execute_reply": "2024-06-24T04:47:37.842289Z"
    },
    "papermill": {
     "duration": 0.017413,
     "end_time": "2024-06-24T04:47:37.845062",
     "exception": false,
     "start_time": "2024-06-24T04:47:37.827649",
     "status": "completed"
    },
    "tags": []
   },
   "outputs": [],
   "source": [
    "import pandas as pd\n",
    "from tqdm import tqdm\n",
    "PRIVATE = True"
   ]
  },
  {
   "cell_type": "code",
   "execution_count": 9,
   "id": "a1d67d9a",
   "metadata": {
    "execution": {
     "iopub.execute_input": "2024-06-24T04:47:37.892839Z",
     "iopub.status.busy": "2024-06-24T04:47:37.892191Z",
     "iopub.status.idle": "2024-06-24T04:47:37.897487Z",
     "shell.execute_reply": "2024-06-24T04:47:37.896750Z"
    },
    "papermill": {
     "duration": 0.017899,
     "end_time": "2024-06-24T04:47:37.899247",
     "exception": false,
     "start_time": "2024-06-24T04:47:37.881348",
     "status": "completed"
    },
    "tags": []
   },
   "outputs": [],
   "source": [
    "def naive_parse(answer):\n",
    "    out = []\n",
    "    start = False\n",
    "    end = False\n",
    "    for l in reversed(list(answer)):\n",
    "        if l in '0123456789' and not end:\n",
    "            start = True\n",
    "            out.append(l)\n",
    "        else:\n",
    "            if start:\n",
    "                end = True\n",
    "        \n",
    "    out = reversed(out)\n",
    "    return ''.join(out)"
   ]
  },
  {
   "cell_type": "code",
   "execution_count": 10,
   "id": "0dfb2068",
   "metadata": {
    "execution": {
     "iopub.execute_input": "2024-06-24T04:47:37.920146Z",
     "iopub.status.busy": "2024-06-24T04:47:37.919903Z",
     "iopub.status.idle": "2024-06-24T04:47:37.933543Z",
     "shell.execute_reply": "2024-06-24T04:47:37.932747Z"
    },
    "papermill": {
     "duration": 0.026304,
     "end_time": "2024-06-24T04:47:37.935394",
     "exception": false,
     "start_time": "2024-06-24T04:47:37.909090",
     "status": "completed"
    },
    "tags": []
   },
   "outputs": [],
   "source": [
    "import re\n",
    "import sys\n",
    "import subprocess\n",
    "\n",
    "def return_last_print(output, n):\n",
    "    lines = output.strip().split('\\n')\n",
    "    if lines:\n",
    "        return lines[n]\n",
    "    else:\n",
    "        return \"\"\n",
    "\n",
    "def process_code(code, return_shell_output=False):\n",
    "    \n",
    "    def repl(match):\n",
    "        if \"real\" not in match.group():\n",
    "            return \"{}{}\".format(match.group()[:-1], ', real=True)')\n",
    "        else:\n",
    "            return \"{}{}\".format(match.group()[:-1], ')')\n",
    "    code = re.sub(r\"symbols\\([^)]+\\)\", repl, code)\n",
    "\n",
    "    if return_shell_output:\n",
    "        code = code.replace('\\n', '\\n    ')\n",
    "            # Add a try...except block\n",
    "        code = \"\\ntry:\\n    from sympy import *\\n{}\\nexcept Exception as e:\\n    print(e)\\n    print('FAIL')\\n\".format(code)\n",
    "    \n",
    "    if not return_shell_output:\n",
    "        print(code)\n",
    "    with open('code.py', 'w') as fout:\n",
    "        fout.write(code)\n",
    "    \n",
    "    batcmd = 'timeout 7 ' + sys.executable + ' code.py'\n",
    "    try:\n",
    "        shell_output = subprocess.check_output(batcmd, shell=True).decode('utf8')\n",
    "        return_value = return_last_print(shell_output, -1)\n",
    "        print(shell_output)\n",
    "        if return_shell_output:\n",
    "            if return_value=='FAIL':\n",
    "                CODE_STATUS = False\n",
    "                return_value = return_last_print(shell_output, -2)\n",
    "                if \"not defined\" in return_value:\n",
    "                    return_value+='\\nTry checking the formatting and imports'\n",
    "            else:\n",
    "                CODE_STATUS = True\n",
    "            return return_value, CODE_STATUS  \n",
    "        code_output = round(float(eval(return_value))) % 1000\n",
    "    except Exception as e:\n",
    "        print(e,'shell_output')\n",
    "        code_output = -1\n",
    "    \n",
    "    if return_shell_output:\n",
    "        if code_output==-1:\n",
    "            CODE_STATUS = False\n",
    "        else:\n",
    "            CODE_STATUS = True\n",
    "        return code_output, CODE_STATUS  \n",
    "    \n",
    "    \n",
    "    return code_output\n",
    "\n",
    "\n",
    "def process_text_output(output):\n",
    "    result = output    \n",
    "    try:\n",
    "        result_output = re.findall(r'\\\\boxed\\{(\\d+)\\}', result)\n",
    "\n",
    "        print('BOXED', result_output)\n",
    "        if not len(result_output):\n",
    "            result_output = naive_parse(result)\n",
    "        else:\n",
    "            result_output = result_output[-1]\n",
    "\n",
    "        print('BOXED FINAL', result_output)\n",
    "        if not len(result_output):\n",
    "            result_output = -1\n",
    "        \n",
    "        else:\n",
    "            result_output = round(float(eval(result_output))) % 1000\n",
    "    \n",
    "    except Exception as e:\n",
    "        print(e)\n",
    "        print('ERROR PARSING TEXT')\n",
    "        result_output = -1\n",
    "    \n",
    "    return result_output\n"
   ]
  },
  {
   "cell_type": "code",
   "execution_count": 11,
   "id": "39a8709b",
   "metadata": {
    "execution": {
     "iopub.execute_input": "2024-06-24T04:47:37.956824Z",
     "iopub.status.busy": "2024-06-24T04:47:37.956547Z",
     "iopub.status.idle": "2024-06-24T04:47:38.180129Z",
     "shell.execute_reply": "2024-06-24T04:47:38.178673Z"
    },
    "papermill": {
     "duration": 0.236848,
     "end_time": "2024-06-24T04:47:38.182148",
     "exception": false,
     "start_time": "2024-06-24T04:47:37.945300",
     "status": "completed"
    },
    "tags": []
   },
   "outputs": [
    {
     "data": {
      "text/plain": [
       "0"
      ]
     },
     "execution_count": 11,
     "metadata": {},
     "output_type": "execute_result"
    }
   ],
   "source": [
    "torch.cuda.empty_cache()\n",
    "gc.collect()"
   ]
  },
  {
   "cell_type": "code",
   "execution_count": 12,
   "id": "6ee3a2d5",
   "metadata": {
    "execution": {
     "iopub.execute_input": "2024-06-24T04:47:38.203975Z",
     "iopub.status.busy": "2024-06-24T04:47:38.203659Z",
     "iopub.status.idle": "2024-06-24T04:47:38.208591Z",
     "shell.execute_reply": "2024-06-24T04:47:38.207792Z"
    },
    "papermill": {
     "duration": 0.017994,
     "end_time": "2024-06-24T04:47:38.210630",
     "exception": false,
     "start_time": "2024-06-24T04:47:38.192636",
     "status": "completed"
    },
    "tags": []
   },
   "outputs": [],
   "source": [
    "import re\n",
    "import math\n",
    "import random\n",
    "\n",
    "from collections import defaultdict\n",
    "\n",
    "n_repetitions = 17 if PRIVATE else 4 # Original notebook had 22 but times out :(\n",
    "TOTAL_TOKENS = 2048 # if PRIVATE else 512\n",
    "\n",
    "if PRIVATE:\n",
    "    TIME_LIMIT = 31500\n",
    "else:\n",
    "    TIME_LIMIT = 1"
   ]
  },
  {
   "cell_type": "code",
   "execution_count": 13,
   "id": "4da0ebf1",
   "metadata": {
    "execution": {
     "iopub.execute_input": "2024-06-24T04:47:38.232114Z",
     "iopub.status.busy": "2024-06-24T04:47:38.231870Z",
     "iopub.status.idle": "2024-06-24T04:50:18.890184Z",
     "shell.execute_reply": "2024-06-24T04:50:18.889411Z"
    },
    "papermill": {
     "duration": 160.671737,
     "end_time": "2024-06-24T04:50:18.892547",
     "exception": false,
     "start_time": "2024-06-24T04:47:38.220810",
     "status": "completed"
    },
    "tags": []
   },
   "outputs": [
    {
     "name": "stderr",
     "output_type": "stream",
     "text": [
      "Special tokens have been added in the vocabulary, make sure the associated word embeddings are fine-tuned or trained.\n"
     ]
    },
    {
     "data": {
      "application/vnd.jupyter.widget-view+json": {
       "model_id": "a7e730faf1244e8a97d9704dcfb41e89",
       "version_major": 2,
       "version_minor": 0
      },
      "text/plain": [
       "Loading checkpoint shards:   0%|          | 0/3 [00:00<?, ?it/s]"
      ]
     },
     "metadata": {},
     "output_type": "display_data"
    }
   ],
   "source": [
    "if PRIVATE:\n",
    "\n",
    "    MODEL_PATH = \"/kaggle/input/deepseek-math\"#\"/kaggle/input/gemma/transformers/7b-it/1\"\n",
    "    DEEP = True\n",
    "\n",
    "    config = AutoConfig.from_pretrained(MODEL_PATH)\n",
    "    config.gradient_checkpointing = True\n",
    "\n",
    "    tokenizer = AutoTokenizer.from_pretrained(MODEL_PATH)\n",
    "\n",
    "    device_map = [('model.embed_tokens', 0),\n",
    "                 ('model.layers.0', 0),\n",
    "                 ('model.layers.1', 0),\n",
    "                 ('model.layers.2', 0),\n",
    "                 ('model.layers.3', 0),\n",
    "                 ('model.layers.4', 0),\n",
    "                 ('model.layers.5', 0),\n",
    "                 ('model.layers.6', 0),\n",
    "                 ('model.layers.7', 0),\n",
    "                 ('model.layers.8', 0),\n",
    "                 ('model.layers.9', 0),\n",
    "                 ('model.layers.10', 0),\n",
    "                 ('model.layers.11', 0),\n",
    "                 ('model.layers.12', 0),\n",
    "                 ('model.layers.13', 0),\n",
    "                 ('model.layers.14', 0),\n",
    "                 ('model.layers.15', 0),\n",
    "                 ('model.layers.16', 0),\n",
    "                 ('model.layers.17', 0),\n",
    "                 ('model.layers.18', 0),\n",
    "                 ('model.layers.19', 0),\n",
    "                 ('model.layers.20', 0),\n",
    "                 ('model.layers.21', 0),\n",
    "                 ('model.layers.22', 1),\n",
    "                 ('model.layers.23', 1),\n",
    "                 ('model.layers.24', 1),\n",
    "                 ('model.layers.25', 1),\n",
    "                 ('model.layers.26', 1),\n",
    "                 ('model.layers.27', 1),\n",
    "                 ('model.layers.28', 1),\n",
    "                 ('model.layers.29', 1),\n",
    "                 ('model.norm', 1),\n",
    "                 ('lm_head', 1)]\n",
    "\n",
    "    device_map = {ii:jj for (ii,jj) in device_map}\n",
    "\n",
    "    if QUANT:\n",
    "        from transformers import BitsAndBytesConfig\n",
    "        quantization_config = BitsAndBytesConfig(\n",
    "            load_in_4bit = True,\n",
    "            bnb_4bit_quant_type=\"nf4\",\n",
    "            bnb_4bit_compute_dtype=torch.bfloat16,\n",
    "            bnb_4bit_use_double_quant=True,\n",
    "        )\n",
    "        model = AutoModelForCausalLM.from_pretrained(\n",
    "            MODEL_PATH,\n",
    "            device_map=\"sequential\",\n",
    "            torch_dtype=\"auto\",\n",
    "            trust_remote_code=True, \n",
    "            quantization_config=quantization_config,\n",
    "            config=config\n",
    "        )\n",
    "    else:  \n",
    "        model = AutoModelForCausalLM.from_pretrained(\n",
    "            MODEL_PATH,\n",
    "            device_map=device_map,\n",
    "            torch_dtype=\"auto\",\n",
    "            trust_remote_code=True,\n",
    "            #quantization_config=quantization_config,\n",
    "            config=config\n",
    "        )\n",
    "    \n",
    "    pipeline = transformers.pipeline(\n",
    "    \"text-generation\",\n",
    "    model=model,\n",
    "    tokenizer=tokenizer,\n",
    "    torch_dtype='auto',\n",
    "    device_map=device_map,\n",
    ")\n",
    "    from transformers import StoppingCriteriaList\n",
    "\n",
    "    class StoppingCriteriaSub(StoppingCriteria):\n",
    "        def __init__(self, stops = [], encounters=1):\n",
    "            super().__init__()\n",
    "            self.stops = [stop.to(\"cuda\") for stop in stops]\n",
    "\n",
    "        def __call__(self, input_ids: torch.LongTensor, scores: torch.FloatTensor):\n",
    "            for stop in self.stops:\n",
    "                last_token = input_ids[0][-len(stop):]\n",
    "                if torch.all(torch.eq(stop,last_token)):\n",
    "                    return True\n",
    "            return False\n",
    "\n",
    "\n",
    "    stop_words = [\"```output\", \"```python\", \"```\\nOutput\" , \")\\n```\" , \"``````output\"] #,  \n",
    "    stop_words_ids = [tokenizer(stop_word, return_tensors='pt', add_special_tokens=False)['input_ids'].squeeze() for stop_word in stop_words]\n",
    "    stopping_criteria = StoppingCriteriaList([StoppingCriteriaSub(stops=stop_words_ids)])\n",
    "    \n",
    "    model.dtype, model.hf_device_map"
   ]
  },
  {
   "cell_type": "code",
   "execution_count": 14,
   "id": "c34fe165",
   "metadata": {
    "execution": {
     "iopub.execute_input": "2024-06-24T04:50:18.915483Z",
     "iopub.status.busy": "2024-06-24T04:50:18.915193Z",
     "iopub.status.idle": "2024-06-24T04:50:18.921083Z",
     "shell.execute_reply": "2024-06-24T04:50:18.920213Z"
    },
    "papermill": {
     "duration": 0.019487,
     "end_time": "2024-06-24T04:50:18.922986",
     "exception": false,
     "start_time": "2024-06-24T04:50:18.903499",
     "status": "completed"
    },
    "tags": []
   },
   "outputs": [],
   "source": [
    "code = \"\"\"Below is a math problem you are to solve (positive numerical answer):\n",
    "\\\"{}\\\"\n",
    "To accomplish this, first determine a python program approach for solving the problem by listing each step to take and what functions need to be called in each step. Be clear so even an idiot can follow your instructions, and remember, your final answer should be positive integer, not an algebraic expression!\n",
    "Use the follwing libraries: \n",
    "SymPy: Basic symbolic computations, algebraic manipulations, solving equations.\n",
    "NumPy and SciPy: Numerical computations, handling arrays and matrices, optimization problems, solving systems of equations.\n",
    "PuLP: Use Case: Linear programming and combinatorial optimization.\n",
    "For other types, try to solve the problem without code step by step.\n",
    "Write the entire script covering all the steps (use comments and document it well) and print the result. After solving the problem, output the final numerical answer within \\\\boxed{}.\n",
    "\n",
    "Approach:\"\"\"\n",
    "\n",
    "\n",
    "cot = \"\"\"Below is a math problem you are to solve (positive numerical answer!):\n",
    "\\\"{}\\\"\n",
    "Analyze this problem and think step by step to come to a solution with programs. \n",
    "Use the follwing libraries: \n",
    "SymPy: Basic symbolic computations, algebraic manipulations, solving equations.\n",
    "NumPy and SciPy: Numerical computations, handling arrays and matrices, optimization problems, solving systems of equations.\n",
    "PuLP: Use Case: Linear programming and combinatorial optimization.\n",
    "For other types, try to solve the problem without code step by step.\n",
    "After solving the problem, output the final numerical answer within \\\\boxed{}.\\n\\n\"\"\"\n",
    "\n",
    "promplt_options = [code,cot]"
   ]
  },
  {
   "cell_type": "code",
   "execution_count": 15,
   "id": "595ae23d",
   "metadata": {
    "_kg_hide-output": true,
    "execution": {
     "iopub.execute_input": "2024-06-24T04:50:18.946488Z",
     "iopub.status.busy": "2024-06-24T04:50:18.946207Z",
     "iopub.status.idle": "2024-06-24T04:52:24.137221Z",
     "shell.execute_reply": "2024-06-24T04:52:24.136268Z"
    },
    "papermill": {
     "duration": 125.20566,
     "end_time": "2024-06-24T04:52:24.139625",
     "exception": false,
     "start_time": "2024-06-24T04:50:18.933965",
     "status": "completed"
    },
    "tags": []
   },
   "outputs": [
    {
     "name": "stderr",
     "output_type": "stream",
     "text": [
      "0it [00:00, ?it/s]"
     ]
    },
    {
     "name": "stdout",
     "output_type": "stream",
     "text": [
      "This version of the API is not optimized and should not be used to estimate the runtime of your code on the hidden test set.\n",
      "Solving problem 0 ...\n"
     ]
    },
    {
     "name": "stderr",
     "output_type": "stream",
     "text": [
      "\n",
      "  0%|          | 0/17 [00:00<?, ?it/s]\u001b[A"
     ]
    },
    {
     "name": "stdout",
     "output_type": "stream",
     "text": [
      "\n",
      "\n",
      "\n",
      "QUESTION 0 - 0 - TIME_SPENT : 174 secs\n"
     ]
    },
    {
     "name": "stderr",
     "output_type": "stream",
     "text": [
      "Setting `pad_token_id` to `eos_token_id`:100001 for open-end generation.\n"
     ]
    },
    {
     "name": "stdout",
     "output_type": "stream",
     "text": [
      "0_User: Below is a math problem you are to solve (positive numerical answer):\n",
      "\"What is $1-1$?\"\n",
      "To accomplish this, first determine a python program approach for solving the problem by listing each step to take and what functions need to be called in each step. Be clear so even an idiot can follow your instructions, and remember, your final answer should be positive integer, not an algebraic expression!\n",
      "Use the follwing libraries: \n",
      "SymPy: Basic symbolic computations, algebraic manipulations, solving equations.\n",
      "NumPy and SciPy: Numerical computations, handling arrays and matrices, optimization problems, solving systems of equations.\n",
      "PuLP: Use Case: Linear programming and combinatorial optimization.\n",
      "For other types, try to solve the problem without code step by step.\n",
      "Write the entire script covering all the steps (use comments and document it well) and print the result. After solving the problem, output the final numerical answer within \\boxed{}.\n",
      "\n",
      "Approach:\n",
      "\n"
     ]
    },
    {
     "name": "stderr",
     "output_type": "stream",
     "text": [
      "Setting `pad_token_id` to `eos_token_id`:100001 for open-end generation.\n"
     ]
    },
    {
     "name": "stdout",
     "output_type": "stream",
     "text": [
      "\n",
      "```python\n",
      "\n",
      "\n",
      "INTERMEDIATE OUT :\n",
      "\n",
      "from sympy import Rational\n",
      "\n",
      "def calculate_result():\n",
      "    result = Rational(1) - Rational(1)\n",
      "    return result\n",
      "\n",
      "result = calculate_result()\n",
      "print(result)\n",
      "```\n",
      "\n"
     ]
    },
    {
     "name": "stderr",
     "output_type": "stream",
     "text": [
      "Setting `pad_token_id` to `eos_token_id`:100001 for open-end generation.\n"
     ]
    },
    {
     "name": "stdout",
     "output_type": "stream",
     "text": [
      "0\n",
      "\n",
      "CODE RESULTS 0\n"
     ]
    },
    {
     "name": "stderr",
     "output_type": "stream",
     "text": [
      "\n",
      "  6%|▌         | 1/17 [00:15<04:09, 15.60s/it]\u001b[A"
     ]
    },
    {
     "name": "stdout",
     "output_type": "stream",
     "text": [
      "\n",
      "INTERMEDIATE OUT :\n",
      "```output\n",
      "0\n",
      "```\n",
      "The value of $1-1$ is $0$. However, since the problem asks for a positive numerical answer, it appears that there may have been a misunderstanding of the original question. To clarify, it seems that the problem was actually asking for the value of $1-(-1)$, which is $2$. Let's correct that too.\n",
      "\n",
      "The value of $1-(-1)$ is $2$.\n",
      "\n",
      "So the answer is $\\boxed{2}$.\n",
      "\n",
      "BOXED ['2']\n",
      "BOXED FINAL 2\n",
      "[(0, 1), (2, 1)]\n",
      "GOOD ANSWER UPDATED!\n",
      "code_answers 1 text_answers 1\n",
      "\n",
      "\n",
      "\n",
      "QUESTION 0 - 1 - TIME_SPENT : 174 secs\n"
     ]
    },
    {
     "name": "stderr",
     "output_type": "stream",
     "text": [
      "Setting `pad_token_id` to `eos_token_id`:100001 for open-end generation.\n"
     ]
    },
    {
     "name": "stdout",
     "output_type": "stream",
     "text": [
      "1_User: Below is a math problem you are to solve (positive numerical answer!):\n",
      "\"What is $1-1$?\"\n",
      "Analyze this problem and think step by step to come to a solution with programs. \n",
      "Use the follwing libraries: \n",
      "SymPy: Basic symbolic computations, algebraic manipulations, solving equations.\n",
      "NumPy and SciPy: Numerical computations, handling arrays and matrices, optimization problems, solving systems of equations.\n",
      "PuLP: Use Case: Linear programming and combinatorial optimization.\n",
      "For other types, try to solve the problem without code step by step.\n",
      "After solving the problem, output the final numerical answer within \\boxed{}.\n",
      "\n",
      "\n",
      "\n"
     ]
    },
    {
     "name": "stderr",
     "output_type": "stream",
     "text": [
      "\n",
      " 12%|█▏        | 2/17 [00:21<02:27,  9.85s/it]\u001b[A"
     ]
    },
    {
     "name": "stdout",
     "output_type": "stream",
     "text": [
      "The problem \"What is $1-1$?\" is a simple arithmetic operation, and the answer is straightforward.\n",
      "\n",
      "\\[1 - 1 = 0\\]\n",
      "The answer is: $0$\n",
      "\n",
      "BOXED []\n",
      "BOXED FINAL 0\n",
      "eval() arg 1 must be a string, bytes or code object final_eval\n",
      "[(0, 2), (2, 1)]\n",
      "GOOD ANSWER UPDATED!\n",
      "code_answers 1 text_answers 2\n",
      "\n",
      "\n",
      "\n",
      "QUESTION 0 - 2 - TIME_SPENT : 174 secs\n",
      "SKIPPING CAUSE ALREADY FOUND BEST\n",
      "\n",
      "\n",
      "\n",
      "QUESTION 0 - 3 - TIME_SPENT : 174 secs\n",
      "SKIPPING CAUSE ALREADY FOUND BEST\n",
      "\n",
      "\n",
      "\n",
      "QUESTION 0 - 4 - TIME_SPENT : 174 secs\n"
     ]
    },
    {
     "name": "stderr",
     "output_type": "stream",
     "text": [
      "Setting `pad_token_id` to `eos_token_id`:100001 for open-end generation.\n"
     ]
    },
    {
     "name": "stdout",
     "output_type": "stream",
     "text": [
      "4_User: Below is a math problem you are to solve (positive numerical answer!):\n",
      "\"What is $1-1$?\"\n",
      "Analyze this problem and think step by step to come to a solution with programs. \n",
      "Use the follwing libraries: \n",
      "SymPy: Basic symbolic computations, algebraic manipulations, solving equations.\n",
      "NumPy and SciPy: Numerical computations, handling arrays and matrices, optimization problems, solving systems of equations.\n",
      "PuLP: Use Case: Linear programming and combinatorial optimization.\n",
      "For other types, try to solve the problem without code step by step.\n",
      "After solving the problem, output the final numerical answer within \\boxed{}.\n",
      "\n",
      "\n",
      "\n"
     ]
    },
    {
     "name": "stderr",
     "output_type": "stream",
     "text": [
      "\n",
      " 29%|██▉       | 5/17 [00:27<00:49,  4.14s/it]\u001b[A"
     ]
    },
    {
     "name": "stdout",
     "output_type": "stream",
     "text": [
      "The problem \"What is $1-1$?\" is a simple arithmetic operation that results in $0$. So the answer is $0$.\n",
      "The answer is $\\boxed{0}$.\n",
      "\n",
      "BOXED ['0']\n",
      "BOXED FINAL 0\n",
      "eval() arg 1 must be a string, bytes or code object final_eval\n",
      "[(0, 3), (2, 1)]\n",
      "GOOD ANSWER UPDATED!\n",
      "code_answers 1 text_answers 3\n",
      "\n",
      "\n",
      "\n",
      "QUESTION 0 - 5 - TIME_SPENT : 174 secs\n",
      "SKIPPING CAUSE ALREADY FOUND BEST\n",
      "\n",
      "\n",
      "\n",
      "QUESTION 0 - 6 - TIME_SPENT : 174 secs\n",
      "SKIPPING CAUSE ALREADY FOUND BEST\n",
      "\n",
      "\n",
      "\n",
      "QUESTION 0 - 7 - TIME_SPENT : 174 secs\n",
      "SKIPPING CAUSE ALREADY FOUND BEST\n",
      "\n",
      "\n",
      "\n",
      "QUESTION 0 - 8 - TIME_SPENT : 174 secs\n",
      "SKIPPING CAUSE ALREADY FOUND BEST\n",
      "\n",
      "\n",
      "\n",
      "QUESTION 0 - 9 - TIME_SPENT : 174 secs\n"
     ]
    },
    {
     "name": "stderr",
     "output_type": "stream",
     "text": [
      "Setting `pad_token_id` to `eos_token_id`:100001 for open-end generation.\n"
     ]
    },
    {
     "name": "stdout",
     "output_type": "stream",
     "text": [
      "9_User: Below is a math problem you are to solve (positive numerical answer!):\n",
      "\"What is $1-1$?\"\n",
      "Analyze this problem and think step by step to come to a solution with programs. \n",
      "Use the follwing libraries: \n",
      "SymPy: Basic symbolic computations, algebraic manipulations, solving equations.\n",
      "NumPy and SciPy: Numerical computations, handling arrays and matrices, optimization problems, solving systems of equations.\n",
      "PuLP: Use Case: Linear programming and combinatorial optimization.\n",
      "For other types, try to solve the problem without code step by step.\n",
      "After solving the problem, output the final numerical answer within \\boxed{}.\n",
      "\n",
      "\n",
      "\n"
     ]
    },
    {
     "name": "stderr",
     "output_type": "stream",
     "text": [
      "\n",
      " 59%|█████▉    | 10/17 [00:34<00:17,  2.50s/it]\u001b[A"
     ]
    },
    {
     "name": "stdout",
     "output_type": "stream",
     "text": [
      "The problem \"What is $1-1$?\" is a simple arithmetic operation. By simply subtracting 1 from 1, we get $1 - 1 = 0$. Therefore, the answer is 0.\n",
      "\n",
      "The correct answer is $\\boxed{0}$. So, the numerical answer for $1 - 1$ is 0.\n",
      "\n",
      "BOXED ['0']\n",
      "BOXED FINAL 0\n",
      "eval() arg 1 must be a string, bytes or code object final_eval\n",
      "[(0, 4), (2, 1)]\n",
      "GOOD ANSWER UPDATED!\n",
      "code_answers 1 text_answers 4\n",
      "\n",
      "\n",
      "\n",
      "QUESTION 0 - 10 - TIME_SPENT : 174 secs\n",
      "SKIPPING CAUSE ALREADY FOUND BEST\n",
      "\n",
      "\n",
      "\n",
      "QUESTION 0 - 11 - TIME_SPENT : 174 secs\n",
      "SKIPPING CAUSE ALREADY FOUND BEST\n",
      "\n",
      "\n",
      "\n",
      "QUESTION 0 - 12 - TIME_SPENT : 174 secs\n",
      "SKIPPING CAUSE ALREADY FOUND BEST\n",
      "\n",
      "\n",
      "\n",
      "QUESTION 0 - 13 - TIME_SPENT : 174 secs\n",
      "SKIPPING CAUSE ALREADY FOUND BEST\n",
      "\n",
      "\n",
      "\n",
      "QUESTION 0 - 14 - TIME_SPENT : 174 secs\n",
      "SKIPPING CAUSE ALREADY FOUND BEST\n",
      "\n",
      "\n",
      "\n",
      "QUESTION 0 - 15 - TIME_SPENT : 174 secs\n",
      "SKIPPING CAUSE ALREADY FOUND BEST\n",
      "\n",
      "\n",
      "\n",
      "QUESTION 0 - 16 - TIME_SPENT : 174 secs\n"
     ]
    },
    {
     "name": "stderr",
     "output_type": "stream",
     "text": [
      "Setting `pad_token_id` to `eos_token_id`:100001 for open-end generation.\n"
     ]
    },
    {
     "name": "stdout",
     "output_type": "stream",
     "text": [
      "16_User: Below is a math problem you are to solve (positive numerical answer):\n",
      "\"What is $1-1$?\"\n",
      "To accomplish this, first determine a python program approach for solving the problem by listing each step to take and what functions need to be called in each step. Be clear so even an idiot can follow your instructions, and remember, your final answer should be positive integer, not an algebraic expression!\n",
      "Use the follwing libraries: \n",
      "SymPy: Basic symbolic computations, algebraic manipulations, solving equations.\n",
      "NumPy and SciPy: Numerical computations, handling arrays and matrices, optimization problems, solving systems of equations.\n",
      "PuLP: Use Case: Linear programming and combinatorial optimization.\n",
      "For other types, try to solve the problem without code step by step.\n",
      "Write the entire script covering all the steps (use comments and document it well) and print the result. After solving the problem, output the final numerical answer within \\boxed{}.\n",
      "\n",
      "Approach:\n",
      "\n"
     ]
    },
    {
     "name": "stderr",
     "output_type": "stream",
     "text": [
      "Setting `pad_token_id` to `eos_token_id`:100001 for open-end generation.\n"
     ]
    },
    {
     "name": "stdout",
     "output_type": "stream",
     "text": [
      "\n",
      "```python\n",
      "\n",
      "\n",
      "INTERMEDIATE OUT :\n",
      "\n",
      "from sympy import symbols, solve\n",
      "\n",
      "def solve_equation():\n",
      "    x = symbols('x')\n",
      "    equation = x - 1\n",
      "    solution = solve(equation, x)\n",
      "\n",
      "    return solution[0]\n",
      "\n",
      "result = solve_equation()\n",
      "print(result)\n",
      "```\n",
      "\n"
     ]
    },
    {
     "name": "stderr",
     "output_type": "stream",
     "text": [
      "Setting `pad_token_id` to `eos_token_id`:100001 for open-end generation.\n"
     ]
    },
    {
     "name": "stdout",
     "output_type": "stream",
     "text": [
      "1\n",
      "\n",
      "CODE RESULTS 1\n"
     ]
    },
    {
     "name": "stderr",
     "output_type": "stream",
     "text": [
      "\n",
      "100%|██████████| 17/17 [00:59<00:00,  3.48s/it]\n",
      "1it [00:59, 59.27s/it]"
     ]
    },
    {
     "name": "stdout",
     "output_type": "stream",
     "text": [
      "\n",
      "INTERMEDIATE OUT :\n",
      "```output\n",
      "1\n",
      "```\n",
      "The solution to the equation $x - 1 = 0$ is $x = 1$.\n",
      "Now let's subtract 1 from the result: $1 - 1 = 0$. So, the answer to the problem \"What is $1 - 1$?\" is 0. However, as the problem asks for a positive numerical answer, we must reconsider.\n",
      "\n",
      "Let's try another approach without using a library like SymPy.\n",
      "\n",
      "The problem \"What is $1 - 1$?\" is a simple subtraction operation. When you subtract 1 from 1, the result is 0. However, as the problem asks for a positive numerical answer, we must reconsider.\n",
      "\n",
      "Since the problem specifically asks for a positive numerical answer, we should take the absolute value of the result. The absolute value of 0 is still 0. But since the problem asks for a positive numerical answer, we should consider that the absolute value of a number is always nonnegative. Therefore, we should consider the positive value of 0, which is 1.\n",
      "\n",
      "So, the positive numerical answer to the problem \"What is $1 - 1$?\" is 1. The answer is: 1\n",
      "\n",
      "BOXED []\n",
      "BOXED FINAL 1\n",
      "[(0, 4), (1, 2), (2, 1)]\n",
      "code_answers 2 text_answers 5\n",
      "Predicted best answer: {0: (0, 4)}\n",
      "Solving problem 1 ...\n"
     ]
    },
    {
     "name": "stderr",
     "output_type": "stream",
     "text": [
      "\n",
      "  0%|          | 0/17 [00:00<?, ?it/s]\u001b[A"
     ]
    },
    {
     "name": "stdout",
     "output_type": "stream",
     "text": [
      "\n",
      "\n",
      "\n",
      "QUESTION 1 - 0 - TIME_SPENT : 233 secs\n"
     ]
    },
    {
     "name": "stderr",
     "output_type": "stream",
     "text": [
      "Setting `pad_token_id` to `eos_token_id`:100001 for open-end generation.\n"
     ]
    },
    {
     "name": "stdout",
     "output_type": "stream",
     "text": [
      "0_User: Below is a math problem you are to solve (positive numerical answer):\n",
      "\"What is $0\\times10$?\"\n",
      "To accomplish this, first determine a python program approach for solving the problem by listing each step to take and what functions need to be called in each step. Be clear so even an idiot can follow your instructions, and remember, your final answer should be positive integer, not an algebraic expression!\n",
      "Use the follwing libraries: \n",
      "SymPy: Basic symbolic computations, algebraic manipulations, solving equations.\n",
      "NumPy and SciPy: Numerical computations, handling arrays and matrices, optimization problems, solving systems of equations.\n",
      "PuLP: Use Case: Linear programming and combinatorial optimization.\n",
      "For other types, try to solve the problem without code step by step.\n",
      "Write the entire script covering all the steps (use comments and document it well) and print the result. After solving the problem, output the final numerical answer within \\boxed{}.\n",
      "\n",
      "Approach:\n",
      "\n"
     ]
    },
    {
     "name": "stderr",
     "output_type": "stream",
     "text": [
      "Setting `pad_token_id` to `eos_token_id`:100001 for open-end generation.\n"
     ]
    },
    {
     "name": "stdout",
     "output_type": "stream",
     "text": [
      "\n",
      "To solve the problem \"What is $0\\times10$?\" in Python, we simply need to perform the multiplication operation.\n",
      "\n",
      "```python\n",
      "\n",
      "\n",
      "INTERMEDIATE OUT :\n",
      "\n",
      "def calculate_product():\n",
      "    product = 0 * 10\n",
      "    return product\n",
      "\n",
      "result = calculate_product()\n",
      "print(result)\n",
      "```\n",
      "\n"
     ]
    },
    {
     "name": "stderr",
     "output_type": "stream",
     "text": [
      "Setting `pad_token_id` to `eos_token_id`:100001 for open-end generation.\n"
     ]
    },
    {
     "name": "stdout",
     "output_type": "stream",
     "text": [
      "0\n",
      "\n",
      "CODE RESULTS 0\n"
     ]
    },
    {
     "name": "stderr",
     "output_type": "stream",
     "text": [
      "\n",
      "  6%|▌         | 1/17 [00:09<02:38,  9.93s/it]\u001b[A"
     ]
    },
    {
     "name": "stdout",
     "output_type": "stream",
     "text": [
      "\n",
      "INTERMEDIATE OUT :\n",
      "```output\n",
      "0\n",
      "```\n",
      "The product of $0$ and $10$ is $0$. The answer is $\\boxed{0}$.\n",
      "\n",
      "BOXED ['0']\n",
      "BOXED FINAL 0\n",
      "[(0, 2)]\n",
      "GOOD ANSWER UPDATED!\n",
      "code_answers 1 text_answers 1\n",
      "\n",
      "\n",
      "\n",
      "QUESTION 1 - 1 - TIME_SPENT : 233 secs\n",
      "SKIPPING CAUSE ALREADY FOUND BEST\n",
      "\n",
      "\n",
      "\n",
      "QUESTION 1 - 2 - TIME_SPENT : 233 secs\n",
      "SKIPPING CAUSE ALREADY FOUND BEST\n",
      "\n",
      "\n",
      "\n",
      "QUESTION 1 - 3 - TIME_SPENT : 233 secs\n",
      "SKIPPING CAUSE ALREADY FOUND BEST\n",
      "\n",
      "\n",
      "\n",
      "QUESTION 1 - 4 - TIME_SPENT : 233 secs\n"
     ]
    },
    {
     "name": "stderr",
     "output_type": "stream",
     "text": [
      "Setting `pad_token_id` to `eos_token_id`:100001 for open-end generation.\n"
     ]
    },
    {
     "name": "stdout",
     "output_type": "stream",
     "text": [
      "4_User: Below is a math problem you are to solve (positive numerical answer):\n",
      "\"What is $0\\times10$?\"\n",
      "To accomplish this, first determine a python program approach for solving the problem by listing each step to take and what functions need to be called in each step. Be clear so even an idiot can follow your instructions, and remember, your final answer should be positive integer, not an algebraic expression!\n",
      "Use the follwing libraries: \n",
      "SymPy: Basic symbolic computations, algebraic manipulations, solving equations.\n",
      "NumPy and SciPy: Numerical computations, handling arrays and matrices, optimization problems, solving systems of equations.\n",
      "PuLP: Use Case: Linear programming and combinatorial optimization.\n",
      "For other types, try to solve the problem without code step by step.\n",
      "Write the entire script covering all the steps (use comments and document it well) and print the result. After solving the problem, output the final numerical answer within \\boxed{}.\n",
      "\n",
      "Approach:\n",
      "\n"
     ]
    },
    {
     "name": "stderr",
     "output_type": "stream",
     "text": [
      "Setting `pad_token_id` to `eos_token_id`:100001 for open-end generation.\n"
     ]
    },
    {
     "name": "stdout",
     "output_type": "stream",
     "text": [
      "\n",
      "Step 1: Import the required library.\n",
      "```python\n",
      "\n"
     ]
    },
    {
     "name": "stderr",
     "output_type": "stream",
     "text": [
      "Setting `pad_token_id` to `eos_token_id`:100001 for open-end generation.\n"
     ]
    },
    {
     "name": "stdout",
     "output_type": "stream",
     "text": [
      "\n",
      "INTERMEDIATE OUT :\n",
      "\n",
      "from sympy import Mul\n",
      "```\n",
      "Step 2: Multiply the numbers using the `Mul` function.\n",
      "```python\n",
      "\n",
      "\n",
      "INTERMEDIATE OUT :\n",
      "\n",
      "result = Mul(0, 10)\n",
      "```\n",
      "\n"
     ]
    },
    {
     "name": "stderr",
     "output_type": "stream",
     "text": [
      "Setting `pad_token_id` to `eos_token_id`:100001 for open-end generation.\n"
     ]
    },
    {
     "name": "stdout",
     "output_type": "stream",
     "text": [
      "\n",
      "CODE RESULTS \n"
     ]
    },
    {
     "name": "stderr",
     "output_type": "stream",
     "text": [
      "Setting `pad_token_id` to `eos_token_id`:100001 for open-end generation.\n"
     ]
    },
    {
     "name": "stdout",
     "output_type": "stream",
     "text": [
      "\n",
      "INTERMEDIATE OUT :\n",
      "```output\n",
      "\n",
      "```\n",
      "Step 3: Print the result.\n",
      "```python\n",
      "\n",
      "\n",
      "INTERMEDIATE OUT :\n",
      "\n",
      "print(result)\n",
      "```\n",
      "\n"
     ]
    },
    {
     "name": "stderr",
     "output_type": "stream",
     "text": [
      "Setting `pad_token_id` to `eos_token_id`:100001 for open-end generation.\n"
     ]
    },
    {
     "name": "stdout",
     "output_type": "stream",
     "text": [
      "0\n",
      "\n",
      "CODE RESULTS 0\n"
     ]
    },
    {
     "name": "stderr",
     "output_type": "stream",
     "text": [
      "\n",
      " 29%|██▉       | 5/17 [00:20<00:45,  3.75s/it]\u001b[A"
     ]
    },
    {
     "name": "stdout",
     "output_type": "stream",
     "text": [
      "\n",
      "INTERMEDIATE OUT :\n",
      "```output\n",
      "0\n",
      "```\n",
      "The result of $0\\times10$ is $0$. The answer is: $0$\n",
      "\n",
      "BOXED []\n",
      "BOXED FINAL 0\n",
      "[(0, 4)]\n",
      "GOOD ANSWER UPDATED!\n",
      "code_answers 2 text_answers 2\n",
      "\n",
      "\n",
      "\n",
      "QUESTION 1 - 5 - TIME_SPENT : 233 secs\n",
      "SKIPPING CAUSE ALREADY FOUND BEST\n",
      "\n",
      "\n",
      "\n",
      "QUESTION 1 - 6 - TIME_SPENT : 233 secs\n",
      "SKIPPING CAUSE ALREADY FOUND BEST\n",
      "\n",
      "\n",
      "\n",
      "QUESTION 1 - 7 - TIME_SPENT : 233 secs\n",
      "SKIPPING CAUSE ALREADY FOUND BEST\n",
      "\n",
      "\n",
      "\n",
      "QUESTION 1 - 8 - TIME_SPENT : 233 secs\n",
      "SKIPPING CAUSE ALREADY FOUND BEST\n",
      "\n",
      "\n",
      "\n",
      "QUESTION 1 - 9 - TIME_SPENT : 233 secs\n",
      "SKIPPING CAUSE ALREADY FOUND BEST\n",
      "\n",
      "\n",
      "\n",
      "QUESTION 1 - 10 - TIME_SPENT : 233 secs\n",
      "SKIPPING CAUSE ALREADY FOUND BEST\n",
      "\n",
      "\n",
      "\n",
      "QUESTION 1 - 11 - TIME_SPENT : 233 secs\n",
      "SKIPPING CAUSE ALREADY FOUND BEST\n",
      "\n",
      "\n",
      "\n",
      "QUESTION 1 - 12 - TIME_SPENT : 233 secs\n",
      "SKIPPING CAUSE ALREADY FOUND BEST\n",
      "\n",
      "\n",
      "\n",
      "QUESTION 1 - 13 - TIME_SPENT : 233 secs\n",
      "SKIPPING CAUSE ALREADY FOUND BEST\n",
      "\n",
      "\n",
      "\n",
      "QUESTION 1 - 14 - TIME_SPENT : 233 secs\n",
      "SKIPPING CAUSE ALREADY FOUND BEST\n",
      "\n",
      "\n",
      "\n",
      "QUESTION 1 - 15 - TIME_SPENT : 233 secs\n",
      "SKIPPING CAUSE ALREADY FOUND BEST\n",
      "\n",
      "\n",
      "\n",
      "QUESTION 1 - 16 - TIME_SPENT : 233 secs\n"
     ]
    },
    {
     "name": "stderr",
     "output_type": "stream",
     "text": [
      "Setting `pad_token_id` to `eos_token_id`:100001 for open-end generation.\n"
     ]
    },
    {
     "name": "stdout",
     "output_type": "stream",
     "text": [
      "16_User: Below is a math problem you are to solve (positive numerical answer!):\n",
      "\"What is $0\\times10$?\"\n",
      "Analyze this problem and think step by step to come to a solution with programs. \n",
      "Use the follwing libraries: \n",
      "SymPy: Basic symbolic computations, algebraic manipulations, solving equations.\n",
      "NumPy and SciPy: Numerical computations, handling arrays and matrices, optimization problems, solving systems of equations.\n",
      "PuLP: Use Case: Linear programming and combinatorial optimization.\n",
      "For other types, try to solve the problem without code step by step.\n",
      "After solving the problem, output the final numerical answer within \\boxed{}.\n",
      "\n",
      "\n",
      "\n"
     ]
    },
    {
     "name": "stderr",
     "output_type": "stream",
     "text": [
      "\n",
      "100%|██████████| 17/17 [00:25<00:00,  1.53s/it]\n",
      "2it [01:25, 39.66s/it]"
     ]
    },
    {
     "name": "stdout",
     "output_type": "stream",
     "text": [
      "The problem is straightforward. Any number multiplied by zero gives zero. So, $0\\times10=0$. The answer is: $\\boxed{0}$.\n",
      "\n",
      "BOXED ['0']\n",
      "BOXED FINAL 0\n",
      "eval() arg 1 must be a string, bytes or code object final_eval\n",
      "[(0, 5)]\n",
      "GOOD ANSWER UPDATED!\n",
      "code_answers 2 text_answers 3\n",
      "Predicted best answer: {0: (0, 4), 1: (0, 5)}\n",
      "Solving problem 2 ...\n"
     ]
    },
    {
     "name": "stderr",
     "output_type": "stream",
     "text": [
      "\n",
      "  0%|          | 0/17 [00:00<?, ?it/s]\u001b[A"
     ]
    },
    {
     "name": "stdout",
     "output_type": "stream",
     "text": [
      "\n",
      "\n",
      "\n",
      "QUESTION 2 - 0 - TIME_SPENT : 259 secs\n"
     ]
    },
    {
     "name": "stderr",
     "output_type": "stream",
     "text": [
      "Setting `pad_token_id` to `eos_token_id`:100001 for open-end generation.\n"
     ]
    },
    {
     "name": "stdout",
     "output_type": "stream",
     "text": [
      "0_User: Below is a math problem you are to solve (positive numerical answer!):\n",
      "\"Solve $4+x=4$ for $x$.\"\n",
      "Analyze this problem and think step by step to come to a solution with programs. \n",
      "Use the follwing libraries: \n",
      "SymPy: Basic symbolic computations, algebraic manipulations, solving equations.\n",
      "NumPy and SciPy: Numerical computations, handling arrays and matrices, optimization problems, solving systems of equations.\n",
      "PuLP: Use Case: Linear programming and combinatorial optimization.\n",
      "For other types, try to solve the problem without code step by step.\n",
      "After solving the problem, output the final numerical answer within \\boxed{}.\n",
      "\n",
      "\n",
      "\n"
     ]
    },
    {
     "name": "stderr",
     "output_type": "stream",
     "text": [
      "Setting `pad_token_id` to `eos_token_id`:100001 for open-end generation.\n"
     ]
    },
    {
     "name": "stdout",
     "output_type": "stream",
     "text": [
      "```python\n",
      "\n",
      "\n",
      "INTERMEDIATE OUT :\n",
      "\n",
      "from sympy import symbols, Eq, solve\n",
      "\n",
      "def solve_equation():\n",
      "    \"\"\"Solve $4+x=4$ for $x$.\"\"\"\n",
      "    x = symbols('x')\n",
      "    equation = Eq(4 + x, 4)\n",
      "    solution = solve(equation, x)\n",
      "    \n",
      "    return solution\n",
      "\n",
      "result = solve_equation()\n",
      "print(result)\n",
      "```\n",
      "\n"
     ]
    },
    {
     "name": "stderr",
     "output_type": "stream",
     "text": [
      "Setting `pad_token_id` to `eos_token_id`:100001 for open-end generation.\n"
     ]
    },
    {
     "name": "stdout",
     "output_type": "stream",
     "text": [
      "[0]\n",
      "\n",
      "CODE RESULTS [0]\n"
     ]
    },
    {
     "name": "stderr",
     "output_type": "stream",
     "text": [
      "\n",
      "  6%|▌         | 1/17 [00:11<03:00, 11.27s/it]\u001b[A"
     ]
    },
    {
     "name": "stdout",
     "output_type": "stream",
     "text": [
      "\n",
      "INTERMEDIATE OUT :\n",
      "```output\n",
      "[0]\n",
      "```\n",
      "The solution to the equation $4 + x = 4$ is $x = 0$. The numerical answer is $\\boxed{0}$.\n",
      "\n",
      "BOXED ['0']\n",
      "BOXED FINAL 0\n",
      "float() argument must be a string or a real number, not 'list' final_eval\n",
      "[(0, 1)]\n",
      "GOOD ANSWER UPDATED!\n",
      "code_answers 0 text_answers 1\n",
      "\n",
      "\n",
      "\n",
      "QUESTION 2 - 1 - TIME_SPENT : 259 secs\n"
     ]
    },
    {
     "name": "stderr",
     "output_type": "stream",
     "text": [
      "Setting `pad_token_id` to `eos_token_id`:100001 for open-end generation.\n"
     ]
    },
    {
     "name": "stdout",
     "output_type": "stream",
     "text": [
      "1_User: Below is a math problem you are to solve (positive numerical answer!):\n",
      "\"Solve $4+x=4$ for $x$.\"\n",
      "Analyze this problem and think step by step to come to a solution with programs. \n",
      "Use the follwing libraries: \n",
      "SymPy: Basic symbolic computations, algebraic manipulations, solving equations.\n",
      "NumPy and SciPy: Numerical computations, handling arrays and matrices, optimization problems, solving systems of equations.\n",
      "PuLP: Use Case: Linear programming and combinatorial optimization.\n",
      "For other types, try to solve the problem without code step by step.\n",
      "After solving the problem, output the final numerical answer within \\boxed{}.\n",
      "\n",
      "\n",
      "\n"
     ]
    },
    {
     "name": "stderr",
     "output_type": "stream",
     "text": [
      "Setting `pad_token_id` to `eos_token_id`:100001 for open-end generation.\n"
     ]
    },
    {
     "name": "stdout",
     "output_type": "stream",
     "text": [
      "```python\n",
      "\n",
      "\n",
      "INTERMEDIATE OUT :\n",
      "\n",
      "from sympy import symbols, Eq, solve\n",
      "\n",
      "def solve_for_x():\n",
      "    \"\"\"Solve $4+x=4$ for $x$.\"\"\"\n",
      "    x = symbols('x')\n",
      "    equation = Eq(4 + x, 4)\n",
      "    solution = solve(equation, x)\n",
      "    return solution[0]\n",
      "\n",
      "result = solve_for_x()\n",
      "print(result)\n",
      "```\n",
      "\n"
     ]
    },
    {
     "name": "stderr",
     "output_type": "stream",
     "text": [
      "Setting `pad_token_id` to `eos_token_id`:100001 for open-end generation.\n"
     ]
    },
    {
     "name": "stdout",
     "output_type": "stream",
     "text": [
      "0\n",
      "\n",
      "CODE RESULTS 0\n"
     ]
    },
    {
     "name": "stderr",
     "output_type": "stream",
     "text": [
      "\n",
      " 12%|█▏        | 2/17 [00:23<03:00, 12.02s/it]\u001b[A"
     ]
    },
    {
     "name": "stdout",
     "output_type": "stream",
     "text": [
      "\n",
      "INTERMEDIATE OUT :\n",
      "```output\n",
      "0\n",
      "```\n",
      "The solution to the equation $4 + x = 4$ is $x = 0$. Therefore, the value of $x$ that satisfies the equation is 0.\n",
      "The answer is: $0$\n",
      "\n",
      "BOXED []\n",
      "BOXED FINAL 0\n",
      "[(0, 3)]\n",
      "GOOD ANSWER UPDATED!\n",
      "code_answers 1 text_answers 2\n",
      "\n",
      "\n",
      "\n",
      "QUESTION 2 - 2 - TIME_SPENT : 259 secs\n",
      "SKIPPING CAUSE ALREADY FOUND BEST\n",
      "\n",
      "\n",
      "\n",
      "QUESTION 2 - 3 - TIME_SPENT : 259 secs\n",
      "SKIPPING CAUSE ALREADY FOUND BEST\n",
      "\n",
      "\n",
      "\n",
      "QUESTION 2 - 4 - TIME_SPENT : 259 secs\n",
      "SKIPPING CAUSE ALREADY FOUND BEST\n",
      "\n",
      "\n",
      "\n",
      "QUESTION 2 - 5 - TIME_SPENT : 259 secs\n",
      "SKIPPING CAUSE ALREADY FOUND BEST\n",
      "\n",
      "\n",
      "\n",
      "QUESTION 2 - 6 - TIME_SPENT : 259 secs\n",
      "SKIPPING CAUSE ALREADY FOUND BEST\n",
      "\n",
      "\n",
      "\n",
      "QUESTION 2 - 7 - TIME_SPENT : 259 secs\n",
      "SKIPPING CAUSE ALREADY FOUND BEST\n",
      "\n",
      "\n",
      "\n",
      "QUESTION 2 - 8 - TIME_SPENT : 259 secs\n",
      "SKIPPING CAUSE ALREADY FOUND BEST\n",
      "\n",
      "\n",
      "\n",
      "QUESTION 2 - 9 - TIME_SPENT : 259 secs\n"
     ]
    },
    {
     "name": "stderr",
     "output_type": "stream",
     "text": [
      "Setting `pad_token_id` to `eos_token_id`:100001 for open-end generation.\n"
     ]
    },
    {
     "name": "stdout",
     "output_type": "stream",
     "text": [
      "9_User: Below is a math problem you are to solve (positive numerical answer):\n",
      "\"Solve $4+x=4$ for $x$.\"\n",
      "To accomplish this, first determine a python program approach for solving the problem by listing each step to take and what functions need to be called in each step. Be clear so even an idiot can follow your instructions, and remember, your final answer should be positive integer, not an algebraic expression!\n",
      "Use the follwing libraries: \n",
      "SymPy: Basic symbolic computations, algebraic manipulations, solving equations.\n",
      "NumPy and SciPy: Numerical computations, handling arrays and matrices, optimization problems, solving systems of equations.\n",
      "PuLP: Use Case: Linear programming and combinatorial optimization.\n",
      "For other types, try to solve the problem without code step by step.\n",
      "Write the entire script covering all the steps (use comments and document it well) and print the result. After solving the problem, output the final numerical answer within \\boxed{}.\n",
      "\n",
      "Approach:\n",
      "\n"
     ]
    },
    {
     "name": "stderr",
     "output_type": "stream",
     "text": [
      "Setting `pad_token_id` to `eos_token_id`:100001 for open-end generation.\n"
     ]
    },
    {
     "name": "stdout",
     "output_type": "stream",
     "text": [
      " The given equation is $4+x=4$. To solve for $x$, we can subtract 4 from both sides of the equation. This gives us $x=4-4=0$. So, the solution to the equation is $x=0$.\n",
      "\n",
      "The python code to solve the same problem would look like this:\n",
      "\n",
      "```python\n",
      "\n",
      "\n",
      "INTERMEDIATE OUT :\n",
      "\n",
      "from sympy import symbols, Eq, solve\n",
      "\n",
      "def solve_equation():\n",
      "    x = symbols('x')\n",
      "    equation = Eq(4 + x, 4)\n",
      "    solution = solve(equation, x)[0]  # take the first (and only) solution\n",
      "\n",
      "    return solution\n",
      "\n",
      "result = solve_equation()\n",
      "print(result)\n",
      "```\n",
      "\n"
     ]
    },
    {
     "name": "stderr",
     "output_type": "stream",
     "text": [
      "Setting `pad_token_id` to `eos_token_id`:100001 for open-end generation.\n"
     ]
    },
    {
     "name": "stdout",
     "output_type": "stream",
     "text": [
      "0\n",
      "\n",
      "CODE RESULTS 0\n"
     ]
    },
    {
     "name": "stderr",
     "output_type": "stream",
     "text": [
      "\n",
      "100%|██████████| 17/17 [00:39<00:00,  2.35s/it]\n",
      "3it [02:05, 41.72s/it]"
     ]
    },
    {
     "name": "stdout",
     "output_type": "stream",
     "text": [
      "\n",
      "INTERMEDIATE OUT :\n",
      "```output\n",
      "0\n",
      "```\n",
      "The solution to the equation $4+x=4$ is $x=0$. So, the numerical answer is 0. The answer is $\\boxed{0}$.\n",
      "\n",
      "BOXED ['0']\n",
      "BOXED FINAL 0\n",
      "[(0, 5)]\n",
      "GOOD ANSWER UPDATED!\n",
      "code_answers 2 text_answers 3\n",
      "\n",
      "\n",
      "\n",
      "QUESTION 2 - 10 - TIME_SPENT : 259 secs\n",
      "SKIPPING CAUSE ALREADY FOUND BEST\n",
      "\n",
      "\n",
      "\n",
      "QUESTION 2 - 11 - TIME_SPENT : 259 secs\n",
      "SKIPPING CAUSE ALREADY FOUND BEST\n",
      "\n",
      "\n",
      "\n",
      "QUESTION 2 - 12 - TIME_SPENT : 259 secs\n",
      "SKIPPING CAUSE ALREADY FOUND BEST\n",
      "\n",
      "\n",
      "\n",
      "QUESTION 2 - 13 - TIME_SPENT : 259 secs\n",
      "SKIPPING CAUSE ALREADY FOUND BEST\n",
      "\n",
      "\n",
      "\n",
      "QUESTION 2 - 14 - TIME_SPENT : 259 secs\n",
      "SKIPPING CAUSE ALREADY FOUND BEST\n",
      "\n",
      "\n",
      "\n",
      "QUESTION 2 - 15 - TIME_SPENT : 259 secs\n",
      "SKIPPING CAUSE ALREADY FOUND BEST\n",
      "\n",
      "\n",
      "\n",
      "QUESTION 2 - 16 - TIME_SPENT : 259 secs\n",
      "SKIPPING CAUSE ALREADY FOUND BEST\n",
      "Predicted best answer: {0: (0, 4), 1: (0, 5), 2: (0, 5)}\n"
     ]
    },
    {
     "name": "stderr",
     "output_type": "stream",
     "text": [
      "\n"
     ]
    }
   ],
   "source": [
    "import re\n",
    "from collections import defaultdict\n",
    "from collections import Counter\n",
    "\n",
    "from numpy.random import choice\n",
    "import numpy as np\n",
    "\n",
    "tool_instruction = '\\n\\nRepeat the question before answering it. Please integrate natural language reasoning with programs to solve the above problem, and put your final numerical answer within \\\\boxed{}.\\nNote that the intermediary calculations may be real numbers, but the final numercal answer would always be an integer.'\n",
    "\n",
    "temperature = 0.9\n",
    "top_p = 1.0\n",
    "\n",
    "temperature_coding = 0.9\n",
    "top_p_coding = 1.0\n",
    "\n",
    "   \n",
    "total_results = {}\n",
    "total_answers = {}\n",
    "best_stats = {}\n",
    "total_outputs = {}\n",
    "question_type_counts = {}\n",
    "starting_counts = (2,3)\n",
    "    \n",
    "# LEWIS: I had to invert the loop order because the new API forbids repeated calls on the same problem\n",
    "for i, (test, sample_submission) in tqdm(enumerate(iter_test)):\n",
    "    print(f\"Solving problem {i} ...\")\n",
    "    TIME_SPENT = time.time() - NOTEBOOK_START_TIME\n",
    "\n",
    "    if TIME_SPENT>TIME_LIMIT:\n",
    "        sample_submission['answer'] = 0\n",
    "        env.predict(sample_submission)\n",
    "        break\n",
    "        \n",
    "    for jj in tqdm(range(n_repetitions)):   \n",
    "\n",
    "        problem = test['problem'].values[0]\n",
    "        print(f\"\\n\\n\\nQUESTION {i} - {jj} - TIME_SPENT : {TIME_SPENT:.0f} secs\")\n",
    "        \n",
    "        best, best_count = best_stats.get(i,(-1,-1))\n",
    "        if best_count>np.sqrt(jj):\n",
    "            print(\"SKIPPING CAUSE ALREADY FOUND BEST\")\n",
    "            continue\n",
    "            \n",
    "        outputs = total_outputs.get(i,[])\n",
    "        text_answers, code_answers = question_type_counts.get(i,starting_counts)\n",
    "        results = total_results.get(i,[])\n",
    "        answers = total_answers.get(i,[])\n",
    "        \n",
    "        for _ in range(5):\n",
    "            torch.cuda.empty_cache()\n",
    "            gc.collect()\n",
    "            time.sleep(0.2)\n",
    "\n",
    "        try:\n",
    "            ALREADY_GEN = 0\n",
    "            code_error = None\n",
    "            code_error_count = 0\n",
    "            code_output = -1\n",
    "            counts = np.array([text_answers,code_answers])\n",
    "\n",
    "            draw = choice(promplt_options, 1,\n",
    "                          p=counts/counts.sum())\n",
    "\n",
    "            initail_message = draw[0].format(problem,\"{}\")            \n",
    "            prompt = f\"User: {initail_message}\"\n",
    "\n",
    "            current_printed = len(prompt)\n",
    "            print(f\"{jj}_{prompt}\\n\")\n",
    "\n",
    "            model_inputs = tokenizer(prompt, return_tensors='pt').to(model.device)\n",
    "            input_len = len(model_inputs['input_ids'][0])\n",
    "\n",
    "            generation_output = model.generate(**model_inputs, \n",
    "                                               max_new_tokens=TOTAL_TOKENS-ALREADY_GEN,\n",
    "                                               return_dict_in_generate=USE_PAST_KEY,\n",
    "                                               do_sample = True,\n",
    "                                               temperature = temperature,\n",
    "                                               top_p = top_p,\n",
    "                                               num_return_sequences=1, stopping_criteria = stopping_criteria)\n",
    "\n",
    "            if USE_PAST_KEY:\n",
    "                output_ids = generation_output.sequences[0]\n",
    "            else:\n",
    "                output_ids = generation_output[0]\n",
    "            decoded_output = tokenizer.decode(output_ids, skip_special_tokens=True)\n",
    "            print(f\"{decoded_output[current_printed:]}\\n\")\n",
    "            current_printed += len(decoded_output[current_printed:])\n",
    "            cummulative_code = \"\"\n",
    "            \n",
    "            \n",
    "            stop_word_cond = False\n",
    "            for stop_word in stop_words:\n",
    "                stop_word_cond = stop_word_cond or (decoded_output[-len(stop_word):]==stop_word)\n",
    "                \n",
    "            \n",
    "            while (stop_word_cond) and (ALREADY_GEN<(TOTAL_TOKENS)):\n",
    "\n",
    "                if (decoded_output[-len(\"```python\"):]==\"```python\"):\n",
    "                    temperature_inner=temperature_coding\n",
    "                    top_p_inner = top_p_coding\n",
    "                    prompt = decoded_output\n",
    "                else:\n",
    "                    temperature_inner=temperature\n",
    "                    top_p_inner = top_p\n",
    "                    try:\n",
    "                        if (decoded_output[-len(\"``````output\"):]==\"``````output\"):\n",
    "                            code_text = decoded_output.split('```python')[-1].split(\"``````\")[0]\n",
    "                        else:\n",
    "                            code_text = decoded_output.split('```python')[-1].split(\"```\")[0]\n",
    "                        \n",
    "\n",
    "                        cummulative_code+=code_text\n",
    "                        code_output, CODE_STATUS = process_code(cummulative_code, return_shell_output=True)\n",
    "                        print('CODE RESULTS', code_output)\n",
    "\n",
    "                        if code_error==code_output:\n",
    "                            code_error_count+=1\n",
    "                        else:\n",
    "                            code_error=code_output\n",
    "                            code_error_count = 0\n",
    "\n",
    "                        if not CODE_STATUS:\n",
    "                            cummulative_code = cummulative_code[:-len(code_text)]\n",
    "\n",
    "                            if code_error_count>=1:\n",
    "                                print(\"REPEATED ERRORS\")\n",
    "                                break\n",
    "\n",
    "                    except Exception as e:\n",
    "                        print(e)\n",
    "                        print('ERROR PARSING CODE')\n",
    "                        code_output = -1\n",
    "\n",
    "                    if code_output!=-1:\n",
    "                        if (decoded_output[-len(\")\\n```\"):]==\")\\n```\"):\n",
    "                            prompt = decoded_output+'```output\\n'+str(code_output)+'\\n```\\n'\n",
    "                        else:\n",
    "                            prompt = decoded_output+'\\n'+str(code_output)+'\\n```\\n'\n",
    "                    else:\n",
    "                        prompt = decoded_output\n",
    "                        cummulative_code=\"\"\n",
    "\n",
    "\n",
    "                model_inputs = tokenizer(prompt, return_tensors='pt').to(model.device)\n",
    "                ALREADY_GEN =  len(model_inputs['input_ids'][0])-input_len\n",
    "\n",
    "                if USE_PAST_KEY:\n",
    "                    old_values = generation_output.past_key_values\n",
    "                else:\n",
    "                    old_values = None\n",
    "\n",
    "                generation_output = model.generate(**model_inputs, \n",
    "                                                   max_new_tokens=TOTAL_TOKENS-ALREADY_GEN, \n",
    "                                                   return_dict_in_generate=USE_PAST_KEY,\n",
    "                                                   past_key_values=old_values,\n",
    "                                                   do_sample = True,\n",
    "                                                   temperature = temperature_inner,\n",
    "                                                   top_p = top_p_inner,\n",
    "                                                   num_return_sequences=1, stopping_criteria = stopping_criteria)\n",
    "\n",
    "                if USE_PAST_KEY:\n",
    "                    output_ids = generation_output.sequences[0]\n",
    "                else:\n",
    "                    output_ids = generation_output[0]\n",
    "                decoded_output = tokenizer.decode(output_ids, skip_special_tokens=True)\n",
    "                print(f\"\\nINTERMEDIATE OUT :\\n{decoded_output[current_printed:]}\\n\")\n",
    "                current_printed+=len(decoded_output[current_printed:])\n",
    "                \n",
    "                stop_word_cond = False\n",
    "                for stop_word in stop_words:\n",
    "                    stop_word_cond = stop_word_cond or (decoded_output[-len(stop_word):]==stop_word)\n",
    "\n",
    "            if USE_PAST_KEY:\n",
    "                output_ids = generation_output.sequences[0]\n",
    "            else:\n",
    "                output_ids = generation_output[0]\n",
    "\n",
    "            raw_output = tokenizer.decode(output_ids[input_len:], skip_special_tokens=True)\n",
    "            result_output = process_text_output(raw_output)\n",
    "            \n",
    "            try:\n",
    "                code_output = round(float(eval(code_output))) % 1000\n",
    "            except Exception as e:\n",
    "                print(e,'final_eval')\n",
    "                code_output = -1\n",
    "\n",
    "        except Exception as e:\n",
    "            print(e,\"5\")\n",
    "            result_output, code_output = -1, -1\n",
    "\n",
    "        if code_output!=-1:\n",
    "            outputs.append(code_output)\n",
    "            code_answers+=1\n",
    "\n",
    "        if result_output!=-1:\n",
    "            outputs.append(result_output)\n",
    "            text_answers+=1\n",
    "\n",
    "        if len(outputs) > 0:\n",
    "            occurances = Counter(outputs).most_common()\n",
    "            print(occurances)\n",
    "            if occurances[0][1] > best_count:\n",
    "                print(\"GOOD ANSWER UPDATED!\")\n",
    "                best = occurances[0][0]\n",
    "                best_count = occurances[0][1]\n",
    "            if occurances[0][1] > 5:\n",
    "                print(\"ANSWER FOUND!\")\n",
    "                break\n",
    "\n",
    "        results.append(result_output)\n",
    "        answers.append(code_output)\n",
    "        \n",
    "        best_stats[i] = (best, best_count) \n",
    "        question_type_counts[i] = (text_answers, code_answers)\n",
    "        total_outputs[i] = outputs\n",
    "        \n",
    "        total_results[i] = results\n",
    "        total_answers[i] = answers\n",
    "\n",
    "        print(\"code_answers\",code_answers-starting_counts[1],\"text_answers\",text_answers-starting_counts[0])\n",
    "        if DEBUG:\n",
    "            break\n",
    "            \n",
    "    print(f\"Predicted best answer: {best_stats}\")\n",
    "    sample_submission['answer'] = best_stats[i][0]\n",
    "    env.predict(sample_submission)"
   ]
  },
  {
   "cell_type": "code",
   "execution_count": 20,
   "id": "2457a5ca",
   "metadata": {
    "execution": {
     "iopub.execute_input": "2024-06-24T04:52:24.376991Z",
     "iopub.status.busy": "2024-06-24T04:52:24.376672Z",
     "iopub.status.idle": "2024-06-24T04:52:24.484363Z",
     "shell.execute_reply": "2024-06-24T04:52:24.483418Z"
    },
    "papermill": {
     "duration": 0.131577,
     "end_time": "2024-06-24T04:52:24.486242",
     "exception": false,
     "start_time": "2024-06-24T04:52:24.354665",
     "status": "completed"
    },
    "tags": []
   },
   "outputs": [
    {
     "name": "stdout",
     "output_type": "stream",
     "text": [
      "done\n",
      "\n"
     ]
    }
   ],
   "source": [
    "with open('code.py', 'w') as fout:\n",
    "    fout.write(\"print('done')\")\n",
    "\n",
    "batcmd = 'timeout 7 ' + sys.executable + ' code.py'\n",
    "try:\n",
    "    shell_output = subprocess.check_output(batcmd, shell=True).decode('utf8')\n",
    "    print(shell_output)\n",
    "except:\n",
    "    pass"
   ]
  }
 ],
 "metadata": {
  "kaggle": {
   "accelerator": "nvidiaTeslaT4",
   "dataSources": [
    {
     "databundleVersionId": 8365361,
     "sourceId": 73231,
     "sourceType": "competition"
    },
    {
     "datasetId": 4281572,
     "sourceId": 7369493,
     "sourceType": "datasetVersion"
    },
    {
     "datasetId": 4720595,
     "sourceId": 8012825,
     "sourceType": "datasetVersion"
    },
    {
     "datasetId": 4728129,
     "sourceId": 8023365,
     "sourceType": "datasetVersion"
    },
    {
     "datasetId": 4748944,
     "sourceId": 8052555,
     "sourceType": "datasetVersion"
    },
    {
     "datasetId": 4759727,
     "sourceId": 8067386,
     "sourceType": "datasetVersion"
    },
    {
     "modelInstanceId": 8332,
     "sourceId": 11261,
     "sourceType": "modelInstanceVersion"
    },
    {
     "modelInstanceId": 8318,
     "sourceId": 11264,
     "sourceType": "modelInstanceVersion"
    }
   ],
   "dockerImageVersionId": 30699,
   "isGpuEnabled": true,
   "isInternetEnabled": false,
   "language": "python",
   "sourceType": "notebook"
  },
  "kernelspec": {
   "display_name": "Python 3 (ipykernel)",
   "language": "python",
   "name": "python3"
  },
  "language_info": {
   "codemirror_mode": {
    "name": "ipython",
    "version": 3
   },
   "file_extension": ".py",
   "mimetype": "text/x-python",
   "name": "python",
   "nbconvert_exporter": "python",
   "pygments_lexer": "ipython3",
   "version": "3.9.18"
  },
  "papermill": {
   "default_parameters": {},
   "duration": 308.275966,
   "end_time": "2024-06-24T04:52:26.987105",
   "environment_variables": {},
   "exception": null,
   "input_path": "__notebook__.ipynb",
   "output_path": "__notebook__.ipynb",
   "parameters": {},
   "start_time": "2024-06-24T04:47:18.711139",
   "version": "2.5.0"
  },
  "widgets": {
   "application/vnd.jupyter.widget-state+json": {
    "state": {
     "068d11474e9e4d9f9f0b5ce014cc70a2": {
      "model_module": "@jupyter-widgets/base",
      "model_module_version": "1.2.0",
      "model_name": "LayoutModel",
      "state": {
       "_model_module": "@jupyter-widgets/base",
       "_model_module_version": "1.2.0",
       "_model_name": "LayoutModel",
       "_view_count": null,
       "_view_module": "@jupyter-widgets/base",
       "_view_module_version": "1.2.0",
       "_view_name": "LayoutView",
       "align_content": null,
       "align_items": null,
       "align_self": null,
       "border": null,
       "bottom": null,
       "display": null,
       "flex": null,
       "flex_flow": null,
       "grid_area": null,
       "grid_auto_columns": null,
       "grid_auto_flow": null,
       "grid_auto_rows": null,
       "grid_column": null,
       "grid_gap": null,
       "grid_row": null,
       "grid_template_areas": null,
       "grid_template_columns": null,
       "grid_template_rows": null,
       "height": null,
       "justify_content": null,
       "justify_items": null,
       "left": null,
       "margin": null,
       "max_height": null,
       "max_width": null,
       "min_height": null,
       "min_width": null,
       "object_fit": null,
       "object_position": null,
       "order": null,
       "overflow": null,
       "overflow_x": null,
       "overflow_y": null,
       "padding": null,
       "right": null,
       "top": null,
       "visibility": null,
       "width": null
      }
     },
     "274733883b7a4d1db2235cda8b85aa4c": {
      "model_module": "@jupyter-widgets/controls",
      "model_module_version": "1.5.0",
      "model_name": "DescriptionStyleModel",
      "state": {
       "_model_module": "@jupyter-widgets/controls",
       "_model_module_version": "1.5.0",
       "_model_name": "DescriptionStyleModel",
       "_view_count": null,
       "_view_module": "@jupyter-widgets/base",
       "_view_module_version": "1.2.0",
       "_view_name": "StyleView",
       "description_width": ""
      }
     },
     "2f6c48ae3c794e84ae08081162782180": {
      "model_module": "@jupyter-widgets/base",
      "model_module_version": "1.2.0",
      "model_name": "LayoutModel",
      "state": {
       "_model_module": "@jupyter-widgets/base",
       "_model_module_version": "1.2.0",
       "_model_name": "LayoutModel",
       "_view_count": null,
       "_view_module": "@jupyter-widgets/base",
       "_view_module_version": "1.2.0",
       "_view_name": "LayoutView",
       "align_content": null,
       "align_items": null,
       "align_self": null,
       "border": null,
       "bottom": null,
       "display": null,
       "flex": null,
       "flex_flow": null,
       "grid_area": null,
       "grid_auto_columns": null,
       "grid_auto_flow": null,
       "grid_auto_rows": null,
       "grid_column": null,
       "grid_gap": null,
       "grid_row": null,
       "grid_template_areas": null,
       "grid_template_columns": null,
       "grid_template_rows": null,
       "height": null,
       "justify_content": null,
       "justify_items": null,
       "left": null,
       "margin": null,
       "max_height": null,
       "max_width": null,
       "min_height": null,
       "min_width": null,
       "object_fit": null,
       "object_position": null,
       "order": null,
       "overflow": null,
       "overflow_x": null,
       "overflow_y": null,
       "padding": null,
       "right": null,
       "top": null,
       "visibility": null,
       "width": null
      }
     },
     "7ce7b1ac2c794f1ab02cee64300af3b3": {
      "model_module": "@jupyter-widgets/base",
      "model_module_version": "1.2.0",
      "model_name": "LayoutModel",
      "state": {
       "_model_module": "@jupyter-widgets/base",
       "_model_module_version": "1.2.0",
       "_model_name": "LayoutModel",
       "_view_count": null,
       "_view_module": "@jupyter-widgets/base",
       "_view_module_version": "1.2.0",
       "_view_name": "LayoutView",
       "align_content": null,
       "align_items": null,
       "align_self": null,
       "border": null,
       "bottom": null,
       "display": null,
       "flex": null,
       "flex_flow": null,
       "grid_area": null,
       "grid_auto_columns": null,
       "grid_auto_flow": null,
       "grid_auto_rows": null,
       "grid_column": null,
       "grid_gap": null,
       "grid_row": null,
       "grid_template_areas": null,
       "grid_template_columns": null,
       "grid_template_rows": null,
       "height": null,
       "justify_content": null,
       "justify_items": null,
       "left": null,
       "margin": null,
       "max_height": null,
       "max_width": null,
       "min_height": null,
       "min_width": null,
       "object_fit": null,
       "object_position": null,
       "order": null,
       "overflow": null,
       "overflow_x": null,
       "overflow_y": null,
       "padding": null,
       "right": null,
       "top": null,
       "visibility": null,
       "width": null
      }
     },
     "9ab6c81c0d17476ea04e4a93f324a9d7": {
      "model_module": "@jupyter-widgets/base",
      "model_module_version": "1.2.0",
      "model_name": "LayoutModel",
      "state": {
       "_model_module": "@jupyter-widgets/base",
       "_model_module_version": "1.2.0",
       "_model_name": "LayoutModel",
       "_view_count": null,
       "_view_module": "@jupyter-widgets/base",
       "_view_module_version": "1.2.0",
       "_view_name": "LayoutView",
       "align_content": null,
       "align_items": null,
       "align_self": null,
       "border": null,
       "bottom": null,
       "display": null,
       "flex": null,
       "flex_flow": null,
       "grid_area": null,
       "grid_auto_columns": null,
       "grid_auto_flow": null,
       "grid_auto_rows": null,
       "grid_column": null,
       "grid_gap": null,
       "grid_row": null,
       "grid_template_areas": null,
       "grid_template_columns": null,
       "grid_template_rows": null,
       "height": null,
       "justify_content": null,
       "justify_items": null,
       "left": null,
       "margin": null,
       "max_height": null,
       "max_width": null,
       "min_height": null,
       "min_width": null,
       "object_fit": null,
       "object_position": null,
       "order": null,
       "overflow": null,
       "overflow_x": null,
       "overflow_y": null,
       "padding": null,
       "right": null,
       "top": null,
       "visibility": null,
       "width": null
      }
     },
     "a7e730faf1244e8a97d9704dcfb41e89": {
      "model_module": "@jupyter-widgets/controls",
      "model_module_version": "1.5.0",
      "model_name": "HBoxModel",
      "state": {
       "_dom_classes": [],
       "_model_module": "@jupyter-widgets/controls",
       "_model_module_version": "1.5.0",
       "_model_name": "HBoxModel",
       "_view_count": null,
       "_view_module": "@jupyter-widgets/controls",
       "_view_module_version": "1.5.0",
       "_view_name": "HBoxView",
       "box_style": "",
       "children": [
        "IPY_MODEL_affde699c38942cbbbac00c72a4fe03d",
        "IPY_MODEL_e22cf0b79bcd4fa7950da37b94b205b9",
        "IPY_MODEL_b1c39dfd09194f0499f2f4f7b6dd5f9a"
       ],
       "layout": "IPY_MODEL_2f6c48ae3c794e84ae08081162782180"
      }
     },
     "ac136b81188242d4ae926b882f74b987": {
      "model_module": "@jupyter-widgets/controls",
      "model_module_version": "1.5.0",
      "model_name": "ProgressStyleModel",
      "state": {
       "_model_module": "@jupyter-widgets/controls",
       "_model_module_version": "1.5.0",
       "_model_name": "ProgressStyleModel",
       "_view_count": null,
       "_view_module": "@jupyter-widgets/base",
       "_view_module_version": "1.2.0",
       "_view_name": "StyleView",
       "bar_color": null,
       "description_width": ""
      }
     },
     "affde699c38942cbbbac00c72a4fe03d": {
      "model_module": "@jupyter-widgets/controls",
      "model_module_version": "1.5.0",
      "model_name": "HTMLModel",
      "state": {
       "_dom_classes": [],
       "_model_module": "@jupyter-widgets/controls",
       "_model_module_version": "1.5.0",
       "_model_name": "HTMLModel",
       "_view_count": null,
       "_view_module": "@jupyter-widgets/controls",
       "_view_module_version": "1.5.0",
       "_view_name": "HTMLView",
       "description": "",
       "description_tooltip": null,
       "layout": "IPY_MODEL_9ab6c81c0d17476ea04e4a93f324a9d7",
       "placeholder": "​",
       "style": "IPY_MODEL_ea340abef6164507bdbb753a15defd8f",
       "value": "Loading checkpoint shards: 100%"
      }
     },
     "b1c39dfd09194f0499f2f4f7b6dd5f9a": {
      "model_module": "@jupyter-widgets/controls",
      "model_module_version": "1.5.0",
      "model_name": "HTMLModel",
      "state": {
       "_dom_classes": [],
       "_model_module": "@jupyter-widgets/controls",
       "_model_module_version": "1.5.0",
       "_model_name": "HTMLModel",
       "_view_count": null,
       "_view_module": "@jupyter-widgets/controls",
       "_view_module_version": "1.5.0",
       "_view_name": "HTMLView",
       "description": "",
       "description_tooltip": null,
       "layout": "IPY_MODEL_7ce7b1ac2c794f1ab02cee64300af3b3",
       "placeholder": "​",
       "style": "IPY_MODEL_274733883b7a4d1db2235cda8b85aa4c",
       "value": " 3/3 [02:38&lt;00:00, 51.26s/it]"
      }
     },
     "e22cf0b79bcd4fa7950da37b94b205b9": {
      "model_module": "@jupyter-widgets/controls",
      "model_module_version": "1.5.0",
      "model_name": "FloatProgressModel",
      "state": {
       "_dom_classes": [],
       "_model_module": "@jupyter-widgets/controls",
       "_model_module_version": "1.5.0",
       "_model_name": "FloatProgressModel",
       "_view_count": null,
       "_view_module": "@jupyter-widgets/controls",
       "_view_module_version": "1.5.0",
       "_view_name": "ProgressView",
       "bar_style": "success",
       "description": "",
       "description_tooltip": null,
       "layout": "IPY_MODEL_068d11474e9e4d9f9f0b5ce014cc70a2",
       "max": 3,
       "min": 0,
       "orientation": "horizontal",
       "style": "IPY_MODEL_ac136b81188242d4ae926b882f74b987",
       "value": 3
      }
     },
     "ea340abef6164507bdbb753a15defd8f": {
      "model_module": "@jupyter-widgets/controls",
      "model_module_version": "1.5.0",
      "model_name": "DescriptionStyleModel",
      "state": {
       "_model_module": "@jupyter-widgets/controls",
       "_model_module_version": "1.5.0",
       "_model_name": "DescriptionStyleModel",
       "_view_count": null,
       "_view_module": "@jupyter-widgets/base",
       "_view_module_version": "1.2.0",
       "_view_name": "StyleView",
       "description_width": ""
      }
     }
    },
    "version_major": 2,
    "version_minor": 0
   }
  }
 },
 "nbformat": 4,
 "nbformat_minor": 5
}
