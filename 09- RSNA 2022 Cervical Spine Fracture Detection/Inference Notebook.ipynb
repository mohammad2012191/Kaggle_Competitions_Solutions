{
 "cells": [
  {
   "cell_type": "markdown",
   "id": "d81beef7",
   "metadata": {
    "papermill": {
     "duration": 0.007268,
     "end_time": "2022-10-11T18:33:23.954594",
     "exception": false,
     "start_time": "2022-10-11T18:33:23.947326",
     "status": "completed"
    },
    "pycharm": {
     "name": "#%% md\n"
    },
    "tags": []
   },
   "source": [
    "<div class=\"alert alert-block alert-success\" style=\"font-size:30px\">\n",
    "🦴 [inference] Pytorch EfficientNet-v2 single model LB:0.49; 5-fold ensemble LB:0.47 🦴\n",
    "</div>\n",
    "\n",
    "This is a bare-bones PyTorch implementation of EfficientNet-v2 based classifier. This is a simple baseline implementation that can be iteratively improved.\n",
    "\n",
    "<img src=\"https://images2.imgbox.com/cd/58/AeY81v9Y_o.png\" alt=\"image host\"/>\n",
    "\n",
    "\n",
    "Here is a high level explanation of the **inference** flow:\n",
    "1. Images are loaded from test folder and transformed to `3x384x384` tensors using the same transformations used in training.\n",
    "2. Images are passed to an ensemble of trained `EfficientNet_V2_S`-based multi-label classifiers. The classifier produces probabilities of fractures and probabilities of existence of certain vertebrae in each slice. Note that you can also use a single model `effnetv2` which is trained on all folds and likely performs slightly better than any of the fold-models.\n",
    "3. We use a non-parametric model to combine predictions of base models:\n",
    "    * For each StudyInstanceUID we first aggregate predictions for each of C1-C7 vertebrae by weighted averaging fracture predictions. Probabilities of vertebrae are used as weights. Example: if we are uncertain that C3 is in the slice (`C3_effnet_vert==0.1`), but we somehow predict high probability of C3 being fractured (`C3_effnet_frac==0.9`), we add it to the final aggregate with low weight `0.9 * 0.1 == 0.09`\n",
    "    * We use a simple probability formula to derive `patient_overall` fracture probability. `patient_overall` is a probability of any vertebrae being fractured. It is equal to `1-no-vertebrae-are-fractured`. Under assumption of independence of vertebrae fractures we can derive the following simple equation: $P_{\\text{patient_overall}}=1-\\prod_i{[1-C_i]}$\n"
   ]
  },
  {
   "cell_type": "markdown",
   "id": "445279ec",
   "metadata": {
    "papermill": {
     "duration": 0.005638,
     "end_time": "2022-10-11T18:33:23.966341",
     "exception": false,
     "start_time": "2022-10-11T18:33:23.960703",
     "status": "completed"
    },
    "pycharm": {
     "name": "#%% md\n"
    },
    "tags": []
   },
   "source": [
    "<div class=\"alert alert-block alert-success\" style=\"font-size:25px\">\n",
    "🦴 1. Imports, constants and dependencies 🦴\n",
    "</div>"
   ]
  },
  {
   "cell_type": "code",
   "execution_count": 1,
   "id": "df1d5a5c",
   "metadata": {
    "execution": {
     "iopub.execute_input": "2022-10-11T18:33:23.980104Z",
     "iopub.status.busy": "2022-10-11T18:33:23.979456Z",
     "iopub.status.idle": "2022-10-11T18:35:13.032438Z",
     "shell.execute_reply": "2022-10-11T18:35:13.031260Z"
    },
    "papermill": {
     "duration": 109.062935,
     "end_time": "2022-10-11T18:35:13.035061",
     "exception": false,
     "start_time": "2022-10-11T18:33:23.972126",
     "status": "completed"
    },
    "pycharm": {
     "name": "#%%\n"
    },
    "tags": []
   },
   "outputs": [
    {
     "name": "stdout",
     "output_type": "stream",
     "text": [
      "Processing /kaggle/input/rsna-2022-whl/pydicom-2.3.0-py3-none-any.whl\r\n",
      "Processing /kaggle/input/rsna-2022-whl/pylibjpeg-1.4.0-py3-none-any.whl\r\n",
      "Processing /kaggle/input/rsna-2022-whl/python_gdcm-3.0.15-cp37-cp37m-manylinux_2_17_x86_64.manylinux2014_x86_64.whl\r\n",
      "Requirement already satisfied: numpy in /opt/conda/lib/python3.7/site-packages (from pylibjpeg==1.4.0) (1.21.6)\r\n",
      "pydicom is already installed with the same version as the provided wheel. Use --force-reinstall to force an installation of the wheel.\r\n",
      "Installing collected packages: python-gdcm, pylibjpeg\r\n",
      "Successfully installed pylibjpeg-1.4.0 python-gdcm-3.0.15\r\n",
      "\u001b[33mWARNING: Running pip as the 'root' user can result in broken permissions and conflicting behaviour with the system package manager. It is recommended to use a virtual environment instead: https://pip.pypa.io/warnings/venv\u001b[0m\u001b[33m\r\n",
      "\u001b[0m\u001b[33mWARNING: There was an error checking the latest version of pip.\u001b[0m\u001b[33m\r\n",
      "\u001b[0mProcessing /kaggle/input/rsna-2022-whl/torch-1.12.1-cp37-cp37m-manylinux1_x86_64.whl\r\n",
      "Processing /kaggle/input/rsna-2022-whl/torchvision-0.13.1-cp37-cp37m-manylinux1_x86_64.whl\r\n",
      "Requirement already satisfied: typing-extensions in /opt/conda/lib/python3.7/site-packages (from torch==1.12.1) (4.3.0)\r\n",
      "Requirement already satisfied: pillow!=8.3.*,>=5.3.0 in /opt/conda/lib/python3.7/site-packages (from torchvision==0.13.1) (9.1.1)\r\n",
      "Requirement already satisfied: numpy in /opt/conda/lib/python3.7/site-packages (from torchvision==0.13.1) (1.21.6)\r\n",
      "Requirement already satisfied: requests in /opt/conda/lib/python3.7/site-packages (from torchvision==0.13.1) (2.28.1)\r\n",
      "Requirement already satisfied: charset-normalizer<3,>=2 in /opt/conda/lib/python3.7/site-packages (from requests->torchvision==0.13.1) (2.1.0)\r\n",
      "Requirement already satisfied: urllib3<1.27,>=1.21.1 in /opt/conda/lib/python3.7/site-packages (from requests->torchvision==0.13.1) (1.26.12)\r\n",
      "Requirement already satisfied: idna<4,>=2.5 in /opt/conda/lib/python3.7/site-packages (from requests->torchvision==0.13.1) (3.3)\r\n",
      "Requirement already satisfied: certifi>=2017.4.17 in /opt/conda/lib/python3.7/site-packages (from requests->torchvision==0.13.1) (2022.6.15)\r\n",
      "Installing collected packages: torch, torchvision\r\n",
      "  Attempting uninstall: torch\r\n",
      "    Found existing installation: torch 1.11.0\r\n",
      "    Uninstalling torch-1.11.0:\r\n",
      "      Successfully uninstalled torch-1.11.0\r\n",
      "  Attempting uninstall: torchvision\r\n",
      "    Found existing installation: torchvision 0.12.0\r\n",
      "    Uninstalling torchvision-0.12.0:\r\n",
      "      Successfully uninstalled torchvision-0.12.0\r\n",
      "\u001b[31mERROR: pip's dependency resolver does not currently take into account all the packages that are installed. This behaviour is the source of the following dependency conflicts.\r\n",
      "allennlp 2.10.0 requires protobuf==3.20.0, but you have protobuf 3.19.4 which is incompatible.\r\n",
      "allennlp 2.10.0 requires torch<1.12.0,>=1.10.0, but you have torch 1.12.1 which is incompatible.\r\n",
      "allennlp 2.10.0 requires torchvision<0.13.0,>=0.8.1, but you have torchvision 0.13.1 which is incompatible.\u001b[0m\u001b[31m\r\n",
      "\u001b[0mSuccessfully installed torch-1.12.1 torchvision-0.13.1\r\n",
      "\u001b[33mWARNING: Running pip as the 'root' user can result in broken permissions and conflicting behaviour with the system package manager. It is recommended to use a virtual environment instead: https://pip.pypa.io/warnings/venv\u001b[0m\u001b[33m\r\n",
      "\u001b[0m\u001b[33mWARNING: There was an error checking the latest version of pip.\u001b[0m\u001b[33m\r\n",
      "\u001b[0m"
     ]
    }
   ],
   "source": [
    "try:\n",
    "    import pylibjpeg\n",
    "except:\n",
    "    # Offline dependencies:\n",
    "    !mkdir -p /root/.cache/torch/hub/checkpoints/\n",
    "    !cp ../input/rsna-2022-whl/efficientnet_v2_s-dd5fe13b.pth  /root/.cache/torch/hub/checkpoints/\n",
    "\n",
    "    !pip install /kaggle/input/rsna-2022-whl/{pydicom-2.3.0-py3-none-any.whl,pylibjpeg-1.4.0-py3-none-any.whl,python_gdcm-3.0.15-cp37-cp37m-manylinux_2_17_x86_64.manylinux2014_x86_64.whl}\n",
    "    !pip install /kaggle/input/rsna-2022-whl/{torch-1.12.1-cp37-cp37m-manylinux1_x86_64.whl,torchvision-0.13.1-cp37-cp37m-manylinux1_x86_64.whl}"
   ]
  },
  {
   "cell_type": "code",
   "execution_count": 2,
   "id": "d0c22c62",
   "metadata": {
    "execution": {
     "iopub.execute_input": "2022-10-11T18:35:13.050591Z",
     "iopub.status.busy": "2022-10-11T18:35:13.050249Z",
     "iopub.status.idle": "2022-10-11T18:35:16.066544Z",
     "shell.execute_reply": "2022-10-11T18:35:16.065096Z"
    },
    "papermill": {
     "duration": 3.027371,
     "end_time": "2022-10-11T18:35:16.069330",
     "exception": false,
     "start_time": "2022-10-11T18:35:13.041959",
     "status": "completed"
    },
    "pycharm": {
     "name": "#%%\n"
    },
    "tags": []
   },
   "outputs": [],
   "source": [
    "import gc\n",
    "import glob\n",
    "import os\n",
    "import re\n",
    "\n",
    "import cv2\n",
    "import matplotlib.pyplot as plt\n",
    "import numpy as np\n",
    "import pandas as pd\n",
    "import pydicom as dicom\n",
    "import torch\n",
    "import torchvision as tv\n",
    "from sklearn.model_selection import GroupKFold\n",
    "from torch.cuda.amp import GradScaler, autocast\n",
    "from torchvision.models.feature_extraction import create_feature_extractor\n",
    "from tqdm.notebook import tqdm\n",
    "\n",
    "import wandb\n",
    "\n",
    "pd.set_option('display.max_rows', 1000)\n",
    "pd.set_option('display.max_columns', 1000)\n",
    "plt.rcParams['figure.figsize'] = (20, 5)\n",
    "\n",
    "\n",
    "# Effnet\n",
    "WEIGHTS = tv.models.efficientnet.EfficientNet_V2_S_Weights.DEFAULT\n",
    "RSNA_2022_PATH = '../input/rsna-2022-cervical-spine-fracture-detection'\n",
    "TRAIN_IMAGES_PATH = f'{RSNA_2022_PATH}/train_images'\n",
    "TEST_IMAGES_PATH = f'{RSNA_2022_PATH}/test_images'\n",
    "EFFNET_CHECKPOINTS_PATH = '../input/rsna-2022-base-effnetv2'\n",
    "\n",
    "# MODEL_NAMES = [f'effnetv2']\n",
    "\n",
    "# This notebook supports ensembles and single model predictions. Uncomment to switch to ensemble prediction:\n",
    "MODEL_NAMES = [f'effnetv2-f{i}' for i in range(5)]\n",
    "\n",
    "# Common\n",
    "FRAC_COLS = [f'C{i}_effnet_frac' for i in range(1, 8)]\n",
    "VERT_COLS = [f'C{i}_effnet_vert' for i in range(1, 8)]\n",
    "\n",
    "try:\n",
    "    from kaggle_secrets import UserSecretsClient\n",
    "    IS_KAGGLE = True\n",
    "except:\n",
    "    IS_KAGGLE = False\n",
    "\n",
    "\n",
    "# Switch to offline for submission\n",
    "os.environ[\"WANDB_MODE\"] = \"offline\"\n",
    "\n",
    "if os.environ[\"WANDB_MODE\"] == \"online\":\n",
    "    if IS_KAGGLE:\n",
    "        os.environ['WANDB_API_KEY'] = UserSecretsClient().get_secret(\"WANDB_API_KEY\")\n",
    "\n",
    "if not IS_KAGGLE:\n",
    "    print('Running locally')\n",
    "    RSNA_2022_PATH = '/mnt/rsna2022'\n",
    "    TRAIN_IMAGES_PATH = '/mnt/rsna2022/train_images'\n",
    "    TEST_IMAGES_PATH = '/mnt/rsna2022/test_images'\n",
    "    METADATA_PATH = '/home/vslaykovsky/Downloads/'\n",
    "    EFFNET_CHECKPOINTS_PATH = 'frac_checkpoints'\n",
    "    os.environ['WANDB_API_KEY'] = 'yourkeyhere'\n",
    "\n",
    "\n",
    "DEVICE = 'cuda' if torch.cuda.is_available() else 'cpu'\n",
    "if DEVICE == 'cuda':\n",
    "    BATCH_SIZE = 32\n",
    "else:\n",
    "    BATCH_SIZE = 2"
   ]
  },
  {
   "cell_type": "markdown",
   "id": "71aa5a5e",
   "metadata": {
    "papermill": {
     "duration": 0.006516,
     "end_time": "2022-10-11T18:35:16.082614",
     "exception": false,
     "start_time": "2022-10-11T18:35:16.076098",
     "status": "completed"
    },
    "pycharm": {
     "name": "#%% md\n"
    },
    "tags": []
   },
   "source": [
    "<div class=\"alert alert-block alert-success\" style=\"font-size:25px\">\n",
    "    🦴 2. Loading train/eval/test dataframes 🦴\n",
    "</div>\n",
    "\n",
    "1. Loading data from competition dataset folder `../input/rsna-2022-cervical-spine-fracture-detection/test.csv`\n",
    "2. Joining data with slice information collected from test image folders `../input/rsna-2022-cervical-spine-fracture-detection/test_images/*/*`"
   ]
  },
  {
   "cell_type": "code",
   "execution_count": 3,
   "id": "ffaaa480",
   "metadata": {
    "execution": {
     "iopub.execute_input": "2022-10-11T18:35:16.100504Z",
     "iopub.status.busy": "2022-10-11T18:35:16.098834Z",
     "iopub.status.idle": "2022-10-11T18:35:16.140489Z",
     "shell.execute_reply": "2022-10-11T18:35:16.139407Z"
    },
    "papermill": {
     "duration": 0.054058,
     "end_time": "2022-10-11T18:35:16.143564",
     "exception": false,
     "start_time": "2022-10-11T18:35:16.089506",
     "status": "completed"
    },
    "pycharm": {
     "name": "#%%\n"
    },
    "tags": []
   },
   "outputs": [
    {
     "data": {
      "text/html": [
       "<div>\n",
       "<style scoped>\n",
       "    .dataframe tbody tr th:only-of-type {\n",
       "        vertical-align: middle;\n",
       "    }\n",
       "\n",
       "    .dataframe tbody tr th {\n",
       "        vertical-align: top;\n",
       "    }\n",
       "\n",
       "    .dataframe thead th {\n",
       "        text-align: right;\n",
       "    }\n",
       "</style>\n",
       "<table border=\"1\" class=\"dataframe\">\n",
       "  <thead>\n",
       "    <tr style=\"text-align: right;\">\n",
       "      <th></th>\n",
       "      <th>row_id</th>\n",
       "      <th>StudyInstanceUID</th>\n",
       "      <th>prediction_type</th>\n",
       "    </tr>\n",
       "  </thead>\n",
       "  <tbody>\n",
       "    <tr>\n",
       "      <th>0</th>\n",
       "      <td>1.2.826.0.1.3680043.22327_C1</td>\n",
       "      <td>1.2.826.0.1.3680043.22327</td>\n",
       "      <td>C1</td>\n",
       "    </tr>\n",
       "    <tr>\n",
       "      <th>1</th>\n",
       "      <td>1.2.826.0.1.3680043.25399_C1</td>\n",
       "      <td>1.2.826.0.1.3680043.25399</td>\n",
       "      <td>C1</td>\n",
       "    </tr>\n",
       "    <tr>\n",
       "      <th>2</th>\n",
       "      <td>1.2.826.0.1.3680043.5876_C1</td>\n",
       "      <td>1.2.826.0.1.3680043.5876</td>\n",
       "      <td>patient_overall</td>\n",
       "    </tr>\n",
       "  </tbody>\n",
       "</table>\n",
       "</div>"
      ],
      "text/plain": [
       "                         row_id           StudyInstanceUID  prediction_type\n",
       "0  1.2.826.0.1.3680043.22327_C1  1.2.826.0.1.3680043.22327               C1\n",
       "1  1.2.826.0.1.3680043.25399_C1  1.2.826.0.1.3680043.25399               C1\n",
       "2   1.2.826.0.1.3680043.5876_C1   1.2.826.0.1.3680043.5876  patient_overall"
      ]
     },
     "execution_count": 3,
     "metadata": {},
     "output_type": "execute_result"
    }
   ],
   "source": [
    "def load_df_test():\n",
    "    df_test = pd.read_csv(f'{RSNA_2022_PATH}/test.csv')\n",
    "\n",
    "    if df_test.iloc[0].row_id == '1.2.826.0.1.3680043.10197_C1':\n",
    "        # test_images and test.csv are inconsistent in the dev dataset, fixing labels for the dev run.\n",
    "        df_test = pd.DataFrame({\n",
    "            \"row_id\": ['1.2.826.0.1.3680043.22327_C1', '1.2.826.0.1.3680043.25399_C1', '1.2.826.0.1.3680043.5876_C1'],\n",
    "            \"StudyInstanceUID\": ['1.2.826.0.1.3680043.22327', '1.2.826.0.1.3680043.25399', '1.2.826.0.1.3680043.5876'],\n",
    "            \"prediction_type\": [\"C1\", \"C1\", \"patient_overall\"]}\n",
    "        )\n",
    "    return df_test\n",
    "\n",
    "df_test = load_df_test()\n",
    "df_test"
   ]
  },
  {
   "cell_type": "code",
   "execution_count": 4,
   "id": "60cbbbf2",
   "metadata": {
    "execution": {
     "iopub.execute_input": "2022-10-11T18:35:16.158931Z",
     "iopub.status.busy": "2022-10-11T18:35:16.158598Z",
     "iopub.status.idle": "2022-10-11T18:35:16.537911Z",
     "shell.execute_reply": "2022-10-11T18:35:16.536963Z"
    },
    "papermill": {
     "duration": 0.389238,
     "end_time": "2022-10-11T18:35:16.539905",
     "exception": false,
     "start_time": "2022-10-11T18:35:16.150667",
     "status": "completed"
    },
    "pycharm": {
     "name": "#%%\n"
    },
    "tags": []
   },
   "outputs": [
    {
     "data": {
      "text/html": [
       "<div>\n",
       "<style scoped>\n",
       "    .dataframe tbody tr th:only-of-type {\n",
       "        vertical-align: middle;\n",
       "    }\n",
       "\n",
       "    .dataframe tbody tr th {\n",
       "        vertical-align: top;\n",
       "    }\n",
       "\n",
       "    .dataframe thead th {\n",
       "        text-align: right;\n",
       "    }\n",
       "</style>\n",
       "<table border=\"1\" class=\"dataframe\">\n",
       "  <thead>\n",
       "    <tr style=\"text-align: right;\">\n",
       "      <th></th>\n",
       "      <th>StudyInstanceUID</th>\n",
       "      <th>Slice</th>\n",
       "    </tr>\n",
       "  </thead>\n",
       "  <tbody>\n",
       "    <tr>\n",
       "      <th>0</th>\n",
       "      <td>1.2.826.0.1.3680043.22327</td>\n",
       "      <td>1</td>\n",
       "    </tr>\n",
       "    <tr>\n",
       "      <th>1</th>\n",
       "      <td>1.2.826.0.1.3680043.22327</td>\n",
       "      <td>2</td>\n",
       "    </tr>\n",
       "    <tr>\n",
       "      <th>2</th>\n",
       "      <td>1.2.826.0.1.3680043.22327</td>\n",
       "      <td>3</td>\n",
       "    </tr>\n",
       "    <tr>\n",
       "      <th>3</th>\n",
       "      <td>1.2.826.0.1.3680043.22327</td>\n",
       "      <td>4</td>\n",
       "    </tr>\n",
       "    <tr>\n",
       "      <th>4</th>\n",
       "      <td>1.2.826.0.1.3680043.22327</td>\n",
       "      <td>5</td>\n",
       "    </tr>\n",
       "    <tr>\n",
       "      <th>...</th>\n",
       "      <td>...</td>\n",
       "      <td>...</td>\n",
       "    </tr>\n",
       "    <tr>\n",
       "      <th>1313</th>\n",
       "      <td>1.2.826.0.1.3680043.5876</td>\n",
       "      <td>454</td>\n",
       "    </tr>\n",
       "    <tr>\n",
       "      <th>1314</th>\n",
       "      <td>1.2.826.0.1.3680043.5876</td>\n",
       "      <td>455</td>\n",
       "    </tr>\n",
       "    <tr>\n",
       "      <th>1315</th>\n",
       "      <td>1.2.826.0.1.3680043.5876</td>\n",
       "      <td>456</td>\n",
       "    </tr>\n",
       "    <tr>\n",
       "      <th>1316</th>\n",
       "      <td>1.2.826.0.1.3680043.5876</td>\n",
       "      <td>457</td>\n",
       "    </tr>\n",
       "    <tr>\n",
       "      <th>1317</th>\n",
       "      <td>1.2.826.0.1.3680043.5876</td>\n",
       "      <td>458</td>\n",
       "    </tr>\n",
       "  </tbody>\n",
       "</table>\n",
       "<p>1318 rows × 2 columns</p>\n",
       "</div>"
      ],
      "text/plain": [
       "               StudyInstanceUID  Slice\n",
       "0     1.2.826.0.1.3680043.22327      1\n",
       "1     1.2.826.0.1.3680043.22327      2\n",
       "2     1.2.826.0.1.3680043.22327      3\n",
       "3     1.2.826.0.1.3680043.22327      4\n",
       "4     1.2.826.0.1.3680043.22327      5\n",
       "...                         ...    ...\n",
       "1313   1.2.826.0.1.3680043.5876    454\n",
       "1314   1.2.826.0.1.3680043.5876    455\n",
       "1315   1.2.826.0.1.3680043.5876    456\n",
       "1316   1.2.826.0.1.3680043.5876    457\n",
       "1317   1.2.826.0.1.3680043.5876    458\n",
       "\n",
       "[1318 rows x 2 columns]"
      ]
     },
     "execution_count": 4,
     "metadata": {},
     "output_type": "execute_result"
    }
   ],
   "source": [
    "test_slices = glob.glob(f'{TEST_IMAGES_PATH}/*/*')\n",
    "test_slices = [re.findall(f'{TEST_IMAGES_PATH}/(.*)/(.*).dcm', s)[0] for s in test_slices]\n",
    "df_test_slices = pd.DataFrame(data=test_slices, columns=['StudyInstanceUID', 'Slice']).astype({'Slice': int}).sort_values(['StudyInstanceUID', 'Slice']).reset_index(drop=True)\n",
    "df_test_slices"
   ]
  },
  {
   "cell_type": "markdown",
   "id": "03eb563f",
   "metadata": {
    "papermill": {
     "duration": 0.006605,
     "end_time": "2022-10-11T18:35:16.553746",
     "exception": false,
     "start_time": "2022-10-11T18:35:16.547141",
     "status": "completed"
    },
    "pycharm": {
     "name": "#%% md\n"
    },
    "tags": []
   },
   "source": [
    "<div class=\"alert alert-block alert-success\" style=\"font-size:25px\">\n",
    "    🦴 3. Dataset class 🦴\n",
    "</div>\n",
    "\n",
    "`EffnetDataSet` class returns images of individual slices. It uses a dataframe parameter `df` as a source of slices metadata to locate and load images from `path` folder. It accepts transforms parameter which we set to `WEIGHTS.transforms()`. This is a set of transforms used to pre-train the model on ImageNet dataset."
   ]
  },
  {
   "cell_type": "code",
   "execution_count": 5,
   "id": "0891fe27",
   "metadata": {
    "execution": {
     "iopub.execute_input": "2022-10-11T18:35:16.570137Z",
     "iopub.status.busy": "2022-10-11T18:35:16.568641Z",
     "iopub.status.idle": "2022-10-11T18:35:17.156524Z",
     "shell.execute_reply": "2022-10-11T18:35:17.155424Z"
    },
    "papermill": {
     "duration": 0.599365,
     "end_time": "2022-10-11T18:35:17.160051",
     "exception": false,
     "start_time": "2022-10-11T18:35:16.560686",
     "status": "completed"
    },
    "pycharm": {
     "name": "#%%\n"
    },
    "tags": []
   },
   "outputs": [
    {
     "data": {
      "text/plain": [
       "Text(0.5, 1.0, 'jpeg')"
      ]
     },
     "execution_count": 5,
     "metadata": {},
     "output_type": "execute_result"
    },
    {
     "data": {
      "image/png": "[encoded data removed]",
      "text/plain": [
       "<Figure size 1440x360 with 1 Axes>"
      ]
     },
     "metadata": {
      "needs_background": "light"
     },
     "output_type": "display_data"
    },
    {
     "data": {
      "image/png": "[encoded data removed]",
      "text/plain": [
       "<Figure size 1440x360 with 1 Axes>"
      ]
     },
     "metadata": {
      "needs_background": "light"
     },
     "output_type": "display_data"
    }
   ],
   "source": [
    "def load_dicom(path):\n",
    "    \"\"\"\n",
    "    This supports loading both regular and compressed JPEG images. \n",
    "    See the first sell with `pip install` commands for the necessary dependencies\n",
    "    \"\"\"\n",
    "    img=dicom.dcmread(path)\n",
    "    img.PhotometricInterpretation = 'YBR_FULL'\n",
    "    data = img.pixel_array    \n",
    "    data = data - np.min(data)\n",
    "    if np.max(data) != 0:\n",
    "        data = data / np.max(data)\n",
    "    data=(data * 255).astype(np.uint8)\n",
    "    return cv2.cvtColor(data, cv2.COLOR_GRAY2RGB), img\n",
    "\n",
    "\n",
    "im, meta = load_dicom(f'{TRAIN_IMAGES_PATH}/1.2.826.0.1.3680043.10001/1.dcm')\n",
    "plt.figure()\n",
    "plt.imshow(im)\n",
    "plt.title('regular image')\n",
    "\n",
    "im, meta = load_dicom(f'{TRAIN_IMAGES_PATH}/1.2.826.0.1.3680043.10014/1.dcm')\n",
    "plt.figure()\n",
    "plt.imshow(im)\n",
    "plt.title('jpeg')"
   ]
  },
  {
   "cell_type": "code",
   "execution_count": 6,
   "id": "1e6ad36a",
   "metadata": {
    "execution": {
     "iopub.execute_input": "2022-10-11T18:35:17.181417Z",
     "iopub.status.busy": "2022-10-11T18:35:17.181072Z",
     "iopub.status.idle": "2022-10-11T18:35:17.191081Z",
     "shell.execute_reply": "2022-10-11T18:35:17.190193Z"
    },
    "papermill": {
     "duration": 0.022444,
     "end_time": "2022-10-11T18:35:17.193074",
     "exception": false,
     "start_time": "2022-10-11T18:35:17.170630",
     "status": "completed"
    },
    "pycharm": {
     "name": "#%%\n"
    },
    "tags": []
   },
   "outputs": [],
   "source": [
    "class EffnetDataSet(torch.utils.data.Dataset):    \n",
    "    def __init__(self, df, path, transforms=None):\n",
    "        super().__init__()\n",
    "        self.df = df\n",
    "        self.path = path\n",
    "        self.transforms = transforms\n",
    "        \n",
    "    def __getitem__(self, i):\n",
    "        path = os.path.join(self.path, self.df.iloc[i].StudyInstanceUID, f'{self.df.iloc[i].Slice}.dcm')        \n",
    "        \n",
    "        try:\n",
    "            img = load_dicom(path)[0]         \n",
    "            img = np.transpose(img, (2, 0, 1))  # Pytorch uses (batch, channel, height, width) order. Converting (height, width, channel) -> (channel, height, width)\n",
    "            if self.transforms is not None:\n",
    "                img = self.transforms(torch.as_tensor(img))\n",
    "        except Exception as ex:\n",
    "            print(ex)\n",
    "            return None\n",
    "        \n",
    "        if 'C1_fracture' in self.df:\n",
    "            frac_targets = torch.as_tensor(self.df.iloc[i][['C1_fracture', 'C2_fracture', 'C3_fracture', 'C4_fracture', 'C5_fracture', 'C6_fracture', 'C7_fracture']].astype('float32').values)\n",
    "            vert_targets = torch.as_tensor(self.df.iloc[i][['C1', 'C2', 'C3', 'C4', 'C5', 'C6', 'C7']].astype('float32').values)\n",
    "            frac_targets = frac_targets * vert_targets   # we only enable targets that are visible on the current slice\n",
    "            return img, frac_targets, vert_targets\n",
    "        return img        \n",
    "    \n",
    "    def __len__(self):\n",
    "        return len(self.df)\n",
    "    "
   ]
  },
  {
   "cell_type": "code",
   "execution_count": 7,
   "id": "88bcce88",
   "metadata": {
    "execution": {
     "iopub.execute_input": "2022-10-11T18:35:17.212367Z",
     "iopub.status.busy": "2022-10-11T18:35:17.212064Z",
     "iopub.status.idle": "2022-10-11T18:35:17.243880Z",
     "shell.execute_reply": "2022-10-11T18:35:17.242793Z"
    },
    "papermill": {
     "duration": 0.04462,
     "end_time": "2022-10-11T18:35:17.246615",
     "exception": false,
     "start_time": "2022-10-11T18:35:17.201995",
     "status": "completed"
    },
    "pycharm": {
     "name": "#%%\n"
    },
    "tags": []
   },
   "outputs": [
    {
     "data": {
      "text/plain": [
       "torch.Size([3, 384, 384])"
      ]
     },
     "execution_count": 7,
     "metadata": {},
     "output_type": "execute_result"
    }
   ],
   "source": [
    "# Only X values returned by the test dataset\n",
    "ds_test = EffnetDataSet(df_test_slices, TEST_IMAGES_PATH, WEIGHTS.transforms())\n",
    "X = ds_test[42]\n",
    "X.shape"
   ]
  },
  {
   "cell_type": "markdown",
   "id": "75925a7a",
   "metadata": {
    "papermill": {
     "duration": 0.008853,
     "end_time": "2022-10-11T18:35:17.264894",
     "exception": false,
     "start_time": "2022-10-11T18:35:17.256041",
     "status": "completed"
    },
    "pycharm": {
     "name": "#%% md\n"
    },
    "tags": []
   },
   "source": [
    "<div class=\"alert alert-block alert-success\" style=\"font-size:25px\">\n",
    "    🦴 4. Model 🦴\n",
    "</div>\n",
    "\n",
    "\n",
    "In Pytorch we use create_feature_extractor to access feature layers of pre-existing models. Final flat layer of `efficientnet_v2_s` model is called `flatten`. We'll build our classification layer on top of it. "
   ]
  },
  {
   "cell_type": "code",
   "execution_count": 8,
   "id": "b462dfcd",
   "metadata": {
    "execution": {
     "iopub.execute_input": "2022-10-11T18:35:17.284350Z",
     "iopub.status.busy": "2022-10-11T18:35:17.283999Z",
     "iopub.status.idle": "2022-10-11T18:35:19.088173Z",
     "shell.execute_reply": "2022-10-11T18:35:19.087177Z"
    },
    "papermill": {
     "duration": 1.816556,
     "end_time": "2022-10-11T18:35:19.090560",
     "exception": false,
     "start_time": "2022-10-11T18:35:17.274004",
     "status": "completed"
    },
    "pycharm": {
     "name": "#%%\n"
    },
    "tags": []
   },
   "outputs": [],
   "source": [
    "class EffnetModel(torch.nn.Module):\n",
    "    def __init__(self):\n",
    "        super().__init__()\n",
    "        effnet = tv.models.efficientnet_v2_s()\n",
    "        self.model = create_feature_extractor(effnet, ['flatten'])\n",
    "        self.nn_fracture = torch.nn.Sequential(\n",
    "            torch.nn.Linear(1280, 7),\n",
    "        )\n",
    "        self.nn_vertebrae = torch.nn.Sequential(\n",
    "            torch.nn.Linear(1280, 7),\n",
    "        )\n",
    "\n",
    "    def forward(self, x):\n",
    "        # returns logits\n",
    "        x = self.model(x)['flatten']\n",
    "        return self.nn_fracture(x), self.nn_vertebrae(x)\n",
    "\n",
    "    def predict(self, x):\n",
    "        frac, vert = self.forward(x)\n",
    "        return torch.sigmoid(frac), torch.sigmoid(vert)\n",
    "\n",
    "model = EffnetModel()\n",
    "model.predict(torch.randn(1, 3, 512, 512))\n",
    "del model"
   ]
  },
  {
   "cell_type": "code",
   "execution_count": 9,
   "id": "83e9bb3b",
   "metadata": {
    "execution": {
     "iopub.execute_input": "2022-10-11T18:35:19.111245Z",
     "iopub.status.busy": "2022-10-11T18:35:19.110876Z",
     "iopub.status.idle": "2022-10-11T18:35:19.116041Z",
     "shell.execute_reply": "2022-10-11T18:35:19.115040Z"
    },
    "papermill": {
     "duration": 0.018059,
     "end_time": "2022-10-11T18:35:19.118052",
     "exception": false,
     "start_time": "2022-10-11T18:35:19.099993",
     "status": "completed"
    },
    "pycharm": {
     "name": "#%%\n"
    },
    "tags": []
   },
   "outputs": [],
   "source": [
    "def load_model(model, name, path='.'):\n",
    "    data = torch.load(os.path.join(path, f'{name}.tph'), map_location=DEVICE)\n",
    "    model.load_state_dict(data)\n",
    "    return model"
   ]
  },
  {
   "cell_type": "code",
   "execution_count": 10,
   "id": "38ce7a3b",
   "metadata": {
    "execution": {
     "iopub.execute_input": "2022-10-11T18:35:19.137747Z",
     "iopub.status.busy": "2022-10-11T18:35:19.137455Z",
     "iopub.status.idle": "2022-10-11T18:35:30.802693Z",
     "shell.execute_reply": "2022-10-11T18:35:30.801654Z"
    },
    "papermill": {
     "duration": 11.677607,
     "end_time": "2022-10-11T18:35:30.805080",
     "exception": false,
     "start_time": "2022-10-11T18:35:19.127473",
     "status": "completed"
    },
    "pycharm": {
     "name": "#%%\n"
    },
    "tags": []
   },
   "outputs": [],
   "source": [
    "effnet_models = [load_model(EffnetModel(), name, EFFNET_CHECKPOINTS_PATH).to(DEVICE) for name in MODEL_NAMES]"
   ]
  },
  {
   "cell_type": "markdown",
   "id": "938b54d8",
   "metadata": {
    "papermill": {
     "duration": 0.009893,
     "end_time": "2022-10-11T18:35:30.829310",
     "exception": false,
     "start_time": "2022-10-11T18:35:30.819417",
     "status": "completed"
    },
    "pycharm": {
     "name": "#%% md\n"
    },
    "tags": []
   },
   "source": [
    "<div class=\"alert alert-block alert-success\" style=\"font-size:25px\">\n",
    "    🦴 7. Submission 🦴\n",
    "</div>\n",
    "\n",
    "1. We run all baseline `effnet_model` on every image from the test set and average outputs \n",
    "2. We pass average outputs of the base `effnet_model` to the `lstm_model` to produce the final result for each patient."
   ]
  },
  {
   "cell_type": "code",
   "execution_count": 11,
   "id": "9e17cc7e",
   "metadata": {
    "collapsed": false,
    "execution": {
     "iopub.execute_input": "2022-10-11T18:35:30.851558Z",
     "iopub.status.busy": "2022-10-11T18:35:30.851188Z",
     "iopub.status.idle": "2022-10-11T18:35:34.716183Z",
     "shell.execute_reply": "2022-10-11T18:35:34.715185Z"
    },
    "jupyter": {
     "outputs_hidden": false
    },
    "papermill": {
     "duration": 3.877752,
     "end_time": "2022-10-11T18:35:34.718450",
     "exception": false,
     "start_time": "2022-10-11T18:35:30.840698",
     "status": "completed"
    },
    "pycharm": {
     "name": "#%%\n"
    },
    "tags": []
   },
   "outputs": [
    {
     "data": {
      "application/vnd.jupyter.widget-view+json": {
       "model_id": "2f000e059f4a40b591ada607d981e304",
       "version_major": 2,
       "version_minor": 0
      },
      "text/plain": [
       "  0%|          | 0/42 [00:00<?, ?it/s]"
      ]
     },
     "metadata": {},
     "output_type": "display_data"
    },
    {
     "data": {
      "text/plain": [
       "(96, 14)"
      ]
     },
     "execution_count": 11,
     "metadata": {},
     "output_type": "execute_result"
    }
   ],
   "source": [
    "from typing import List\n",
    "\n",
    "\n",
    "def predict_effnet(models: List[EffnetModel], ds, max_batches=1e9):\n",
    "    dl_test = torch.utils.data.DataLoader(ds, batch_size=BATCH_SIZE, shuffle=False, num_workers=os.cpu_count())\n",
    "    for m in models:\n",
    "        m.eval()\n",
    "\n",
    "    with torch.no_grad():\n",
    "        predictions = []\n",
    "        for idx, X in enumerate(tqdm(dl_test, miniters=10)):\n",
    "            pred = torch.zeros(len(X), 14).to(DEVICE)\n",
    "            for m in models:\n",
    "                y1, y2 = m.predict(X.to(DEVICE))\n",
    "                pred += torch.concat([y1, y2], dim=1) / len(models)\n",
    "            predictions.append(pred)\n",
    "            if idx >= max_batches:\n",
    "                break\n",
    "        return torch.concat(predictions).cpu().numpy()\n",
    "\n",
    "# Quick test\n",
    "predict_effnet([EffnetModel().to(DEVICE)], ds_test, max_batches=2).shape"
   ]
  },
  {
   "cell_type": "code",
   "execution_count": 12,
   "id": "11bfc86a",
   "metadata": {
    "execution": {
     "iopub.execute_input": "2022-10-11T18:35:34.739232Z",
     "iopub.status.busy": "2022-10-11T18:35:34.738866Z",
     "iopub.status.idle": "2022-10-11T18:36:13.399299Z",
     "shell.execute_reply": "2022-10-11T18:36:13.398201Z"
    },
    "papermill": {
     "duration": 38.673407,
     "end_time": "2022-10-11T18:36:13.401562",
     "exception": false,
     "start_time": "2022-10-11T18:35:34.728155",
     "status": "completed"
    },
    "pycharm": {
     "name": "#%%\n"
    },
    "tags": []
   },
   "outputs": [
    {
     "data": {
      "application/vnd.jupyter.widget-view+json": {
       "model_id": "913ee0f8e8af4a8494ff469929e21290",
       "version_major": 2,
       "version_minor": 0
      },
      "text/plain": [
       "  0%|          | 0/42 [00:00<?, ?it/s]"
      ]
     },
     "metadata": {},
     "output_type": "display_data"
    }
   ],
   "source": [
    "effnet_pred = predict_effnet(effnet_models, ds_test)\n",
    "\n",
    "df_effnet_pred = pd.DataFrame(\n",
    "    data=effnet_pred, columns=[f'C{i}_effnet_frac' for i in range(1, 8)] + [f'C{i}_effnet_vert' for i in range(1, 8)]\n",
    ")"
   ]
  },
  {
   "cell_type": "code",
   "execution_count": 13,
   "id": "32888026",
   "metadata": {
    "execution": {
     "iopub.execute_input": "2022-10-11T18:36:13.422678Z",
     "iopub.status.busy": "2022-10-11T18:36:13.422345Z",
     "iopub.status.idle": "2022-10-11T18:36:13.450898Z",
     "shell.execute_reply": "2022-10-11T18:36:13.449853Z"
    },
    "papermill": {
     "duration": 0.042249,
     "end_time": "2022-10-11T18:36:13.453562",
     "exception": false,
     "start_time": "2022-10-11T18:36:13.411313",
     "status": "completed"
    },
    "pycharm": {
     "name": "#%%\n"
    },
    "tags": []
   },
   "outputs": [
    {
     "data": {
      "text/html": [
       "<div>\n",
       "<style scoped>\n",
       "    .dataframe tbody tr th:only-of-type {\n",
       "        vertical-align: middle;\n",
       "    }\n",
       "\n",
       "    .dataframe tbody tr th {\n",
       "        vertical-align: top;\n",
       "    }\n",
       "\n",
       "    .dataframe thead th {\n",
       "        text-align: right;\n",
       "    }\n",
       "</style>\n",
       "<table border=\"1\" class=\"dataframe\">\n",
       "  <thead>\n",
       "    <tr style=\"text-align: right;\">\n",
       "      <th></th>\n",
       "      <th>StudyInstanceUID</th>\n",
       "      <th>Slice</th>\n",
       "      <th>C1_effnet_frac</th>\n",
       "      <th>C2_effnet_frac</th>\n",
       "      <th>C3_effnet_frac</th>\n",
       "      <th>C4_effnet_frac</th>\n",
       "      <th>C5_effnet_frac</th>\n",
       "      <th>C6_effnet_frac</th>\n",
       "      <th>C7_effnet_frac</th>\n",
       "      <th>C1_effnet_vert</th>\n",
       "      <th>C2_effnet_vert</th>\n",
       "      <th>C3_effnet_vert</th>\n",
       "      <th>C4_effnet_vert</th>\n",
       "      <th>C5_effnet_vert</th>\n",
       "      <th>C6_effnet_vert</th>\n",
       "      <th>C7_effnet_vert</th>\n",
       "    </tr>\n",
       "  </thead>\n",
       "  <tbody>\n",
       "    <tr>\n",
       "      <th>0</th>\n",
       "      <td>1.2.826.0.1.3680043.22327</td>\n",
       "      <td>1</td>\n",
       "      <td>0.000490</td>\n",
       "      <td>0.000366</td>\n",
       "      <td>0.000359</td>\n",
       "      <td>0.000258</td>\n",
       "      <td>0.000205</td>\n",
       "      <td>0.000231</td>\n",
       "      <td>0.000695</td>\n",
       "      <td>0.000454</td>\n",
       "      <td>0.000269</td>\n",
       "      <td>0.000283</td>\n",
       "      <td>0.000164</td>\n",
       "      <td>0.000051</td>\n",
       "      <td>0.000080</td>\n",
       "      <td>0.000327</td>\n",
       "    </tr>\n",
       "    <tr>\n",
       "      <th>1</th>\n",
       "      <td>1.2.826.0.1.3680043.22327</td>\n",
       "      <td>2</td>\n",
       "      <td>0.000548</td>\n",
       "      <td>0.000423</td>\n",
       "      <td>0.000430</td>\n",
       "      <td>0.000305</td>\n",
       "      <td>0.000232</td>\n",
       "      <td>0.000264</td>\n",
       "      <td>0.000920</td>\n",
       "      <td>0.000426</td>\n",
       "      <td>0.000242</td>\n",
       "      <td>0.000365</td>\n",
       "      <td>0.000184</td>\n",
       "      <td>0.000050</td>\n",
       "      <td>0.000091</td>\n",
       "      <td>0.000482</td>\n",
       "    </tr>\n",
       "    <tr>\n",
       "      <th>2</th>\n",
       "      <td>1.2.826.0.1.3680043.22327</td>\n",
       "      <td>3</td>\n",
       "      <td>0.000554</td>\n",
       "      <td>0.000492</td>\n",
       "      <td>0.000462</td>\n",
       "      <td>0.000315</td>\n",
       "      <td>0.000267</td>\n",
       "      <td>0.000332</td>\n",
       "      <td>0.001069</td>\n",
       "      <td>0.000342</td>\n",
       "      <td>0.000271</td>\n",
       "      <td>0.000407</td>\n",
       "      <td>0.000170</td>\n",
       "      <td>0.000056</td>\n",
       "      <td>0.000123</td>\n",
       "      <td>0.000543</td>\n",
       "    </tr>\n",
       "    <tr>\n",
       "      <th>3</th>\n",
       "      <td>1.2.826.0.1.3680043.22327</td>\n",
       "      <td>4</td>\n",
       "      <td>0.000503</td>\n",
       "      <td>0.000473</td>\n",
       "      <td>0.000483</td>\n",
       "      <td>0.000352</td>\n",
       "      <td>0.000311</td>\n",
       "      <td>0.000377</td>\n",
       "      <td>0.001008</td>\n",
       "      <td>0.000269</td>\n",
       "      <td>0.000249</td>\n",
       "      <td>0.000495</td>\n",
       "      <td>0.000228</td>\n",
       "      <td>0.000077</td>\n",
       "      <td>0.000157</td>\n",
       "      <td>0.000505</td>\n",
       "    </tr>\n",
       "    <tr>\n",
       "      <th>4</th>\n",
       "      <td>1.2.826.0.1.3680043.22327</td>\n",
       "      <td>5</td>\n",
       "      <td>0.000486</td>\n",
       "      <td>0.000488</td>\n",
       "      <td>0.000504</td>\n",
       "      <td>0.000365</td>\n",
       "      <td>0.000329</td>\n",
       "      <td>0.000404</td>\n",
       "      <td>0.000999</td>\n",
       "      <td>0.000264</td>\n",
       "      <td>0.000274</td>\n",
       "      <td>0.000559</td>\n",
       "      <td>0.000255</td>\n",
       "      <td>0.000087</td>\n",
       "      <td>0.000177</td>\n",
       "      <td>0.000494</td>\n",
       "    </tr>\n",
       "    <tr>\n",
       "      <th>...</th>\n",
       "      <td>...</td>\n",
       "      <td>...</td>\n",
       "      <td>...</td>\n",
       "      <td>...</td>\n",
       "      <td>...</td>\n",
       "      <td>...</td>\n",
       "      <td>...</td>\n",
       "      <td>...</td>\n",
       "      <td>...</td>\n",
       "      <td>...</td>\n",
       "      <td>...</td>\n",
       "      <td>...</td>\n",
       "      <td>...</td>\n",
       "      <td>...</td>\n",
       "      <td>...</td>\n",
       "      <td>...</td>\n",
       "    </tr>\n",
       "    <tr>\n",
       "      <th>1313</th>\n",
       "      <td>1.2.826.0.1.3680043.5876</td>\n",
       "      <td>454</td>\n",
       "      <td>0.000491</td>\n",
       "      <td>0.000411</td>\n",
       "      <td>0.000320</td>\n",
       "      <td>0.000317</td>\n",
       "      <td>0.000341</td>\n",
       "      <td>0.000311</td>\n",
       "      <td>0.000402</td>\n",
       "      <td>0.000692</td>\n",
       "      <td>0.000379</td>\n",
       "      <td>0.000427</td>\n",
       "      <td>0.000399</td>\n",
       "      <td>0.000347</td>\n",
       "      <td>0.000277</td>\n",
       "      <td>0.000184</td>\n",
       "    </tr>\n",
       "    <tr>\n",
       "      <th>1314</th>\n",
       "      <td>1.2.826.0.1.3680043.5876</td>\n",
       "      <td>455</td>\n",
       "      <td>0.000549</td>\n",
       "      <td>0.000455</td>\n",
       "      <td>0.000330</td>\n",
       "      <td>0.000315</td>\n",
       "      <td>0.000324</td>\n",
       "      <td>0.000289</td>\n",
       "      <td>0.000403</td>\n",
       "      <td>0.000903</td>\n",
       "      <td>0.000470</td>\n",
       "      <td>0.000463</td>\n",
       "      <td>0.000394</td>\n",
       "      <td>0.000339</td>\n",
       "      <td>0.000263</td>\n",
       "      <td>0.000204</td>\n",
       "    </tr>\n",
       "    <tr>\n",
       "      <th>1315</th>\n",
       "      <td>1.2.826.0.1.3680043.5876</td>\n",
       "      <td>456</td>\n",
       "      <td>0.000552</td>\n",
       "      <td>0.000488</td>\n",
       "      <td>0.000338</td>\n",
       "      <td>0.000316</td>\n",
       "      <td>0.000311</td>\n",
       "      <td>0.000279</td>\n",
       "      <td>0.000440</td>\n",
       "      <td>0.000758</td>\n",
       "      <td>0.000467</td>\n",
       "      <td>0.000472</td>\n",
       "      <td>0.000400</td>\n",
       "      <td>0.000294</td>\n",
       "      <td>0.000243</td>\n",
       "      <td>0.000234</td>\n",
       "    </tr>\n",
       "    <tr>\n",
       "      <th>1316</th>\n",
       "      <td>1.2.826.0.1.3680043.5876</td>\n",
       "      <td>457</td>\n",
       "      <td>0.000557</td>\n",
       "      <td>0.000429</td>\n",
       "      <td>0.000310</td>\n",
       "      <td>0.000305</td>\n",
       "      <td>0.000298</td>\n",
       "      <td>0.000267</td>\n",
       "      <td>0.000468</td>\n",
       "      <td>0.000732</td>\n",
       "      <td>0.000330</td>\n",
       "      <td>0.000346</td>\n",
       "      <td>0.000371</td>\n",
       "      <td>0.000256</td>\n",
       "      <td>0.000209</td>\n",
       "      <td>0.000245</td>\n",
       "    </tr>\n",
       "    <tr>\n",
       "      <th>1317</th>\n",
       "      <td>1.2.826.0.1.3680043.5876</td>\n",
       "      <td>458</td>\n",
       "      <td>0.000643</td>\n",
       "      <td>0.000441</td>\n",
       "      <td>0.000306</td>\n",
       "      <td>0.000319</td>\n",
       "      <td>0.000349</td>\n",
       "      <td>0.000320</td>\n",
       "      <td>0.000485</td>\n",
       "      <td>0.000991</td>\n",
       "      <td>0.000317</td>\n",
       "      <td>0.000277</td>\n",
       "      <td>0.000360</td>\n",
       "      <td>0.000323</td>\n",
       "      <td>0.000273</td>\n",
       "      <td>0.000261</td>\n",
       "    </tr>\n",
       "  </tbody>\n",
       "</table>\n",
       "<p>1318 rows × 16 columns</p>\n",
       "</div>"
      ],
      "text/plain": [
       "               StudyInstanceUID  Slice  C1_effnet_frac  C2_effnet_frac  \\\n",
       "0     1.2.826.0.1.3680043.22327      1        0.000490        0.000366   \n",
       "1     1.2.826.0.1.3680043.22327      2        0.000548        0.000423   \n",
       "2     1.2.826.0.1.3680043.22327      3        0.000554        0.000492   \n",
       "3     1.2.826.0.1.3680043.22327      4        0.000503        0.000473   \n",
       "4     1.2.826.0.1.3680043.22327      5        0.000486        0.000488   \n",
       "...                         ...    ...             ...             ...   \n",
       "1313   1.2.826.0.1.3680043.5876    454        0.000491        0.000411   \n",
       "1314   1.2.826.0.1.3680043.5876    455        0.000549        0.000455   \n",
       "1315   1.2.826.0.1.3680043.5876    456        0.000552        0.000488   \n",
       "1316   1.2.826.0.1.3680043.5876    457        0.000557        0.000429   \n",
       "1317   1.2.826.0.1.3680043.5876    458        0.000643        0.000441   \n",
       "\n",
       "      C3_effnet_frac  C4_effnet_frac  C5_effnet_frac  C6_effnet_frac  \\\n",
       "0           0.000359        0.000258        0.000205        0.000231   \n",
       "1           0.000430        0.000305        0.000232        0.000264   \n",
       "2           0.000462        0.000315        0.000267        0.000332   \n",
       "3           0.000483        0.000352        0.000311        0.000377   \n",
       "4           0.000504        0.000365        0.000329        0.000404   \n",
       "...              ...             ...             ...             ...   \n",
       "1313        0.000320        0.000317        0.000341        0.000311   \n",
       "1314        0.000330        0.000315        0.000324        0.000289   \n",
       "1315        0.000338        0.000316        0.000311        0.000279   \n",
       "1316        0.000310        0.000305        0.000298        0.000267   \n",
       "1317        0.000306        0.000319        0.000349        0.000320   \n",
       "\n",
       "      C7_effnet_frac  C1_effnet_vert  C2_effnet_vert  C3_effnet_vert  \\\n",
       "0           0.000695        0.000454        0.000269        0.000283   \n",
       "1           0.000920        0.000426        0.000242        0.000365   \n",
       "2           0.001069        0.000342        0.000271        0.000407   \n",
       "3           0.001008        0.000269        0.000249        0.000495   \n",
       "4           0.000999        0.000264        0.000274        0.000559   \n",
       "...              ...             ...             ...             ...   \n",
       "1313        0.000402        0.000692        0.000379        0.000427   \n",
       "1314        0.000403        0.000903        0.000470        0.000463   \n",
       "1315        0.000440        0.000758        0.000467        0.000472   \n",
       "1316        0.000468        0.000732        0.000330        0.000346   \n",
       "1317        0.000485        0.000991        0.000317        0.000277   \n",
       "\n",
       "      C4_effnet_vert  C5_effnet_vert  C6_effnet_vert  C7_effnet_vert  \n",
       "0           0.000164        0.000051        0.000080        0.000327  \n",
       "1           0.000184        0.000050        0.000091        0.000482  \n",
       "2           0.000170        0.000056        0.000123        0.000543  \n",
       "3           0.000228        0.000077        0.000157        0.000505  \n",
       "4           0.000255        0.000087        0.000177        0.000494  \n",
       "...              ...             ...             ...             ...  \n",
       "1313        0.000399        0.000347        0.000277        0.000184  \n",
       "1314        0.000394        0.000339        0.000263        0.000204  \n",
       "1315        0.000400        0.000294        0.000243        0.000234  \n",
       "1316        0.000371        0.000256        0.000209        0.000245  \n",
       "1317        0.000360        0.000323        0.000273        0.000261  \n",
       "\n",
       "[1318 rows x 16 columns]"
      ]
     },
     "execution_count": 13,
     "metadata": {},
     "output_type": "execute_result"
    }
   ],
   "source": [
    "df_test_pred = pd.concat([df_test_slices, df_effnet_pred], axis=1).sort_values(['StudyInstanceUID', 'Slice'])\n",
    "df_test_pred"
   ]
  },
  {
   "cell_type": "code",
   "execution_count": 14,
   "id": "efa6d61c",
   "metadata": {
    "collapsed": false,
    "execution": {
     "iopub.execute_input": "2022-10-11T18:36:13.474874Z",
     "iopub.status.busy": "2022-10-11T18:36:13.474567Z",
     "iopub.status.idle": "2022-10-11T18:36:13.985017Z",
     "shell.execute_reply": "2022-10-11T18:36:13.984073Z"
    },
    "jupyter": {
     "outputs_hidden": false
    },
    "papermill": {
     "duration": 0.523403,
     "end_time": "2022-10-11T18:36:13.987273",
     "exception": false,
     "start_time": "2022-10-11T18:36:13.463870",
     "status": "completed"
    },
    "pycharm": {
     "name": "#%%\n"
    },
    "tags": []
   },
   "outputs": [
    {
     "data": {
      "image/png": "[encoded data removed]",
      "text/plain": [
       "<Figure size 1440x360 with 2 Axes>"
      ]
     },
     "metadata": {
      "needs_background": "light"
     },
     "output_type": "display_data"
    }
   ],
   "source": [
    "def plot_sample_patient(df_pred):\n",
    "    patient = np.random.choice(df_pred.StudyInstanceUID)\n",
    "    df = df_pred.query('StudyInstanceUID == @patient').reset_index()\n",
    "\n",
    "    df[[f'C{i}_effnet_frac' for i in range(1, 8)]].plot(\n",
    "        title=f'Patient {patient}, fracture prediction',\n",
    "        ax=(plt.subplot(1, 2, 1)))\n",
    "\n",
    "    df[[f'C{i}_effnet_vert' for i in range(1, 8)]].plot(\n",
    "        title=f'Patient {patient}, vertebrae prediction',\n",
    "        ax=plt.subplot(1, 2, 2)\n",
    "    )\n",
    "\n",
    "plot_sample_patient(df_test_pred)"
   ]
  },
  {
   "cell_type": "code",
   "execution_count": 15,
   "id": "2070f223",
   "metadata": {
    "collapsed": false,
    "execution": {
     "iopub.execute_input": "2022-10-11T18:36:14.014002Z",
     "iopub.status.busy": "2022-10-11T18:36:14.012461Z",
     "iopub.status.idle": "2022-10-11T18:36:14.037874Z",
     "shell.execute_reply": "2022-10-11T18:36:14.036932Z"
    },
    "jupyter": {
     "outputs_hidden": false
    },
    "papermill": {
     "duration": 0.04084,
     "end_time": "2022-10-11T18:36:14.040114",
     "exception": false,
     "start_time": "2022-10-11T18:36:13.999274",
     "status": "completed"
    },
    "pycharm": {
     "name": "#%%\n"
    },
    "tags": []
   },
   "outputs": [
    {
     "data": {
      "text/html": [
       "<div>\n",
       "<style scoped>\n",
       "    .dataframe tbody tr th:only-of-type {\n",
       "        vertical-align: middle;\n",
       "    }\n",
       "\n",
       "    .dataframe tbody tr th {\n",
       "        vertical-align: top;\n",
       "    }\n",
       "\n",
       "    .dataframe thead th {\n",
       "        text-align: right;\n",
       "    }\n",
       "</style>\n",
       "<table border=\"1\" class=\"dataframe\">\n",
       "  <thead>\n",
       "    <tr style=\"text-align: right;\">\n",
       "      <th></th>\n",
       "      <th>patient_overall</th>\n",
       "      <th>C1</th>\n",
       "      <th>C2</th>\n",
       "      <th>C3</th>\n",
       "      <th>C4</th>\n",
       "      <th>C5</th>\n",
       "      <th>C6</th>\n",
       "      <th>C7</th>\n",
       "    </tr>\n",
       "    <tr>\n",
       "      <th>StudyInstanceUID</th>\n",
       "      <th></th>\n",
       "      <th></th>\n",
       "      <th></th>\n",
       "      <th></th>\n",
       "      <th></th>\n",
       "      <th></th>\n",
       "      <th></th>\n",
       "      <th></th>\n",
       "    </tr>\n",
       "  </thead>\n",
       "  <tbody>\n",
       "    <tr>\n",
       "      <th>1.2.826.0.1.3680043.22327</th>\n",
       "      <td>0.494886</td>\n",
       "      <td>0.032177</td>\n",
       "      <td>0.064765</td>\n",
       "      <td>0.041566</td>\n",
       "      <td>0.079764</td>\n",
       "      <td>0.101204</td>\n",
       "      <td>0.112345</td>\n",
       "      <td>0.206940</td>\n",
       "    </tr>\n",
       "    <tr>\n",
       "      <th>1.2.826.0.1.3680043.25399</th>\n",
       "      <td>0.477033</td>\n",
       "      <td>0.073948</td>\n",
       "      <td>0.074153</td>\n",
       "      <td>0.063346</td>\n",
       "      <td>0.062717</td>\n",
       "      <td>0.073354</td>\n",
       "      <td>0.138978</td>\n",
       "      <td>0.129193</td>\n",
       "    </tr>\n",
       "    <tr>\n",
       "      <th>1.2.826.0.1.3680043.5876</th>\n",
       "      <td>0.349543</td>\n",
       "      <td>0.055733</td>\n",
       "      <td>0.073613</td>\n",
       "      <td>0.012201</td>\n",
       "      <td>0.025163</td>\n",
       "      <td>0.038483</td>\n",
       "      <td>0.060258</td>\n",
       "      <td>0.145396</td>\n",
       "    </tr>\n",
       "  </tbody>\n",
       "</table>\n",
       "</div>"
      ],
      "text/plain": [
       "                           patient_overall        C1        C2        C3  \\\n",
       "StudyInstanceUID                                                           \n",
       "1.2.826.0.1.3680043.22327         0.494886  0.032177  0.064765  0.041566   \n",
       "1.2.826.0.1.3680043.25399         0.477033  0.073948  0.074153  0.063346   \n",
       "1.2.826.0.1.3680043.5876          0.349543  0.055733  0.073613  0.012201   \n",
       "\n",
       "                                 C4        C5        C6        C7  \n",
       "StudyInstanceUID                                                   \n",
       "1.2.826.0.1.3680043.22327  0.079764  0.101204  0.112345  0.206940  \n",
       "1.2.826.0.1.3680043.25399  0.062717  0.073354  0.138978  0.129193  \n",
       "1.2.826.0.1.3680043.5876   0.025163  0.038483  0.060258  0.145396  "
      ]
     },
     "execution_count": 15,
     "metadata": {},
     "output_type": "execute_result"
    }
   ],
   "source": [
    "\n",
    "def patient_prediction(df):\n",
    "    c1c7 = np.average(df[FRAC_COLS].values, axis=0, weights=df[VERT_COLS].values)\n",
    "    pred_patient_overall = 1 - np.prod(1 - c1c7)\n",
    "    return pd.Series(data=np.concatenate([[pred_patient_overall], c1c7]), index=['patient_overall'] + [f'C{i}' for i in range(1, 8)])\n",
    "\n",
    "df_patient_pred = df_test_pred.groupby('StudyInstanceUID').apply(lambda df: patient_prediction(df))\n",
    "df_patient_pred"
   ]
  },
  {
   "cell_type": "code",
   "execution_count": 16,
   "id": "00beebee",
   "metadata": {
    "collapsed": false,
    "execution": {
     "iopub.execute_input": "2022-10-11T18:36:14.066347Z",
     "iopub.status.busy": "2022-10-11T18:36:14.065976Z",
     "iopub.status.idle": "2022-10-11T18:36:14.088569Z",
     "shell.execute_reply": "2022-10-11T18:36:14.087527Z"
    },
    "jupyter": {
     "outputs_hidden": false
    },
    "papermill": {
     "duration": 0.037977,
     "end_time": "2022-10-11T18:36:14.090665",
     "exception": false,
     "start_time": "2022-10-11T18:36:14.052688",
     "status": "completed"
    },
    "pycharm": {
     "name": "#%%\n"
    },
    "tags": []
   },
   "outputs": [
    {
     "data": {
      "text/html": [
       "<div>\n",
       "<style scoped>\n",
       "    .dataframe tbody tr th:only-of-type {\n",
       "        vertical-align: middle;\n",
       "    }\n",
       "\n",
       "    .dataframe tbody tr th {\n",
       "        vertical-align: top;\n",
       "    }\n",
       "\n",
       "    .dataframe thead th {\n",
       "        text-align: right;\n",
       "    }\n",
       "</style>\n",
       "<table border=\"1\" class=\"dataframe\">\n",
       "  <thead>\n",
       "    <tr style=\"text-align: right;\">\n",
       "      <th></th>\n",
       "      <th>row_id</th>\n",
       "      <th>prediction_type</th>\n",
       "      <th>patient_overall</th>\n",
       "      <th>C1</th>\n",
       "      <th>C2</th>\n",
       "      <th>C3</th>\n",
       "      <th>C4</th>\n",
       "      <th>C5</th>\n",
       "      <th>C6</th>\n",
       "      <th>C7</th>\n",
       "      <th>fractured</th>\n",
       "    </tr>\n",
       "    <tr>\n",
       "      <th>StudyInstanceUID</th>\n",
       "      <th></th>\n",
       "      <th></th>\n",
       "      <th></th>\n",
       "      <th></th>\n",
       "      <th></th>\n",
       "      <th></th>\n",
       "      <th></th>\n",
       "      <th></th>\n",
       "      <th></th>\n",
       "      <th></th>\n",
       "      <th></th>\n",
       "    </tr>\n",
       "  </thead>\n",
       "  <tbody>\n",
       "    <tr>\n",
       "      <th>1.2.826.0.1.3680043.22327</th>\n",
       "      <td>1.2.826.0.1.3680043.22327_C1</td>\n",
       "      <td>C1</td>\n",
       "      <td>0.494886</td>\n",
       "      <td>0.032177</td>\n",
       "      <td>0.064765</td>\n",
       "      <td>0.041566</td>\n",
       "      <td>0.079764</td>\n",
       "      <td>0.101204</td>\n",
       "      <td>0.112345</td>\n",
       "      <td>0.206940</td>\n",
       "      <td>0.032177</td>\n",
       "    </tr>\n",
       "    <tr>\n",
       "      <th>1.2.826.0.1.3680043.25399</th>\n",
       "      <td>1.2.826.0.1.3680043.25399_C1</td>\n",
       "      <td>C1</td>\n",
       "      <td>0.477033</td>\n",
       "      <td>0.073948</td>\n",
       "      <td>0.074153</td>\n",
       "      <td>0.063346</td>\n",
       "      <td>0.062717</td>\n",
       "      <td>0.073354</td>\n",
       "      <td>0.138978</td>\n",
       "      <td>0.129193</td>\n",
       "      <td>0.073948</td>\n",
       "    </tr>\n",
       "    <tr>\n",
       "      <th>1.2.826.0.1.3680043.5876</th>\n",
       "      <td>1.2.826.0.1.3680043.5876_C1</td>\n",
       "      <td>patient_overall</td>\n",
       "      <td>0.349543</td>\n",
       "      <td>0.055733</td>\n",
       "      <td>0.073613</td>\n",
       "      <td>0.012201</td>\n",
       "      <td>0.025163</td>\n",
       "      <td>0.038483</td>\n",
       "      <td>0.060258</td>\n",
       "      <td>0.145396</td>\n",
       "      <td>0.349543</td>\n",
       "    </tr>\n",
       "  </tbody>\n",
       "</table>\n",
       "</div>"
      ],
      "text/plain": [
       "                                                 row_id  prediction_type  \\\n",
       "StudyInstanceUID                                                           \n",
       "1.2.826.0.1.3680043.22327  1.2.826.0.1.3680043.22327_C1               C1   \n",
       "1.2.826.0.1.3680043.25399  1.2.826.0.1.3680043.25399_C1               C1   \n",
       "1.2.826.0.1.3680043.5876    1.2.826.0.1.3680043.5876_C1  patient_overall   \n",
       "\n",
       "                           patient_overall        C1        C2        C3  \\\n",
       "StudyInstanceUID                                                           \n",
       "1.2.826.0.1.3680043.22327         0.494886  0.032177  0.064765  0.041566   \n",
       "1.2.826.0.1.3680043.25399         0.477033  0.073948  0.074153  0.063346   \n",
       "1.2.826.0.1.3680043.5876          0.349543  0.055733  0.073613  0.012201   \n",
       "\n",
       "                                 C4        C5        C6        C7  fractured  \n",
       "StudyInstanceUID                                                              \n",
       "1.2.826.0.1.3680043.22327  0.079764  0.101204  0.112345  0.206940   0.032177  \n",
       "1.2.826.0.1.3680043.25399  0.062717  0.073354  0.138978  0.129193   0.073948  \n",
       "1.2.826.0.1.3680043.5876   0.025163  0.038483  0.060258  0.145396   0.349543  "
      ]
     },
     "execution_count": 16,
     "metadata": {},
     "output_type": "execute_result"
    }
   ],
   "source": [
    "df_sub = df_test.copy()\n",
    "df_sub = df_sub.set_index('StudyInstanceUID').join(df_patient_pred)\n",
    "df_sub['fractured'] = df_sub.apply(lambda r: r[r.prediction_type], axis=1)\n",
    "df_sub"
   ]
  },
  {
   "cell_type": "code",
   "execution_count": 17,
   "id": "570b519f",
   "metadata": {
    "execution": {
     "iopub.execute_input": "2022-10-11T18:36:14.117712Z",
     "iopub.status.busy": "2022-10-11T18:36:14.117360Z",
     "iopub.status.idle": "2022-10-11T18:36:14.124384Z",
     "shell.execute_reply": "2022-10-11T18:36:14.123030Z"
    },
    "papermill": {
     "duration": 0.023073,
     "end_time": "2022-10-11T18:36:14.126771",
     "exception": false,
     "start_time": "2022-10-11T18:36:14.103698",
     "status": "completed"
    },
    "tags": []
   },
   "outputs": [],
   "source": [
    "df_sub['fractured'] = df_sub['fractured'].apply(lambda x: 0.95 if x >= 0.95 else x) \n",
    "df_sub['fractured'] = df_sub['fractured'].apply(lambda x: 0.05 if x <= 0.05 else x) "
   ]
  },
  {
   "cell_type": "code",
   "execution_count": 18,
   "id": "efdbf5c8",
   "metadata": {
    "execution": {
     "iopub.execute_input": "2022-10-11T18:36:14.153662Z",
     "iopub.status.busy": "2022-10-11T18:36:14.153311Z",
     "iopub.status.idle": "2022-10-11T18:36:14.164066Z",
     "shell.execute_reply": "2022-10-11T18:36:14.163083Z"
    },
    "papermill": {
     "duration": 0.026786,
     "end_time": "2022-10-11T18:36:14.166339",
     "exception": false,
     "start_time": "2022-10-11T18:36:14.139553",
     "status": "completed"
    },
    "pycharm": {
     "name": "#%%\n"
    },
    "tags": []
   },
   "outputs": [],
   "source": [
    "df_sub[['row_id', 'fractured']].to_csv('submission.csv', index=False)"
   ]
  }
 ],
 "metadata": {
  "kernelspec": {
   "display_name": "Python 3 (ipykernel)",
   "language": "python",
   "name": "python3"
  },
  "language_info": {
   "codemirror_mode": {
    "name": "ipython",
    "version": 3
   },
   "file_extension": ".py",
   "mimetype": "text/x-python",
   "name": "python",
   "nbconvert_exporter": "python",
   "pygments_lexer": "ipython3",
   "version": "3.9.18"
  },
  "papermill": {
   "default_parameters": {},
   "duration": 179.590227,
   "end_time": "2022-10-11T18:36:15.528455",
   "environment_variables": {},
   "exception": null,
   "input_path": "__notebook__.ipynb",
   "output_path": "__notebook__.ipynb",
   "parameters": {},
   "start_time": "2022-10-11T18:33:15.938228",
   "version": "2.3.4"
  },
  "widgets": {
   "application/vnd.jupyter.widget-state+json": {
    "state": {
     "17702dce615145c5baa119dbb6f9074c": {
      "model_module": "@jupyter-widgets/base",
      "model_module_version": "1.2.0",
      "model_name": "LayoutModel",
      "state": {
       "_model_module": "@jupyter-widgets/base",
       "_model_module_version": "1.2.0",
       "_model_name": "LayoutModel",
       "_view_count": null,
       "_view_module": "@jupyter-widgets/base",
       "_view_module_version": "1.2.0",
       "_view_name": "LayoutView",
       "align_content": null,
       "align_items": null,
       "align_self": null,
       "border": null,
       "bottom": null,
       "display": null,
       "flex": null,
       "flex_flow": null,
       "grid_area": null,
       "grid_auto_columns": null,
       "grid_auto_flow": null,
       "grid_auto_rows": null,
       "grid_column": null,
       "grid_gap": null,
       "grid_row": null,
       "grid_template_areas": null,
       "grid_template_columns": null,
       "grid_template_rows": null,
       "height": null,
       "justify_content": null,
       "justify_items": null,
       "left": null,
       "margin": null,
       "max_height": null,
       "max_width": null,
       "min_height": null,
       "min_width": null,
       "object_fit": null,
       "object_position": null,
       "order": null,
       "overflow": null,
       "overflow_x": null,
       "overflow_y": null,
       "padding": null,
       "right": null,
       "top": null,
       "visibility": null,
       "width": null
      }
     },
     "2f000e059f4a40b591ada607d981e304": {
      "model_module": "@jupyter-widgets/controls",
      "model_module_version": "1.5.0",
      "model_name": "HBoxModel",
      "state": {
       "_dom_classes": [],
       "_model_module": "@jupyter-widgets/controls",
       "_model_module_version": "1.5.0",
       "_model_name": "HBoxModel",
       "_view_count": null,
       "_view_module": "@jupyter-widgets/controls",
       "_view_module_version": "1.5.0",
       "_view_name": "HBoxView",
       "box_style": "",
       "children": [
        "IPY_MODEL_5294a6abc15843b898409d3d829956f0",
        "IPY_MODEL_48ef26fcc8764c5c986c2d406310d597",
        "IPY_MODEL_bff66d44c3ee4cd9a6a95fddc4741628"
       ],
       "layout": "IPY_MODEL_6f9e103d5d2b4777ba8eefb54550a5d0"
      }
     },
     "3a17d61389894ca5bef691e13760bc46": {
      "model_module": "@jupyter-widgets/base",
      "model_module_version": "1.2.0",
      "model_name": "LayoutModel",
      "state": {
       "_model_module": "@jupyter-widgets/base",
       "_model_module_version": "1.2.0",
       "_model_name": "LayoutModel",
       "_view_count": null,
       "_view_module": "@jupyter-widgets/base",
       "_view_module_version": "1.2.0",
       "_view_name": "LayoutView",
       "align_content": null,
       "align_items": null,
       "align_self": null,
       "border": null,
       "bottom": null,
       "display": null,
       "flex": null,
       "flex_flow": null,
       "grid_area": null,
       "grid_auto_columns": null,
       "grid_auto_flow": null,
       "grid_auto_rows": null,
       "grid_column": null,
       "grid_gap": null,
       "grid_row": null,
       "grid_template_areas": null,
       "grid_template_columns": null,
       "grid_template_rows": null,
       "height": null,
       "justify_content": null,
       "justify_items": null,
       "left": null,
       "margin": null,
       "max_height": null,
       "max_width": null,
       "min_height": null,
       "min_width": null,
       "object_fit": null,
       "object_position": null,
       "order": null,
       "overflow": null,
       "overflow_x": null,
       "overflow_y": null,
       "padding": null,
       "right": null,
       "top": null,
       "visibility": null,
       "width": null
      }
     },
     "48ef26fcc8764c5c986c2d406310d597": {
      "model_module": "@jupyter-widgets/controls",
      "model_module_version": "1.5.0",
      "model_name": "FloatProgressModel",
      "state": {
       "_dom_classes": [],
       "_model_module": "@jupyter-widgets/controls",
       "_model_module_version": "1.5.0",
       "_model_name": "FloatProgressModel",
       "_view_count": null,
       "_view_module": "@jupyter-widgets/controls",
       "_view_module_version": "1.5.0",
       "_view_name": "ProgressView",
       "bar_style": "danger",
       "description": "",
       "description_tooltip": null,
       "layout": "IPY_MODEL_17702dce615145c5baa119dbb6f9074c",
       "max": 42,
       "min": 0,
       "orientation": "horizontal",
       "style": "IPY_MODEL_b05630e829f2428b887db40026167002",
       "value": 2
      }
     },
     "4d11a554a49640549a01da03abad4ee2": {
      "model_module": "@jupyter-widgets/controls",
      "model_module_version": "1.5.0",
      "model_name": "DescriptionStyleModel",
      "state": {
       "_model_module": "@jupyter-widgets/controls",
       "_model_module_version": "1.5.0",
       "_model_name": "DescriptionStyleModel",
       "_view_count": null,
       "_view_module": "@jupyter-widgets/base",
       "_view_module_version": "1.2.0",
       "_view_name": "StyleView",
       "description_width": ""
      }
     },
     "5294a6abc15843b898409d3d829956f0": {
      "model_module": "@jupyter-widgets/controls",
      "model_module_version": "1.5.0",
      "model_name": "HTMLModel",
      "state": {
       "_dom_classes": [],
       "_model_module": "@jupyter-widgets/controls",
       "_model_module_version": "1.5.0",
       "_model_name": "HTMLModel",
       "_view_count": null,
       "_view_module": "@jupyter-widgets/controls",
       "_view_module_version": "1.5.0",
       "_view_name": "HTMLView",
       "description": "",
       "description_tooltip": null,
       "layout": "IPY_MODEL_fe4b28657e28496ea7f84f249faf93d6",
       "placeholder": "​",
       "style": "IPY_MODEL_c9fb9c36cc7941899e6dc1f95d3e01a0",
       "value": "  5%"
      }
     },
     "6dda071a2329440eaf42d0b79a937a11": {
      "model_module": "@jupyter-widgets/controls",
      "model_module_version": "1.5.0",
      "model_name": "HTMLModel",
      "state": {
       "_dom_classes": [],
       "_model_module": "@jupyter-widgets/controls",
       "_model_module_version": "1.5.0",
       "_model_name": "HTMLModel",
       "_view_count": null,
       "_view_module": "@jupyter-widgets/controls",
       "_view_module_version": "1.5.0",
       "_view_name": "HTMLView",
       "description": "",
       "description_tooltip": null,
       "layout": "IPY_MODEL_b3c0a0d46f7c485ba34be39bf9ae838d",
       "placeholder": "​",
       "style": "IPY_MODEL_76dbb82fc8c148dba011d7014fcaa7ac",
       "value": "100%"
      }
     },
     "6f9e103d5d2b4777ba8eefb54550a5d0": {
      "model_module": "@jupyter-widgets/base",
      "model_module_version": "1.2.0",
      "model_name": "LayoutModel",
      "state": {
       "_model_module": "@jupyter-widgets/base",
       "_model_module_version": "1.2.0",
       "_model_name": "LayoutModel",
       "_view_count": null,
       "_view_module": "@jupyter-widgets/base",
       "_view_module_version": "1.2.0",
       "_view_name": "LayoutView",
       "align_content": null,
       "align_items": null,
       "align_self": null,
       "border": null,
       "bottom": null,
       "display": null,
       "flex": null,
       "flex_flow": null,
       "grid_area": null,
       "grid_auto_columns": null,
       "grid_auto_flow": null,
       "grid_auto_rows": null,
       "grid_column": null,
       "grid_gap": null,
       "grid_row": null,
       "grid_template_areas": null,
       "grid_template_columns": null,
       "grid_template_rows": null,
       "height": null,
       "justify_content": null,
       "justify_items": null,
       "left": null,
       "margin": null,
       "max_height": null,
       "max_width": null,
       "min_height": null,
       "min_width": null,
       "object_fit": null,
       "object_position": null,
       "order": null,
       "overflow": null,
       "overflow_x": null,
       "overflow_y": null,
       "padding": null,
       "right": null,
       "top": null,
       "visibility": null,
       "width": null
      }
     },
     "755df926b3a240939284b78d720bdc48": {
      "model_module": "@jupyter-widgets/base",
      "model_module_version": "1.2.0",
      "model_name": "LayoutModel",
      "state": {
       "_model_module": "@jupyter-widgets/base",
       "_model_module_version": "1.2.0",
       "_model_name": "LayoutModel",
       "_view_count": null,
       "_view_module": "@jupyter-widgets/base",
       "_view_module_version": "1.2.0",
       "_view_name": "LayoutView",
       "align_content": null,
       "align_items": null,
       "align_self": null,
       "border": null,
       "bottom": null,
       "display": null,
       "flex": null,
       "flex_flow": null,
       "grid_area": null,
       "grid_auto_columns": null,
       "grid_auto_flow": null,
       "grid_auto_rows": null,
       "grid_column": null,
       "grid_gap": null,
       "grid_row": null,
       "grid_template_areas": null,
       "grid_template_columns": null,
       "grid_template_rows": null,
       "height": null,
       "justify_content": null,
       "justify_items": null,
       "left": null,
       "margin": null,
       "max_height": null,
       "max_width": null,
       "min_height": null,
       "min_width": null,
       "object_fit": null,
       "object_position": null,
       "order": null,
       "overflow": null,
       "overflow_x": null,
       "overflow_y": null,
       "padding": null,
       "right": null,
       "top": null,
       "visibility": null,
       "width": null
      }
     },
     "76dbb82fc8c148dba011d7014fcaa7ac": {
      "model_module": "@jupyter-widgets/controls",
      "model_module_version": "1.5.0",
      "model_name": "DescriptionStyleModel",
      "state": {
       "_model_module": "@jupyter-widgets/controls",
       "_model_module_version": "1.5.0",
       "_model_name": "DescriptionStyleModel",
       "_view_count": null,
       "_view_module": "@jupyter-widgets/base",
       "_view_module_version": "1.2.0",
       "_view_name": "StyleView",
       "description_width": ""
      }
     },
     "7836d9042dbb42998bbaf2b3b640aa3d": {
      "model_module": "@jupyter-widgets/controls",
      "model_module_version": "1.5.0",
      "model_name": "FloatProgressModel",
      "state": {
       "_dom_classes": [],
       "_model_module": "@jupyter-widgets/controls",
       "_model_module_version": "1.5.0",
       "_model_name": "FloatProgressModel",
       "_view_count": null,
       "_view_module": "@jupyter-widgets/controls",
       "_view_module_version": "1.5.0",
       "_view_name": "ProgressView",
       "bar_style": "success",
       "description": "",
       "description_tooltip": null,
       "layout": "IPY_MODEL_7aceb2fb7b8c423d9c0ae37f3f23efea",
       "max": 42,
       "min": 0,
       "orientation": "horizontal",
       "style": "IPY_MODEL_9de69b85b81e4b3598bfc41c10bb106f",
       "value": 42
      }
     },
     "7aceb2fb7b8c423d9c0ae37f3f23efea": {
      "model_module": "@jupyter-widgets/base",
      "model_module_version": "1.2.0",
      "model_name": "LayoutModel",
      "state": {
       "_model_module": "@jupyter-widgets/base",
       "_model_module_version": "1.2.0",
       "_model_name": "LayoutModel",
       "_view_count": null,
       "_view_module": "@jupyter-widgets/base",
       "_view_module_version": "1.2.0",
       "_view_name": "LayoutView",
       "align_content": null,
       "align_items": null,
       "align_self": null,
       "border": null,
       "bottom": null,
       "display": null,
       "flex": null,
       "flex_flow": null,
       "grid_area": null,
       "grid_auto_columns": null,
       "grid_auto_flow": null,
       "grid_auto_rows": null,
       "grid_column": null,
       "grid_gap": null,
       "grid_row": null,
       "grid_template_areas": null,
       "grid_template_columns": null,
       "grid_template_rows": null,
       "height": null,
       "justify_content": null,
       "justify_items": null,
       "left": null,
       "margin": null,
       "max_height": null,
       "max_width": null,
       "min_height": null,
       "min_width": null,
       "object_fit": null,
       "object_position": null,
       "order": null,
       "overflow": null,
       "overflow_x": null,
       "overflow_y": null,
       "padding": null,
       "right": null,
       "top": null,
       "visibility": null,
       "width": null
      }
     },
     "7ff36731e07047e2b202d2d584147fb1": {
      "model_module": "@jupyter-widgets/controls",
      "model_module_version": "1.5.0",
      "model_name": "DescriptionStyleModel",
      "state": {
       "_model_module": "@jupyter-widgets/controls",
       "_model_module_version": "1.5.0",
       "_model_name": "DescriptionStyleModel",
       "_view_count": null,
       "_view_module": "@jupyter-widgets/base",
       "_view_module_version": "1.2.0",
       "_view_name": "StyleView",
       "description_width": ""
      }
     },
     "913ee0f8e8af4a8494ff469929e21290": {
      "model_module": "@jupyter-widgets/controls",
      "model_module_version": "1.5.0",
      "model_name": "HBoxModel",
      "state": {
       "_dom_classes": [],
       "_model_module": "@jupyter-widgets/controls",
       "_model_module_version": "1.5.0",
       "_model_name": "HBoxModel",
       "_view_count": null,
       "_view_module": "@jupyter-widgets/controls",
       "_view_module_version": "1.5.0",
       "_view_name": "HBoxView",
       "box_style": "",
       "children": [
        "IPY_MODEL_6dda071a2329440eaf42d0b79a937a11",
        "IPY_MODEL_7836d9042dbb42998bbaf2b3b640aa3d",
        "IPY_MODEL_a35773d875bf4aacb35580ea475b4823"
       ],
       "layout": "IPY_MODEL_755df926b3a240939284b78d720bdc48"
      }
     },
     "9de69b85b81e4b3598bfc41c10bb106f": {
      "model_module": "@jupyter-widgets/controls",
      "model_module_version": "1.5.0",
      "model_name": "ProgressStyleModel",
      "state": {
       "_model_module": "@jupyter-widgets/controls",
       "_model_module_version": "1.5.0",
       "_model_name": "ProgressStyleModel",
       "_view_count": null,
       "_view_module": "@jupyter-widgets/base",
       "_view_module_version": "1.2.0",
       "_view_name": "StyleView",
       "bar_color": null,
       "description_width": ""
      }
     },
     "a35773d875bf4aacb35580ea475b4823": {
      "model_module": "@jupyter-widgets/controls",
      "model_module_version": "1.5.0",
      "model_name": "HTMLModel",
      "state": {
       "_dom_classes": [],
       "_model_module": "@jupyter-widgets/controls",
       "_model_module_version": "1.5.0",
       "_model_name": "HTMLModel",
       "_view_count": null,
       "_view_module": "@jupyter-widgets/controls",
       "_view_module_version": "1.5.0",
       "_view_name": "HTMLView",
       "description": "",
       "description_tooltip": null,
       "layout": "IPY_MODEL_3a17d61389894ca5bef691e13760bc46",
       "placeholder": "​",
       "style": "IPY_MODEL_7ff36731e07047e2b202d2d584147fb1",
       "value": " 42/42 [00:38&lt;00:00,  1.09it/s]"
      }
     },
     "b05630e829f2428b887db40026167002": {
      "model_module": "@jupyter-widgets/controls",
      "model_module_version": "1.5.0",
      "model_name": "ProgressStyleModel",
      "state": {
       "_model_module": "@jupyter-widgets/controls",
       "_model_module_version": "1.5.0",
       "_model_name": "ProgressStyleModel",
       "_view_count": null,
       "_view_module": "@jupyter-widgets/base",
       "_view_module_version": "1.2.0",
       "_view_name": "StyleView",
       "bar_color": null,
       "description_width": ""
      }
     },
     "b3c0a0d46f7c485ba34be39bf9ae838d": {
      "model_module": "@jupyter-widgets/base",
      "model_module_version": "1.2.0",
      "model_name": "LayoutModel",
      "state": {
       "_model_module": "@jupyter-widgets/base",
       "_model_module_version": "1.2.0",
       "_model_name": "LayoutModel",
       "_view_count": null,
       "_view_module": "@jupyter-widgets/base",
       "_view_module_version": "1.2.0",
       "_view_name": "LayoutView",
       "align_content": null,
       "align_items": null,
       "align_self": null,
       "border": null,
       "bottom": null,
       "display": null,
       "flex": null,
       "flex_flow": null,
       "grid_area": null,
       "grid_auto_columns": null,
       "grid_auto_flow": null,
       "grid_auto_rows": null,
       "grid_column": null,
       "grid_gap": null,
       "grid_row": null,
       "grid_template_areas": null,
       "grid_template_columns": null,
       "grid_template_rows": null,
       "height": null,
       "justify_content": null,
       "justify_items": null,
       "left": null,
       "margin": null,
       "max_height": null,
       "max_width": null,
       "min_height": null,
       "min_width": null,
       "object_fit": null,
       "object_position": null,
       "order": null,
       "overflow": null,
       "overflow_x": null,
       "overflow_y": null,
       "padding": null,
       "right": null,
       "top": null,
       "visibility": null,
       "width": null
      }
     },
     "bff66d44c3ee4cd9a6a95fddc4741628": {
      "model_module": "@jupyter-widgets/controls",
      "model_module_version": "1.5.0",
      "model_name": "HTMLModel",
      "state": {
       "_dom_classes": [],
       "_model_module": "@jupyter-widgets/controls",
       "_model_module_version": "1.5.0",
       "_model_name": "HTMLModel",
       "_view_count": null,
       "_view_module": "@jupyter-widgets/controls",
       "_view_module_version": "1.5.0",
       "_view_name": "HTMLView",
       "description": "",
       "description_tooltip": null,
       "layout": "IPY_MODEL_f8a8073cb0da4d8bbc9c3275affd371c",
       "placeholder": "​",
       "style": "IPY_MODEL_4d11a554a49640549a01da03abad4ee2",
       "value": " 2/42 [00:03&lt;01:04,  1.62s/it]"
      }
     },
     "c9fb9c36cc7941899e6dc1f95d3e01a0": {
      "model_module": "@jupyter-widgets/controls",
      "model_module_version": "1.5.0",
      "model_name": "DescriptionStyleModel",
      "state": {
       "_model_module": "@jupyter-widgets/controls",
       "_model_module_version": "1.5.0",
       "_model_name": "DescriptionStyleModel",
       "_view_count": null,
       "_view_module": "@jupyter-widgets/base",
       "_view_module_version": "1.2.0",
       "_view_name": "StyleView",
       "description_width": ""
      }
     },
     "f8a8073cb0da4d8bbc9c3275affd371c": {
      "model_module": "@jupyter-widgets/base",
      "model_module_version": "1.2.0",
      "model_name": "LayoutModel",
      "state": {
       "_model_module": "@jupyter-widgets/base",
       "_model_module_version": "1.2.0",
       "_model_name": "LayoutModel",
       "_view_count": null,
       "_view_module": "@jupyter-widgets/base",
       "_view_module_version": "1.2.0",
       "_view_name": "LayoutView",
       "align_content": null,
       "align_items": null,
       "align_self": null,
       "border": null,
       "bottom": null,
       "display": null,
       "flex": null,
       "flex_flow": null,
       "grid_area": null,
       "grid_auto_columns": null,
       "grid_auto_flow": null,
       "grid_auto_rows": null,
       "grid_column": null,
       "grid_gap": null,
       "grid_row": null,
       "grid_template_areas": null,
       "grid_template_columns": null,
       "grid_template_rows": null,
       "height": null,
       "justify_content": null,
       "justify_items": null,
       "left": null,
       "margin": null,
       "max_height": null,
       "max_width": null,
       "min_height": null,
       "min_width": null,
       "object_fit": null,
       "object_position": null,
       "order": null,
       "overflow": null,
       "overflow_x": null,
       "overflow_y": null,
       "padding": null,
       "right": null,
       "top": null,
       "visibility": null,
       "width": null
      }
     },
     "fe4b28657e28496ea7f84f249faf93d6": {
      "model_module": "@jupyter-widgets/base",
      "model_module_version": "1.2.0",
      "model_name": "LayoutModel",
      "state": {
       "_model_module": "@jupyter-widgets/base",
       "_model_module_version": "1.2.0",
       "_model_name": "LayoutModel",
       "_view_count": null,
       "_view_module": "@jupyter-widgets/base",
       "_view_module_version": "1.2.0",
       "_view_name": "LayoutView",
       "align_content": null,
       "align_items": null,
       "align_self": null,
       "border": null,
       "bottom": null,
       "display": null,
       "flex": null,
       "flex_flow": null,
       "grid_area": null,
       "grid_auto_columns": null,
       "grid_auto_flow": null,
       "grid_auto_rows": null,
       "grid_column": null,
       "grid_gap": null,
       "grid_row": null,
       "grid_template_areas": null,
       "grid_template_columns": null,
       "grid_template_rows": null,
       "height": null,
       "justify_content": null,
       "justify_items": null,
       "left": null,
       "margin": null,
       "max_height": null,
       "max_width": null,
       "min_height": null,
       "min_width": null,
       "object_fit": null,
       "object_position": null,
       "order": null,
       "overflow": null,
       "overflow_x": null,
       "overflow_y": null,
       "padding": null,
       "right": null,
       "top": null,
       "visibility": null,
       "width": null
      }
     }
    },
    "version_major": 2,
    "version_minor": 0
   }
  }
 },
 "nbformat": 4,
 "nbformat_minor": 5
}
